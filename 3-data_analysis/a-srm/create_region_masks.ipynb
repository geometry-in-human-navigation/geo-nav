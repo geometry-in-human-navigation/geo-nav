{
 "cells": [
  {
   "attachments": {},
   "cell_type": "markdown",
   "metadata": {},
   "source": [
    "# Create masks of brain regions \n",
    "- We create masks for 180 brain regions according to [MNI_Glasser_HCP_2019_v1.0](https://afni.nimh.nih.gov/pub/dist/atlases/MNI_HCP/MNI_Glasser_HCP_2019_v1.0/)"
   ]
  },
  {
   "attachments": {},
   "cell_type": "markdown",
   "metadata": {},
   "source": [
    "## 1. remove motion nuisance and demean brick data"
   ]
  },
  {
   "cell_type": "code",
   "execution_count": null,
   "metadata": {
    "vscode": {
     "languageId": "shellscript"
    }
   },
   "outputs": [],
   "source": [
    "%%bash \n",
    "#!/bin/bash\n",
    "export PATH=$PATH:/home/statespace/abin\n",
    "\n",
    "# remove nuisance from afni using 3dTproject\n",
    "project_dir=\"/media/statespace/Spatial/sptialworkspace/spatialfMRI/fMRI_analysis/igeo_process\"\n",
    "fMRI_data_dir=\"/media/statespace/Spatial/sptialworkspace/spatialfMRI/fMRI_data/spatialfMRI_nii\"\n",
    "\n",
    "sub_list=\"sub-01 sub-02 sub-03 sub-04 sub-05 sub-06 sub-07 sub-08 sub-09 sub-10 sub-11 sub-12 sub-13 sub-14 sub-15 sub-16 sub-17 sub-18 sub-19 sub-20\"\n",
    "\n",
    "for sub in ${sub_list}\n",
    "do\n",
    "    \n",
    "    subject=${sub}\n",
    "\n",
    "    preprocessed_dir=${project_dir}/preprocess/preprocessed/afni_2023/${subject}\n",
    "    output_dir=${project_dir}/process/processed/${subject}\n",
    "\n",
    "    mkdir -p ${output_dir}/shared_regions\n",
    "\n",
    "    output_current_dir=${output_dir}/shared_regions\n",
    "\n",
    "    run_list=\"01 02 03 04 05 06 07 08 09 10 11 12 13 14\"\n",
    "    for run in ${run_list}\n",
    "    do\n",
    "\n",
    "        # write motion file\n",
    "        1d_tool.py -infile ${preprocessed_dir}/dfile.r${run}.1D                        \\\n",
    "            -demean -overwrite -write ${output_current_dir}/motion_r${run}.1D\n",
    "\n",
    "        # remove motion noise\n",
    "        3dTproject -polort 4 \\\n",
    "            -input ${preprocessed_dir}/pb04.${subject}.r${run}.combine+orig.           \\\n",
    "            -prefix ${output_current_dir}/pb04.${subject}.r${run}.combine+orig.        \\\n",
    "            -ort ${output_current_dir}/motion_r${run}.1D                               \\\n",
    "            -overwrite \n",
    "\n",
    "        # mean all TRs\n",
    "        3dTstat -mean -prefix ${output_current_dir}/pb04.${subject}.r${run}.mean       \\\n",
    "            ${output_current_dir}/pb04.${subject}.r${run}.combine+orig.\n",
    "\n",
    "        # demean\n",
    "        3dcalc -a ${output_current_dir}/pb04.${subject}.r${run}.combine+orig.          \\\n",
    "            -b ${output_current_dir}/pb04.${subject}.r${run}.mean+orig                 \\\n",
    "            -expr 'a-b'                                                                \\\n",
    "            -prefix ${output_current_dir}/pb04.${subject}.r${run}.combine+demean   \n",
    "\n",
    "        # afni to nifti\n",
    "        3dcalc -a ${output_current_dir}/pb04.${subject}.r${run}.combine+demean+orig.   \\\n",
    "            -expr 'a'                                                                  \\\n",
    "            -prefix ${output_current_dir}/pb04.${subject}.r${run}.combine+demean.nii.gz        \n",
    "    done\n",
    "done"
   ]
  },
  {
   "attachments": {},
   "cell_type": "markdown",
   "metadata": {},
   "source": [
    "## 2. concatenate all runs"
   ]
  },
  {
   "cell_type": "code",
   "execution_count": null,
   "metadata": {
    "vscode": {
     "languageId": "shellscript"
    }
   },
   "outputs": [],
   "source": [
    "%%bash\n",
    "export PATH=$PATH:/home/statespace/abin\n",
    "\n",
    "# concatenate all runs\n",
    "\n",
    "project_dir=\"/media/statespace/Spatial/sptialworkspace/spatialfMRI/fMRI_analysis/igeo_process\"\n",
    "fMRI_data_dir=\"/media/statespace/Spatial/sptialworkspace/spatialfMRI/fMRI_data/spatialfMRI_nii\"\n",
    "\n",
    "sub_list=\"sub-01 sub-02 sub-03 sub-04 sub-05 sub-06 sub-07 sub-08 sub-09 sub-10 sub-11 sub-12 sub-13 sub-14 sub-15 sub-16 sub-17 sub-18 sub-19 sub-20\"\n",
    "\n",
    "for sub in ${sub_list}\n",
    "do\n",
    "\n",
    "        subject=${sub}\n",
    "\n",
    "        preprocessed_dir=${project_dir}/preprocess/preprocessed/afni_2023/${subject}\n",
    "        output_dir=${project_dir}/process/processed/${subject}\n",
    "\n",
    "        output_current_dir=${output_dir}/shared_regions\n",
    "\n",
    "        cd ${output_current_dir}\n",
    "\n",
    "        3dTcat -DAFNI_GLOB_SELECTORS=YES -relabel -prefix ${output_current_dir}/pb04.${subject}.rall.combine+demean+orig \\\n",
    "                ${output_current_dir}/pb04.${subject}.r01.combine+demean+orig \\\n",
    "                ${output_current_dir}/pb04.${subject}.r02.combine+demean+orig \\\n",
    "                ${output_current_dir}/pb04.${subject}.r03.combine+demean+orig \\\n",
    "                ${output_current_dir}/pb04.${subject}.r04.combine+demean+orig \\\n",
    "                ${output_current_dir}/pb04.${subject}.r05.combine+demean+orig \\\n",
    "                ${output_current_dir}/pb04.${subject}.r06.combine+demean+orig \\\n",
    "                ${output_current_dir}/pb04.${subject}.r07.combine+demean+orig \\\n",
    "                ${output_current_dir}/pb04.${subject}.r08.combine+demean+orig \\\n",
    "                ${output_current_dir}/pb04.${subject}.r09.combine+demean+orig \\\n",
    "                ${output_current_dir}/pb04.${subject}.r10.combine+demean+orig \\\n",
    "                ${output_current_dir}/pb04.${subject}.r11.combine+demean+orig \\\n",
    "                ${output_current_dir}/pb04.${subject}.r12.combine+demean+orig \\\n",
    "                ${output_current_dir}/pb04.${subject}.r13.combine+demean+orig \\\n",
    "                ${output_current_dir}/pb04.${subject}.r14.combine+demean+orig \n",
    "done"
   ]
  },
  {
   "attachments": {},
   "cell_type": "markdown",
   "metadata": {},
   "source": [
    "## 3. create masks of brain regions"
   ]
  },
  {
   "cell_type": "code",
   "execution_count": null,
   "metadata": {
    "vscode": {
     "languageId": "shellscript"
    }
   },
   "outputs": [],
   "source": [
    "%%bash \n",
    "export PATH=$PATH:/home/statespace/abin\n",
    "\n",
    "# create mask\n",
    "project_dir=\"/media/statespace/Spatial/sptialworkspace/spatialfMRI/fMRI_analysis/igeo_process\"\n",
    "fMRI_data_dir=\"/media/statespace/Spatial/sptialworkspace/spatialfMRI/fMRI_data/spatialfMRI_nii\"\n",
    "\n",
    "preprocessed_dir=${project_dir}/preprocess/preprocessed\n",
    "\n",
    "sub_list=\"sub-01 sub-02 sub-03 sub-04 sub-05 sub-06 sub-07 sub-08 sub-09 sub-10 sub-11 sub-12 sub-13 sub-14 sub-15 sub-16 sub-17 sub-18 sub-19 sub-20\"\n",
    "\n",
    "for sub in ${sub_list}\n",
    "do\n",
    "\techo ${sub}\n",
    "\n",
    "\tcd ${preprocessed_dir}/afni_2023/${sub}\n",
    "    \n",
    "    output_dir=${project_dir}/process/processed/${sub}\n",
    "\n",
    "    mkdir -p ${output_dir}/shared_regions\n",
    "\n",
    "    output_current_dir=${output_dir}/shared_regions\n",
    "\n",
    "    # run_list=\"01 02 03 04 05 06 07 08 09 10 11 12 13 14\"\n",
    "    run_list=\"01\"\n",
    "    for run in ${run_list}\n",
    "    do\n",
    "        3dNwarpApply -iwarp -nwarp './anat.un.aff.qw_WARP.nii anat.un.aff.Xat.1D' \\\n",
    "            -master pb04.${sub}.r${run}.combine+orig.  \\\n",
    "            -source /home/statespace/abin/MNI_Glasser_HCP_v1.0.nii.gz \\\n",
    "            -prefix ${output_current_dir}/${sub}_MNI_Glasser_HCP_neural_mask.nii.gz \\\n",
    "            -interp NN -overwrite            \n",
    "    done\n",
    "done"
   ]
  }
 ],
 "metadata": {
  "kernelspec": {
   "display_name": "Python 3.6.13 ('mybrainiak')",
   "language": "python",
   "name": "python3"
  },
  "language_info": {
   "codemirror_mode": {
    "name": "ipython",
    "version": 3
   },
   "file_extension": ".py",
   "mimetype": "text/x-python",
   "name": "python",
   "nbconvert_exporter": "python",
   "pygments_lexer": "ipython3",
   "version": "3.6.13"
  },
  "orig_nbformat": 4,
  "vscode": {
   "interpreter": {
    "hash": "ec7d6cffe7c6d14e69b93d0be414579ffb6d386eea0c209e781b05305021d8ed"
   }
  }
 },
 "nbformat": 4,
 "nbformat_minor": 2
}
