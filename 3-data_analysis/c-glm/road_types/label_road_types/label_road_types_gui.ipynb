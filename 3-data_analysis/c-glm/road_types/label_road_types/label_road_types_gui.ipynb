{
 "cells": [
  {
   "cell_type": "markdown",
   "metadata": {},
   "source": [
    "### environment setup"
   ]
  },
  {
   "cell_type": "code",
   "execution_count": null,
   "metadata": {
    "vscode": {
     "languageId": "shellscript"
    }
   },
   "outputs": [],
   "source": [
    "# install necessory packages\n",
    "!conda install -c anaconda tk -y\n",
    "!conda install -c anaconda pillow -y\n",
    "!conda install -c conda-forge hdf5storage -y"
   ]
  },
  {
   "cell_type": "markdown",
   "metadata": {},
   "source": [
    "### tkinter "
   ]
  },
  {
   "cell_type": "markdown",
   "metadata": {},
   "source": [
    "#### load images for all towns"
   ]
  },
  {
   "cell_type": "code",
   "execution_count": null,
   "metadata": {},
   "outputs": [],
   "source": [
    "import hdf5storage\n",
    "\n",
    "save_dir = \"/media/statespace/Spatial/sptialworkspace/spatialfMRI/simulation/carla_ws/label_road/\"\n",
    "matdic = hdf5storage.loadmat(save_dir+\"rgb_images_array.mat\")\n",
    "rgb_images_array = matdic[\"rgb_images_array\"]\n",
    "print('(num_towns, num_images, C, H, W)', rgb_images_array.shape)\n",
    "\n",
    "# i_town is from 0 to 7 (all 8 towns)\n",
    "i_town = 0\n",
    "rgb_images = rgb_images_array[i_town]"
   ]
  },
  {
   "cell_type": "markdown",
   "metadata": {},
   "source": [
    "#### save images to seperated files for each town\n"
   ]
  },
  {
   "cell_type": "code",
   "execution_count": null,
   "metadata": {},
   "outputs": [],
   "source": [
    "import hdf5storage\n",
    "import numpy as np\n",
    "\n",
    "for i_town in np.arange(0, 8, 1, dtype=int):\n",
    "  i_file_name = \"rgb_images_array_town{i_town:02}\".format(i_town=i_town+1)\n",
    "  matdic = {i_file_name:rgb_images_array[i_town]}\n",
    "  hdf5storage.savemat(save_dir+i_file_name+\".mat\", matdic)"
   ]
  },
  {
   "cell_type": "markdown",
   "metadata": {},
   "source": [
    "#### load images for each town\n"
   ]
  },
  {
   "cell_type": "code",
   "execution_count": 1,
   "metadata": {},
   "outputs": [
    {
     "name": "stdout",
     "output_type": "stream",
     "text": [
      "load file: rgb_images_array_town01\n",
      "(num_images, C, H, W) (200, 3, 900, 1600)\n"
     ]
    }
   ],
   "source": [
    "import hdf5storage\n",
    "\n",
    "# i_town is from 0 to 7 (all 8 towns)\n",
    "i_town = 0\n",
    "\n",
    "save_dir = \"/media/statespace/Spatial/sptialworkspace/spatialfMRI/simulation/carla_ws/label_road/\"\n",
    "i_file_name = \"rgb_images_array_town{i_town:02}\".format(i_town=i_town+1)\n",
    "print(\"load file:\", i_file_name)\n",
    "\n",
    "matdic = hdf5storage.loadmat(save_dir+i_file_name+\".mat\")\n",
    "rgb_images = matdic[i_file_name]\n",
    "print('(num_images, C, H, W)', rgb_images.shape)"
   ]
  },
  {
   "cell_type": "markdown",
   "metadata": {},
   "source": [
    "#### label gui launch"
   ]
  },
  {
   "cell_type": "code",
   "execution_count": 2,
   "metadata": {},
   "outputs": [],
   "source": [
    "# importing required packages\n",
    "import tkinter\n",
    "from PIL import ImageTk, Image\n",
    "import os\n",
    "import numpy as np\n",
    "import sys\n",
    "\n",
    "# creating main window\n",
    "window = tkinter.Tk()\n",
    "\n",
    "# place windown on the center\n",
    "screen_width = window.winfo_screenwidth()  # Width of the screen\n",
    "screen_height = window.winfo_screenheight() # Height of the screen\n",
    "\n",
    "width = screen_width*0.6 # Width \n",
    "height = screen_height*0.8 # Height\n",
    "\n",
    "x = (screen_width/2) - (width/2)\n",
    "y = (screen_height/2) - (height/2)\n",
    "\n",
    "window.geometry('%dx%d+%d+%d' % (width, height, x, y))\n",
    "window.title('Labeling Road Structure')\n",
    "\n",
    "# opens the image\n",
    "global i_rgb_image\n",
    "i_rgb_image = 0\n",
    "# imagetk read first image\n",
    "temp_rgb_image = rgb_images[i_rgb_image] #CxHxW format\n",
    "temp_rgb_image = np.transpose(temp_rgb_image, (1, 2, 0)) #HxWxC\n",
    "pil_temp_rgb_image = Image.fromarray((temp_rgb_image).astype(np.uint8))\n",
    "\n",
    "# imagetk\n",
    "img_town_temp = pil_temp_rgb_image.resize((int(screen_width*0.6), int(screen_height*0.5)), Image.Resampling.LANCZOS)\n",
    "img_town_cam = ImageTk.PhotoImage(img_town_temp)\n",
    "# i_rgb_image = i_rgb_image + 1\n",
    "\n",
    "# read any image\n",
    "# img_town_cam = Image.open(\"rgb_town07.jpg\")\n",
    "# img_town_cam = img_town_cam.resize((int(screen_width*0.6), int(screen_height*0.5)), Image.Resampling.LANCZOS)\n",
    "# img_town_cam = ImageTk.PhotoImage(img_town_cam)\n",
    "\n",
    "# create canvas\n",
    "canvas_town_cam = tkinter.Canvas(window, width=int(screen_width*0.6), height=int(screen_height*0.5))\n",
    "img_town_container = canvas_town_cam.create_image(0,0, anchor='nw', image=img_town_cam)\n",
    "canvas_town_cam.pack(side='top')\n",
    "\n",
    "# opens the image\n",
    "img_road_label = Image.open(\"roadtypes.png\")\n",
    "img_road_label = img_road_label.resize((int(screen_width*0.6), int(screen_height*0.18)), Image.Resampling.LANCZOS)\n",
    "img_road_label = ImageTk.PhotoImage(img_road_label)\n",
    "\n",
    "# create canvas\n",
    "canvas_road_label = tkinter.Canvas(window, width=int(screen_width*0.6), height=int(screen_height*0.2))\n",
    "img_road_label_container = canvas_road_label.create_image(0, 0, anchor='nw', image=img_road_label)\n",
    "canvas_road_label.pack(side='top')\n",
    "\n",
    "# # user information\n",
    "# tkinter.Label(window, text='Types:', font=('Helvetica bold', 40)).place(x=0, y=750)\n",
    "rb_rely = 0.90\n",
    "rb_height = int(screen_height*0.0024)\n",
    "v = tkinter.StringVar(window, \"1\")\n",
    "variable_radio = tkinter.IntVar()\n",
    "\n",
    "tkinter.Radiobutton(window, text = \"Straight\", variable = variable_radio, font=('Helvetica bold', 16),\n",
    "            value = \"1\", indicator = 0, height=rb_height, width=int(screen_width*0.008),\n",
    "            background = \"white\").place(relx = 0.09, rely = rb_rely, anchor = tkinter.CENTER)\n",
    "\n",
    "tkinter.Radiobutton(window, text = \"Left or right turn\", variable = variable_radio, font=('Helvetica bold', 16),\n",
    "            value = \"2\", indicator = 0, height=rb_height, width=int(screen_width*0.015),\n",
    "            background = \"white\").place(relx = 0.31, rely = rb_rely, anchor = tkinter.CENTER)\n",
    "\n",
    "tkinter.Radiobutton(window, text = \"T junction\", variable = variable_radio, font=('Helvetica bold', 16),\n",
    "            value = \"3\", indicator = 0, height=rb_height, width=int(screen_width*0.013),\n",
    "            background = \"white\").place(relx = 0.63, rely = rb_rely, anchor = tkinter.CENTER)\n",
    "\n",
    "tkinter.Radiobutton(window, text = \"Crossroads\", variable = variable_radio, font=('Helvetica bold', 16),\n",
    "            value = \"4\", indicator = 0, height=rb_height, width=int(screen_width*0.010),\n",
    "            background = \"white\").place(relx = 0.9, rely = rb_rely, anchor = tkinter.CENTER)\n",
    "\n",
    "# tkinter.Radiobutton(window, text = \"Others\", variable = variable_radio, font=('Helvetica bold', 16),\n",
    "#             value = \"5\", indicator = 0, height=rb_height, width=int(screen_width*0.010),\n",
    "#             background = \"white\").place(relx = 0.89, rely = rb_rely, anchor = tkinter.CENTER)\n",
    "\n",
    "# scale\n",
    "variable_scale = tkinter.DoubleVar()\n",
    "s2 = tkinter.Scale(window, variable = variable_scale,\n",
    "           from_ = 1, to = 10, length=int(screen_width*0.15),\n",
    "           orient = tkinter.HORIZONTAL).place(relx = 0.3, rely = 0.96, anchor = tkinter.CENTER)\n",
    "\n",
    "lalel_scale = tkinter.Label(window, text = \"Degree of belief:\").place(relx = 0.1, rely = 0.97, anchor = tkinter.CENTER)\n",
    "\n",
    "road_structure_list = ['straight', 'Left or right turn', 'T junction', 'Crossroads', 'Others']\n",
    "\n",
    "road_labels_array = np.zeros((len(road_structure_list), rgb_images.shape[0]))\n",
    "\n",
    "# process func\n",
    "def labeling_road_func():\n",
    "\n",
    "    global i_rgb_image\n",
    "\n",
    "    print(\"--------------------------\")\n",
    "    print(\"image index:\", i_rgb_image)\n",
    "    # print(\"radio variable:\", variable_radio.get())\n",
    "    print(\"road:\", road_structure_list[variable_radio.get()-1])\n",
    "    print(\"belief:\", int(variable_scale.get()))\n",
    "\n",
    "    road_labels_array[variable_radio.get()-1][i_rgb_image] = int(variable_scale.get())\n",
    "\n",
    "    # for the next image index\n",
    "    i_rgb_image = i_rgb_image + 1\n",
    "\n",
    "    if i_rgb_image == rgb_images.shape[0]:\n",
    "        print('Finish town-0'+str(i_town+1)+' labeling.')\n",
    "        window.destroy()\n",
    "        sys.exit()\n",
    "\n",
    "    # read new image\n",
    "    temp_rgb_image = rgb_images[i_rgb_image] #CxHxW format\n",
    "    temp_rgb_image = np.transpose(temp_rgb_image, (1, 2, 0)) #HxWxC\n",
    "    pil_temp_rgb_image = Image.fromarray((temp_rgb_image).astype(np.uint8))\n",
    "\n",
    "    # imagetk\n",
    "    img_town_temp = pil_temp_rgb_image.resize((int(screen_width*0.6), int(screen_height*0.5)), Image.Resampling.LANCZOS)\n",
    "    img_town_temp = ImageTk.PhotoImage(img_town_temp)\n",
    "    \n",
    "    # update\n",
    "    canvas_town_cam.itemconfig(img_town_container,image=img_town_temp)\n",
    "    canvas_town_cam.imgref = img_town_temp\n",
    "\n",
    "\n",
    "# next image\n",
    "btn = tkinter.Button(window, text = 'Next image', command = labeling_road_func).place(relx = 0.5, rely = 0.97, anchor = tkinter.CENTER)\n",
    "\n",
    "# running the application\n",
    "window.mainloop()\n"
   ]
  },
  {
   "cell_type": "markdown",
   "metadata": {},
   "source": [
    "#### save"
   ]
  },
  {
   "cell_type": "code",
   "execution_count": null,
   "metadata": {},
   "outputs": [],
   "source": [
    "from scipy.io import savemat\n",
    "\n",
    "matdic = {\"road_labels_array\":road_labels_array}\n",
    "save_dir = \"/media/statespace/Spatial/sptialworkspace/spatialfMRI/simulation/carla_ws/label_road/\"\n",
    "savemat(save_dir+\"road_labels_town_\"+str(i_town)+\".mat\", matdic)\n"
   ]
  },
  {
   "cell_type": "code",
   "execution_count": null,
   "metadata": {},
   "outputs": [],
   "source": []
  }
 ],
 "metadata": {
  "kernelspec": {
   "display_name": "Python 3.9.12 ('deeplearning')",
   "language": "python",
   "name": "python3"
  },
  "language_info": {
   "codemirror_mode": {
    "name": "ipython",
    "version": 3
   },
   "file_extension": ".py",
   "mimetype": "text/x-python",
   "name": "python",
   "nbconvert_exporter": "python",
   "pygments_lexer": "ipython3",
   "version": "3.9.12"
  },
  "orig_nbformat": 4,
  "vscode": {
   "interpreter": {
    "hash": "536b69f95244d1f49a4e722912c058d25ae6a826de010f5e4fe2961a82882293"
   }
  }
 },
 "nbformat": 4,
 "nbformat_minor": 2
}
