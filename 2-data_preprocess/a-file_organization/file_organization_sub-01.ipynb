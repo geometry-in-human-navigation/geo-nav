{
 "cells": [
  {
   "cell_type": "code",
   "execution_count": 1,
   "metadata": {},
   "outputs": [
    {
     "data": {
      "application/javascript": "IPython.notebook.set_autosave_interval(5000)"
     },
     "metadata": {},
     "output_type": "display_data"
    },
    {
     "name": "stdout",
     "output_type": "stream",
     "text": [
      "Autosaving every 5 seconds\n"
     ]
    }
   ],
   "source": [
    "import json\n",
    "import numpy as np\n",
    "import os\n",
    "import sys\n",
    "import os.path as osp\n",
    "import shutil\n",
    "import subprocess as sp\n",
    "%autosave 5"
   ]
  },
  {
   "attachments": {},
   "cell_type": "markdown",
   "metadata": {},
   "source": [
    "## Prepare folder"
   ]
  },
  {
   "cell_type": "code",
   "execution_count": 2,
   "metadata": {},
   "outputs": [],
   "source": [
    "fMRI_data_dir = '/media/brain/Spatial/spatialfMRI/fMRI_data/'\n",
    "sub_range = range(1, 2)"
   ]
  },
  {
   "cell_type": "code",
   "execution_count": 3,
   "metadata": {},
   "outputs": [],
   "source": [
    "for sub_id in sub_range:\n",
    "    os.makedirs(fMRI_data_dir+'spatialfMRI_nii/sub-{:02d}/anat'.format(sub_id),exist_ok=True)\n",
    "    os.makedirs(fMRI_data_dir+'spatialfMRI_nii/sub-{:02d}/func'.format(sub_id),exist_ok=True)\n",
    "    os.makedirs(fMRI_data_dir+'spatialfMRI_nii/sub-{:02d}/fmap'.format(sub_id),exist_ok=True)\n"
   ]
  },
  {
   "attachments": {},
   "cell_type": "markdown",
   "metadata": {},
   "source": [
    "## Install dcm2niix\n",
    "- dcm2nii DICOM to NIfTI converter: compiled versions available from NITRC.\n",
    "- https://github.com/rordenlab/dcm2niix\n",
    "- Using the updated dcm2niix instead of dcm2niix_afni avoids the problem of naming for ME data, that one nifti file does not get a suffix indicating the echo index \n",
    "Then we move that tmp folder to under each subject's BIDS folder created above"
   ]
  },
  {
   "cell_type": "code",
   "execution_count": null,
   "metadata": {},
   "outputs": [],
   "source": [
    "!sudo apt-get -y install dcm2niix"
   ]
  },
  {
   "cell_type": "code",
   "execution_count": null,
   "metadata": {},
   "outputs": [],
   "source": [
    "!curl -fLO https://github.com/rordenlab/dcm2niix/releases/latest/download/dcm2niix_lnx.zip\n",
    "!unzip dcm2niix_lnx.zip"
   ]
  },
  {
   "attachments": {},
   "cell_type": "markdown",
   "metadata": {},
   "source": [
    "## dcm2niix convert\n",
    "- Now we should use dcm2niix to convert dicom files and place in tmp folder under each subject\n",
    "- example command line:\n",
    "dcm2niix -f tmp/%f_%p_%s -z y ../dcm_ME_benchmark/ME_benchmark_007-0930-1524/dcm/"
   ]
  },
  {
   "cell_type": "code",
   "execution_count": null,
   "metadata": {},
   "outputs": [],
   "source": [
    "%%bash \n",
    "\n",
    "subject=\"sub-01\"\n",
    "./dcm2niix -b y -f tmp/%f_%p_%s_%e -z y /media/brain/Spatial/spatialfMRI/fMRI_data/spatialfMRI_dicom/${subject}\n"
   ]
  },
  {
   "attachments": {},
   "cell_type": "markdown",
   "metadata": {},
   "source": [
    "## Process anatomical images"
   ]
  },
  {
   "cell_type": "code",
   "execution_count": 4,
   "metadata": {},
   "outputs": [
    {
     "name": "stdout",
     "output_type": "stream",
     "text": [
      "/media/brain/Spatial/spatialfMRI/fMRI_data/spatialfMRI_dicom/sub-01/tmp/sub-01_T1w_MPR_7_1.nii.gz  moved to  /media/brain/Spatial/spatialfMRI/fMRI_data/spatialfMRI_nii/sub-01/anat/sub-01_T1w.nii.gz\n",
      "/media/brain/Spatial/spatialfMRI/fMRI_data/spatialfMRI_dicom/sub-01/tmp/sub-01_T1w_MPR_7_1.json  moved to  /media/brain/Spatial/spatialfMRI/fMRI_data/spatialfMRI_nii/sub-01/anat/sub-01_T1w.json\n"
     ]
    }
   ],
   "source": [
    "# normalized structure\n",
    "for sub_id in sub_range:\n",
    "    in_niis = [fMRI_data_dir+'spatialfMRI_dicom/sub-{sub:02d}/tmp/sub-{sub:02d}_T1w_MPR_7_1.nii.gz'.format(sub=sub_id),\n",
    "               fMRI_data_dir+'spatialfMRI_dicom/sub-{sub:02d}/tmp/dcm_T1w_MPR_7_1.nii.gz'.format(sub=sub_id)]\n",
    "    in_jsons = [fMRI_data_dir+'spatialfMRI_dicom/sub-{sub:02d}/tmp/sub-{sub:02d}_T1w_MPR_7_1.json'.format(sub=sub_id),\n",
    "               fMRI_data_dir+'spatialfMRI_dicom/sub-{sub:02d}/tmp/dcm_T1w_MPR_7_1.json'.format(sub=sub_id)]\n",
    "    out_nii = fMRI_data_dir+'spatialfMRI_nii/sub-{sub:02d}/anat/sub-{sub:02d}_T1w.nii.gz'.format(sub=sub_id)\n",
    "    out_json = fMRI_data_dir+'spatialfMRI_nii/sub-{sub:02d}/anat/sub-{sub:02d}_T1w.json'.format(sub=sub_id)\n",
    "    for in_nii in in_niis:\n",
    "        if osp.isfile(in_nii):\n",
    "            shutil.move(in_nii, out_nii)\n",
    "            print(in_nii, ' moved to ', out_nii)\n",
    "    for in_json in in_jsons:\n",
    "        if osp.isfile(in_json):\n",
    "            shutil.move(in_json, out_json)\n",
    "            print(in_json, ' moved to ', out_json)"
   ]
  },
  {
   "attachments": {},
   "cell_type": "markdown",
   "metadata": {},
   "source": [
    "## Process func images"
   ]
  },
  {
   "attachments": {},
   "cell_type": "markdown",
   "metadata": {},
   "source": [
    "Prepare a dictionary mapping from task and sequence to the run id for each subject"
   ]
  },
  {
   "cell_type": "code",
   "execution_count": 5,
   "metadata": {},
   "outputs": [],
   "source": [
    "# singleband as reference\n",
    "sbref_dict = {\n",
    "    'sub-01': {\n",
    "        'run-00': {\n",
    "            'ME5': 8,\n",
    "        },\n",
    "        'run-01': {\n",
    "            'ME5': 11,\n",
    "        },\n",
    "        'run-02': {\n",
    "            'ME5': 14,\n",
    "        },\n",
    "        'run-03': {\n",
    "            'ME5': 17,\n",
    "        },\n",
    "        'run-04': {\n",
    "            'ME5': 20,\n",
    "        },\n",
    "        'run-05': {\n",
    "            'ME5': 23,\n",
    "        },\n",
    "        'run-06': {\n",
    "            'ME5': 26,\n",
    "        },\n",
    "        'run-07': {\n",
    "            'ME5': 31,\n",
    "        },\n",
    "        'run-08': {\n",
    "            'ME5': 34,\n",
    "        },\n",
    "        'run-09': {\n",
    "            'ME5': 37,\n",
    "        },\n",
    "        'run-10': {\n",
    "            'ME5': 40,\n",
    "        },\n",
    "        'run-11': {\n",
    "            'ME5': 43,\n",
    "        },\n",
    "        'run-12': {\n",
    "            'ME5': 46,\n",
    "        },\n",
    "        'run-13': {\n",
    "            'ME5': 49,\n",
    "        },\n",
    "    },\n",
    "}\n",
    "# multiband bold\n",
    "bold_dict = {\n",
    "    'sub-01': {\n",
    "        'run-00': {\n",
    "            'ME5': 9,\n",
    "        },\n",
    "        'run-01': {\n",
    "            'ME5': 12,\n",
    "        },\n",
    "        'run-02': {\n",
    "            'ME5': 15,\n",
    "        },\n",
    "        'run-03': {\n",
    "            'ME5': 18,\n",
    "        },\n",
    "        'run-04': {\n",
    "            'ME5': 21,\n",
    "        },\n",
    "        'run-05': {\n",
    "            'ME5': 24,\n",
    "        },\n",
    "        'run-06': {\n",
    "            'ME5': 27,\n",
    "        },\n",
    "        'run-07': {\n",
    "            'ME5': 32,\n",
    "        },\n",
    "        'run-08': {\n",
    "            'ME5': 35,\n",
    "        },\n",
    "        'run-09': {\n",
    "            'ME5': 38,\n",
    "        },\n",
    "        'run-10': {\n",
    "            'ME5': 41,\n",
    "        },\n",
    "        'run-11': {\n",
    "            'ME5': 44,\n",
    "        },\n",
    "        'run-12': {\n",
    "            'ME5': 47,\n",
    "        },\n",
    "        'run-13': {\n",
    "            'ME5': 50,\n",
    "        },\n",
    "    },\n",
    "}\n",
    "# multiband phase\n",
    "ph_dict = {\n",
    "    'sub-01': {\n",
    "        'run-00': {\n",
    "            'ME5': 10,\n",
    "        },\n",
    "        'run-01': {\n",
    "            'ME5': 13,\n",
    "        },\n",
    "        'run-02': {\n",
    "            'ME5': 16,\n",
    "        },\n",
    "        'run-03': {\n",
    "            'ME5': 19,\n",
    "        },\n",
    "        'run-04': {\n",
    "            'ME5': 22,\n",
    "        },\n",
    "        'run-05': {\n",
    "            'ME5': 25,\n",
    "        },\n",
    "        'run-06': {\n",
    "            'ME5': 28,\n",
    "        },\n",
    "        'run-07': {\n",
    "            'ME5': 33,\n",
    "        },\n",
    "        'run-08': {\n",
    "            'ME5': 36,\n",
    "        },\n",
    "        'run-09': {\n",
    "            'ME5': 39,\n",
    "        },\n",
    "        'run-10': {\n",
    "            'ME5': 42,\n",
    "        },\n",
    "        'run-11': {\n",
    "            'ME5': 45,\n",
    "        },\n",
    "        'run-12': {\n",
    "            'ME5': 48,\n",
    "        },\n",
    "        'run-13': {\n",
    "            'ME5': 51,\n",
    "        },\n",
    "    },\n",
    "}"
   ]
  },
  {
   "cell_type": "code",
   "execution_count": 6,
   "metadata": {},
   "outputs": [],
   "source": [
    "def move_run_me(sub_id, task, run, scanner_run_id, modality, n_echo, suffix):\n",
    "    echo_notfound = [] # Occasionally dcm2niix_afni omits the _e? extension in multi-echo files\n",
    "    \n",
    "    all_files = os.listdir(fMRI_data_dir+'spatialfMRI_dicom/{}/tmp/'.format(sub_id))\n",
    "\n",
    "    normal_files = [file for file in all_files  for echo in range(1, n_echo + 1) if '_{}_'.format(scanner_run_id) in file\n",
    "             and file.endswith('_{}.{}'.format(echo, suffix))]\n",
    "\n",
    "    abnormal_files = [file for file in all_files if file.endswith('_{}.{}'.format(scanner_run_id, suffix)) ]\n",
    "    if len(abnormal_files) == 0 and len(normal_files) == n_echo:\n",
    "        for echo in range(1, n_echo + 1):\n",
    "            file = [file for file in normal_files if '_{}_{}.{}'.format(scanner_run_id, echo, suffix) in file]\n",
    "            os.rename(fMRI_data_dir+'spatialfMRI_dicom/{}/tmp/'.format(sub_id)\n",
    "                       + file[0],\n",
    "                        fMRI_data_dir+'spatialfMRI_nii/{subj}/func/{subj}_task-{task}_{run}_echo-{echo}_{modality}.{suffix}'.format(\n",
    "                        subj=sub_id, task=task, run=run, echo=echo, modality=modality, suffix=suffix))\n",
    "    elif len(abnormal_files) == 1 and len(normal_files) == n_echo - 1:\n",
    "        for echo in range(1, n_echo + 1):\n",
    "            file = [file for file in normal_files if '_{}_{}.{}'.format(scanner_run_id, echo, suffix) in file]\n",
    "        \n",
    "            if len(file) == 1:\n",
    "                os.rename(fMRI_data_dir+'spatialfMRI_dicom/{}/tmp/'.format(sub_id)\n",
    "                           + file[0],\n",
    "                            fMRI_data_dir+'spatialfMRI_nii/{subj}/func/{subj}_task-{task}_{run}_echo-{echo}_{modality}.{suffix}'.format(\n",
    "                            subj=sub_id, task=task, run=run, echo=echo, modality=modality, suffix=suffix))\n",
    "            elif len(file) == 0:\n",
    "                echo_notfound.append(echo)\n",
    "        os.rename(fMRI_data_dir+'spatialfMRI_dicom/{}/tmp/'.format(sub_id)\n",
    "                   + abnormal_files[0],\n",
    "                    fMRI_data_dir+'spatialfMRI_nii/{subj}/func/{subj}_task-{task}_{run}_echo-{echo}_{modality}.{suffix}'.format(\n",
    "                    subj=sub_id, task=task, run=run, echo=echo_notfound[0], modality=modality, suffix=suffix))\n",
    "    else:\n",
    "        print(sub_id, ', modality:', modality)\n",
    "        print(\"move_run_me() don't know how to deal with these files:\")\n",
    "        print(normal_files, abnormal_files)\n",
    "\n",
    "def move_run_ph(sub_id, task, run, scanner_run_id, modality, n_echo, suffix):\n",
    "    echo_notfound = [] # Occasionally dcm2niix_afni omits the _e? extension in multi-echo files\n",
    "\n",
    "    global all_files, normal_files, abnormal_files\n",
    "    \n",
    "    all_files = os.listdir(fMRI_data_dir+'spatialfMRI_dicom/{}/tmp/'.format(sub_id))\n",
    "\n",
    "    normal_files = [file for file in all_files  for echo in range(1, n_echo + 1) if '_{}_'.format(scanner_run_id) in file\n",
    "             and file.endswith('_{}_ph.{}'.format(echo, suffix))]\n",
    "             \n",
    "    abnormal_files = [file for file in all_files if file.endswith('_{}_ph.{}'.format(scanner_run_id, suffix)) ]\n",
    "    if len(abnormal_files) == 0 and len(normal_files) == n_echo:\n",
    "        for echo in range(1, n_echo + 1):\n",
    "            file = [file for file in normal_files if '_{}_{}_ph.{}'.format(scanner_run_id, echo, suffix) in file]\n",
    "            os.rename(fMRI_data_dir+'spatialfMRI_dicom/{}/tmp/'.format(sub_id)\n",
    "                       + file[0],\n",
    "                        fMRI_data_dir+'spatialfMRI_nii/{subj}/func/{subj}_task-{task}_{run}_echo-{echo}_{modality}.{suffix}'.format(\n",
    "                        subj=sub_id, task=task, run=run, echo=echo, modality=modality, suffix=suffix))\n",
    "    elif len(abnormal_files) == 1 and len(normal_files) == n_echo - 1:\n",
    "        for echo in range(1, n_echo + 1):\n",
    "            file = [file for file in normal_files if '_{}_{}_ph.{}'.format(scanner_run_id, echo, suffix) in file]\n",
    "        \n",
    "            if len(file) == 1:\n",
    "                os.rename(fMRI_data_dir+'spatialfMRI_dicom/{}/tmp/'.format(sub_id)\n",
    "                           + file[0],\n",
    "                            fMRI_data_dir+'spatialfMRI_nii/{subj}/func/{subj}_task-{task}_{run}_echo-{echo}_{modality}.{suffix}'.format(\n",
    "                            subj=sub_id, task=task, run=run, echo=echo, modality=modality, suffix=suffix))\n",
    "            elif len(file) == 0:\n",
    "                echo_notfound.append(echo)\n",
    "        os.rename(fMRI_data_dir+'spatialfMRI_dicom/{}/tmp/'.format(sub_id)\n",
    "                   + abnormal_files[0],\n",
    "                    fMRI_data_dir+'spatialfMRI_nii/{subj}/func/{subj}_task-{task}_{run}_echo-{echo}_{modality}.{suffix}'.format(\n",
    "                    subj=sub_id, task=task, run=run, echo=echo, modality=modality, suffix=suffix))\n",
    "    else:\n",
    "        print(sub_id, ', modality:', modality)\n",
    "        print(\"move_run_ph() don't know how to deal with these files:\")\n",
    "        print(normal_files, abnormal_files)\n"
   ]
  },
  {
   "cell_type": "code",
   "execution_count": 12,
   "metadata": {},
   "outputs": [],
   "source": [
    "# sub_range = range(1, 2) #[0,1]\n",
    "n_echo = 5\n",
    "task = \"geo\"\n",
    "\n",
    "# singleband as reference with multi-echo\n",
    "modality = 'part-mag_sbref'\n",
    "for sub in sub_range:\n",
    "    for run in range(0, 14):\n",
    "        for acq in ['ME5']:\n",
    "            sub_id = 'sub-{:02d}'.format(sub)\n",
    "            run_id = 'run-{:02d}'.format(run)\n",
    "            assert sbref_dict[sub_id][run_id][acq] != bold_dict[sub_id][run_id][acq], \\\n",
    "                'SBref image is the same as BOLD. Please double-check'\n",
    "            scanner_run_id = sbref_dict[sub_id][run_id][acq]\n",
    "            move_run_me(sub_id, task, run_id, scanner_run_id, modality, n_echo, 'nii.gz')\n",
    "            move_run_me(sub_id, task, run_id, scanner_run_id, modality, n_echo, 'json')\n",
    "\n",
    "# singleband as reference with multi-echo\n",
    "modality = 'part-phase_sbref'\n",
    "for sub in sub_range:\n",
    "    for run in range(0, 14):\n",
    "        for acq in ['ME5']:\n",
    "            sub_id = 'sub-{:02d}'.format(sub)\n",
    "            run_id = 'run-{:02d}'.format(run)\n",
    "            assert sbref_dict[sub_id][run_id][acq] != bold_dict[sub_id][run_id][acq], \\\n",
    "                'SBref image is the same as BOLD. Please double-check'\n",
    "            scanner_run_id = sbref_dict[sub_id][run_id][acq]\n",
    "            move_run_ph(sub_id, task, run_id, scanner_run_id, modality, n_echo, 'nii.gz')\n",
    "            move_run_ph(sub_id, task, run_id, scanner_run_id, modality, n_echo, 'json')\n",
    "\n",
    "# multiband bold with multi-echo\n",
    "modality = 'part-mag_bold'\n",
    "for sub in sub_range:\n",
    "    for run in range(0, 14):\n",
    "        for acq in ['ME5']:\n",
    "            sub_id = 'sub-{:02d}'.format(sub)\n",
    "            run_id = 'run-{:02d}'.format(run)\n",
    "            assert sbref_dict[sub_id][run_id][acq] != bold_dict[sub_id][run_id][acq], \\\n",
    "                'SBref image is the same as BOLD. Please double-check'\n",
    "            scanner_run_id = bold_dict[sub_id][run_id][acq]\n",
    "            move_run_me(sub_id, task, run_id, scanner_run_id, modality, n_echo, 'nii.gz')\n",
    "            move_run_me(sub_id, task, run_id, scanner_run_id, modality, n_echo, 'json')\n",
    "\n",
    "# multiband phase  with multi-echo\n",
    "modality = 'part-phase_bold'\n",
    "for sub in sub_range:\n",
    "    for run in range(0, 14):\n",
    "        for acq in ['ME5']:\n",
    "            sub_id = 'sub-{:02d}'.format(sub)\n",
    "            run_id = 'run-{:02d}'.format(run)\n",
    "            assert ph_dict[sub_id][run_id][acq] != bold_dict[sub_id][run_id][acq], \\\n",
    "                'phase image is the same as BOLD. Please double-check'\n",
    "            assert ph_dict[sub_id][run_id][acq] != sbref_dict[sub_id][run_id][acq], \\\n",
    "                'phase image is the same as sbref. Please double-check'\n",
    "            scanner_run_id = ph_dict[sub_id][run_id][acq]\n",
    "            move_run_ph(sub_id, task, run_id, scanner_run_id, modality, n_echo, 'nii.gz')\n",
    "            move_run_ph(sub_id, task, run_id, scanner_run_id, modality, n_echo, 'json')"
   ]
  },
  {
   "attachments": {},
   "cell_type": "markdown",
   "metadata": {},
   "source": [
    "# Add TaskName field. \n",
    "It is required to have a field named TaskName in the json file. So the following function fixes this"
   ]
  },
  {
   "cell_type": "code",
   "execution_count": 13,
   "metadata": {},
   "outputs": [],
   "source": [
    "def fix_json_TaskName(file, TaskName, TaskDescription=None, CogAtlasID=None):\n",
    "    with open(file) as json_file:\n",
    "        json_decoded = json.load(json_file)\n",
    "        json_decoded['TaskName'] = TaskName\n",
    "        if not TaskDescription is None:\n",
    "            json_decoded['TaskDescription'] = TaskDescription\n",
    "        if not CogAtlasID is None:\n",
    "            json_decoded['CogAtlasID'] = CogAtlasID\n",
    "#         print(json_decoded)\n",
    "            \n",
    "    with open(file, 'w') as json_file:\n",
    "        json.dump(json_decoded, json_file, indent=8)"
   ]
  },
  {
   "cell_type": "code",
   "execution_count": 14,
   "metadata": {},
   "outputs": [
    {
     "name": "stdout",
     "output_type": "stream",
     "text": [
      "/media/brain/Spatial/spatialfMRI/fMRI_data/spatialfMRI_nii/sub-01/func/sub-01_task-geo_run-00_echo-1_part-mag_sbref.json  is fixed\n",
      "/media/brain/Spatial/spatialfMRI/fMRI_data/spatialfMRI_nii/sub-01/func/sub-01_task-geo_run-00_echo-2_part-mag_sbref.json  is fixed\n",
      "/media/brain/Spatial/spatialfMRI/fMRI_data/spatialfMRI_nii/sub-01/func/sub-01_task-geo_run-00_echo-3_part-mag_sbref.json  is fixed\n",
      "/media/brain/Spatial/spatialfMRI/fMRI_data/spatialfMRI_nii/sub-01/func/sub-01_task-geo_run-00_echo-4_part-mag_sbref.json  is fixed\n",
      "/media/brain/Spatial/spatialfMRI/fMRI_data/spatialfMRI_nii/sub-01/func/sub-01_task-geo_run-00_echo-5_part-mag_sbref.json  is fixed\n",
      "/media/brain/Spatial/spatialfMRI/fMRI_data/spatialfMRI_nii/sub-01/func/sub-01_task-geo_run-00_echo-1_part-phase_sbref.json  is fixed\n",
      "/media/brain/Spatial/spatialfMRI/fMRI_data/spatialfMRI_nii/sub-01/func/sub-01_task-geo_run-00_echo-2_part-phase_sbref.json  is fixed\n",
      "/media/brain/Spatial/spatialfMRI/fMRI_data/spatialfMRI_nii/sub-01/func/sub-01_task-geo_run-00_echo-3_part-phase_sbref.json  is fixed\n",
      "/media/brain/Spatial/spatialfMRI/fMRI_data/spatialfMRI_nii/sub-01/func/sub-01_task-geo_run-00_echo-4_part-phase_sbref.json  is fixed\n",
      "/media/brain/Spatial/spatialfMRI/fMRI_data/spatialfMRI_nii/sub-01/func/sub-01_task-geo_run-00_echo-5_part-phase_sbref.json  is fixed\n",
      "/media/brain/Spatial/spatialfMRI/fMRI_data/spatialfMRI_nii/sub-01/func/sub-01_task-geo_run-00_echo-1_part-mag_bold.json  is fixed\n",
      "/media/brain/Spatial/spatialfMRI/fMRI_data/spatialfMRI_nii/sub-01/func/sub-01_task-geo_run-00_echo-2_part-mag_bold.json  is fixed\n",
      "/media/brain/Spatial/spatialfMRI/fMRI_data/spatialfMRI_nii/sub-01/func/sub-01_task-geo_run-00_echo-3_part-mag_bold.json  is fixed\n",
      "/media/brain/Spatial/spatialfMRI/fMRI_data/spatialfMRI_nii/sub-01/func/sub-01_task-geo_run-00_echo-4_part-mag_bold.json  is fixed\n",
      "/media/brain/Spatial/spatialfMRI/fMRI_data/spatialfMRI_nii/sub-01/func/sub-01_task-geo_run-00_echo-5_part-mag_bold.json  is fixed\n",
      "/media/brain/Spatial/spatialfMRI/fMRI_data/spatialfMRI_nii/sub-01/func/sub-01_task-geo_run-00_echo-1_part-phase_bold.json  is fixed\n",
      "/media/brain/Spatial/spatialfMRI/fMRI_data/spatialfMRI_nii/sub-01/func/sub-01_task-geo_run-00_echo-2_part-phase_bold.json  is fixed\n",
      "/media/brain/Spatial/spatialfMRI/fMRI_data/spatialfMRI_nii/sub-01/func/sub-01_task-geo_run-00_echo-3_part-phase_bold.json  is fixed\n",
      "/media/brain/Spatial/spatialfMRI/fMRI_data/spatialfMRI_nii/sub-01/func/sub-01_task-geo_run-00_echo-4_part-phase_bold.json  is fixed\n",
      "/media/brain/Spatial/spatialfMRI/fMRI_data/spatialfMRI_nii/sub-01/func/sub-01_task-geo_run-00_echo-5_part-phase_bold.json  is fixed\n",
      "/media/brain/Spatial/spatialfMRI/fMRI_data/spatialfMRI_nii/sub-01/func/sub-01_task-geo_run-01_echo-1_part-mag_sbref.json  is fixed\n",
      "/media/brain/Spatial/spatialfMRI/fMRI_data/spatialfMRI_nii/sub-01/func/sub-01_task-geo_run-01_echo-2_part-mag_sbref.json  is fixed\n",
      "/media/brain/Spatial/spatialfMRI/fMRI_data/spatialfMRI_nii/sub-01/func/sub-01_task-geo_run-01_echo-3_part-mag_sbref.json  is fixed\n",
      "/media/brain/Spatial/spatialfMRI/fMRI_data/spatialfMRI_nii/sub-01/func/sub-01_task-geo_run-01_echo-4_part-mag_sbref.json  is fixed\n",
      "/media/brain/Spatial/spatialfMRI/fMRI_data/spatialfMRI_nii/sub-01/func/sub-01_task-geo_run-01_echo-5_part-mag_sbref.json  is fixed\n",
      "/media/brain/Spatial/spatialfMRI/fMRI_data/spatialfMRI_nii/sub-01/func/sub-01_task-geo_run-01_echo-1_part-phase_sbref.json  is fixed\n",
      "/media/brain/Spatial/spatialfMRI/fMRI_data/spatialfMRI_nii/sub-01/func/sub-01_task-geo_run-01_echo-2_part-phase_sbref.json  is fixed\n",
      "/media/brain/Spatial/spatialfMRI/fMRI_data/spatialfMRI_nii/sub-01/func/sub-01_task-geo_run-01_echo-3_part-phase_sbref.json  is fixed\n",
      "/media/brain/Spatial/spatialfMRI/fMRI_data/spatialfMRI_nii/sub-01/func/sub-01_task-geo_run-01_echo-4_part-phase_sbref.json  is fixed\n",
      "/media/brain/Spatial/spatialfMRI/fMRI_data/spatialfMRI_nii/sub-01/func/sub-01_task-geo_run-01_echo-5_part-phase_sbref.json  is fixed\n",
      "/media/brain/Spatial/spatialfMRI/fMRI_data/spatialfMRI_nii/sub-01/func/sub-01_task-geo_run-01_echo-1_part-mag_bold.json  is fixed\n",
      "/media/brain/Spatial/spatialfMRI/fMRI_data/spatialfMRI_nii/sub-01/func/sub-01_task-geo_run-01_echo-2_part-mag_bold.json  is fixed\n",
      "/media/brain/Spatial/spatialfMRI/fMRI_data/spatialfMRI_nii/sub-01/func/sub-01_task-geo_run-01_echo-3_part-mag_bold.json  is fixed\n",
      "/media/brain/Spatial/spatialfMRI/fMRI_data/spatialfMRI_nii/sub-01/func/sub-01_task-geo_run-01_echo-4_part-mag_bold.json  is fixed\n",
      "/media/brain/Spatial/spatialfMRI/fMRI_data/spatialfMRI_nii/sub-01/func/sub-01_task-geo_run-01_echo-5_part-mag_bold.json  is fixed\n",
      "/media/brain/Spatial/spatialfMRI/fMRI_data/spatialfMRI_nii/sub-01/func/sub-01_task-geo_run-01_echo-1_part-phase_bold.json  is fixed\n",
      "/media/brain/Spatial/spatialfMRI/fMRI_data/spatialfMRI_nii/sub-01/func/sub-01_task-geo_run-01_echo-2_part-phase_bold.json  is fixed\n",
      "/media/brain/Spatial/spatialfMRI/fMRI_data/spatialfMRI_nii/sub-01/func/sub-01_task-geo_run-01_echo-3_part-phase_bold.json  is fixed\n",
      "/media/brain/Spatial/spatialfMRI/fMRI_data/spatialfMRI_nii/sub-01/func/sub-01_task-geo_run-01_echo-4_part-phase_bold.json  is fixed\n",
      "/media/brain/Spatial/spatialfMRI/fMRI_data/spatialfMRI_nii/sub-01/func/sub-01_task-geo_run-01_echo-5_part-phase_bold.json  is fixed\n",
      "/media/brain/Spatial/spatialfMRI/fMRI_data/spatialfMRI_nii/sub-01/func/sub-01_task-geo_run-02_echo-1_part-mag_sbref.json  is fixed\n",
      "/media/brain/Spatial/spatialfMRI/fMRI_data/spatialfMRI_nii/sub-01/func/sub-01_task-geo_run-02_echo-2_part-mag_sbref.json  is fixed\n",
      "/media/brain/Spatial/spatialfMRI/fMRI_data/spatialfMRI_nii/sub-01/func/sub-01_task-geo_run-02_echo-3_part-mag_sbref.json  is fixed\n",
      "/media/brain/Spatial/spatialfMRI/fMRI_data/spatialfMRI_nii/sub-01/func/sub-01_task-geo_run-02_echo-4_part-mag_sbref.json  is fixed\n",
      "/media/brain/Spatial/spatialfMRI/fMRI_data/spatialfMRI_nii/sub-01/func/sub-01_task-geo_run-02_echo-5_part-mag_sbref.json  is fixed\n",
      "/media/brain/Spatial/spatialfMRI/fMRI_data/spatialfMRI_nii/sub-01/func/sub-01_task-geo_run-02_echo-1_part-phase_sbref.json  is fixed\n",
      "/media/brain/Spatial/spatialfMRI/fMRI_data/spatialfMRI_nii/sub-01/func/sub-01_task-geo_run-02_echo-2_part-phase_sbref.json  is fixed\n",
      "/media/brain/Spatial/spatialfMRI/fMRI_data/spatialfMRI_nii/sub-01/func/sub-01_task-geo_run-02_echo-3_part-phase_sbref.json  is fixed\n",
      "/media/brain/Spatial/spatialfMRI/fMRI_data/spatialfMRI_nii/sub-01/func/sub-01_task-geo_run-02_echo-4_part-phase_sbref.json  is fixed\n",
      "/media/brain/Spatial/spatialfMRI/fMRI_data/spatialfMRI_nii/sub-01/func/sub-01_task-geo_run-02_echo-5_part-phase_sbref.json  is fixed\n",
      "/media/brain/Spatial/spatialfMRI/fMRI_data/spatialfMRI_nii/sub-01/func/sub-01_task-geo_run-02_echo-1_part-mag_bold.json  is fixed\n",
      "/media/brain/Spatial/spatialfMRI/fMRI_data/spatialfMRI_nii/sub-01/func/sub-01_task-geo_run-02_echo-2_part-mag_bold.json  is fixed\n",
      "/media/brain/Spatial/spatialfMRI/fMRI_data/spatialfMRI_nii/sub-01/func/sub-01_task-geo_run-02_echo-3_part-mag_bold.json  is fixed\n",
      "/media/brain/Spatial/spatialfMRI/fMRI_data/spatialfMRI_nii/sub-01/func/sub-01_task-geo_run-02_echo-4_part-mag_bold.json  is fixed\n",
      "/media/brain/Spatial/spatialfMRI/fMRI_data/spatialfMRI_nii/sub-01/func/sub-01_task-geo_run-02_echo-5_part-mag_bold.json  is fixed\n",
      "/media/brain/Spatial/spatialfMRI/fMRI_data/spatialfMRI_nii/sub-01/func/sub-01_task-geo_run-02_echo-1_part-phase_bold.json  is fixed\n",
      "/media/brain/Spatial/spatialfMRI/fMRI_data/spatialfMRI_nii/sub-01/func/sub-01_task-geo_run-02_echo-2_part-phase_bold.json  is fixed\n",
      "/media/brain/Spatial/spatialfMRI/fMRI_data/spatialfMRI_nii/sub-01/func/sub-01_task-geo_run-02_echo-3_part-phase_bold.json  is fixed\n",
      "/media/brain/Spatial/spatialfMRI/fMRI_data/spatialfMRI_nii/sub-01/func/sub-01_task-geo_run-02_echo-4_part-phase_bold.json  is fixed\n",
      "/media/brain/Spatial/spatialfMRI/fMRI_data/spatialfMRI_nii/sub-01/func/sub-01_task-geo_run-02_echo-5_part-phase_bold.json  is fixed\n",
      "/media/brain/Spatial/spatialfMRI/fMRI_data/spatialfMRI_nii/sub-01/func/sub-01_task-geo_run-03_echo-1_part-mag_sbref.json  is fixed\n",
      "/media/brain/Spatial/spatialfMRI/fMRI_data/spatialfMRI_nii/sub-01/func/sub-01_task-geo_run-03_echo-2_part-mag_sbref.json  is fixed\n",
      "/media/brain/Spatial/spatialfMRI/fMRI_data/spatialfMRI_nii/sub-01/func/sub-01_task-geo_run-03_echo-3_part-mag_sbref.json  is fixed\n",
      "/media/brain/Spatial/spatialfMRI/fMRI_data/spatialfMRI_nii/sub-01/func/sub-01_task-geo_run-03_echo-4_part-mag_sbref.json  is fixed\n",
      "/media/brain/Spatial/spatialfMRI/fMRI_data/spatialfMRI_nii/sub-01/func/sub-01_task-geo_run-03_echo-5_part-mag_sbref.json  is fixed\n",
      "/media/brain/Spatial/spatialfMRI/fMRI_data/spatialfMRI_nii/sub-01/func/sub-01_task-geo_run-03_echo-1_part-phase_sbref.json  is fixed\n",
      "/media/brain/Spatial/spatialfMRI/fMRI_data/spatialfMRI_nii/sub-01/func/sub-01_task-geo_run-03_echo-2_part-phase_sbref.json  is fixed\n",
      "/media/brain/Spatial/spatialfMRI/fMRI_data/spatialfMRI_nii/sub-01/func/sub-01_task-geo_run-03_echo-3_part-phase_sbref.json  is fixed\n",
      "/media/brain/Spatial/spatialfMRI/fMRI_data/spatialfMRI_nii/sub-01/func/sub-01_task-geo_run-03_echo-4_part-phase_sbref.json  is fixed\n",
      "/media/brain/Spatial/spatialfMRI/fMRI_data/spatialfMRI_nii/sub-01/func/sub-01_task-geo_run-03_echo-5_part-phase_sbref.json  is fixed\n",
      "/media/brain/Spatial/spatialfMRI/fMRI_data/spatialfMRI_nii/sub-01/func/sub-01_task-geo_run-03_echo-1_part-mag_bold.json  is fixed\n",
      "/media/brain/Spatial/spatialfMRI/fMRI_data/spatialfMRI_nii/sub-01/func/sub-01_task-geo_run-03_echo-2_part-mag_bold.json  is fixed\n",
      "/media/brain/Spatial/spatialfMRI/fMRI_data/spatialfMRI_nii/sub-01/func/sub-01_task-geo_run-03_echo-3_part-mag_bold.json  is fixed\n",
      "/media/brain/Spatial/spatialfMRI/fMRI_data/spatialfMRI_nii/sub-01/func/sub-01_task-geo_run-03_echo-4_part-mag_bold.json  is fixed\n",
      "/media/brain/Spatial/spatialfMRI/fMRI_data/spatialfMRI_nii/sub-01/func/sub-01_task-geo_run-03_echo-5_part-mag_bold.json  is fixed\n",
      "/media/brain/Spatial/spatialfMRI/fMRI_data/spatialfMRI_nii/sub-01/func/sub-01_task-geo_run-03_echo-1_part-phase_bold.json  is fixed\n",
      "/media/brain/Spatial/spatialfMRI/fMRI_data/spatialfMRI_nii/sub-01/func/sub-01_task-geo_run-03_echo-2_part-phase_bold.json  is fixed\n",
      "/media/brain/Spatial/spatialfMRI/fMRI_data/spatialfMRI_nii/sub-01/func/sub-01_task-geo_run-03_echo-3_part-phase_bold.json  is fixed\n",
      "/media/brain/Spatial/spatialfMRI/fMRI_data/spatialfMRI_nii/sub-01/func/sub-01_task-geo_run-03_echo-4_part-phase_bold.json  is fixed\n",
      "/media/brain/Spatial/spatialfMRI/fMRI_data/spatialfMRI_nii/sub-01/func/sub-01_task-geo_run-03_echo-5_part-phase_bold.json  is fixed\n",
      "/media/brain/Spatial/spatialfMRI/fMRI_data/spatialfMRI_nii/sub-01/func/sub-01_task-geo_run-04_echo-1_part-mag_sbref.json  is fixed\n",
      "/media/brain/Spatial/spatialfMRI/fMRI_data/spatialfMRI_nii/sub-01/func/sub-01_task-geo_run-04_echo-2_part-mag_sbref.json  is fixed\n",
      "/media/brain/Spatial/spatialfMRI/fMRI_data/spatialfMRI_nii/sub-01/func/sub-01_task-geo_run-04_echo-3_part-mag_sbref.json  is fixed\n",
      "/media/brain/Spatial/spatialfMRI/fMRI_data/spatialfMRI_nii/sub-01/func/sub-01_task-geo_run-04_echo-4_part-mag_sbref.json  is fixed\n",
      "/media/brain/Spatial/spatialfMRI/fMRI_data/spatialfMRI_nii/sub-01/func/sub-01_task-geo_run-04_echo-5_part-mag_sbref.json  is fixed\n",
      "/media/brain/Spatial/spatialfMRI/fMRI_data/spatialfMRI_nii/sub-01/func/sub-01_task-geo_run-04_echo-1_part-phase_sbref.json  is fixed\n",
      "/media/brain/Spatial/spatialfMRI/fMRI_data/spatialfMRI_nii/sub-01/func/sub-01_task-geo_run-04_echo-2_part-phase_sbref.json  is fixed\n",
      "/media/brain/Spatial/spatialfMRI/fMRI_data/spatialfMRI_nii/sub-01/func/sub-01_task-geo_run-04_echo-3_part-phase_sbref.json  is fixed\n",
      "/media/brain/Spatial/spatialfMRI/fMRI_data/spatialfMRI_nii/sub-01/func/sub-01_task-geo_run-04_echo-4_part-phase_sbref.json  is fixed\n",
      "/media/brain/Spatial/spatialfMRI/fMRI_data/spatialfMRI_nii/sub-01/func/sub-01_task-geo_run-04_echo-5_part-phase_sbref.json  is fixed\n",
      "/media/brain/Spatial/spatialfMRI/fMRI_data/spatialfMRI_nii/sub-01/func/sub-01_task-geo_run-04_echo-1_part-mag_bold.json  is fixed\n",
      "/media/brain/Spatial/spatialfMRI/fMRI_data/spatialfMRI_nii/sub-01/func/sub-01_task-geo_run-04_echo-2_part-mag_bold.json  is fixed\n",
      "/media/brain/Spatial/spatialfMRI/fMRI_data/spatialfMRI_nii/sub-01/func/sub-01_task-geo_run-04_echo-3_part-mag_bold.json  is fixed\n",
      "/media/brain/Spatial/spatialfMRI/fMRI_data/spatialfMRI_nii/sub-01/func/sub-01_task-geo_run-04_echo-4_part-mag_bold.json  is fixed\n",
      "/media/brain/Spatial/spatialfMRI/fMRI_data/spatialfMRI_nii/sub-01/func/sub-01_task-geo_run-04_echo-5_part-mag_bold.json  is fixed\n",
      "/media/brain/Spatial/spatialfMRI/fMRI_data/spatialfMRI_nii/sub-01/func/sub-01_task-geo_run-04_echo-1_part-phase_bold.json  is fixed\n",
      "/media/brain/Spatial/spatialfMRI/fMRI_data/spatialfMRI_nii/sub-01/func/sub-01_task-geo_run-04_echo-2_part-phase_bold.json  is fixed\n",
      "/media/brain/Spatial/spatialfMRI/fMRI_data/spatialfMRI_nii/sub-01/func/sub-01_task-geo_run-04_echo-3_part-phase_bold.json  is fixed\n",
      "/media/brain/Spatial/spatialfMRI/fMRI_data/spatialfMRI_nii/sub-01/func/sub-01_task-geo_run-04_echo-4_part-phase_bold.json  is fixed\n",
      "/media/brain/Spatial/spatialfMRI/fMRI_data/spatialfMRI_nii/sub-01/func/sub-01_task-geo_run-04_echo-5_part-phase_bold.json  is fixed\n",
      "/media/brain/Spatial/spatialfMRI/fMRI_data/spatialfMRI_nii/sub-01/func/sub-01_task-geo_run-05_echo-1_part-mag_sbref.json  is fixed\n",
      "/media/brain/Spatial/spatialfMRI/fMRI_data/spatialfMRI_nii/sub-01/func/sub-01_task-geo_run-05_echo-2_part-mag_sbref.json  is fixed\n",
      "/media/brain/Spatial/spatialfMRI/fMRI_data/spatialfMRI_nii/sub-01/func/sub-01_task-geo_run-05_echo-3_part-mag_sbref.json  is fixed\n",
      "/media/brain/Spatial/spatialfMRI/fMRI_data/spatialfMRI_nii/sub-01/func/sub-01_task-geo_run-05_echo-4_part-mag_sbref.json  is fixed\n",
      "/media/brain/Spatial/spatialfMRI/fMRI_data/spatialfMRI_nii/sub-01/func/sub-01_task-geo_run-05_echo-5_part-mag_sbref.json  is fixed\n",
      "/media/brain/Spatial/spatialfMRI/fMRI_data/spatialfMRI_nii/sub-01/func/sub-01_task-geo_run-05_echo-1_part-phase_sbref.json  is fixed\n",
      "/media/brain/Spatial/spatialfMRI/fMRI_data/spatialfMRI_nii/sub-01/func/sub-01_task-geo_run-05_echo-2_part-phase_sbref.json  is fixed\n",
      "/media/brain/Spatial/spatialfMRI/fMRI_data/spatialfMRI_nii/sub-01/func/sub-01_task-geo_run-05_echo-3_part-phase_sbref.json  is fixed\n",
      "/media/brain/Spatial/spatialfMRI/fMRI_data/spatialfMRI_nii/sub-01/func/sub-01_task-geo_run-05_echo-4_part-phase_sbref.json  is fixed\n",
      "/media/brain/Spatial/spatialfMRI/fMRI_data/spatialfMRI_nii/sub-01/func/sub-01_task-geo_run-05_echo-5_part-phase_sbref.json  is fixed\n",
      "/media/brain/Spatial/spatialfMRI/fMRI_data/spatialfMRI_nii/sub-01/func/sub-01_task-geo_run-05_echo-1_part-mag_bold.json  is fixed\n",
      "/media/brain/Spatial/spatialfMRI/fMRI_data/spatialfMRI_nii/sub-01/func/sub-01_task-geo_run-05_echo-2_part-mag_bold.json  is fixed\n",
      "/media/brain/Spatial/spatialfMRI/fMRI_data/spatialfMRI_nii/sub-01/func/sub-01_task-geo_run-05_echo-3_part-mag_bold.json  is fixed\n",
      "/media/brain/Spatial/spatialfMRI/fMRI_data/spatialfMRI_nii/sub-01/func/sub-01_task-geo_run-05_echo-4_part-mag_bold.json  is fixed\n",
      "/media/brain/Spatial/spatialfMRI/fMRI_data/spatialfMRI_nii/sub-01/func/sub-01_task-geo_run-05_echo-5_part-mag_bold.json  is fixed\n",
      "/media/brain/Spatial/spatialfMRI/fMRI_data/spatialfMRI_nii/sub-01/func/sub-01_task-geo_run-05_echo-1_part-phase_bold.json  is fixed\n",
      "/media/brain/Spatial/spatialfMRI/fMRI_data/spatialfMRI_nii/sub-01/func/sub-01_task-geo_run-05_echo-2_part-phase_bold.json  is fixed\n",
      "/media/brain/Spatial/spatialfMRI/fMRI_data/spatialfMRI_nii/sub-01/func/sub-01_task-geo_run-05_echo-3_part-phase_bold.json  is fixed\n",
      "/media/brain/Spatial/spatialfMRI/fMRI_data/spatialfMRI_nii/sub-01/func/sub-01_task-geo_run-05_echo-4_part-phase_bold.json  is fixed\n",
      "/media/brain/Spatial/spatialfMRI/fMRI_data/spatialfMRI_nii/sub-01/func/sub-01_task-geo_run-05_echo-5_part-phase_bold.json  is fixed\n",
      "/media/brain/Spatial/spatialfMRI/fMRI_data/spatialfMRI_nii/sub-01/func/sub-01_task-geo_run-06_echo-1_part-mag_sbref.json  is fixed\n",
      "/media/brain/Spatial/spatialfMRI/fMRI_data/spatialfMRI_nii/sub-01/func/sub-01_task-geo_run-06_echo-2_part-mag_sbref.json  is fixed\n",
      "/media/brain/Spatial/spatialfMRI/fMRI_data/spatialfMRI_nii/sub-01/func/sub-01_task-geo_run-06_echo-3_part-mag_sbref.json  is fixed\n",
      "/media/brain/Spatial/spatialfMRI/fMRI_data/spatialfMRI_nii/sub-01/func/sub-01_task-geo_run-06_echo-4_part-mag_sbref.json  is fixed\n",
      "/media/brain/Spatial/spatialfMRI/fMRI_data/spatialfMRI_nii/sub-01/func/sub-01_task-geo_run-06_echo-5_part-mag_sbref.json  is fixed\n",
      "/media/brain/Spatial/spatialfMRI/fMRI_data/spatialfMRI_nii/sub-01/func/sub-01_task-geo_run-06_echo-1_part-phase_sbref.json  is fixed\n",
      "/media/brain/Spatial/spatialfMRI/fMRI_data/spatialfMRI_nii/sub-01/func/sub-01_task-geo_run-06_echo-2_part-phase_sbref.json  is fixed\n",
      "/media/brain/Spatial/spatialfMRI/fMRI_data/spatialfMRI_nii/sub-01/func/sub-01_task-geo_run-06_echo-3_part-phase_sbref.json  is fixed\n",
      "/media/brain/Spatial/spatialfMRI/fMRI_data/spatialfMRI_nii/sub-01/func/sub-01_task-geo_run-06_echo-4_part-phase_sbref.json  is fixed\n",
      "/media/brain/Spatial/spatialfMRI/fMRI_data/spatialfMRI_nii/sub-01/func/sub-01_task-geo_run-06_echo-5_part-phase_sbref.json  is fixed\n",
      "/media/brain/Spatial/spatialfMRI/fMRI_data/spatialfMRI_nii/sub-01/func/sub-01_task-geo_run-06_echo-1_part-mag_bold.json  is fixed\n",
      "/media/brain/Spatial/spatialfMRI/fMRI_data/spatialfMRI_nii/sub-01/func/sub-01_task-geo_run-06_echo-2_part-mag_bold.json  is fixed\n",
      "/media/brain/Spatial/spatialfMRI/fMRI_data/spatialfMRI_nii/sub-01/func/sub-01_task-geo_run-06_echo-3_part-mag_bold.json  is fixed\n",
      "/media/brain/Spatial/spatialfMRI/fMRI_data/spatialfMRI_nii/sub-01/func/sub-01_task-geo_run-06_echo-4_part-mag_bold.json  is fixed\n",
      "/media/brain/Spatial/spatialfMRI/fMRI_data/spatialfMRI_nii/sub-01/func/sub-01_task-geo_run-06_echo-5_part-mag_bold.json  is fixed\n",
      "/media/brain/Spatial/spatialfMRI/fMRI_data/spatialfMRI_nii/sub-01/func/sub-01_task-geo_run-06_echo-1_part-phase_bold.json  is fixed\n",
      "/media/brain/Spatial/spatialfMRI/fMRI_data/spatialfMRI_nii/sub-01/func/sub-01_task-geo_run-06_echo-2_part-phase_bold.json  is fixed\n",
      "/media/brain/Spatial/spatialfMRI/fMRI_data/spatialfMRI_nii/sub-01/func/sub-01_task-geo_run-06_echo-3_part-phase_bold.json  is fixed\n",
      "/media/brain/Spatial/spatialfMRI/fMRI_data/spatialfMRI_nii/sub-01/func/sub-01_task-geo_run-06_echo-4_part-phase_bold.json  is fixed\n",
      "/media/brain/Spatial/spatialfMRI/fMRI_data/spatialfMRI_nii/sub-01/func/sub-01_task-geo_run-06_echo-5_part-phase_bold.json  is fixed\n",
      "/media/brain/Spatial/spatialfMRI/fMRI_data/spatialfMRI_nii/sub-01/func/sub-01_task-geo_run-07_echo-1_part-mag_sbref.json  is fixed\n",
      "/media/brain/Spatial/spatialfMRI/fMRI_data/spatialfMRI_nii/sub-01/func/sub-01_task-geo_run-07_echo-2_part-mag_sbref.json  is fixed\n",
      "/media/brain/Spatial/spatialfMRI/fMRI_data/spatialfMRI_nii/sub-01/func/sub-01_task-geo_run-07_echo-3_part-mag_sbref.json  is fixed\n",
      "/media/brain/Spatial/spatialfMRI/fMRI_data/spatialfMRI_nii/sub-01/func/sub-01_task-geo_run-07_echo-4_part-mag_sbref.json  is fixed\n",
      "/media/brain/Spatial/spatialfMRI/fMRI_data/spatialfMRI_nii/sub-01/func/sub-01_task-geo_run-07_echo-5_part-mag_sbref.json  is fixed\n",
      "/media/brain/Spatial/spatialfMRI/fMRI_data/spatialfMRI_nii/sub-01/func/sub-01_task-geo_run-07_echo-1_part-phase_sbref.json  is fixed\n",
      "/media/brain/Spatial/spatialfMRI/fMRI_data/spatialfMRI_nii/sub-01/func/sub-01_task-geo_run-07_echo-2_part-phase_sbref.json  is fixed\n",
      "/media/brain/Spatial/spatialfMRI/fMRI_data/spatialfMRI_nii/sub-01/func/sub-01_task-geo_run-07_echo-3_part-phase_sbref.json  is fixed\n",
      "/media/brain/Spatial/spatialfMRI/fMRI_data/spatialfMRI_nii/sub-01/func/sub-01_task-geo_run-07_echo-4_part-phase_sbref.json  is fixed\n",
      "/media/brain/Spatial/spatialfMRI/fMRI_data/spatialfMRI_nii/sub-01/func/sub-01_task-geo_run-07_echo-5_part-phase_sbref.json  is fixed\n",
      "/media/brain/Spatial/spatialfMRI/fMRI_data/spatialfMRI_nii/sub-01/func/sub-01_task-geo_run-07_echo-1_part-mag_bold.json  is fixed\n",
      "/media/brain/Spatial/spatialfMRI/fMRI_data/spatialfMRI_nii/sub-01/func/sub-01_task-geo_run-07_echo-2_part-mag_bold.json  is fixed\n",
      "/media/brain/Spatial/spatialfMRI/fMRI_data/spatialfMRI_nii/sub-01/func/sub-01_task-geo_run-07_echo-3_part-mag_bold.json  is fixed\n",
      "/media/brain/Spatial/spatialfMRI/fMRI_data/spatialfMRI_nii/sub-01/func/sub-01_task-geo_run-07_echo-4_part-mag_bold.json  is fixed\n",
      "/media/brain/Spatial/spatialfMRI/fMRI_data/spatialfMRI_nii/sub-01/func/sub-01_task-geo_run-07_echo-5_part-mag_bold.json  is fixed\n",
      "/media/brain/Spatial/spatialfMRI/fMRI_data/spatialfMRI_nii/sub-01/func/sub-01_task-geo_run-07_echo-1_part-phase_bold.json  is fixed\n",
      "/media/brain/Spatial/spatialfMRI/fMRI_data/spatialfMRI_nii/sub-01/func/sub-01_task-geo_run-07_echo-2_part-phase_bold.json  is fixed\n",
      "/media/brain/Spatial/spatialfMRI/fMRI_data/spatialfMRI_nii/sub-01/func/sub-01_task-geo_run-07_echo-3_part-phase_bold.json  is fixed\n",
      "/media/brain/Spatial/spatialfMRI/fMRI_data/spatialfMRI_nii/sub-01/func/sub-01_task-geo_run-07_echo-4_part-phase_bold.json  is fixed\n",
      "/media/brain/Spatial/spatialfMRI/fMRI_data/spatialfMRI_nii/sub-01/func/sub-01_task-geo_run-07_echo-5_part-phase_bold.json  is fixed\n",
      "/media/brain/Spatial/spatialfMRI/fMRI_data/spatialfMRI_nii/sub-01/func/sub-01_task-geo_run-08_echo-1_part-mag_sbref.json  is fixed\n",
      "/media/brain/Spatial/spatialfMRI/fMRI_data/spatialfMRI_nii/sub-01/func/sub-01_task-geo_run-08_echo-2_part-mag_sbref.json  is fixed\n",
      "/media/brain/Spatial/spatialfMRI/fMRI_data/spatialfMRI_nii/sub-01/func/sub-01_task-geo_run-08_echo-3_part-mag_sbref.json  is fixed\n",
      "/media/brain/Spatial/spatialfMRI/fMRI_data/spatialfMRI_nii/sub-01/func/sub-01_task-geo_run-08_echo-4_part-mag_sbref.json  is fixed\n",
      "/media/brain/Spatial/spatialfMRI/fMRI_data/spatialfMRI_nii/sub-01/func/sub-01_task-geo_run-08_echo-5_part-mag_sbref.json  is fixed\n",
      "/media/brain/Spatial/spatialfMRI/fMRI_data/spatialfMRI_nii/sub-01/func/sub-01_task-geo_run-08_echo-1_part-phase_sbref.json  is fixed\n",
      "/media/brain/Spatial/spatialfMRI/fMRI_data/spatialfMRI_nii/sub-01/func/sub-01_task-geo_run-08_echo-2_part-phase_sbref.json  is fixed\n",
      "/media/brain/Spatial/spatialfMRI/fMRI_data/spatialfMRI_nii/sub-01/func/sub-01_task-geo_run-08_echo-3_part-phase_sbref.json  is fixed\n",
      "/media/brain/Spatial/spatialfMRI/fMRI_data/spatialfMRI_nii/sub-01/func/sub-01_task-geo_run-08_echo-4_part-phase_sbref.json  is fixed\n",
      "/media/brain/Spatial/spatialfMRI/fMRI_data/spatialfMRI_nii/sub-01/func/sub-01_task-geo_run-08_echo-5_part-phase_sbref.json  is fixed\n",
      "/media/brain/Spatial/spatialfMRI/fMRI_data/spatialfMRI_nii/sub-01/func/sub-01_task-geo_run-08_echo-1_part-mag_bold.json  is fixed\n",
      "/media/brain/Spatial/spatialfMRI/fMRI_data/spatialfMRI_nii/sub-01/func/sub-01_task-geo_run-08_echo-2_part-mag_bold.json  is fixed\n",
      "/media/brain/Spatial/spatialfMRI/fMRI_data/spatialfMRI_nii/sub-01/func/sub-01_task-geo_run-08_echo-3_part-mag_bold.json  is fixed\n",
      "/media/brain/Spatial/spatialfMRI/fMRI_data/spatialfMRI_nii/sub-01/func/sub-01_task-geo_run-08_echo-4_part-mag_bold.json  is fixed\n",
      "/media/brain/Spatial/spatialfMRI/fMRI_data/spatialfMRI_nii/sub-01/func/sub-01_task-geo_run-08_echo-5_part-mag_bold.json  is fixed\n",
      "/media/brain/Spatial/spatialfMRI/fMRI_data/spatialfMRI_nii/sub-01/func/sub-01_task-geo_run-08_echo-1_part-phase_bold.json  is fixed\n",
      "/media/brain/Spatial/spatialfMRI/fMRI_data/spatialfMRI_nii/sub-01/func/sub-01_task-geo_run-08_echo-2_part-phase_bold.json  is fixed\n",
      "/media/brain/Spatial/spatialfMRI/fMRI_data/spatialfMRI_nii/sub-01/func/sub-01_task-geo_run-08_echo-3_part-phase_bold.json  is fixed\n",
      "/media/brain/Spatial/spatialfMRI/fMRI_data/spatialfMRI_nii/sub-01/func/sub-01_task-geo_run-08_echo-4_part-phase_bold.json  is fixed\n",
      "/media/brain/Spatial/spatialfMRI/fMRI_data/spatialfMRI_nii/sub-01/func/sub-01_task-geo_run-08_echo-5_part-phase_bold.json  is fixed\n",
      "/media/brain/Spatial/spatialfMRI/fMRI_data/spatialfMRI_nii/sub-01/func/sub-01_task-geo_run-09_echo-1_part-mag_sbref.json  is fixed\n",
      "/media/brain/Spatial/spatialfMRI/fMRI_data/spatialfMRI_nii/sub-01/func/sub-01_task-geo_run-09_echo-2_part-mag_sbref.json  is fixed\n",
      "/media/brain/Spatial/spatialfMRI/fMRI_data/spatialfMRI_nii/sub-01/func/sub-01_task-geo_run-09_echo-3_part-mag_sbref.json  is fixed\n",
      "/media/brain/Spatial/spatialfMRI/fMRI_data/spatialfMRI_nii/sub-01/func/sub-01_task-geo_run-09_echo-4_part-mag_sbref.json  is fixed\n",
      "/media/brain/Spatial/spatialfMRI/fMRI_data/spatialfMRI_nii/sub-01/func/sub-01_task-geo_run-09_echo-5_part-mag_sbref.json  is fixed\n",
      "/media/brain/Spatial/spatialfMRI/fMRI_data/spatialfMRI_nii/sub-01/func/sub-01_task-geo_run-09_echo-1_part-phase_sbref.json  is fixed\n",
      "/media/brain/Spatial/spatialfMRI/fMRI_data/spatialfMRI_nii/sub-01/func/sub-01_task-geo_run-09_echo-2_part-phase_sbref.json  is fixed\n",
      "/media/brain/Spatial/spatialfMRI/fMRI_data/spatialfMRI_nii/sub-01/func/sub-01_task-geo_run-09_echo-3_part-phase_sbref.json  is fixed\n",
      "/media/brain/Spatial/spatialfMRI/fMRI_data/spatialfMRI_nii/sub-01/func/sub-01_task-geo_run-09_echo-4_part-phase_sbref.json  is fixed\n",
      "/media/brain/Spatial/spatialfMRI/fMRI_data/spatialfMRI_nii/sub-01/func/sub-01_task-geo_run-09_echo-5_part-phase_sbref.json  is fixed\n",
      "/media/brain/Spatial/spatialfMRI/fMRI_data/spatialfMRI_nii/sub-01/func/sub-01_task-geo_run-09_echo-1_part-mag_bold.json  is fixed\n",
      "/media/brain/Spatial/spatialfMRI/fMRI_data/spatialfMRI_nii/sub-01/func/sub-01_task-geo_run-09_echo-2_part-mag_bold.json  is fixed\n",
      "/media/brain/Spatial/spatialfMRI/fMRI_data/spatialfMRI_nii/sub-01/func/sub-01_task-geo_run-09_echo-3_part-mag_bold.json  is fixed\n",
      "/media/brain/Spatial/spatialfMRI/fMRI_data/spatialfMRI_nii/sub-01/func/sub-01_task-geo_run-09_echo-4_part-mag_bold.json  is fixed\n",
      "/media/brain/Spatial/spatialfMRI/fMRI_data/spatialfMRI_nii/sub-01/func/sub-01_task-geo_run-09_echo-5_part-mag_bold.json  is fixed\n",
      "/media/brain/Spatial/spatialfMRI/fMRI_data/spatialfMRI_nii/sub-01/func/sub-01_task-geo_run-09_echo-1_part-phase_bold.json  is fixed\n",
      "/media/brain/Spatial/spatialfMRI/fMRI_data/spatialfMRI_nii/sub-01/func/sub-01_task-geo_run-09_echo-2_part-phase_bold.json  is fixed\n",
      "/media/brain/Spatial/spatialfMRI/fMRI_data/spatialfMRI_nii/sub-01/func/sub-01_task-geo_run-09_echo-3_part-phase_bold.json  is fixed\n",
      "/media/brain/Spatial/spatialfMRI/fMRI_data/spatialfMRI_nii/sub-01/func/sub-01_task-geo_run-09_echo-4_part-phase_bold.json  is fixed\n",
      "/media/brain/Spatial/spatialfMRI/fMRI_data/spatialfMRI_nii/sub-01/func/sub-01_task-geo_run-09_echo-5_part-phase_bold.json  is fixed\n",
      "/media/brain/Spatial/spatialfMRI/fMRI_data/spatialfMRI_nii/sub-01/func/sub-01_task-geo_run-10_echo-1_part-mag_sbref.json  is fixed\n",
      "/media/brain/Spatial/spatialfMRI/fMRI_data/spatialfMRI_nii/sub-01/func/sub-01_task-geo_run-10_echo-2_part-mag_sbref.json  is fixed\n",
      "/media/brain/Spatial/spatialfMRI/fMRI_data/spatialfMRI_nii/sub-01/func/sub-01_task-geo_run-10_echo-3_part-mag_sbref.json  is fixed\n",
      "/media/brain/Spatial/spatialfMRI/fMRI_data/spatialfMRI_nii/sub-01/func/sub-01_task-geo_run-10_echo-4_part-mag_sbref.json  is fixed\n",
      "/media/brain/Spatial/spatialfMRI/fMRI_data/spatialfMRI_nii/sub-01/func/sub-01_task-geo_run-10_echo-5_part-mag_sbref.json  is fixed\n",
      "/media/brain/Spatial/spatialfMRI/fMRI_data/spatialfMRI_nii/sub-01/func/sub-01_task-geo_run-10_echo-1_part-phase_sbref.json  is fixed\n",
      "/media/brain/Spatial/spatialfMRI/fMRI_data/spatialfMRI_nii/sub-01/func/sub-01_task-geo_run-10_echo-2_part-phase_sbref.json  is fixed\n",
      "/media/brain/Spatial/spatialfMRI/fMRI_data/spatialfMRI_nii/sub-01/func/sub-01_task-geo_run-10_echo-3_part-phase_sbref.json  is fixed\n",
      "/media/brain/Spatial/spatialfMRI/fMRI_data/spatialfMRI_nii/sub-01/func/sub-01_task-geo_run-10_echo-4_part-phase_sbref.json  is fixed\n",
      "/media/brain/Spatial/spatialfMRI/fMRI_data/spatialfMRI_nii/sub-01/func/sub-01_task-geo_run-10_echo-5_part-phase_sbref.json  is fixed\n",
      "/media/brain/Spatial/spatialfMRI/fMRI_data/spatialfMRI_nii/sub-01/func/sub-01_task-geo_run-10_echo-1_part-mag_bold.json  is fixed\n",
      "/media/brain/Spatial/spatialfMRI/fMRI_data/spatialfMRI_nii/sub-01/func/sub-01_task-geo_run-10_echo-2_part-mag_bold.json  is fixed\n",
      "/media/brain/Spatial/spatialfMRI/fMRI_data/spatialfMRI_nii/sub-01/func/sub-01_task-geo_run-10_echo-3_part-mag_bold.json  is fixed\n",
      "/media/brain/Spatial/spatialfMRI/fMRI_data/spatialfMRI_nii/sub-01/func/sub-01_task-geo_run-10_echo-4_part-mag_bold.json  is fixed\n",
      "/media/brain/Spatial/spatialfMRI/fMRI_data/spatialfMRI_nii/sub-01/func/sub-01_task-geo_run-10_echo-5_part-mag_bold.json  is fixed\n",
      "/media/brain/Spatial/spatialfMRI/fMRI_data/spatialfMRI_nii/sub-01/func/sub-01_task-geo_run-10_echo-1_part-phase_bold.json  is fixed\n",
      "/media/brain/Spatial/spatialfMRI/fMRI_data/spatialfMRI_nii/sub-01/func/sub-01_task-geo_run-10_echo-2_part-phase_bold.json  is fixed\n",
      "/media/brain/Spatial/spatialfMRI/fMRI_data/spatialfMRI_nii/sub-01/func/sub-01_task-geo_run-10_echo-3_part-phase_bold.json  is fixed\n",
      "/media/brain/Spatial/spatialfMRI/fMRI_data/spatialfMRI_nii/sub-01/func/sub-01_task-geo_run-10_echo-4_part-phase_bold.json  is fixed\n",
      "/media/brain/Spatial/spatialfMRI/fMRI_data/spatialfMRI_nii/sub-01/func/sub-01_task-geo_run-10_echo-5_part-phase_bold.json  is fixed\n",
      "/media/brain/Spatial/spatialfMRI/fMRI_data/spatialfMRI_nii/sub-01/func/sub-01_task-geo_run-11_echo-1_part-mag_sbref.json  is fixed\n",
      "/media/brain/Spatial/spatialfMRI/fMRI_data/spatialfMRI_nii/sub-01/func/sub-01_task-geo_run-11_echo-2_part-mag_sbref.json  is fixed\n",
      "/media/brain/Spatial/spatialfMRI/fMRI_data/spatialfMRI_nii/sub-01/func/sub-01_task-geo_run-11_echo-3_part-mag_sbref.json  is fixed\n",
      "/media/brain/Spatial/spatialfMRI/fMRI_data/spatialfMRI_nii/sub-01/func/sub-01_task-geo_run-11_echo-4_part-mag_sbref.json  is fixed\n",
      "/media/brain/Spatial/spatialfMRI/fMRI_data/spatialfMRI_nii/sub-01/func/sub-01_task-geo_run-11_echo-5_part-mag_sbref.json  is fixed\n",
      "/media/brain/Spatial/spatialfMRI/fMRI_data/spatialfMRI_nii/sub-01/func/sub-01_task-geo_run-11_echo-1_part-phase_sbref.json  is fixed\n",
      "/media/brain/Spatial/spatialfMRI/fMRI_data/spatialfMRI_nii/sub-01/func/sub-01_task-geo_run-11_echo-2_part-phase_sbref.json  is fixed\n",
      "/media/brain/Spatial/spatialfMRI/fMRI_data/spatialfMRI_nii/sub-01/func/sub-01_task-geo_run-11_echo-3_part-phase_sbref.json  is fixed\n",
      "/media/brain/Spatial/spatialfMRI/fMRI_data/spatialfMRI_nii/sub-01/func/sub-01_task-geo_run-11_echo-4_part-phase_sbref.json  is fixed\n",
      "/media/brain/Spatial/spatialfMRI/fMRI_data/spatialfMRI_nii/sub-01/func/sub-01_task-geo_run-11_echo-5_part-phase_sbref.json  is fixed\n",
      "/media/brain/Spatial/spatialfMRI/fMRI_data/spatialfMRI_nii/sub-01/func/sub-01_task-geo_run-11_echo-1_part-mag_bold.json  is fixed\n",
      "/media/brain/Spatial/spatialfMRI/fMRI_data/spatialfMRI_nii/sub-01/func/sub-01_task-geo_run-11_echo-2_part-mag_bold.json  is fixed\n",
      "/media/brain/Spatial/spatialfMRI/fMRI_data/spatialfMRI_nii/sub-01/func/sub-01_task-geo_run-11_echo-3_part-mag_bold.json  is fixed\n",
      "/media/brain/Spatial/spatialfMRI/fMRI_data/spatialfMRI_nii/sub-01/func/sub-01_task-geo_run-11_echo-4_part-mag_bold.json  is fixed\n",
      "/media/brain/Spatial/spatialfMRI/fMRI_data/spatialfMRI_nii/sub-01/func/sub-01_task-geo_run-11_echo-5_part-mag_bold.json  is fixed\n",
      "/media/brain/Spatial/spatialfMRI/fMRI_data/spatialfMRI_nii/sub-01/func/sub-01_task-geo_run-11_echo-1_part-phase_bold.json  is fixed\n",
      "/media/brain/Spatial/spatialfMRI/fMRI_data/spatialfMRI_nii/sub-01/func/sub-01_task-geo_run-11_echo-2_part-phase_bold.json  is fixed\n",
      "/media/brain/Spatial/spatialfMRI/fMRI_data/spatialfMRI_nii/sub-01/func/sub-01_task-geo_run-11_echo-3_part-phase_bold.json  is fixed\n",
      "/media/brain/Spatial/spatialfMRI/fMRI_data/spatialfMRI_nii/sub-01/func/sub-01_task-geo_run-11_echo-4_part-phase_bold.json  is fixed\n",
      "/media/brain/Spatial/spatialfMRI/fMRI_data/spatialfMRI_nii/sub-01/func/sub-01_task-geo_run-11_echo-5_part-phase_bold.json  is fixed\n",
      "/media/brain/Spatial/spatialfMRI/fMRI_data/spatialfMRI_nii/sub-01/func/sub-01_task-geo_run-12_echo-1_part-mag_sbref.json  is fixed\n",
      "/media/brain/Spatial/spatialfMRI/fMRI_data/spatialfMRI_nii/sub-01/func/sub-01_task-geo_run-12_echo-2_part-mag_sbref.json  is fixed\n",
      "/media/brain/Spatial/spatialfMRI/fMRI_data/spatialfMRI_nii/sub-01/func/sub-01_task-geo_run-12_echo-3_part-mag_sbref.json  is fixed\n",
      "/media/brain/Spatial/spatialfMRI/fMRI_data/spatialfMRI_nii/sub-01/func/sub-01_task-geo_run-12_echo-4_part-mag_sbref.json  is fixed\n",
      "/media/brain/Spatial/spatialfMRI/fMRI_data/spatialfMRI_nii/sub-01/func/sub-01_task-geo_run-12_echo-5_part-mag_sbref.json  is fixed\n",
      "/media/brain/Spatial/spatialfMRI/fMRI_data/spatialfMRI_nii/sub-01/func/sub-01_task-geo_run-12_echo-1_part-phase_sbref.json  is fixed\n",
      "/media/brain/Spatial/spatialfMRI/fMRI_data/spatialfMRI_nii/sub-01/func/sub-01_task-geo_run-12_echo-2_part-phase_sbref.json  is fixed\n",
      "/media/brain/Spatial/spatialfMRI/fMRI_data/spatialfMRI_nii/sub-01/func/sub-01_task-geo_run-12_echo-3_part-phase_sbref.json  is fixed\n",
      "/media/brain/Spatial/spatialfMRI/fMRI_data/spatialfMRI_nii/sub-01/func/sub-01_task-geo_run-12_echo-4_part-phase_sbref.json  is fixed\n",
      "/media/brain/Spatial/spatialfMRI/fMRI_data/spatialfMRI_nii/sub-01/func/sub-01_task-geo_run-12_echo-5_part-phase_sbref.json  is fixed\n",
      "/media/brain/Spatial/spatialfMRI/fMRI_data/spatialfMRI_nii/sub-01/func/sub-01_task-geo_run-12_echo-1_part-mag_bold.json  is fixed\n",
      "/media/brain/Spatial/spatialfMRI/fMRI_data/spatialfMRI_nii/sub-01/func/sub-01_task-geo_run-12_echo-2_part-mag_bold.json  is fixed\n",
      "/media/brain/Spatial/spatialfMRI/fMRI_data/spatialfMRI_nii/sub-01/func/sub-01_task-geo_run-12_echo-3_part-mag_bold.json  is fixed\n",
      "/media/brain/Spatial/spatialfMRI/fMRI_data/spatialfMRI_nii/sub-01/func/sub-01_task-geo_run-12_echo-4_part-mag_bold.json  is fixed\n",
      "/media/brain/Spatial/spatialfMRI/fMRI_data/spatialfMRI_nii/sub-01/func/sub-01_task-geo_run-12_echo-5_part-mag_bold.json  is fixed\n",
      "/media/brain/Spatial/spatialfMRI/fMRI_data/spatialfMRI_nii/sub-01/func/sub-01_task-geo_run-12_echo-1_part-phase_bold.json  is fixed\n",
      "/media/brain/Spatial/spatialfMRI/fMRI_data/spatialfMRI_nii/sub-01/func/sub-01_task-geo_run-12_echo-2_part-phase_bold.json  is fixed\n",
      "/media/brain/Spatial/spatialfMRI/fMRI_data/spatialfMRI_nii/sub-01/func/sub-01_task-geo_run-12_echo-3_part-phase_bold.json  is fixed\n",
      "/media/brain/Spatial/spatialfMRI/fMRI_data/spatialfMRI_nii/sub-01/func/sub-01_task-geo_run-12_echo-4_part-phase_bold.json  is fixed\n",
      "/media/brain/Spatial/spatialfMRI/fMRI_data/spatialfMRI_nii/sub-01/func/sub-01_task-geo_run-12_echo-5_part-phase_bold.json  is fixed\n",
      "/media/brain/Spatial/spatialfMRI/fMRI_data/spatialfMRI_nii/sub-01/func/sub-01_task-geo_run-13_echo-1_part-mag_sbref.json  is fixed\n",
      "/media/brain/Spatial/spatialfMRI/fMRI_data/spatialfMRI_nii/sub-01/func/sub-01_task-geo_run-13_echo-2_part-mag_sbref.json  is fixed\n",
      "/media/brain/Spatial/spatialfMRI/fMRI_data/spatialfMRI_nii/sub-01/func/sub-01_task-geo_run-13_echo-3_part-mag_sbref.json  is fixed\n",
      "/media/brain/Spatial/spatialfMRI/fMRI_data/spatialfMRI_nii/sub-01/func/sub-01_task-geo_run-13_echo-4_part-mag_sbref.json  is fixed\n",
      "/media/brain/Spatial/spatialfMRI/fMRI_data/spatialfMRI_nii/sub-01/func/sub-01_task-geo_run-13_echo-5_part-mag_sbref.json  is fixed\n",
      "/media/brain/Spatial/spatialfMRI/fMRI_data/spatialfMRI_nii/sub-01/func/sub-01_task-geo_run-13_echo-1_part-phase_sbref.json  is fixed\n",
      "/media/brain/Spatial/spatialfMRI/fMRI_data/spatialfMRI_nii/sub-01/func/sub-01_task-geo_run-13_echo-2_part-phase_sbref.json  is fixed\n",
      "/media/brain/Spatial/spatialfMRI/fMRI_data/spatialfMRI_nii/sub-01/func/sub-01_task-geo_run-13_echo-3_part-phase_sbref.json  is fixed\n",
      "/media/brain/Spatial/spatialfMRI/fMRI_data/spatialfMRI_nii/sub-01/func/sub-01_task-geo_run-13_echo-4_part-phase_sbref.json  is fixed\n",
      "/media/brain/Spatial/spatialfMRI/fMRI_data/spatialfMRI_nii/sub-01/func/sub-01_task-geo_run-13_echo-5_part-phase_sbref.json  is fixed\n",
      "/media/brain/Spatial/spatialfMRI/fMRI_data/spatialfMRI_nii/sub-01/func/sub-01_task-geo_run-13_echo-1_part-mag_bold.json  is fixed\n",
      "/media/brain/Spatial/spatialfMRI/fMRI_data/spatialfMRI_nii/sub-01/func/sub-01_task-geo_run-13_echo-2_part-mag_bold.json  is fixed\n",
      "/media/brain/Spatial/spatialfMRI/fMRI_data/spatialfMRI_nii/sub-01/func/sub-01_task-geo_run-13_echo-3_part-mag_bold.json  is fixed\n",
      "/media/brain/Spatial/spatialfMRI/fMRI_data/spatialfMRI_nii/sub-01/func/sub-01_task-geo_run-13_echo-4_part-mag_bold.json  is fixed\n",
      "/media/brain/Spatial/spatialfMRI/fMRI_data/spatialfMRI_nii/sub-01/func/sub-01_task-geo_run-13_echo-5_part-mag_bold.json  is fixed\n",
      "/media/brain/Spatial/spatialfMRI/fMRI_data/spatialfMRI_nii/sub-01/func/sub-01_task-geo_run-13_echo-1_part-phase_bold.json  is fixed\n",
      "/media/brain/Spatial/spatialfMRI/fMRI_data/spatialfMRI_nii/sub-01/func/sub-01_task-geo_run-13_echo-2_part-phase_bold.json  is fixed\n",
      "/media/brain/Spatial/spatialfMRI/fMRI_data/spatialfMRI_nii/sub-01/func/sub-01_task-geo_run-13_echo-3_part-phase_bold.json  is fixed\n",
      "/media/brain/Spatial/spatialfMRI/fMRI_data/spatialfMRI_nii/sub-01/func/sub-01_task-geo_run-13_echo-4_part-phase_bold.json  is fixed\n",
      "/media/brain/Spatial/spatialfMRI/fMRI_data/spatialfMRI_nii/sub-01/func/sub-01_task-geo_run-13_echo-5_part-phase_bold.json  is fixed\n"
     ]
    }
   ],
   "source": [
    "TaskDescriptions = {\n",
    "\n",
    "    'run-00': 'In the experiments, subjects watch a movie which may contain'\\\n",
    "        'views in a city or in the countryside as if they are sitting in a car.'\\\n",
    "        'They are asked to make simple judgments based on pictures that they'\\\n",
    "        'see using a button.',\n",
    "    \n",
    "    'run-01': 'In the experiments, subjects watch a movie which may contain'\\\n",
    "        'views in a city or in the countryside as if they are sitting in a car.'\\\n",
    "        'They are asked to make simple judgments based on pictures that they'\\\n",
    "        'see using a button.',\n",
    "    \n",
    "    'run-02': 'In the experiments, subjects watch a movie which may contain'\\\n",
    "        'views in a city or in the countryside as if they are sitting in a car.'\\\n",
    "        'They are asked to make simple judgments based on pictures that they'\\\n",
    "        'see using a button.',\n",
    "        \n",
    "    'run-03': 'In the experiments, subjects watch a movie which may contain'\\\n",
    "        'views in a city or in the countryside as if they are sitting in a car.'\\\n",
    "        'They are asked to make simple judgments based on pictures that they'\\\n",
    "        'see using a button.',\n",
    "\n",
    "    'run-04': 'In the experiments, subjects watch a movie which may contain'\\\n",
    "        'views in a city or in the countryside as if they are sitting in a car.'\\\n",
    "        'They are asked to make simple judgments based on pictures that they'\\\n",
    "        'see using a button.',\n",
    "\n",
    "    'run-05': 'In the experiments, subjects watch a movie which may contain'\\\n",
    "        'views in a city or in the countryside as if they are sitting in a car.'\\\n",
    "        'They are asked to make simple judgments based on pictures that they'\\\n",
    "        'see using a button.',\n",
    "\n",
    "    'run-06': 'In the experiments, subjects watch a movie which may contain'\\\n",
    "        'views in a city or in the countryside as if they are sitting in a car.'\\\n",
    "        'They are asked to make simple judgments based on pictures that they'\\\n",
    "        'see using a button.',\n",
    "\n",
    "    'run-07': 'In the experiments, subjects watch a movie which may contain'\\\n",
    "        'views in a city or in the countryside as if they are sitting in a car.'\\\n",
    "        'They are asked to make simple judgments based on pictures that they'\\\n",
    "        'see using a button.',\n",
    "    \n",
    "    'run-08': 'In the experiments, subjects watch a movie which may contain'\\\n",
    "        'views in a city or in the countryside as if they are sitting in a car.'\\\n",
    "        'They are asked to make simple judgments based on pictures that they'\\\n",
    "        'see using a button.',\n",
    "    \n",
    "    'run-09': 'In the experiments, subjects watch a movie which may contain'\\\n",
    "        'views in a city or in the countryside as if they are sitting in a car.'\\\n",
    "        'They are asked to make simple judgments based on pictures that they'\\\n",
    "        'see using a button.',\n",
    "        \n",
    "    'run-10': 'In the experiments, subjects watch a movie which may contain'\\\n",
    "        'views in a city or in the countryside as if they are sitting in a car.'\\\n",
    "        'They are asked to make simple judgments based on pictures that they'\\\n",
    "        'see using a button.',\n",
    "\n",
    "    'run-11': 'In the experiments, subjects watch a movie which may contain'\\\n",
    "        'views in a city or in the countryside as if they are sitting in a car.'\\\n",
    "        'They are asked to make simple judgments based on pictures that they'\\\n",
    "        'see using a button.',\n",
    "\n",
    "    'run-12': 'In the experiments, subjects watch a movie which may contain'\\\n",
    "        'views in a city or in the countryside as if they are sitting in a car.'\\\n",
    "        'They are asked to make simple judgments based on pictures that they'\\\n",
    "        'see using a button.',\n",
    "\n",
    "    'run-13': 'In the experiments, subjects watch a movie which may contain'\\\n",
    "        'views in a city or in the countryside as if they are sitting in a car.'\\\n",
    "        'They are asked to make simple judgments based on pictures that they'\\\n",
    "        'see using a button.',\n",
    "}\n",
    "\n",
    "CogAtlasIDs = {\n",
    "    'run-00': 'http://www.cognitiveatlas.org/task/id/trm_4f241173868a3/',\n",
    "    'run-01': 'http://www.cognitiveatlas.org/task/id/trm_4f241173868a3/',\n",
    "    'run-02': 'http://www.cognitiveatlas.org/task/id/trm_4f241173868a3/',\n",
    "    'run-03': 'http://www.cognitiveatlas.org/task/id/trm_4f241173868a3/',\n",
    "    'run-04': 'http://www.cognitiveatlas.org/task/id/trm_4f241173868a3/',\n",
    "    'run-05': 'http://www.cognitiveatlas.org/task/id/trm_4f241173868a3/',\n",
    "    'run-06': 'http://www.cognitiveatlas.org/task/id/trm_4f241173868a3/',\n",
    "    'run-07': 'http://www.cognitiveatlas.org/task/id/trm_4f241173868a3/',\n",
    "    'run-08': 'http://www.cognitiveatlas.org/task/id/trm_4f241173868a3/',\n",
    "    'run-09': 'http://www.cognitiveatlas.org/task/id/trm_4f241173868a3/',\n",
    "    'run-10': 'http://www.cognitiveatlas.org/task/id/trm_4f241173868a3/',\n",
    "    'run-11': 'http://www.cognitiveatlas.org/task/id/trm_4f241173868a3/',\n",
    "    'run-12': 'http://www.cognitiveatlas.org/task/id/trm_4f241173868a3/',\n",
    "    'run-13': 'http://www.cognitiveatlas.org/task/id/trm_4f241173868a3/',\n",
    "}\n",
    "\n",
    "for sub in sub_range:\n",
    "    sub_id = 'sub-{:02d}'.format(sub)\n",
    "    for run in range(0, 14):\n",
    "        run_id = 'run-{:02d}'.format(run)\n",
    "        for modality in ['part-mag_sbref', 'part-phase_sbref', 'part-mag_bold', 'part-phase_bold']:\n",
    "            for acq in ['ME5']:\n",
    "                for echo in range(1, n_echo + 1):\n",
    "                \n",
    "                    file = fMRI_data_dir+'spatialfMRI_nii/{sub}/func/{sub}_task-{task}_{run_id}_echo-{echo}_{mod}.json'.format(\n",
    "                        sub=sub_id, task=task, run_id=run_id, echo=echo, mod=modality)\n",
    "                    if osp.isfile(file):\n",
    "                        fix_json_TaskName(file, run_id, TaskDescriptions[run_id], CogAtlasIDs[run_id])\n",
    "                        print(file, ' is fixed')\n"
   ]
  },
  {
   "attachments": {},
   "cell_type": "markdown",
   "metadata": {},
   "source": [
    "## Work on SpinEcho data"
   ]
  },
  {
   "cell_type": "code",
   "execution_count": 15,
   "metadata": {},
   "outputs": [],
   "source": [
    "SpinEcho_dict = {\n",
    "    'sub-01': {\n",
    "        'ME5': [\n",
    "            {\n",
    "                'scanner_run_id': [29, 30],\n",
    "                'intendedfor': [\n",
    "                    \"task-geo_run-00_echo-{}_part-mag_sbref\",\n",
    "                    \"task-geo_run-00_echo-{}_part-mag_bold\",\n",
    "                    \"task-geo_run-00_echo-{}_part-phase_bold\",\n",
    "                    \"task-geo_run-01_echo-{}_part-mag_sbref\",\n",
    "                    \"task-geo_run-01_echo-{}_part-mag_bold\",\n",
    "                    \"task-geo_run-01_echo-{}_part-phase_bold\",\n",
    "                    \"task-geo_run-02_echo-{}_part-mag_sbref\",\n",
    "                    \"task-geo_run-02_echo-{}_part-mag_bold\",\n",
    "                    \"task-geo_run-02_echo-{}_part-phase_bold\",\n",
    "                    \"task-geo_run-03_echo-{}_part-mag_sbref\",\n",
    "                    \"task-geo_run-03_echo-{}_part-mag_bold\",\n",
    "                    \"task-geo_run-03_echo-{}_part-phase_bold\",\n",
    "                    \"task-geo_run-04_echo-{}_part-mag_sbref\",\n",
    "                    \"task-geo_run-04_echo-{}_part-mag_bold\",\n",
    "                    \"task-geo_run-04_echo-{}_part-phase_bold\",\n",
    "                    \"task-geo_run-05_echo-{}_part-mag_sbref\",\n",
    "                    \"task-geo_run-05_echo-{}_part-mag_bold\",\n",
    "                    \"task-geo_run-05_echo-{}_part-phase_bold\",\n",
    "                    \"task-geo_run-06_echo-{}_part-mag_sbref\",\n",
    "                    \"task-geo_run-06_echo-{}_part-mag_bold\",\n",
    "                    \"task-geo_run-06_echo-{}_part-phase_bold\",\n",
    "                    \"task-geo_run-07_echo-{}_part-mag_sbref\",\n",
    "                    \"task-geo_run-07_echo-{}_part-mag_bold\",\n",
    "                    \"task-geo_run-07_echo-{}_part-phase_bold\",\n",
    "                    \"task-geo_run-08_echo-{}_part-mag_sbref\",\n",
    "                    \"task-geo_run-08_echo-{}_part-mag_bold\",\n",
    "                    \"task-geo_run-08_echo-{}_part-phase_bold\",\n",
    "                    \"task-geo_run-09_echo-{}_part-mag_sbref\",\n",
    "                    \"task-geo_run-09_echo-{}_part-mag_bold\",\n",
    "                    \"task-geo_run-09_echo-{}_part-phase_bold\",\n",
    "                    \"task-geo_run-10_echo-{}_part-mag_sbref\",\n",
    "                    \"task-geo_run-10_echo-{}_part-mag_bold\",\n",
    "                    \"task-geo_run-10_echo-{}_part-phase_bold\",\n",
    "                    \"task-geo_run-11_echo-{}_part-mag_sbref\",\n",
    "                    \"task-geo_run-11_echo-{}_part-mag_bold\",\n",
    "                    \"task-geo_run-11_echo-{}_part-phase_bold\",\n",
    "                    \"task-geo_run-12_echo-{}_part-mag_sbref\",\n",
    "                    \"task-geo_run-12_echo-{}_part-mag_bold\",\n",
    "                    \"task-geo_run-12_echo-{}_part-phase_bold\",\n",
    "                    \"task-geo_run-13_echo-{}_part-mag_sbref\",\n",
    "                    \"task-geo_run-13_echo-{}_part-mag_bold\",\n",
    "                    \"task-geo_run-13_echo-{}_part-phase_bold\",\n",
    "                ]\n",
    "            }\n",
    "        ],\n",
    "    },\n",
    "}"
   ]
  },
  {
   "cell_type": "code",
   "execution_count": 16,
   "metadata": {},
   "outputs": [],
   "source": [
    "def move_SpinEcho_me(sub_id, acq, scanner_run_id, n_echo):\n",
    "\n",
    "    global all_files, nii_files, json_files\n",
    "    all_files = os.listdir(fMRI_data_dir+'spatialfMRI_dicom/{}/tmp/'.format(sub_id))\n",
    "    nii_files = [file for file in all_files for run in scanner_run_id if 'SpinEcho' in file\n",
    "                 and file.endswith('{}_1.nii.gz'.format(run))]\n",
    "    json_files = [file for file in all_files for run in scanner_run_id if 'SpinEcho' in file\n",
    "                 and file.endswith('{}_1.json'.format(run))]\n",
    "    \n",
    "    if len(nii_files) == 2 and len(json_files) == 2:\n",
    "        AP_nii_file = [file for file in nii_files if '_AP_' in file][0]\n",
    "        PA_nii_file = [file for file in nii_files if '_PA_' in file][0]\n",
    "        AP_json_file = [file for file in json_files if '_AP_' in file][0]\n",
    "        PA_json_file = [file for file in json_files if '_PA_' in file][0]\n",
    "        \n",
    "        with open(fMRI_data_dir+'spatialfMRI_dicom/{}/tmp/'.format(sub_id) + AP_json_file) as json_file:\n",
    "            json_decoded = json.load(json_file)\n",
    "            json_decoded['IntendedFor'] = [\n",
    "                'func/{sub_id}_{task}.nii.gz'.format(sub_id=sub_id, task=task.format(echo))\n",
    "                for echo in range(1, n_echo + 1) for task in SpinEcho_dict[sub_id][acq][0]['intendedfor']]\n",
    "        with open(fMRI_data_dir+'spatialfMRI_dicom/{}/tmp/'.format(sub_id) + AP_json_file, 'w') as json_file:\n",
    "            json.dump(json_decoded, json_file, indent=8)\n",
    "            \n",
    "        with open(fMRI_data_dir+'spatialfMRI_dicom/{}/tmp/'.format(sub_id) + PA_json_file) as json_file:\n",
    "            json_decoded = json.load(json_file)\n",
    "            json_decoded['IntendedFor'] = [\n",
    "                'func/{sub_id}_{task}.nii.gz'.format(sub_id=sub_id, task=task.format(echo))\n",
    "                for echo in range(1, n_echo + 1) for task in SpinEcho_dict[sub_id][acq][0]['intendedfor']]\n",
    "        with open(fMRI_data_dir+'spatialfMRI_dicom/{}/tmp/'.format(sub_id) + PA_json_file, 'w') as json_file:\n",
    "            json.dump(json_decoded, json_file, indent=8)\n",
    "                \n",
    "#             print(AP_json_decoded)\n",
    "        \n",
    "        shutil.move(fMRI_data_dir+'spatialfMRI_dicom/{}/tmp/'.format(sub_id)\n",
    "                   + AP_nii_file,\n",
    "                    fMRI_data_dir+'spatialfMRI_nii/{subj}/fmap/{subj}_acq-{acq}_dir-AP_epi.nii.gz'.format(\n",
    "                    subj=sub_id, acq=acq))\n",
    "        shutil.move(fMRI_data_dir+'spatialfMRI_dicom/{}/tmp/'.format(sub_id)\n",
    "                   + PA_nii_file,\n",
    "                    fMRI_data_dir+'spatialfMRI_nii/{subj}/fmap/{subj}_acq-{acq}_dir-PA_epi.nii.gz'.format(\n",
    "                    subj=sub_id, acq=acq))\n",
    "        \n",
    "        shutil.move(fMRI_data_dir+'spatialfMRI_dicom/{}/tmp/'.format(sub_id)\n",
    "                   + AP_json_file,\n",
    "                    fMRI_data_dir+'spatialfMRI_nii/{subj}/fmap/{subj}_acq-{acq}_dir-AP_epi.json'.format(\n",
    "                    subj=sub_id, acq=acq))\n",
    "        shutil.move(fMRI_data_dir+'spatialfMRI_dicom/{}/tmp/'.format(sub_id)\n",
    "                   + PA_json_file,\n",
    "                    fMRI_data_dir+'spatialfMRI_nii/{subj}/fmap/{subj}_acq-{acq}_dir-PA_epi.json'.format(\n",
    "                    subj=sub_id, acq=acq))\n",
    "\n",
    "    else:\n",
    "        print(\"I don't know how to deal with these files:\")\n",
    "        print(nii_files)\n",
    "        print(json_files)"
   ]
  },
  {
   "cell_type": "code",
   "execution_count": 17,
   "metadata": {},
   "outputs": [],
   "source": [
    "# sub_range = range(1, 2)\n",
    "n_echo = 5\n",
    "for sub in sub_range:\n",
    "    for acq in ['ME5']:\n",
    "        sub_id = 'sub-{:02d}'.format(sub)\n",
    "        scanner_run_id = SpinEcho_dict[sub_id][acq][0]['scanner_run_id']\n",
    "        move_SpinEcho_me(sub_id, acq, scanner_run_id, n_echo)\n"
   ]
  },
  {
   "cell_type": "code",
   "execution_count": null,
   "metadata": {},
   "outputs": [],
   "source": [
    "# sp.getoutput('3dinfo -nv ../data/Nifti_ME_benchmark/sub-002/func/sub-002_task-visual_acq-ME5_echo-5_bold.nii.gz')"
   ]
  },
  {
   "attachments": {},
   "cell_type": "markdown",
   "metadata": {},
   "source": [
    "## Fix the problem of unequal number of volumes across TEs"
   ]
  },
  {
   "cell_type": "code",
   "execution_count": 18,
   "metadata": {},
   "outputs": [],
   "source": [
    "# sub_range = range(0, 1)\n",
    "n_echo = 5\n",
    "os.environ['AFNI_NIFTI_TYPE_WARN']='NO'\n",
    "for sub in sub_range:\n",
    "    for acq in ['ME5']:\n",
    "        sub_id = 'sub-{:02d}'.format(sub)\n",
    "        for run in range(0, 14):\n",
    "            run_id = 'run-{:02d}'.format(run)\n",
    "            for modality in ['part-mag_sbref', 'part-phase_sbref', 'part-mag_bold', 'part-phase_bold']:\n",
    "                n_volume = []\n",
    "                for echo in range(1, n_echo + 1):\n",
    "                    filename = fMRI_data_dir+'spatialfMRI_nii/{sub_id}/func/{sub_id}_task-{task}_{run_id}_echo-{echo}_{modality}.nii.gz'.format(\n",
    "                        sub_id=sub_id, task=task, run_id=run_id, echo=echo, modality=modality)\n",
    "                    if osp.isfile(filename):\n",
    "                        n_volume.append(int(sp.getoutput('3dinfo -nv ' + filename)))\n",
    "                if np.unique(n_volume).size > 1 and len(n_volume) == n_echo:\n",
    "                    print(n_volume)\n",
    "                    n_keep = np.min(n_volume)\n",
    "                    print(n_keep)\n",
    "                    for echo in range(1, n_echo + 1):\n",
    "                        filename = fMRI_data_dir+'spatialfMRI_nii/{sub_id}/func/{sub_id}_task-{task}_{run_id}_echo-{echo}_{modality}.nii.gz'.format(\n",
    "                            sub_id=sub_id, task=task, run_id=run_id, echo=echo, modality=modality)\n",
    "                        new_filename = filename.replace('.nii.gz', '_fixed.nii.gz')\n",
    "                        command = \"3dTcat -prefix \" + new_filename + ' ' + filename + \"'[0..{}]'\".format(n_keep - 1)\n",
    "                        print(command)\n",
    "                        os.system(command)\n",
    "\n",
    "                        command = 'mv ' + new_filename + ' ' + filename\n",
    "                        print(command)\n",
    "                        os.system(command)"
   ]
  },
  {
   "attachments": {},
   "cell_type": "markdown",
   "metadata": {},
   "source": [
    "## Fix the problem of unequal number of volumes across runs"
   ]
  },
  {
   "cell_type": "code",
   "execution_count": 19,
   "metadata": {},
   "outputs": [
    {
     "name": "stderr",
     "output_type": "stream",
     "text": [
      "++ 3dTcat: AFNI version=AFNI_24.2.00 (Jul 15 2024) [64-bit]\n",
      "++ elapsed time = 23.3 s\n",
      "++ 3dTcat: AFNI version=AFNI_24.2.00 (Jul 15 2024) [64-bit]\n",
      "++ elapsed time = 20.4 s\n",
      "++ 3dTcat: AFNI version=AFNI_24.2.00 (Jul 15 2024) [64-bit]\n",
      "++ elapsed time = 19.6 s\n",
      "++ 3dTcat: AFNI version=AFNI_24.2.00 (Jul 15 2024) [64-bit]\n",
      "++ elapsed time = 18.4 s\n",
      "++ 3dTcat: AFNI version=AFNI_24.2.00 (Jul 15 2024) [64-bit]\n",
      "++ elapsed time = 18.0 s\n",
      "++ 3dTcat: AFNI version=AFNI_24.2.00 (Jul 15 2024) [64-bit]\n",
      "++ elapsed time = 35.3 s\n",
      "++ 3dTcat: AFNI version=AFNI_24.2.00 (Jul 15 2024) [64-bit]\n",
      "++ elapsed time = 36.4 s\n",
      "++ 3dTcat: AFNI version=AFNI_24.2.00 (Jul 15 2024) [64-bit]\n",
      "++ elapsed time = 36.7 s\n",
      "++ 3dTcat: AFNI version=AFNI_24.2.00 (Jul 15 2024) [64-bit]\n",
      "++ elapsed time = 36.8 s\n",
      "++ 3dTcat: AFNI version=AFNI_24.2.00 (Jul 15 2024) [64-bit]\n",
      "++ elapsed time = 36.8 s\n",
      "++ 3dTcat: AFNI version=AFNI_24.2.00 (Jul 15 2024) [64-bit]\n",
      "++ elapsed time = 23.4 s\n",
      "++ 3dTcat: AFNI version=AFNI_24.2.00 (Jul 15 2024) [64-bit]\n",
      "++ elapsed time = 20.4 s\n",
      "++ 3dTcat: AFNI version=AFNI_24.2.00 (Jul 15 2024) [64-bit]\n",
      "++ elapsed time = 19.6 s\n",
      "++ 3dTcat: AFNI version=AFNI_24.2.00 (Jul 15 2024) [64-bit]\n",
      "++ elapsed time = 18.5 s\n",
      "++ 3dTcat: AFNI version=AFNI_24.2.00 (Jul 15 2024) [64-bit]\n",
      "++ elapsed time = 17.8 s\n",
      "++ 3dTcat: AFNI version=AFNI_24.2.00 (Jul 15 2024) [64-bit]\n",
      "++ elapsed time = 35.5 s\n",
      "++ 3dTcat: AFNI version=AFNI_24.2.00 (Jul 15 2024) [64-bit]\n",
      "++ elapsed time = 36.4 s\n",
      "++ 3dTcat: AFNI version=AFNI_24.2.00 (Jul 15 2024) [64-bit]\n",
      "++ elapsed time = 36.7 s\n",
      "++ 3dTcat: AFNI version=AFNI_24.2.00 (Jul 15 2024) [64-bit]\n",
      "++ elapsed time = 36.8 s\n",
      "++ 3dTcat: AFNI version=AFNI_24.2.00 (Jul 15 2024) [64-bit]\n",
      "++ elapsed time = 36.9 s\n",
      "++ 3dTcat: AFNI version=AFNI_24.2.00 (Jul 15 2024) [64-bit]\n",
      "++ elapsed time = 23.6 s\n",
      "++ 3dTcat: AFNI version=AFNI_24.2.00 (Jul 15 2024) [64-bit]\n",
      "++ elapsed time = 20.6 s\n",
      "++ 3dTcat: AFNI version=AFNI_24.2.00 (Jul 15 2024) [64-bit]\n",
      "++ elapsed time = 19.8 s\n",
      "++ 3dTcat: AFNI version=AFNI_24.2.00 (Jul 15 2024) [64-bit]\n",
      "++ elapsed time = 18.6 s\n",
      "++ 3dTcat: AFNI version=AFNI_24.2.00 (Jul 15 2024) [64-bit]\n",
      "++ elapsed time = 17.8 s\n",
      "++ 3dTcat: AFNI version=AFNI_24.2.00 (Jul 15 2024) [64-bit]\n",
      "++ elapsed time = 35.3 s\n",
      "++ 3dTcat: AFNI version=AFNI_24.2.00 (Jul 15 2024) [64-bit]\n",
      "++ elapsed time = 36.3 s\n",
      "++ 3dTcat: AFNI version=AFNI_24.2.00 (Jul 15 2024) [64-bit]\n",
      "++ elapsed time = 36.6 s\n",
      "++ 3dTcat: AFNI version=AFNI_24.2.00 (Jul 15 2024) [64-bit]\n",
      "++ elapsed time = 36.7 s\n",
      "++ 3dTcat: AFNI version=AFNI_24.2.00 (Jul 15 2024) [64-bit]\n",
      "++ elapsed time = 36.7 s\n",
      "++ 3dTcat: AFNI version=AFNI_24.2.00 (Jul 15 2024) [64-bit]\n",
      "++ elapsed time = 23.4 s\n",
      "++ 3dTcat: AFNI version=AFNI_24.2.00 (Jul 15 2024) [64-bit]\n",
      "++ elapsed time = 20.4 s\n",
      "++ 3dTcat: AFNI version=AFNI_24.2.00 (Jul 15 2024) [64-bit]\n",
      "++ elapsed time = 19.7 s\n",
      "++ 3dTcat: AFNI version=AFNI_24.2.00 (Jul 15 2024) [64-bit]\n",
      "++ elapsed time = 18.5 s\n",
      "++ 3dTcat: AFNI version=AFNI_24.2.00 (Jul 15 2024) [64-bit]\n",
      "++ elapsed time = 17.8 s\n",
      "++ 3dTcat: AFNI version=AFNI_24.2.00 (Jul 15 2024) [64-bit]\n",
      "++ elapsed time = 35.7 s\n",
      "++ 3dTcat: AFNI version=AFNI_24.2.00 (Jul 15 2024) [64-bit]\n",
      "++ elapsed time = 36.6 s\n",
      "++ 3dTcat: AFNI version=AFNI_24.2.00 (Jul 15 2024) [64-bit]\n",
      "++ elapsed time = 36.7 s\n",
      "++ 3dTcat: AFNI version=AFNI_24.2.00 (Jul 15 2024) [64-bit]\n",
      "++ elapsed time = 36.9 s\n",
      "++ 3dTcat: AFNI version=AFNI_24.2.00 (Jul 15 2024) [64-bit]\n",
      "++ elapsed time = 37.1 s\n",
      "++ 3dTcat: AFNI version=AFNI_24.2.00 (Jul 15 2024) [64-bit]\n",
      "++ elapsed time = 23.3 s\n",
      "++ 3dTcat: AFNI version=AFNI_24.2.00 (Jul 15 2024) [64-bit]\n",
      "++ elapsed time = 20.5 s\n",
      "++ 3dTcat: AFNI version=AFNI_24.2.00 (Jul 15 2024) [64-bit]\n",
      "++ elapsed time = 19.7 s\n",
      "++ 3dTcat: AFNI version=AFNI_24.2.00 (Jul 15 2024) [64-bit]\n",
      "++ elapsed time = 18.5 s\n",
      "++ 3dTcat: AFNI version=AFNI_24.2.00 (Jul 15 2024) [64-bit]\n",
      "++ elapsed time = 17.9 s\n",
      "++ 3dTcat: AFNI version=AFNI_24.2.00 (Jul 15 2024) [64-bit]\n",
      "++ elapsed time = 35.6 s\n",
      "++ 3dTcat: AFNI version=AFNI_24.2.00 (Jul 15 2024) [64-bit]\n",
      "++ elapsed time = 36.4 s\n",
      "++ 3dTcat: AFNI version=AFNI_24.2.00 (Jul 15 2024) [64-bit]\n",
      "++ elapsed time = 36.5 s\n",
      "++ 3dTcat: AFNI version=AFNI_24.2.00 (Jul 15 2024) [64-bit]\n",
      "++ elapsed time = 36.7 s\n",
      "++ 3dTcat: AFNI version=AFNI_24.2.00 (Jul 15 2024) [64-bit]\n",
      "++ elapsed time = 36.9 s\n",
      "++ 3dTcat: AFNI version=AFNI_24.2.00 (Jul 15 2024) [64-bit]\n",
      "++ elapsed time = 23.4 s\n",
      "++ 3dTcat: AFNI version=AFNI_24.2.00 (Jul 15 2024) [64-bit]\n",
      "++ elapsed time = 20.4 s\n",
      "++ 3dTcat: AFNI version=AFNI_24.2.00 (Jul 15 2024) [64-bit]\n",
      "++ elapsed time = 19.7 s\n",
      "++ 3dTcat: AFNI version=AFNI_24.2.00 (Jul 15 2024) [64-bit]\n",
      "++ elapsed time = 18.5 s\n",
      "++ 3dTcat: AFNI version=AFNI_24.2.00 (Jul 15 2024) [64-bit]\n",
      "++ elapsed time = 18.2 s\n",
      "++ 3dTcat: AFNI version=AFNI_24.2.00 (Jul 15 2024) [64-bit]\n",
      "++ elapsed time = 35.7 s\n",
      "++ 3dTcat: AFNI version=AFNI_24.2.00 (Jul 15 2024) [64-bit]\n",
      "++ elapsed time = 36.4 s\n",
      "++ 3dTcat: AFNI version=AFNI_24.2.00 (Jul 15 2024) [64-bit]\n",
      "++ elapsed time = 36.6 s\n",
      "++ 3dTcat: AFNI version=AFNI_24.2.00 (Jul 15 2024) [64-bit]\n",
      "++ elapsed time = 36.9 s\n",
      "++ 3dTcat: AFNI version=AFNI_24.2.00 (Jul 15 2024) [64-bit]\n",
      "++ elapsed time = 36.8 s\n",
      "++ 3dTcat: AFNI version=AFNI_24.2.00 (Jul 15 2024) [64-bit]\n",
      "++ elapsed time = 23.1 s\n",
      "++ 3dTcat: AFNI version=AFNI_24.2.00 (Jul 15 2024) [64-bit]\n",
      "++ elapsed time = 20.3 s\n",
      "++ 3dTcat: AFNI version=AFNI_24.2.00 (Jul 15 2024) [64-bit]\n",
      "++ elapsed time = 19.6 s\n",
      "++ 3dTcat: AFNI version=AFNI_24.2.00 (Jul 15 2024) [64-bit]\n",
      "++ elapsed time = 18.4 s\n",
      "++ 3dTcat: AFNI version=AFNI_24.2.00 (Jul 15 2024) [64-bit]\n",
      "++ elapsed time = 17.8 s\n",
      "++ 3dTcat: AFNI version=AFNI_24.2.00 (Jul 15 2024) [64-bit]\n",
      "++ elapsed time = 35.6 s\n",
      "++ 3dTcat: AFNI version=AFNI_24.2.00 (Jul 15 2024) [64-bit]\n",
      "++ elapsed time = 36.4 s\n",
      "++ 3dTcat: AFNI version=AFNI_24.2.00 (Jul 15 2024) [64-bit]\n",
      "++ elapsed time = 36.8 s\n",
      "++ 3dTcat: AFNI version=AFNI_24.2.00 (Jul 15 2024) [64-bit]\n",
      "++ elapsed time = 36.9 s\n",
      "++ 3dTcat: AFNI version=AFNI_24.2.00 (Jul 15 2024) [64-bit]\n",
      "++ elapsed time = 36.9 s\n",
      "++ 3dTcat: AFNI version=AFNI_24.2.00 (Jul 15 2024) [64-bit]\n",
      "++ elapsed time = 22.9 s\n",
      "++ 3dTcat: AFNI version=AFNI_24.2.00 (Jul 15 2024) [64-bit]\n",
      "++ elapsed time = 20.2 s\n",
      "++ 3dTcat: AFNI version=AFNI_24.2.00 (Jul 15 2024) [64-bit]\n",
      "++ elapsed time = 19.7 s\n",
      "++ 3dTcat: AFNI version=AFNI_24.2.00 (Jul 15 2024) [64-bit]\n",
      "++ elapsed time = 18.4 s\n",
      "++ 3dTcat: AFNI version=AFNI_24.2.00 (Jul 15 2024) [64-bit]\n",
      "++ elapsed time = 17.7 s\n",
      "++ 3dTcat: AFNI version=AFNI_24.2.00 (Jul 15 2024) [64-bit]\n",
      "++ elapsed time = 35.8 s\n",
      "++ 3dTcat: AFNI version=AFNI_24.2.00 (Jul 15 2024) [64-bit]\n",
      "++ elapsed time = 36.5 s\n",
      "++ 3dTcat: AFNI version=AFNI_24.2.00 (Jul 15 2024) [64-bit]\n",
      "++ elapsed time = 36.7 s\n",
      "++ 3dTcat: AFNI version=AFNI_24.2.00 (Jul 15 2024) [64-bit]\n",
      "++ elapsed time = 36.7 s\n",
      "++ 3dTcat: AFNI version=AFNI_24.2.00 (Jul 15 2024) [64-bit]\n",
      "++ elapsed time = 36.8 s\n",
      "++ 3dTcat: AFNI version=AFNI_24.2.00 (Jul 15 2024) [64-bit]\n",
      "++ elapsed time = 22.9 s\n",
      "++ 3dTcat: AFNI version=AFNI_24.2.00 (Jul 15 2024) [64-bit]\n",
      "++ elapsed time = 20.2 s\n",
      "++ 3dTcat: AFNI version=AFNI_24.2.00 (Jul 15 2024) [64-bit]\n",
      "++ elapsed time = 19.5 s\n",
      "++ 3dTcat: AFNI version=AFNI_24.2.00 (Jul 15 2024) [64-bit]\n",
      "++ elapsed time = 18.3 s\n",
      "++ 3dTcat: AFNI version=AFNI_24.2.00 (Jul 15 2024) [64-bit]\n",
      "++ elapsed time = 17.7 s\n",
      "++ 3dTcat: AFNI version=AFNI_24.2.00 (Jul 15 2024) [64-bit]\n",
      "++ elapsed time = 35.6 s\n",
      "++ 3dTcat: AFNI version=AFNI_24.2.00 (Jul 15 2024) [64-bit]\n",
      "++ elapsed time = 36.5 s\n",
      "++ 3dTcat: AFNI version=AFNI_24.2.00 (Jul 15 2024) [64-bit]\n",
      "++ elapsed time = 36.7 s\n",
      "++ 3dTcat: AFNI version=AFNI_24.2.00 (Jul 15 2024) [64-bit]\n",
      "++ elapsed time = 36.9 s\n",
      "++ 3dTcat: AFNI version=AFNI_24.2.00 (Jul 15 2024) [64-bit]\n",
      "++ elapsed time = 37.1 s\n",
      "++ 3dTcat: AFNI version=AFNI_24.2.00 (Jul 15 2024) [64-bit]\n",
      "++ elapsed time = 23.0 s\n",
      "++ 3dTcat: AFNI version=AFNI_24.2.00 (Jul 15 2024) [64-bit]\n",
      "++ elapsed time = 20.2 s\n",
      "++ 3dTcat: AFNI version=AFNI_24.2.00 (Jul 15 2024) [64-bit]\n",
      "++ elapsed time = 19.7 s\n",
      "++ 3dTcat: AFNI version=AFNI_24.2.00 (Jul 15 2024) [64-bit]\n",
      "++ elapsed time = 18.4 s\n",
      "++ 3dTcat: AFNI version=AFNI_24.2.00 (Jul 15 2024) [64-bit]\n",
      "++ elapsed time = 17.8 s\n",
      "++ 3dTcat: AFNI version=AFNI_24.2.00 (Jul 15 2024) [64-bit]\n",
      "++ elapsed time = 35.8 s\n",
      "++ 3dTcat: AFNI version=AFNI_24.2.00 (Jul 15 2024) [64-bit]\n",
      "++ elapsed time = 36.9 s\n",
      "++ 3dTcat: AFNI version=AFNI_24.2.00 (Jul 15 2024) [64-bit]\n",
      "++ elapsed time = 36.7 s\n",
      "++ 3dTcat: AFNI version=AFNI_24.2.00 (Jul 15 2024) [64-bit]\n",
      "++ elapsed time = 36.7 s\n",
      "++ 3dTcat: AFNI version=AFNI_24.2.00 (Jul 15 2024) [64-bit]\n",
      "++ elapsed time = 36.8 s\n",
      "++ 3dTcat: AFNI version=AFNI_24.2.00 (Jul 15 2024) [64-bit]\n",
      "++ elapsed time = 23.0 s\n",
      "++ 3dTcat: AFNI version=AFNI_24.2.00 (Jul 15 2024) [64-bit]\n",
      "++ elapsed time = 20.2 s\n",
      "++ 3dTcat: AFNI version=AFNI_24.2.00 (Jul 15 2024) [64-bit]\n",
      "++ elapsed time = 19.5 s\n",
      "++ 3dTcat: AFNI version=AFNI_24.2.00 (Jul 15 2024) [64-bit]\n",
      "++ elapsed time = 18.4 s\n",
      "++ 3dTcat: AFNI version=AFNI_24.2.00 (Jul 15 2024) [64-bit]\n",
      "++ elapsed time = 17.7 s\n",
      "++ 3dTcat: AFNI version=AFNI_24.2.00 (Jul 15 2024) [64-bit]\n",
      "++ elapsed time = 35.7 s\n",
      "++ 3dTcat: AFNI version=AFNI_24.2.00 (Jul 15 2024) [64-bit]\n",
      "++ elapsed time = 36.5 s\n",
      "++ 3dTcat: AFNI version=AFNI_24.2.00 (Jul 15 2024) [64-bit]\n",
      "++ elapsed time = 36.7 s\n",
      "++ 3dTcat: AFNI version=AFNI_24.2.00 (Jul 15 2024) [64-bit]\n",
      "++ elapsed time = 36.8 s\n",
      "++ 3dTcat: AFNI version=AFNI_24.2.00 (Jul 15 2024) [64-bit]\n",
      "++ elapsed time = 36.9 s\n",
      "++ 3dTcat: AFNI version=AFNI_24.2.00 (Jul 15 2024) [64-bit]\n",
      "++ elapsed time = 23.0 s\n",
      "++ 3dTcat: AFNI version=AFNI_24.2.00 (Jul 15 2024) [64-bit]\n",
      "++ elapsed time = 20.3 s\n",
      "++ 3dTcat: AFNI version=AFNI_24.2.00 (Jul 15 2024) [64-bit]\n",
      "++ elapsed time = 19.5 s\n",
      "++ 3dTcat: AFNI version=AFNI_24.2.00 (Jul 15 2024) [64-bit]\n",
      "++ elapsed time = 18.4 s\n",
      "++ 3dTcat: AFNI version=AFNI_24.2.00 (Jul 15 2024) [64-bit]\n",
      "++ elapsed time = 17.7 s\n",
      "++ 3dTcat: AFNI version=AFNI_24.2.00 (Jul 15 2024) [64-bit]\n",
      "++ elapsed time = 35.7 s\n",
      "++ 3dTcat: AFNI version=AFNI_24.2.00 (Jul 15 2024) [64-bit]\n",
      "++ elapsed time = 36.4 s\n",
      "++ 3dTcat: AFNI version=AFNI_24.2.00 (Jul 15 2024) [64-bit]\n",
      "++ elapsed time = 36.6 s\n",
      "++ 3dTcat: AFNI version=AFNI_24.2.00 (Jul 15 2024) [64-bit]\n",
      "++ elapsed time = 36.7 s\n",
      "++ 3dTcat: AFNI version=AFNI_24.2.00 (Jul 15 2024) [64-bit]\n",
      "++ elapsed time = 36.8 s\n",
      "++ 3dTcat: AFNI version=AFNI_24.2.00 (Jul 15 2024) [64-bit]\n",
      "++ elapsed time = 22.9 s\n",
      "++ 3dTcat: AFNI version=AFNI_24.2.00 (Jul 15 2024) [64-bit]\n",
      "++ elapsed time = 20.2 s\n",
      "++ 3dTcat: AFNI version=AFNI_24.2.00 (Jul 15 2024) [64-bit]\n",
      "++ elapsed time = 19.5 s\n",
      "++ 3dTcat: AFNI version=AFNI_24.2.00 (Jul 15 2024) [64-bit]\n",
      "++ elapsed time = 18.4 s\n",
      "++ 3dTcat: AFNI version=AFNI_24.2.00 (Jul 15 2024) [64-bit]\n",
      "++ elapsed time = 17.9 s\n",
      "++ 3dTcat: AFNI version=AFNI_24.2.00 (Jul 15 2024) [64-bit]\n",
      "++ elapsed time = 36.0 s\n",
      "++ 3dTcat: AFNI version=AFNI_24.2.00 (Jul 15 2024) [64-bit]\n",
      "++ elapsed time = 36.6 s\n",
      "++ 3dTcat: AFNI version=AFNI_24.2.00 (Jul 15 2024) [64-bit]\n",
      "++ elapsed time = 36.8 s\n",
      "++ 3dTcat: AFNI version=AFNI_24.2.00 (Jul 15 2024) [64-bit]\n",
      "++ elapsed time = 37.0 s\n",
      "++ 3dTcat: AFNI version=AFNI_24.2.00 (Jul 15 2024) [64-bit]\n",
      "++ elapsed time = 36.9 s\n",
      "++ 3dTcat: AFNI version=AFNI_24.2.00 (Jul 15 2024) [64-bit]\n",
      "++ elapsed time = 22.9 s\n",
      "++ 3dTcat: AFNI version=AFNI_24.2.00 (Jul 15 2024) [64-bit]\n",
      "++ elapsed time = 20.0 s\n",
      "++ 3dTcat: AFNI version=AFNI_24.2.00 (Jul 15 2024) [64-bit]\n",
      "++ elapsed time = 19.4 s\n",
      "++ 3dTcat: AFNI version=AFNI_24.2.00 (Jul 15 2024) [64-bit]\n",
      "++ elapsed time = 18.5 s\n",
      "++ 3dTcat: AFNI version=AFNI_24.2.00 (Jul 15 2024) [64-bit]\n",
      "++ elapsed time = 17.7 s\n",
      "++ 3dTcat: AFNI version=AFNI_24.2.00 (Jul 15 2024) [64-bit]\n",
      "++ elapsed time = 35.7 s\n",
      "++ 3dTcat: AFNI version=AFNI_24.2.00 (Jul 15 2024) [64-bit]\n",
      "++ elapsed time = 36.4 s\n",
      "++ 3dTcat: AFNI version=AFNI_24.2.00 (Jul 15 2024) [64-bit]\n",
      "++ elapsed time = 36.7 s\n",
      "++ 3dTcat: AFNI version=AFNI_24.2.00 (Jul 15 2024) [64-bit]\n",
      "++ elapsed time = 36.8 s\n",
      "++ 3dTcat: AFNI version=AFNI_24.2.00 (Jul 15 2024) [64-bit]\n",
      "++ elapsed time = 37.0 s\n"
     ]
    }
   ],
   "source": [
    "# time duration: 4(fixation) + 5m*60(video) + 10(fixation) + (3(Q)+1.5(A)+0.5(F))*2 + 10(fixation) = 334s\n",
    "# length of TR: 334/1.5=222.7≈223 TR\n",
    "# set the max is 223 TR\n",
    "n_keep = 223\n",
    "n_echo = 5\n",
    "os.environ['AFNI_NIFTI_TYPE_WARN']='NO'\n",
    "for sub in sub_range:\n",
    "    for acq in ['ME5']:\n",
    "        sub_id = 'sub-{:02d}'.format(sub)\n",
    "        for run in range(0, 14):\n",
    "            run_id = 'run-{:02d}'.format(run)\n",
    "            n_volume = []\n",
    "            for modality in ['part-mag_sbref', 'part-phase_sbref', 'part-mag_bold', 'part-phase_bold']:\n",
    "                for echo in range(1, n_echo + 1):\n",
    "                    filename = fMRI_data_dir+'spatialfMRI_nii/{sub_id}/func/{sub_id}_task-{task}_{run_id}_echo-{echo}_{modality}.nii.gz'.format(\n",
    "                        sub_id=sub_id, task=task, run_id=run_id, echo=echo, modality=modality)\n",
    "                    if osp.isfile(filename):\n",
    "                        num_tr = int(sp.getoutput('3dinfo -nv ' + filename))\n",
    "                        if num_tr == 1: continue\n",
    "                        # n_volume.append(int(sp.getoutput('3dinfo -nv ' + filename)))\n",
    "\n",
    "                    new_filename = filename.replace('.nii.gz', '_fixed.nii.gz')\n",
    "                    command = \"3dTcat -prefix \" + new_filename + ' ' + filename + \"'[0..{}]'\".format(n_keep - 1)\n",
    "                    # print(command)\n",
    "                    os.system(command)\n",
    "\n",
    "                    command = 'mv ' + new_filename + ' ' + filename\n",
    "                    # print(command)\n",
    "                    os.system(command)\n"
   ]
  },
  {
   "attachments": {},
   "cell_type": "markdown",
   "metadata": {},
   "source": [
    "# Add slice timing"
   ]
  },
  {
   "cell_type": "code",
   "execution_count": 20,
   "metadata": {},
   "outputs": [
    {
     "data": {
      "application/javascript": "IPython.notebook.set_autosave_interval(5000)"
     },
     "metadata": {},
     "output_type": "display_data"
    },
    {
     "name": "stdout",
     "output_type": "stream",
     "text": [
      "Autosaving every 5 seconds\n"
     ]
    }
   ],
   "source": [
    "import json\n",
    "import numpy as np\n",
    "import os\n",
    "import sys\n",
    "import os.path as osp\n",
    "import shutil\n",
    "import subprocess\n",
    "import json\n",
    "%autosave 5"
   ]
  },
  {
   "cell_type": "code",
   "execution_count": 21,
   "metadata": {},
   "outputs": [
    {
     "name": "stderr",
     "output_type": "stream",
     "text": [
      "++ 3drefit: AFNI version=AFNI_24.2.00 (Jul 15 2024) [64-bit]\n",
      "++ Authored by: RW Cox\n",
      "++ Processing AFNI dataset /media/brain/Spatial/spatialfMRI/fMRI_data/spatialfMRI_nii/sub-01/func/sub-01_task-geo_run-00_echo-1_part-mag_sbref.nii.gz\n",
      "\u001b[7m*+ WARNING:\u001b[0m -Tslices: dataset has no time axis to add slice offset to!\n",
      " + Didn't make any changes for dataset /media/brain/Spatial/spatialfMRI/fMRI_data/spatialfMRI_nii/sub-01/func/sub-01_task-geo_run-00_echo-1_part-mag_sbref.nii.gz !\n",
      "++ 3drefit processed 1 datasets\n",
      "++ 3drefit: AFNI version=AFNI_24.2.00 (Jul 15 2024) [64-bit]\n",
      "++ Authored by: RW Cox\n",
      "++ Processing AFNI dataset /media/brain/Spatial/spatialfMRI/fMRI_data/spatialfMRI_nii/sub-01/func/sub-01_task-geo_run-00_echo-2_part-mag_sbref.nii.gz\n",
      "\u001b[7m*+ WARNING:\u001b[0m -Tslices: dataset has no time axis to add slice offset to!\n",
      " + Didn't make any changes for dataset /media/brain/Spatial/spatialfMRI/fMRI_data/spatialfMRI_nii/sub-01/func/sub-01_task-geo_run-00_echo-2_part-mag_sbref.nii.gz !\n",
      "++ 3drefit processed 1 datasets\n",
      "++ 3drefit: AFNI version=AFNI_24.2.00 (Jul 15 2024) [64-bit]\n",
      "++ Authored by: RW Cox\n",
      "++ Processing AFNI dataset /media/brain/Spatial/spatialfMRI/fMRI_data/spatialfMRI_nii/sub-01/func/sub-01_task-geo_run-00_echo-3_part-mag_sbref.nii.gz\n",
      "\u001b[7m*+ WARNING:\u001b[0m -Tslices: dataset has no time axis to add slice offset to!\n",
      " + Didn't make any changes for dataset /media/brain/Spatial/spatialfMRI/fMRI_data/spatialfMRI_nii/sub-01/func/sub-01_task-geo_run-00_echo-3_part-mag_sbref.nii.gz !\n",
      "++ 3drefit processed 1 datasets\n",
      "++ 3drefit: AFNI version=AFNI_24.2.00 (Jul 15 2024) [64-bit]\n",
      "++ Authored by: RW Cox\n",
      "++ Processing AFNI dataset /media/brain/Spatial/spatialfMRI/fMRI_data/spatialfMRI_nii/sub-01/func/sub-01_task-geo_run-00_echo-4_part-mag_sbref.nii.gz\n",
      "\u001b[7m*+ WARNING:\u001b[0m -Tslices: dataset has no time axis to add slice offset to!\n",
      " + Didn't make any changes for dataset /media/brain/Spatial/spatialfMRI/fMRI_data/spatialfMRI_nii/sub-01/func/sub-01_task-geo_run-00_echo-4_part-mag_sbref.nii.gz !\n",
      "++ 3drefit processed 1 datasets\n",
      "++ 3drefit: AFNI version=AFNI_24.2.00 (Jul 15 2024) [64-bit]\n",
      "++ Authored by: RW Cox\n",
      "++ Processing AFNI dataset /media/brain/Spatial/spatialfMRI/fMRI_data/spatialfMRI_nii/sub-01/func/sub-01_task-geo_run-00_echo-5_part-mag_sbref.nii.gz\n",
      "\u001b[7m*+ WARNING:\u001b[0m -Tslices: dataset has no time axis to add slice offset to!\n",
      " + Didn't make any changes for dataset /media/brain/Spatial/spatialfMRI/fMRI_data/spatialfMRI_nii/sub-01/func/sub-01_task-geo_run-00_echo-5_part-mag_sbref.nii.gz !\n",
      "++ 3drefit processed 1 datasets\n",
      "++ 3drefit: AFNI version=AFNI_24.2.00 (Jul 15 2024) [64-bit]\n",
      "++ Authored by: RW Cox\n",
      "++ Processing AFNI dataset /media/brain/Spatial/spatialfMRI/fMRI_data/spatialfMRI_nii/sub-01/func/sub-01_task-geo_run-00_echo-1_part-phase_sbref.nii.gz\n",
      "\u001b[7m*+ WARNING:\u001b[0m -Tslices: dataset has no time axis to add slice offset to!\n",
      " + Didn't make any changes for dataset /media/brain/Spatial/spatialfMRI/fMRI_data/spatialfMRI_nii/sub-01/func/sub-01_task-geo_run-00_echo-1_part-phase_sbref.nii.gz !\n",
      "++ 3drefit processed 1 datasets\n",
      "++ 3drefit: AFNI version=AFNI_24.2.00 (Jul 15 2024) [64-bit]\n",
      "++ Authored by: RW Cox\n",
      "++ Processing AFNI dataset /media/brain/Spatial/spatialfMRI/fMRI_data/spatialfMRI_nii/sub-01/func/sub-01_task-geo_run-00_echo-2_part-phase_sbref.nii.gz\n",
      "\u001b[7m*+ WARNING:\u001b[0m -Tslices: dataset has no time axis to add slice offset to!\n",
      " + Didn't make any changes for dataset /media/brain/Spatial/spatialfMRI/fMRI_data/spatialfMRI_nii/sub-01/func/sub-01_task-geo_run-00_echo-2_part-phase_sbref.nii.gz !\n",
      "++ 3drefit processed 1 datasets\n",
      "++ 3drefit: AFNI version=AFNI_24.2.00 (Jul 15 2024) [64-bit]\n",
      "++ Authored by: RW Cox\n",
      "++ Processing AFNI dataset /media/brain/Spatial/spatialfMRI/fMRI_data/spatialfMRI_nii/sub-01/func/sub-01_task-geo_run-00_echo-3_part-phase_sbref.nii.gz\n",
      "\u001b[7m*+ WARNING:\u001b[0m -Tslices: dataset has no time axis to add slice offset to!\n",
      " + Didn't make any changes for dataset /media/brain/Spatial/spatialfMRI/fMRI_data/spatialfMRI_nii/sub-01/func/sub-01_task-geo_run-00_echo-3_part-phase_sbref.nii.gz !\n",
      "++ 3drefit processed 1 datasets\n",
      "++ 3drefit: AFNI version=AFNI_24.2.00 (Jul 15 2024) [64-bit]\n",
      "++ Authored by: RW Cox\n",
      "++ Processing AFNI dataset /media/brain/Spatial/spatialfMRI/fMRI_data/spatialfMRI_nii/sub-01/func/sub-01_task-geo_run-00_echo-4_part-phase_sbref.nii.gz\n",
      "\u001b[7m*+ WARNING:\u001b[0m -Tslices: dataset has no time axis to add slice offset to!\n",
      " + Didn't make any changes for dataset /media/brain/Spatial/spatialfMRI/fMRI_data/spatialfMRI_nii/sub-01/func/sub-01_task-geo_run-00_echo-4_part-phase_sbref.nii.gz !\n",
      "++ 3drefit processed 1 datasets\n",
      "++ 3drefit: AFNI version=AFNI_24.2.00 (Jul 15 2024) [64-bit]\n",
      "++ Authored by: RW Cox\n",
      "++ Processing AFNI dataset /media/brain/Spatial/spatialfMRI/fMRI_data/spatialfMRI_nii/sub-01/func/sub-01_task-geo_run-00_echo-5_part-phase_sbref.nii.gz\n",
      "\u001b[7m*+ WARNING:\u001b[0m -Tslices: dataset has no time axis to add slice offset to!\n",
      " + Didn't make any changes for dataset /media/brain/Spatial/spatialfMRI/fMRI_data/spatialfMRI_nii/sub-01/func/sub-01_task-geo_run-00_echo-5_part-phase_sbref.nii.gz !\n",
      "++ 3drefit processed 1 datasets\n",
      "++ 3drefit: AFNI version=AFNI_24.2.00 (Jul 15 2024) [64-bit]\n",
      "++ Authored by: RW Cox\n"
     ]
    },
    {
     "name": "stdout",
     "output_type": "stream",
     "text": [
      "0 0.165 0.3275 0.4925 0.6575 0.8225 0.985 1.15 1.315 1.48 1.645 1.8075 1.9725 2.1375 2.3025 2.465 2.63 2.795 2.96 3.125 3.2875 3.4525 3.6175 3.7825 3.945 4.11 4.275 4.44 4.605 4.7675 4.9325 5.0975 5.2625 5.425 5.59 5.755 5.92 6.0825 6.2475 6.4125 6.5775 6.7425 6.905 7.07 7.235\n",
      "0 0.165 0.3275 0.4925 0.6575 0.8225 0.985 1.15 1.315 1.48 1.645 1.8075 1.9725 2.1375 2.3025 2.465 2.63 2.795 2.96 3.125 3.2875 3.4525 3.6175 3.7825 3.945 4.11 4.275 4.44 4.605 4.7675 4.9325 5.0975 5.2625 5.425 5.59 5.755 5.92 6.0825 6.2475 6.4125 6.5775 6.7425 6.905 7.07 7.235\n",
      "0 0.165 0.3275 0.4925 0.6575 0.8225 0.985 1.15 1.315 1.48 1.645 1.8075 1.9725 2.1375 2.3025 2.465 2.63 2.795 2.96 3.125 3.2875 3.4525 3.6175 3.7825 3.945 4.11 4.275 4.44 4.605 4.7675 4.9325 5.0975 5.2625 5.425 5.59 5.755 5.92 6.0825 6.2475 6.4125 6.5775 6.7425 6.905 7.07 7.235\n",
      "0 0.165 0.3275 0.4925 0.6575 0.8225 0.985 1.15 1.315 1.48 1.645 1.8075 1.9725 2.1375 2.3025 2.465 2.63 2.795 2.96 3.125 3.2875 3.4525 3.6175 3.7825 3.945 4.11 4.275 4.44 4.605 4.7675 4.9325 5.0975 5.2625 5.425 5.59 5.755 5.92 6.0825 6.2475 6.4125 6.5775 6.7425 6.905 7.07 7.235\n",
      "0 0.165 0.3275 0.4925 0.6575 0.8225 0.985 1.15 1.315 1.48 1.645 1.8075 1.9725 2.1375 2.3025 2.465 2.63 2.795 2.96 3.125 3.2875 3.4525 3.6175 3.7825 3.945 4.11 4.275 4.44 4.605 4.7675 4.9325 5.0975 5.2625 5.425 5.59 5.755 5.92 6.085 6.2475 6.4125 6.5775 6.7425 6.905 7.07 7.235\n",
      "0 0.165 0.3275 0.4925 0.6575 0.8225 0.985 1.15 1.315 1.48 1.645 1.8075 1.9725 2.1375 2.3025 2.465 2.63 2.795 2.96 3.125 3.2875 3.4525 3.6175 3.7825 3.945 4.11 4.275 4.44 4.605 4.7675 4.9325 5.0975 5.2625 5.425 5.59 5.755 5.92 6.0825 6.2475 6.4125 6.5775 6.7425 6.905 7.07 7.235\n",
      "0 0.165 0.3275 0.4925 0.6575 0.8225 0.985 1.15 1.315 1.48 1.645 1.8075 1.9725 2.1375 2.3025 2.465 2.63 2.795 2.96 3.125 3.2875 3.4525 3.6175 3.7825 3.945 4.11 4.275 4.44 4.605 4.7675 4.9325 5.0975 5.2625 5.425 5.59 5.755 5.92 6.0825 6.2475 6.4125 6.5775 6.7425 6.905 7.07 7.235\n",
      "0 0.165 0.3275 0.4925 0.6575 0.8225 0.985 1.15 1.315 1.48 1.645 1.8075 1.9725 2.1375 2.3025 2.465 2.63 2.795 2.96 3.125 3.2875 3.4525 3.6175 3.7825 3.945 4.11 4.275 4.44 4.605 4.7675 4.9325 5.0975 5.2625 5.425 5.59 5.755 5.92 6.0825 6.2475 6.4125 6.5775 6.7425 6.905 7.07 7.235\n",
      "0 0.165 0.3275 0.4925 0.6575 0.8225 0.985 1.15 1.315 1.48 1.645 1.8075 1.9725 2.1375 2.3025 2.465 2.63 2.795 2.96 3.125 3.2875 3.4525 3.6175 3.7825 3.945 4.11 4.275 4.44 4.605 4.7675 4.9325 5.0975 5.2625 5.425 5.59 5.755 5.92 6.0825 6.2475 6.4125 6.5775 6.7425 6.905 7.07 7.235\n",
      "0 0.165 0.3275 0.4925 0.6575 0.8225 0.985 1.15 1.315 1.48 1.645 1.8075 1.9725 2.1375 2.3025 2.465 2.63 2.795 2.96 3.125 3.2875 3.4525 3.6175 3.7825 3.945 4.11 4.275 4.44 4.605 4.7675 4.9325 5.0975 5.2625 5.425 5.59 5.755 5.92 6.085 6.2475 6.4125 6.5775 6.7425 6.905 7.07 7.235\n",
      "0 0.8225 0.165 0.985 0.3275 1.15 0.4925 1.315 0.6575 0 0.8225 0.165 0.985 0.3275 1.15 0.4925 1.315 0.6575 0 0.8225 0.165 0.985 0.3275 1.15 0.4925 1.315 0.6575 0 0.8225 0.165 0.985 0.3275 1.15 0.4925 1.315 0.6575 0 0.8225 0.165 0.985 0.3275 1.15 0.4925 1.315 0.6575\n"
     ]
    },
    {
     "name": "stderr",
     "output_type": "stream",
     "text": [
      "++ Processing AFNI dataset /media/brain/Spatial/spatialfMRI/fMRI_data/spatialfMRI_nii/sub-01/func/sub-01_task-geo_run-00_echo-1_part-mag_bold.nii.gz\n",
      " + setting slice time offsets\n",
      " + loading and re-writing dataset /media/brain/Spatial/spatialfMRI/fMRI_data/spatialfMRI_nii/sub-01/func/sub-01_task-geo_run-00_echo-1_part-mag_bold.nii.gz (/media/brain/Spatial/spatialfMRI/fMRI_data/spatialfMRI_nii/sub-01/func/sub-01_task-geo_run-00_echo-1_part-mag_bold.nii.gz in NIFTI storage)\n",
      "++ 3drefit processed 1 datasets\n",
      "++ 3drefit: AFNI version=AFNI_24.2.00 (Jul 15 2024) [64-bit]\n",
      "++ Authored by: RW Cox\n",
      "++ Processing AFNI dataset /media/brain/Spatial/spatialfMRI/fMRI_data/spatialfMRI_nii/sub-01/func/sub-01_task-geo_run-00_echo-2_part-mag_bold.nii.gz\n",
      " + setting slice time offsets\n",
      " + loading and re-writing dataset /media/brain/Spatial/spatialfMRI/fMRI_data/spatialfMRI_nii/sub-01/func/sub-01_task-geo_run-00_echo-2_part-mag_bold.nii.gz (/media/brain/Spatial/spatialfMRI/fMRI_data/spatialfMRI_nii/sub-01/func/sub-01_task-geo_run-00_echo-2_part-mag_bold.nii.gz in NIFTI storage)\n"
     ]
    },
    {
     "name": "stdout",
     "output_type": "stream",
     "text": [
      "0 0.8225 0.165 0.985 0.3275 1.15 0.4925 1.315 0.6575 0 0.8225 0.165 0.985 0.3275 1.15 0.4925 1.315 0.6575 0 0.8225 0.165 0.985 0.3275 1.15 0.4925 1.315 0.6575 0 0.8225 0.165 0.985 0.3275 1.15 0.4925 1.315 0.6575 0 0.8225 0.165 0.985 0.3275 1.15 0.4925 1.315 0.6575\n"
     ]
    },
    {
     "name": "stderr",
     "output_type": "stream",
     "text": [
      "++ 3drefit processed 1 datasets\n",
      "++ 3drefit: AFNI version=AFNI_24.2.00 (Jul 15 2024) [64-bit]\n",
      "++ Authored by: RW Cox\n",
      "++ Processing AFNI dataset /media/brain/Spatial/spatialfMRI/fMRI_data/spatialfMRI_nii/sub-01/func/sub-01_task-geo_run-00_echo-3_part-mag_bold.nii.gz\n",
      " + setting slice time offsets\n",
      " + loading and re-writing dataset /media/brain/Spatial/spatialfMRI/fMRI_data/spatialfMRI_nii/sub-01/func/sub-01_task-geo_run-00_echo-3_part-mag_bold.nii.gz (/media/brain/Spatial/spatialfMRI/fMRI_data/spatialfMRI_nii/sub-01/func/sub-01_task-geo_run-00_echo-3_part-mag_bold.nii.gz in NIFTI storage)\n"
     ]
    },
    {
     "name": "stdout",
     "output_type": "stream",
     "text": [
      "0 0.8225 0.165 0.985 0.3275 1.15 0.4925 1.315 0.6575 0 0.8225 0.165 0.985 0.3275 1.15 0.4925 1.315 0.6575 0 0.8225 0.165 0.985 0.3275 1.15 0.4925 1.315 0.6575 0 0.8225 0.165 0.985 0.3275 1.15 0.4925 1.315 0.6575 0 0.8225 0.165 0.985 0.3275 1.15 0.4925 1.315 0.6575\n"
     ]
    },
    {
     "name": "stderr",
     "output_type": "stream",
     "text": [
      "++ 3drefit processed 1 datasets\n",
      "++ 3drefit: AFNI version=AFNI_24.2.00 (Jul 15 2024) [64-bit]\n",
      "++ Authored by: RW Cox\n",
      "++ Processing AFNI dataset /media/brain/Spatial/spatialfMRI/fMRI_data/spatialfMRI_nii/sub-01/func/sub-01_task-geo_run-00_echo-4_part-mag_bold.nii.gz\n",
      " + setting slice time offsets\n",
      " + loading and re-writing dataset /media/brain/Spatial/spatialfMRI/fMRI_data/spatialfMRI_nii/sub-01/func/sub-01_task-geo_run-00_echo-4_part-mag_bold.nii.gz (/media/brain/Spatial/spatialfMRI/fMRI_data/spatialfMRI_nii/sub-01/func/sub-01_task-geo_run-00_echo-4_part-mag_bold.nii.gz in NIFTI storage)\n"
     ]
    },
    {
     "name": "stdout",
     "output_type": "stream",
     "text": [
      "0 0.8225 0.165 0.985 0.3275 1.15 0.4925 1.315 0.6575 0 0.8225 0.165 0.985 0.3275 1.15 0.4925 1.315 0.6575 0 0.8225 0.165 0.985 0.3275 1.15 0.4925 1.315 0.6575 0 0.8225 0.165 0.985 0.3275 1.15 0.4925 1.315 0.6575 0 0.8225 0.165 0.985 0.3275 1.15 0.4925 1.315 0.6575\n"
     ]
    },
    {
     "name": "stderr",
     "output_type": "stream",
     "text": [
      "++ 3drefit processed 1 datasets\n",
      "++ 3drefit: AFNI version=AFNI_24.2.00 (Jul 15 2024) [64-bit]\n",
      "++ Authored by: RW Cox\n",
      "++ Processing AFNI dataset /media/brain/Spatial/spatialfMRI/fMRI_data/spatialfMRI_nii/sub-01/func/sub-01_task-geo_run-00_echo-5_part-mag_bold.nii.gz\n",
      " + setting slice time offsets\n",
      " + loading and re-writing dataset /media/brain/Spatial/spatialfMRI/fMRI_data/spatialfMRI_nii/sub-01/func/sub-01_task-geo_run-00_echo-5_part-mag_bold.nii.gz (/media/brain/Spatial/spatialfMRI/fMRI_data/spatialfMRI_nii/sub-01/func/sub-01_task-geo_run-00_echo-5_part-mag_bold.nii.gz in NIFTI storage)\n"
     ]
    },
    {
     "name": "stdout",
     "output_type": "stream",
     "text": [
      "0 0.8225 0.165 0.985 0.3275 1.15 0.4925 1.315 0.6575 0 0.8225 0.165 0.985 0.3275 1.15 0.4925 1.315 0.6575 0 0.8225 0.165 0.985 0.3275 1.15 0.4925 1.315 0.6575 0 0.8225 0.165 0.985 0.3275 1.15 0.4925 1.315 0.6575 0 0.8225 0.165 0.985 0.3275 1.15 0.4925 1.315 0.6575\n"
     ]
    },
    {
     "name": "stderr",
     "output_type": "stream",
     "text": [
      "++ 3drefit processed 1 datasets\n",
      "++ 3drefit: AFNI version=AFNI_24.2.00 (Jul 15 2024) [64-bit]\n",
      "++ Authored by: RW Cox\n",
      "++ Processing AFNI dataset /media/brain/Spatial/spatialfMRI/fMRI_data/spatialfMRI_nii/sub-01/func/sub-01_task-geo_run-00_echo-1_part-phase_bold.nii.gz\n",
      " + setting slice time offsets\n",
      " + loading and re-writing dataset /media/brain/Spatial/spatialfMRI/fMRI_data/spatialfMRI_nii/sub-01/func/sub-01_task-geo_run-00_echo-1_part-phase_bold.nii.gz (/media/brain/Spatial/spatialfMRI/fMRI_data/spatialfMRI_nii/sub-01/func/sub-01_task-geo_run-00_echo-1_part-phase_bold.nii.gz in NIFTI storage)\n"
     ]
    },
    {
     "name": "stdout",
     "output_type": "stream",
     "text": [
      "0 0.8225 0.165 0.985 0.3275 1.15 0.4925 1.315 0.6575 0 0.8225 0.165 0.985 0.3275 1.15 0.4925 1.315 0.6575 0 0.8225 0.165 0.985 0.3275 1.15 0.4925 1.315 0.6575 0 0.8225 0.165 0.985 0.3275 1.15 0.4925 1.315 0.6575 0 0.8225 0.165 0.985 0.3275 1.15 0.4925 1.315 0.6575\n"
     ]
    },
    {
     "name": "stderr",
     "output_type": "stream",
     "text": [
      "++ 3drefit processed 1 datasets\n",
      "++ 3drefit: AFNI version=AFNI_24.2.00 (Jul 15 2024) [64-bit]\n",
      "++ Authored by: RW Cox\n",
      "++ Processing AFNI dataset /media/brain/Spatial/spatialfMRI/fMRI_data/spatialfMRI_nii/sub-01/func/sub-01_task-geo_run-00_echo-2_part-phase_bold.nii.gz\n",
      " + setting slice time offsets\n",
      " + loading and re-writing dataset /media/brain/Spatial/spatialfMRI/fMRI_data/spatialfMRI_nii/sub-01/func/sub-01_task-geo_run-00_echo-2_part-phase_bold.nii.gz (/media/brain/Spatial/spatialfMRI/fMRI_data/spatialfMRI_nii/sub-01/func/sub-01_task-geo_run-00_echo-2_part-phase_bold.nii.gz in NIFTI storage)\n"
     ]
    },
    {
     "name": "stdout",
     "output_type": "stream",
     "text": [
      "0 0.8225 0.165 0.985 0.3275 1.15 0.4925 1.315 0.6575 0 0.8225 0.165 0.985 0.3275 1.15 0.4925 1.315 0.6575 0 0.8225 0.165 0.985 0.3275 1.15 0.4925 1.315 0.6575 0 0.8225 0.165 0.985 0.3275 1.15 0.4925 1.315 0.6575 0 0.8225 0.165 0.985 0.3275 1.15 0.4925 1.315 0.6575\n"
     ]
    },
    {
     "name": "stderr",
     "output_type": "stream",
     "text": [
      "++ 3drefit processed 1 datasets\n",
      "++ 3drefit: AFNI version=AFNI_24.2.00 (Jul 15 2024) [64-bit]\n",
      "++ Authored by: RW Cox\n",
      "++ Processing AFNI dataset /media/brain/Spatial/spatialfMRI/fMRI_data/spatialfMRI_nii/sub-01/func/sub-01_task-geo_run-00_echo-3_part-phase_bold.nii.gz\n",
      " + setting slice time offsets\n",
      " + loading and re-writing dataset /media/brain/Spatial/spatialfMRI/fMRI_data/spatialfMRI_nii/sub-01/func/sub-01_task-geo_run-00_echo-3_part-phase_bold.nii.gz (/media/brain/Spatial/spatialfMRI/fMRI_data/spatialfMRI_nii/sub-01/func/sub-01_task-geo_run-00_echo-3_part-phase_bold.nii.gz in NIFTI storage)\n"
     ]
    },
    {
     "name": "stdout",
     "output_type": "stream",
     "text": [
      "0 0.8225 0.165 0.985 0.3275 1.15 0.4925 1.315 0.6575 0 0.8225 0.165 0.985 0.3275 1.15 0.4925 1.315 0.6575 0 0.8225 0.165 0.985 0.3275 1.15 0.4925 1.315 0.6575 0 0.8225 0.165 0.985 0.3275 1.15 0.4925 1.315 0.6575 0 0.8225 0.165 0.985 0.3275 1.15 0.4925 1.315 0.6575\n"
     ]
    },
    {
     "name": "stderr",
     "output_type": "stream",
     "text": [
      "++ 3drefit processed 1 datasets\n",
      "++ 3drefit: AFNI version=AFNI_24.2.00 (Jul 15 2024) [64-bit]\n",
      "++ Authored by: RW Cox\n",
      "++ Processing AFNI dataset /media/brain/Spatial/spatialfMRI/fMRI_data/spatialfMRI_nii/sub-01/func/sub-01_task-geo_run-00_echo-4_part-phase_bold.nii.gz\n",
      " + setting slice time offsets\n",
      " + loading and re-writing dataset /media/brain/Spatial/spatialfMRI/fMRI_data/spatialfMRI_nii/sub-01/func/sub-01_task-geo_run-00_echo-4_part-phase_bold.nii.gz (/media/brain/Spatial/spatialfMRI/fMRI_data/spatialfMRI_nii/sub-01/func/sub-01_task-geo_run-00_echo-4_part-phase_bold.nii.gz in NIFTI storage)\n"
     ]
    },
    {
     "name": "stdout",
     "output_type": "stream",
     "text": [
      "0 0.8225 0.165 0.985 0.3275 1.15 0.4925 1.315 0.6575 0 0.8225 0.165 0.985 0.3275 1.15 0.4925 1.315 0.6575 0 0.8225 0.165 0.985 0.3275 1.15 0.4925 1.315 0.6575 0 0.8225 0.165 0.985 0.3275 1.15 0.4925 1.315 0.6575 0 0.8225 0.165 0.985 0.3275 1.15 0.4925 1.315 0.6575\n"
     ]
    },
    {
     "name": "stderr",
     "output_type": "stream",
     "text": [
      "++ 3drefit processed 1 datasets\n",
      "++ 3drefit: AFNI version=AFNI_24.2.00 (Jul 15 2024) [64-bit]\n",
      "++ Authored by: RW Cox\n",
      "++ Processing AFNI dataset /media/brain/Spatial/spatialfMRI/fMRI_data/spatialfMRI_nii/sub-01/func/sub-01_task-geo_run-00_echo-5_part-phase_bold.nii.gz\n",
      " + setting slice time offsets\n",
      " + loading and re-writing dataset /media/brain/Spatial/spatialfMRI/fMRI_data/spatialfMRI_nii/sub-01/func/sub-01_task-geo_run-00_echo-5_part-phase_bold.nii.gz (/media/brain/Spatial/spatialfMRI/fMRI_data/spatialfMRI_nii/sub-01/func/sub-01_task-geo_run-00_echo-5_part-phase_bold.nii.gz in NIFTI storage)\n"
     ]
    },
    {
     "name": "stdout",
     "output_type": "stream",
     "text": [
      "0 0.8225 0.165 0.985 0.3275 1.15 0.4925 1.315 0.6575 0 0.8225 0.165 0.985 0.3275 1.15 0.4925 1.315 0.6575 0 0.8225 0.165 0.985 0.3275 1.15 0.4925 1.315 0.6575 0 0.8225 0.165 0.985 0.3275 1.15 0.4925 1.315 0.6575 0 0.8225 0.165 0.985 0.3275 1.15 0.4925 1.315 0.6575\n"
     ]
    },
    {
     "name": "stderr",
     "output_type": "stream",
     "text": [
      "++ 3drefit processed 1 datasets\n",
      "++ 3drefit: AFNI version=AFNI_24.2.00 (Jul 15 2024) [64-bit]\n",
      "++ Authored by: RW Cox\n",
      "++ Processing AFNI dataset /media/brain/Spatial/spatialfMRI/fMRI_data/spatialfMRI_nii/sub-01/func/sub-01_task-geo_run-01_echo-1_part-mag_sbref.nii.gz\n",
      "\u001b[7m*+ WARNING:\u001b[0m -Tslices: dataset has no time axis to add slice offset to!\n",
      " + Didn't make any changes for dataset /media/brain/Spatial/spatialfMRI/fMRI_data/spatialfMRI_nii/sub-01/func/sub-01_task-geo_run-01_echo-1_part-mag_sbref.nii.gz !\n",
      "++ 3drefit processed 1 datasets\n",
      "++ 3drefit: AFNI version=AFNI_24.2.00 (Jul 15 2024) [64-bit]\n",
      "++ Authored by: RW Cox\n",
      "++ Processing AFNI dataset /media/brain/Spatial/spatialfMRI/fMRI_data/spatialfMRI_nii/sub-01/func/sub-01_task-geo_run-01_echo-2_part-mag_sbref.nii.gz\n",
      "\u001b[7m*+ WARNING:\u001b[0m -Tslices: dataset has no time axis to add slice offset to!\n",
      " + Didn't make any changes for dataset /media/brain/Spatial/spatialfMRI/fMRI_data/spatialfMRI_nii/sub-01/func/sub-01_task-geo_run-01_echo-2_part-mag_sbref.nii.gz !\n",
      "++ 3drefit processed 1 datasets\n",
      "++ 3drefit: AFNI version=AFNI_24.2.00 (Jul 15 2024) [64-bit]\n",
      "++ Authored by: RW Cox\n",
      "++ Processing AFNI dataset /media/brain/Spatial/spatialfMRI/fMRI_data/spatialfMRI_nii/sub-01/func/sub-01_task-geo_run-01_echo-3_part-mag_sbref.nii.gz\n",
      "\u001b[7m*+ WARNING:\u001b[0m -Tslices: dataset has no time axis to add slice offset to!\n",
      " + Didn't make any changes for dataset /media/brain/Spatial/spatialfMRI/fMRI_data/spatialfMRI_nii/sub-01/func/sub-01_task-geo_run-01_echo-3_part-mag_sbref.nii.gz !\n",
      "++ 3drefit processed 1 datasets\n",
      "++ 3drefit: AFNI version=AFNI_24.2.00 (Jul 15 2024) [64-bit]\n",
      "++ Authored by: RW Cox\n",
      "++ Processing AFNI dataset /media/brain/Spatial/spatialfMRI/fMRI_data/spatialfMRI_nii/sub-01/func/sub-01_task-geo_run-01_echo-4_part-mag_sbref.nii.gz\n",
      "\u001b[7m*+ WARNING:\u001b[0m -Tslices: dataset has no time axis to add slice offset to!\n",
      " + Didn't make any changes for dataset /media/brain/Spatial/spatialfMRI/fMRI_data/spatialfMRI_nii/sub-01/func/sub-01_task-geo_run-01_echo-4_part-mag_sbref.nii.gz !\n",
      "++ 3drefit processed 1 datasets\n",
      "++ 3drefit: AFNI version=AFNI_24.2.00 (Jul 15 2024) [64-bit]\n",
      "++ Authored by: RW Cox\n",
      "++ Processing AFNI dataset /media/brain/Spatial/spatialfMRI/fMRI_data/spatialfMRI_nii/sub-01/func/sub-01_task-geo_run-01_echo-5_part-mag_sbref.nii.gz\n",
      "\u001b[7m*+ WARNING:\u001b[0m -Tslices: dataset has no time axis to add slice offset to!\n",
      " + Didn't make any changes for dataset /media/brain/Spatial/spatialfMRI/fMRI_data/spatialfMRI_nii/sub-01/func/sub-01_task-geo_run-01_echo-5_part-mag_sbref.nii.gz !\n",
      "++ 3drefit processed 1 datasets\n",
      "++ 3drefit: AFNI version=AFNI_24.2.00 (Jul 15 2024) [64-bit]\n",
      "++ Authored by: RW Cox\n",
      "++ Processing AFNI dataset /media/brain/Spatial/spatialfMRI/fMRI_data/spatialfMRI_nii/sub-01/func/sub-01_task-geo_run-01_echo-1_part-phase_sbref.nii.gz\n",
      "\u001b[7m*+ WARNING:\u001b[0m -Tslices: dataset has no time axis to add slice offset to!\n",
      " + Didn't make any changes for dataset /media/brain/Spatial/spatialfMRI/fMRI_data/spatialfMRI_nii/sub-01/func/sub-01_task-geo_run-01_echo-1_part-phase_sbref.nii.gz !\n",
      "++ 3drefit processed 1 datasets\n",
      "++ 3drefit: AFNI version=AFNI_24.2.00 (Jul 15 2024) [64-bit]\n",
      "++ Authored by: RW Cox\n",
      "++ Processing AFNI dataset /media/brain/Spatial/spatialfMRI/fMRI_data/spatialfMRI_nii/sub-01/func/sub-01_task-geo_run-01_echo-2_part-phase_sbref.nii.gz\n",
      "\u001b[7m*+ WARNING:\u001b[0m -Tslices: dataset has no time axis to add slice offset to!\n",
      " + Didn't make any changes for dataset /media/brain/Spatial/spatialfMRI/fMRI_data/spatialfMRI_nii/sub-01/func/sub-01_task-geo_run-01_echo-2_part-phase_sbref.nii.gz !\n",
      "++ 3drefit processed 1 datasets\n",
      "++ 3drefit: AFNI version=AFNI_24.2.00 (Jul 15 2024) [64-bit]\n",
      "++ Authored by: RW Cox\n",
      "++ Processing AFNI dataset /media/brain/Spatial/spatialfMRI/fMRI_data/spatialfMRI_nii/sub-01/func/sub-01_task-geo_run-01_echo-3_part-phase_sbref.nii.gz\n",
      "\u001b[7m*+ WARNING:\u001b[0m -Tslices: dataset has no time axis to add slice offset to!\n",
      " + Didn't make any changes for dataset /media/brain/Spatial/spatialfMRI/fMRI_data/spatialfMRI_nii/sub-01/func/sub-01_task-geo_run-01_echo-3_part-phase_sbref.nii.gz !\n",
      "++ 3drefit processed 1 datasets\n",
      "++ 3drefit: AFNI version=AFNI_24.2.00 (Jul 15 2024) [64-bit]\n",
      "++ Authored by: RW Cox\n",
      "++ Processing AFNI dataset /media/brain/Spatial/spatialfMRI/fMRI_data/spatialfMRI_nii/sub-01/func/sub-01_task-geo_run-01_echo-4_part-phase_sbref.nii.gz\n",
      "\u001b[7m*+ WARNING:\u001b[0m -Tslices: dataset has no time axis to add slice offset to!\n",
      " + Didn't make any changes for dataset /media/brain/Spatial/spatialfMRI/fMRI_data/spatialfMRI_nii/sub-01/func/sub-01_task-geo_run-01_echo-4_part-phase_sbref.nii.gz !\n",
      "++ 3drefit processed 1 datasets\n",
      "++ 3drefit: AFNI version=AFNI_24.2.00 (Jul 15 2024) [64-bit]\n",
      "++ Authored by: RW Cox\n",
      "++ Processing AFNI dataset /media/brain/Spatial/spatialfMRI/fMRI_data/spatialfMRI_nii/sub-01/func/sub-01_task-geo_run-01_echo-5_part-phase_sbref.nii.gz\n",
      "\u001b[7m*+ WARNING:\u001b[0m -Tslices: dataset has no time axis to add slice offset to!\n",
      " + Didn't make any changes for dataset /media/brain/Spatial/spatialfMRI/fMRI_data/spatialfMRI_nii/sub-01/func/sub-01_task-geo_run-01_echo-5_part-phase_sbref.nii.gz !\n",
      "++ 3drefit processed 1 datasets\n",
      "++ 3drefit: AFNI version=AFNI_24.2.00 (Jul 15 2024) [64-bit]\n",
      "++ Authored by: RW Cox\n",
      "++ Processing AFNI dataset /media/brain/Spatial/spatialfMRI/fMRI_data/spatialfMRI_nii/sub-01/func/sub-01_task-geo_run-01_echo-1_part-mag_bold.nii.gz\n",
      " + setting slice time offsets\n",
      " + loading and re-writing dataset /media/brain/Spatial/spatialfMRI/fMRI_data/spatialfMRI_nii/sub-01/func/sub-01_task-geo_run-01_echo-1_part-mag_bold.nii.gz (/media/brain/Spatial/spatialfMRI/fMRI_data/spatialfMRI_nii/sub-01/func/sub-01_task-geo_run-01_echo-1_part-mag_bold.nii.gz in NIFTI storage)\n"
     ]
    },
    {
     "name": "stdout",
     "output_type": "stream",
     "text": [
      "0 0.165 0.3275 0.4925 0.6575 0.8225 0.985 1.15 1.315 1.48 1.6425 1.8075 1.9725 2.1375 2.3025 2.465 2.63 2.795 2.96 3.1225 3.2875 3.4525 3.6175 3.7825 3.945 4.11 4.275 4.44 4.6025 4.7675 4.9325 5.0975 5.2625 5.425 5.59 5.755 5.92 6.0825 6.2475 6.4125 6.5775 6.7425 6.905 7.07 7.235\n",
      "0 0.165 0.3275 0.4925 0.6575 0.8225 0.985 1.15 1.315 1.48 1.6425 1.8075 1.9725 2.1375 2.3025 2.465 2.63 2.795 2.96 3.1225 3.2875 3.4525 3.6175 3.7825 3.945 4.11 4.275 4.44 4.6025 4.7675 4.9325 5.0975 5.2625 5.425 5.59 5.755 5.92 6.0825 6.2475 6.4125 6.5775 6.7425 6.905 7.07 7.235\n",
      "0 0.165 0.3275 0.4925 0.6575 0.8225 0.985 1.15 1.315 1.48 1.645 1.8075 1.9725 2.1375 2.3025 2.465 2.63 2.795 2.96 3.1225 3.2875 3.4525 3.6175 3.7825 3.945 4.11 4.275 4.44 4.6025 4.7675 4.9325 5.0975 5.2625 5.425 5.59 5.755 5.92 6.0825 6.2475 6.4125 6.5775 6.7425 6.905 7.07 7.235\n",
      "0 0.165 0.3275 0.4925 0.6575 0.8225 0.985 1.15 1.315 1.48 1.645 1.8075 1.9725 2.1375 2.3025 2.465 2.63 2.795 2.96 3.1225 3.2875 3.4525 3.6175 3.7825 3.945 4.11 4.275 4.44 4.6025 4.7675 4.9325 5.0975 5.2625 5.425 5.59 5.755 5.92 6.0825 6.2475 6.4125 6.5775 6.7425 6.905 7.07 7.235\n",
      "0 0.165 0.3275 0.4925 0.6575 0.8225 0.985 1.15 1.315 1.48 1.645 1.8075 1.9725 2.1375 2.3025 2.465 2.63 2.795 2.96 3.1225 3.2875 3.4525 3.6175 3.7825 3.945 4.11 4.275 4.44 4.6025 4.7675 4.9325 5.0975 5.2625 5.425 5.59 5.755 5.92 6.0825 6.2475 6.4125 6.5775 6.7425 6.905 7.07 7.235\n",
      "0 0.165 0.3275 0.4925 0.6575 0.8225 0.985 1.15 1.315 1.48 1.6425 1.8075 1.9725 2.1375 2.3025 2.465 2.63 2.795 2.96 3.1225 3.2875 3.4525 3.6175 3.7825 3.945 4.11 4.275 4.44 4.6025 4.7675 4.9325 5.0975 5.2625 5.425 5.59 5.755 5.92 6.0825 6.2475 6.4125 6.5775 6.7425 6.905 7.07 7.235\n",
      "0 0.165 0.3275 0.4925 0.6575 0.8225 0.985 1.15 1.315 1.48 1.6425 1.8075 1.9725 2.1375 2.3025 2.465 2.63 2.795 2.96 3.1225 3.2875 3.4525 3.6175 3.7825 3.945 4.11 4.275 4.44 4.6025 4.7675 4.9325 5.0975 5.2625 5.425 5.59 5.755 5.92 6.0825 6.2475 6.4125 6.5775 6.7425 6.905 7.07 7.235\n",
      "0 0.165 0.3275 0.4925 0.6575 0.8225 0.985 1.15 1.315 1.48 1.645 1.8075 1.9725 2.1375 2.3025 2.465 2.63 2.795 2.96 3.1225 3.2875 3.4525 3.6175 3.7825 3.945 4.11 4.275 4.44 4.6025 4.7675 4.9325 5.0975 5.2625 5.425 5.59 5.755 5.92 6.0825 6.2475 6.4125 6.5775 6.7425 6.905 7.07 7.235\n",
      "0 0.165 0.3275 0.4925 0.6575 0.8225 0.985 1.15 1.315 1.48 1.645 1.8075 1.9725 2.1375 2.3025 2.465 2.63 2.795 2.96 3.1225 3.2875 3.4525 3.6175 3.7825 3.945 4.11 4.275 4.44 4.6025 4.7675 4.9325 5.0975 5.2625 5.425 5.59 5.755 5.92 6.0825 6.2475 6.4125 6.5775 6.7425 6.905 7.07 7.235\n",
      "0 0.165 0.3275 0.4925 0.6575 0.8225 0.985 1.15 1.315 1.48 1.645 1.8075 1.9725 2.1375 2.3025 2.465 2.63 2.795 2.96 3.1225 3.2875 3.4525 3.6175 3.7825 3.945 4.11 4.275 4.44 4.6025 4.7675 4.9325 5.0975 5.2625 5.425 5.59 5.755 5.92 6.0825 6.2475 6.4125 6.5775 6.7425 6.905 7.07 7.235\n",
      "0 0.8225 0.165 0.985 0.3275 1.15 0.4925 1.315 0.6575 0 0.8225 0.165 0.985 0.3275 1.15 0.4925 1.315 0.6575 0 0.8225 0.165 0.985 0.3275 1.15 0.4925 1.315 0.6575 0 0.8225 0.165 0.985 0.3275 1.15 0.4925 1.315 0.6575 0 0.8225 0.165 0.985 0.3275 1.15 0.4925 1.315 0.6575\n"
     ]
    },
    {
     "name": "stderr",
     "output_type": "stream",
     "text": [
      "++ 3drefit processed 1 datasets\n",
      "++ 3drefit: AFNI version=AFNI_24.2.00 (Jul 15 2024) [64-bit]\n",
      "++ Authored by: RW Cox\n",
      "++ Processing AFNI dataset /media/brain/Spatial/spatialfMRI/fMRI_data/spatialfMRI_nii/sub-01/func/sub-01_task-geo_run-01_echo-2_part-mag_bold.nii.gz\n",
      " + setting slice time offsets\n",
      " + loading and re-writing dataset /media/brain/Spatial/spatialfMRI/fMRI_data/spatialfMRI_nii/sub-01/func/sub-01_task-geo_run-01_echo-2_part-mag_bold.nii.gz (/media/brain/Spatial/spatialfMRI/fMRI_data/spatialfMRI_nii/sub-01/func/sub-01_task-geo_run-01_echo-2_part-mag_bold.nii.gz in NIFTI storage)\n"
     ]
    },
    {
     "name": "stdout",
     "output_type": "stream",
     "text": [
      "0 0.8225 0.165 0.985 0.3275 1.15 0.4925 1.315 0.6575 0 0.8225 0.165 0.985 0.3275 1.15 0.4925 1.315 0.6575 0 0.8225 0.165 0.985 0.3275 1.15 0.4925 1.315 0.6575 0 0.8225 0.165 0.985 0.3275 1.15 0.4925 1.315 0.6575 0 0.8225 0.165 0.985 0.3275 1.15 0.4925 1.315 0.6575\n"
     ]
    },
    {
     "name": "stderr",
     "output_type": "stream",
     "text": [
      "++ 3drefit processed 1 datasets\n",
      "++ 3drefit: AFNI version=AFNI_24.2.00 (Jul 15 2024) [64-bit]\n",
      "++ Authored by: RW Cox\n",
      "++ Processing AFNI dataset /media/brain/Spatial/spatialfMRI/fMRI_data/spatialfMRI_nii/sub-01/func/sub-01_task-geo_run-01_echo-3_part-mag_bold.nii.gz\n",
      " + setting slice time offsets\n",
      " + loading and re-writing dataset /media/brain/Spatial/spatialfMRI/fMRI_data/spatialfMRI_nii/sub-01/func/sub-01_task-geo_run-01_echo-3_part-mag_bold.nii.gz (/media/brain/Spatial/spatialfMRI/fMRI_data/spatialfMRI_nii/sub-01/func/sub-01_task-geo_run-01_echo-3_part-mag_bold.nii.gz in NIFTI storage)\n"
     ]
    },
    {
     "name": "stdout",
     "output_type": "stream",
     "text": [
      "0 0.8225 0.165 0.985 0.3275 1.15 0.4925 1.315 0.6575 0 0.8225 0.165 0.985 0.3275 1.15 0.4925 1.315 0.6575 0 0.8225 0.165 0.985 0.3275 1.15 0.4925 1.315 0.6575 0 0.8225 0.165 0.985 0.3275 1.15 0.4925 1.315 0.6575 0 0.8225 0.165 0.985 0.3275 1.15 0.4925 1.315 0.6575\n"
     ]
    },
    {
     "name": "stderr",
     "output_type": "stream",
     "text": [
      "++ 3drefit processed 1 datasets\n",
      "++ 3drefit: AFNI version=AFNI_24.2.00 (Jul 15 2024) [64-bit]\n",
      "++ Authored by: RW Cox\n",
      "++ Processing AFNI dataset /media/brain/Spatial/spatialfMRI/fMRI_data/spatialfMRI_nii/sub-01/func/sub-01_task-geo_run-01_echo-4_part-mag_bold.nii.gz\n",
      " + setting slice time offsets\n",
      " + loading and re-writing dataset /media/brain/Spatial/spatialfMRI/fMRI_data/spatialfMRI_nii/sub-01/func/sub-01_task-geo_run-01_echo-4_part-mag_bold.nii.gz (/media/brain/Spatial/spatialfMRI/fMRI_data/spatialfMRI_nii/sub-01/func/sub-01_task-geo_run-01_echo-4_part-mag_bold.nii.gz in NIFTI storage)\n"
     ]
    },
    {
     "name": "stdout",
     "output_type": "stream",
     "text": [
      "0 0.8225 0.165 0.985 0.3275 1.15 0.4925 1.315 0.6575 0 0.8225 0.165 0.985 0.3275 1.15 0.4925 1.315 0.6575 0 0.8225 0.165 0.985 0.3275 1.15 0.4925 1.315 0.6575 0 0.8225 0.165 0.985 0.3275 1.15 0.4925 1.315 0.6575 0 0.8225 0.165 0.985 0.3275 1.15 0.4925 1.315 0.6575\n"
     ]
    },
    {
     "name": "stderr",
     "output_type": "stream",
     "text": [
      "++ 3drefit processed 1 datasets\n",
      "++ 3drefit: AFNI version=AFNI_24.2.00 (Jul 15 2024) [64-bit]\n",
      "++ Authored by: RW Cox\n",
      "++ Processing AFNI dataset /media/brain/Spatial/spatialfMRI/fMRI_data/spatialfMRI_nii/sub-01/func/sub-01_task-geo_run-01_echo-5_part-mag_bold.nii.gz\n",
      " + setting slice time offsets\n",
      " + loading and re-writing dataset /media/brain/Spatial/spatialfMRI/fMRI_data/spatialfMRI_nii/sub-01/func/sub-01_task-geo_run-01_echo-5_part-mag_bold.nii.gz (/media/brain/Spatial/spatialfMRI/fMRI_data/spatialfMRI_nii/sub-01/func/sub-01_task-geo_run-01_echo-5_part-mag_bold.nii.gz in NIFTI storage)\n"
     ]
    },
    {
     "name": "stdout",
     "output_type": "stream",
     "text": [
      "0 0.8225 0.165 0.985 0.3275 1.15 0.4925 1.315 0.6575 0 0.8225 0.165 0.985 0.3275 1.15 0.4925 1.315 0.6575 0 0.8225 0.165 0.985 0.3275 1.15 0.4925 1.315 0.6575 0 0.8225 0.165 0.985 0.3275 1.15 0.4925 1.315 0.6575 0 0.8225 0.165 0.985 0.3275 1.15 0.4925 1.315 0.6575\n"
     ]
    },
    {
     "name": "stderr",
     "output_type": "stream",
     "text": [
      "++ 3drefit processed 1 datasets\n",
      "++ 3drefit: AFNI version=AFNI_24.2.00 (Jul 15 2024) [64-bit]\n",
      "++ Authored by: RW Cox\n",
      "++ Processing AFNI dataset /media/brain/Spatial/spatialfMRI/fMRI_data/spatialfMRI_nii/sub-01/func/sub-01_task-geo_run-01_echo-1_part-phase_bold.nii.gz\n",
      " + setting slice time offsets\n",
      " + loading and re-writing dataset /media/brain/Spatial/spatialfMRI/fMRI_data/spatialfMRI_nii/sub-01/func/sub-01_task-geo_run-01_echo-1_part-phase_bold.nii.gz (/media/brain/Spatial/spatialfMRI/fMRI_data/spatialfMRI_nii/sub-01/func/sub-01_task-geo_run-01_echo-1_part-phase_bold.nii.gz in NIFTI storage)\n"
     ]
    },
    {
     "name": "stdout",
     "output_type": "stream",
     "text": [
      "0 0.8225 0.165 0.985 0.3275 1.15 0.4925 1.315 0.6575 0 0.8225 0.165 0.985 0.3275 1.15 0.4925 1.315 0.6575 0 0.8225 0.165 0.985 0.3275 1.15 0.4925 1.315 0.6575 0 0.8225 0.165 0.985 0.3275 1.15 0.4925 1.315 0.6575 0 0.8225 0.165 0.985 0.3275 1.15 0.4925 1.315 0.6575\n"
     ]
    },
    {
     "name": "stderr",
     "output_type": "stream",
     "text": [
      "++ 3drefit processed 1 datasets\n",
      "++ 3drefit: AFNI version=AFNI_24.2.00 (Jul 15 2024) [64-bit]\n",
      "++ Authored by: RW Cox\n",
      "++ Processing AFNI dataset /media/brain/Spatial/spatialfMRI/fMRI_data/spatialfMRI_nii/sub-01/func/sub-01_task-geo_run-01_echo-2_part-phase_bold.nii.gz\n",
      " + setting slice time offsets\n",
      " + loading and re-writing dataset /media/brain/Spatial/spatialfMRI/fMRI_data/spatialfMRI_nii/sub-01/func/sub-01_task-geo_run-01_echo-2_part-phase_bold.nii.gz (/media/brain/Spatial/spatialfMRI/fMRI_data/spatialfMRI_nii/sub-01/func/sub-01_task-geo_run-01_echo-2_part-phase_bold.nii.gz in NIFTI storage)\n"
     ]
    },
    {
     "name": "stdout",
     "output_type": "stream",
     "text": [
      "0 0.8225 0.165 0.985 0.3275 1.15 0.4925 1.315 0.6575 0 0.8225 0.165 0.985 0.3275 1.15 0.4925 1.315 0.6575 0 0.8225 0.165 0.985 0.3275 1.15 0.4925 1.315 0.6575 0 0.8225 0.165 0.985 0.3275 1.15 0.4925 1.315 0.6575 0 0.8225 0.165 0.985 0.3275 1.15 0.4925 1.315 0.6575\n"
     ]
    },
    {
     "name": "stderr",
     "output_type": "stream",
     "text": [
      "++ 3drefit processed 1 datasets\n",
      "++ 3drefit: AFNI version=AFNI_24.2.00 (Jul 15 2024) [64-bit]\n",
      "++ Authored by: RW Cox\n",
      "++ Processing AFNI dataset /media/brain/Spatial/spatialfMRI/fMRI_data/spatialfMRI_nii/sub-01/func/sub-01_task-geo_run-01_echo-3_part-phase_bold.nii.gz\n",
      " + setting slice time offsets\n",
      " + loading and re-writing dataset /media/brain/Spatial/spatialfMRI/fMRI_data/spatialfMRI_nii/sub-01/func/sub-01_task-geo_run-01_echo-3_part-phase_bold.nii.gz (/media/brain/Spatial/spatialfMRI/fMRI_data/spatialfMRI_nii/sub-01/func/sub-01_task-geo_run-01_echo-3_part-phase_bold.nii.gz in NIFTI storage)\n"
     ]
    },
    {
     "name": "stdout",
     "output_type": "stream",
     "text": [
      "0 0.8225 0.165 0.985 0.3275 1.15 0.4925 1.315 0.6575 0 0.8225 0.165 0.985 0.3275 1.15 0.4925 1.315 0.6575 0 0.8225 0.165 0.985 0.3275 1.15 0.4925 1.315 0.6575 0 0.8225 0.165 0.985 0.3275 1.15 0.4925 1.315 0.6575 0 0.8225 0.165 0.985 0.3275 1.15 0.4925 1.315 0.6575\n"
     ]
    },
    {
     "name": "stderr",
     "output_type": "stream",
     "text": [
      "++ 3drefit processed 1 datasets\n",
      "++ 3drefit: AFNI version=AFNI_24.2.00 (Jul 15 2024) [64-bit]\n",
      "++ Authored by: RW Cox\n",
      "++ Processing AFNI dataset /media/brain/Spatial/spatialfMRI/fMRI_data/spatialfMRI_nii/sub-01/func/sub-01_task-geo_run-01_echo-4_part-phase_bold.nii.gz\n",
      " + setting slice time offsets\n",
      " + loading and re-writing dataset /media/brain/Spatial/spatialfMRI/fMRI_data/spatialfMRI_nii/sub-01/func/sub-01_task-geo_run-01_echo-4_part-phase_bold.nii.gz (/media/brain/Spatial/spatialfMRI/fMRI_data/spatialfMRI_nii/sub-01/func/sub-01_task-geo_run-01_echo-4_part-phase_bold.nii.gz in NIFTI storage)\n"
     ]
    },
    {
     "name": "stdout",
     "output_type": "stream",
     "text": [
      "0 0.8225 0.165 0.985 0.3275 1.15 0.4925 1.315 0.6575 0 0.8225 0.165 0.985 0.3275 1.15 0.4925 1.315 0.6575 0 0.8225 0.165 0.985 0.3275 1.15 0.4925 1.315 0.6575 0 0.8225 0.165 0.985 0.3275 1.15 0.4925 1.315 0.6575 0 0.8225 0.165 0.985 0.3275 1.15 0.4925 1.315 0.6575\n"
     ]
    },
    {
     "name": "stderr",
     "output_type": "stream",
     "text": [
      "++ 3drefit processed 1 datasets\n",
      "++ 3drefit: AFNI version=AFNI_24.2.00 (Jul 15 2024) [64-bit]\n",
      "++ Authored by: RW Cox\n",
      "++ Processing AFNI dataset /media/brain/Spatial/spatialfMRI/fMRI_data/spatialfMRI_nii/sub-01/func/sub-01_task-geo_run-01_echo-5_part-phase_bold.nii.gz\n",
      " + setting slice time offsets\n",
      " + loading and re-writing dataset /media/brain/Spatial/spatialfMRI/fMRI_data/spatialfMRI_nii/sub-01/func/sub-01_task-geo_run-01_echo-5_part-phase_bold.nii.gz (/media/brain/Spatial/spatialfMRI/fMRI_data/spatialfMRI_nii/sub-01/func/sub-01_task-geo_run-01_echo-5_part-phase_bold.nii.gz in NIFTI storage)\n"
     ]
    },
    {
     "name": "stdout",
     "output_type": "stream",
     "text": [
      "0 0.8225 0.165 0.985 0.3275 1.15 0.4925 1.315 0.6575 0 0.8225 0.165 0.985 0.3275 1.15 0.4925 1.315 0.6575 0 0.8225 0.165 0.985 0.3275 1.15 0.4925 1.315 0.6575 0 0.8225 0.165 0.985 0.3275 1.15 0.4925 1.315 0.6575 0 0.8225 0.165 0.985 0.3275 1.15 0.4925 1.315 0.6575\n"
     ]
    },
    {
     "name": "stderr",
     "output_type": "stream",
     "text": [
      "++ 3drefit processed 1 datasets\n",
      "++ 3drefit: AFNI version=AFNI_24.2.00 (Jul 15 2024) [64-bit]\n",
      "++ Authored by: RW Cox\n",
      "++ Processing AFNI dataset /media/brain/Spatial/spatialfMRI/fMRI_data/spatialfMRI_nii/sub-01/func/sub-01_task-geo_run-02_echo-1_part-mag_sbref.nii.gz\n",
      "\u001b[7m*+ WARNING:\u001b[0m -Tslices: dataset has no time axis to add slice offset to!\n",
      " + Didn't make any changes for dataset /media/brain/Spatial/spatialfMRI/fMRI_data/spatialfMRI_nii/sub-01/func/sub-01_task-geo_run-02_echo-1_part-mag_sbref.nii.gz !\n",
      "++ 3drefit processed 1 datasets\n",
      "++ 3drefit: AFNI version=AFNI_24.2.00 (Jul 15 2024) [64-bit]\n",
      "++ Authored by: RW Cox\n",
      "++ Processing AFNI dataset /media/brain/Spatial/spatialfMRI/fMRI_data/spatialfMRI_nii/sub-01/func/sub-01_task-geo_run-02_echo-2_part-mag_sbref.nii.gz\n",
      "\u001b[7m*+ WARNING:\u001b[0m -Tslices: dataset has no time axis to add slice offset to!\n",
      " + Didn't make any changes for dataset /media/brain/Spatial/spatialfMRI/fMRI_data/spatialfMRI_nii/sub-01/func/sub-01_task-geo_run-02_echo-2_part-mag_sbref.nii.gz !\n",
      "++ 3drefit processed 1 datasets\n",
      "++ 3drefit: AFNI version=AFNI_24.2.00 (Jul 15 2024) [64-bit]\n",
      "++ Authored by: RW Cox\n",
      "++ Processing AFNI dataset /media/brain/Spatial/spatialfMRI/fMRI_data/spatialfMRI_nii/sub-01/func/sub-01_task-geo_run-02_echo-3_part-mag_sbref.nii.gz\n",
      "\u001b[7m*+ WARNING:\u001b[0m -Tslices: dataset has no time axis to add slice offset to!\n",
      " + Didn't make any changes for dataset /media/brain/Spatial/spatialfMRI/fMRI_data/spatialfMRI_nii/sub-01/func/sub-01_task-geo_run-02_echo-3_part-mag_sbref.nii.gz !\n",
      "++ 3drefit processed 1 datasets\n",
      "++ 3drefit: AFNI version=AFNI_24.2.00 (Jul 15 2024) [64-bit]\n",
      "++ Authored by: RW Cox\n",
      "++ Processing AFNI dataset /media/brain/Spatial/spatialfMRI/fMRI_data/spatialfMRI_nii/sub-01/func/sub-01_task-geo_run-02_echo-4_part-mag_sbref.nii.gz\n",
      "\u001b[7m*+ WARNING:\u001b[0m -Tslices: dataset has no time axis to add slice offset to!\n",
      " + Didn't make any changes for dataset /media/brain/Spatial/spatialfMRI/fMRI_data/spatialfMRI_nii/sub-01/func/sub-01_task-geo_run-02_echo-4_part-mag_sbref.nii.gz !\n",
      "++ 3drefit processed 1 datasets\n",
      "++ 3drefit: AFNI version=AFNI_24.2.00 (Jul 15 2024) [64-bit]\n",
      "++ Authored by: RW Cox\n",
      "++ Processing AFNI dataset /media/brain/Spatial/spatialfMRI/fMRI_data/spatialfMRI_nii/sub-01/func/sub-01_task-geo_run-02_echo-5_part-mag_sbref.nii.gz\n",
      "\u001b[7m*+ WARNING:\u001b[0m -Tslices: dataset has no time axis to add slice offset to!\n",
      " + Didn't make any changes for dataset /media/brain/Spatial/spatialfMRI/fMRI_data/spatialfMRI_nii/sub-01/func/sub-01_task-geo_run-02_echo-5_part-mag_sbref.nii.gz !\n",
      "++ 3drefit processed 1 datasets\n",
      "++ 3drefit: AFNI version=AFNI_24.2.00 (Jul 15 2024) [64-bit]\n",
      "++ Authored by: RW Cox\n",
      "++ Processing AFNI dataset /media/brain/Spatial/spatialfMRI/fMRI_data/spatialfMRI_nii/sub-01/func/sub-01_task-geo_run-02_echo-1_part-phase_sbref.nii.gz\n",
      "\u001b[7m*+ WARNING:\u001b[0m -Tslices: dataset has no time axis to add slice offset to!\n",
      " + Didn't make any changes for dataset /media/brain/Spatial/spatialfMRI/fMRI_data/spatialfMRI_nii/sub-01/func/sub-01_task-geo_run-02_echo-1_part-phase_sbref.nii.gz !\n",
      "++ 3drefit processed 1 datasets\n",
      "++ 3drefit: AFNI version=AFNI_24.2.00 (Jul 15 2024) [64-bit]\n",
      "++ Authored by: RW Cox\n",
      "++ Processing AFNI dataset /media/brain/Spatial/spatialfMRI/fMRI_data/spatialfMRI_nii/sub-01/func/sub-01_task-geo_run-02_echo-2_part-phase_sbref.nii.gz\n",
      "\u001b[7m*+ WARNING:\u001b[0m -Tslices: dataset has no time axis to add slice offset to!\n",
      " + Didn't make any changes for dataset /media/brain/Spatial/spatialfMRI/fMRI_data/spatialfMRI_nii/sub-01/func/sub-01_task-geo_run-02_echo-2_part-phase_sbref.nii.gz !\n",
      "++ 3drefit processed 1 datasets\n",
      "++ 3drefit: AFNI version=AFNI_24.2.00 (Jul 15 2024) [64-bit]\n",
      "++ Authored by: RW Cox\n",
      "++ Processing AFNI dataset /media/brain/Spatial/spatialfMRI/fMRI_data/spatialfMRI_nii/sub-01/func/sub-01_task-geo_run-02_echo-3_part-phase_sbref.nii.gz\n",
      "\u001b[7m*+ WARNING:\u001b[0m -Tslices: dataset has no time axis to add slice offset to!\n",
      " + Didn't make any changes for dataset /media/brain/Spatial/spatialfMRI/fMRI_data/spatialfMRI_nii/sub-01/func/sub-01_task-geo_run-02_echo-3_part-phase_sbref.nii.gz !\n",
      "++ 3drefit processed 1 datasets\n",
      "++ 3drefit: AFNI version=AFNI_24.2.00 (Jul 15 2024) [64-bit]\n",
      "++ Authored by: RW Cox\n",
      "++ Processing AFNI dataset /media/brain/Spatial/spatialfMRI/fMRI_data/spatialfMRI_nii/sub-01/func/sub-01_task-geo_run-02_echo-4_part-phase_sbref.nii.gz\n",
      "\u001b[7m*+ WARNING:\u001b[0m -Tslices: dataset has no time axis to add slice offset to!\n",
      " + Didn't make any changes for dataset /media/brain/Spatial/spatialfMRI/fMRI_data/spatialfMRI_nii/sub-01/func/sub-01_task-geo_run-02_echo-4_part-phase_sbref.nii.gz !\n",
      "++ 3drefit processed 1 datasets\n",
      "++ 3drefit: AFNI version=AFNI_24.2.00 (Jul 15 2024) [64-bit]\n",
      "++ Authored by: RW Cox\n",
      "++ Processing AFNI dataset /media/brain/Spatial/spatialfMRI/fMRI_data/spatialfMRI_nii/sub-01/func/sub-01_task-geo_run-02_echo-5_part-phase_sbref.nii.gz\n",
      "\u001b[7m*+ WARNING:\u001b[0m -Tslices: dataset has no time axis to add slice offset to!\n",
      " + Didn't make any changes for dataset /media/brain/Spatial/spatialfMRI/fMRI_data/spatialfMRI_nii/sub-01/func/sub-01_task-geo_run-02_echo-5_part-phase_sbref.nii.gz !\n",
      "++ 3drefit processed 1 datasets\n",
      "++ 3drefit: AFNI version=AFNI_24.2.00 (Jul 15 2024) [64-bit]\n",
      "++ Authored by: RW Cox\n",
      "++ Processing AFNI dataset /media/brain/Spatial/spatialfMRI/fMRI_data/spatialfMRI_nii/sub-01/func/sub-01_task-geo_run-02_echo-1_part-mag_bold.nii.gz\n",
      " + setting slice time offsets\n",
      " + loading and re-writing dataset /media/brain/Spatial/spatialfMRI/fMRI_data/spatialfMRI_nii/sub-01/func/sub-01_task-geo_run-02_echo-1_part-mag_bold.nii.gz (/media/brain/Spatial/spatialfMRI/fMRI_data/spatialfMRI_nii/sub-01/func/sub-01_task-geo_run-02_echo-1_part-mag_bold.nii.gz in NIFTI storage)\n"
     ]
    },
    {
     "name": "stdout",
     "output_type": "stream",
     "text": [
      "0 0.1625 0.3275 0.4925 0.6575 0.82 0.985 1.15 1.315 1.48 1.6425 1.8075 1.9725 2.1375 2.3 2.465 2.63 2.795 2.96 3.1225 3.2875 3.4525 3.6175 3.78 3.945 4.11 4.275 4.44 4.6025 4.7675 4.9325 5.0975 5.26 5.425 5.59 5.755 5.92 6.0825 6.2475 6.4125 6.5775 6.74 6.905 7.07 7.235\n",
      "0 0.1625 0.3275 0.4925 0.6575 0.82 0.985 1.15 1.315 1.48 1.6425 1.8075 1.9725 2.1375 2.3 2.465 2.63 2.795 2.96 3.1225 3.2875 3.4525 3.6175 3.78 3.945 4.11 4.275 4.44 4.6025 4.7675 4.9325 5.0975 5.26 5.425 5.59 5.755 5.92 6.0825 6.2475 6.4125 6.5775 6.74 6.905 7.07 7.235\n",
      "0 0.1625 0.3275 0.4925 0.6575 0.82 0.985 1.15 1.315 1.48 1.6425 1.8075 1.9725 2.1375 2.3 2.465 2.63 2.795 2.96 3.1225 3.2875 3.4525 3.6175 3.78 3.945 4.11 4.275 4.44 4.6025 4.7675 4.9325 5.0975 5.26 5.425 5.59 5.755 5.92 6.0825 6.2475 6.4125 6.5775 6.74 6.905 7.07 7.235\n",
      "0 0.1625 0.3275 0.4925 0.6575 0.82 0.985 1.15 1.315 1.48 1.6425 1.8075 1.9725 2.1375 2.3 2.465 2.63 2.795 2.96 3.1225 3.2875 3.4525 3.6175 3.78 3.945 4.11 4.275 4.44 4.6025 4.7675 4.9325 5.0975 5.26 5.425 5.59 5.755 5.92 6.0825 6.2475 6.4125 6.5775 6.74 6.905 7.07 7.235\n",
      "0 0.1625 0.3275 0.4925 0.6575 0.82 0.985 1.15 1.315 1.48 1.6425 1.8075 1.9725 2.1375 2.3 2.465 2.63 2.795 2.96 3.1225 3.2875 3.4525 3.6175 3.78 3.945 4.11 4.275 4.44 4.6025 4.7675 4.9325 5.0975 5.26 5.425 5.59 5.755 5.92 6.0825 6.2475 6.4125 6.5775 6.74 6.905 7.07 7.235\n",
      "0 0.1625 0.3275 0.4925 0.6575 0.82 0.985 1.15 1.315 1.48 1.6425 1.8075 1.9725 2.1375 2.3 2.465 2.63 2.795 2.96 3.1225 3.2875 3.4525 3.6175 3.78 3.945 4.11 4.275 4.44 4.6025 4.7675 4.9325 5.0975 5.26 5.425 5.59 5.755 5.92 6.0825 6.2475 6.4125 6.5775 6.74 6.905 7.07 7.235\n",
      "0 0.1625 0.3275 0.4925 0.6575 0.82 0.985 1.15 1.315 1.48 1.6425 1.8075 1.9725 2.1375 2.3 2.465 2.63 2.795 2.96 3.1225 3.2875 3.4525 3.6175 3.78 3.945 4.11 4.275 4.44 4.6025 4.7675 4.9325 5.0975 5.26 5.425 5.59 5.755 5.92 6.0825 6.2475 6.4125 6.5775 6.74 6.905 7.07 7.235\n",
      "0 0.1625 0.3275 0.4925 0.6575 0.82 0.985 1.15 1.315 1.48 1.6425 1.8075 1.9725 2.1375 2.3 2.465 2.63 2.795 2.96 3.1225 3.2875 3.4525 3.6175 3.78 3.945 4.11 4.275 4.44 4.6025 4.7675 4.9325 5.0975 5.26 5.425 5.59 5.755 5.92 6.0825 6.2475 6.4125 6.5775 6.74 6.905 7.07 7.235\n",
      "0 0.1625 0.3275 0.4925 0.6575 0.82 0.985 1.15 1.315 1.48 1.6425 1.8075 1.9725 2.1375 2.3 2.465 2.63 2.795 2.96 3.1225 3.2875 3.4525 3.6175 3.78 3.945 4.11 4.275 4.44 4.6025 4.7675 4.9325 5.0975 5.26 5.425 5.59 5.755 5.92 6.0825 6.2475 6.4125 6.5775 6.74 6.905 7.07 7.235\n",
      "0 0.1625 0.3275 0.4925 0.6575 0.82 0.985 1.15 1.315 1.48 1.6425 1.8075 1.9725 2.1375 2.3 2.465 2.63 2.795 2.96 3.1225 3.2875 3.4525 3.6175 3.78 3.945 4.11 4.275 4.44 4.6025 4.7675 4.9325 5.0975 5.26 5.425 5.59 5.755 5.92 6.0825 6.2475 6.4125 6.5775 6.74 6.905 7.07 7.235\n",
      "0 0.82 0.1625 0.985 0.3275 1.15 0.4925 1.315 0.6575 0 0.82 0.1625 0.985 0.3275 1.15 0.4925 1.315 0.6575 0 0.82 0.1625 0.985 0.3275 1.15 0.4925 1.315 0.6575 0 0.82 0.1625 0.985 0.3275 1.15 0.4925 1.315 0.6575 0 0.82 0.1625 0.985 0.3275 1.15 0.4925 1.315 0.6575\n"
     ]
    },
    {
     "name": "stderr",
     "output_type": "stream",
     "text": [
      "++ 3drefit processed 1 datasets\n",
      "++ 3drefit: AFNI version=AFNI_24.2.00 (Jul 15 2024) [64-bit]\n",
      "++ Authored by: RW Cox\n",
      "++ Processing AFNI dataset /media/brain/Spatial/spatialfMRI/fMRI_data/spatialfMRI_nii/sub-01/func/sub-01_task-geo_run-02_echo-2_part-mag_bold.nii.gz\n",
      " + setting slice time offsets\n",
      " + loading and re-writing dataset /media/brain/Spatial/spatialfMRI/fMRI_data/spatialfMRI_nii/sub-01/func/sub-01_task-geo_run-02_echo-2_part-mag_bold.nii.gz (/media/brain/Spatial/spatialfMRI/fMRI_data/spatialfMRI_nii/sub-01/func/sub-01_task-geo_run-02_echo-2_part-mag_bold.nii.gz in NIFTI storage)\n"
     ]
    },
    {
     "name": "stdout",
     "output_type": "stream",
     "text": [
      "0 0.82 0.1625 0.985 0.3275 1.15 0.4925 1.315 0.6575 0 0.82 0.1625 0.985 0.3275 1.15 0.4925 1.315 0.6575 0 0.82 0.1625 0.985 0.3275 1.15 0.4925 1.315 0.6575 0 0.82 0.1625 0.985 0.3275 1.15 0.4925 1.315 0.6575 0 0.82 0.1625 0.985 0.3275 1.15 0.4925 1.315 0.6575\n"
     ]
    },
    {
     "name": "stderr",
     "output_type": "stream",
     "text": [
      "++ 3drefit processed 1 datasets\n",
      "++ 3drefit: AFNI version=AFNI_24.2.00 (Jul 15 2024) [64-bit]\n",
      "++ Authored by: RW Cox\n",
      "++ Processing AFNI dataset /media/brain/Spatial/spatialfMRI/fMRI_data/spatialfMRI_nii/sub-01/func/sub-01_task-geo_run-02_echo-3_part-mag_bold.nii.gz\n",
      " + setting slice time offsets\n",
      " + loading and re-writing dataset /media/brain/Spatial/spatialfMRI/fMRI_data/spatialfMRI_nii/sub-01/func/sub-01_task-geo_run-02_echo-3_part-mag_bold.nii.gz (/media/brain/Spatial/spatialfMRI/fMRI_data/spatialfMRI_nii/sub-01/func/sub-01_task-geo_run-02_echo-3_part-mag_bold.nii.gz in NIFTI storage)\n"
     ]
    },
    {
     "name": "stdout",
     "output_type": "stream",
     "text": [
      "0 0.82 0.1625 0.985 0.3275 1.15 0.4925 1.315 0.6575 0 0.82 0.1625 0.985 0.3275 1.15 0.4925 1.315 0.6575 0 0.82 0.1625 0.985 0.3275 1.15 0.4925 1.315 0.6575 0 0.82 0.1625 0.985 0.3275 1.15 0.4925 1.315 0.6575 0 0.82 0.1625 0.985 0.3275 1.15 0.4925 1.315 0.6575\n"
     ]
    },
    {
     "name": "stderr",
     "output_type": "stream",
     "text": [
      "++ 3drefit processed 1 datasets\n",
      "++ 3drefit: AFNI version=AFNI_24.2.00 (Jul 15 2024) [64-bit]\n",
      "++ Authored by: RW Cox\n",
      "++ Processing AFNI dataset /media/brain/Spatial/spatialfMRI/fMRI_data/spatialfMRI_nii/sub-01/func/sub-01_task-geo_run-02_echo-4_part-mag_bold.nii.gz\n",
      " + setting slice time offsets\n",
      " + loading and re-writing dataset /media/brain/Spatial/spatialfMRI/fMRI_data/spatialfMRI_nii/sub-01/func/sub-01_task-geo_run-02_echo-4_part-mag_bold.nii.gz (/media/brain/Spatial/spatialfMRI/fMRI_data/spatialfMRI_nii/sub-01/func/sub-01_task-geo_run-02_echo-4_part-mag_bold.nii.gz in NIFTI storage)\n"
     ]
    },
    {
     "name": "stdout",
     "output_type": "stream",
     "text": [
      "0 0.82 0.1625 0.985 0.3275 1.15 0.4925 1.315 0.6575 0 0.82 0.1625 0.985 0.3275 1.15 0.4925 1.315 0.6575 0 0.82 0.1625 0.985 0.3275 1.15 0.4925 1.315 0.6575 0 0.82 0.1625 0.985 0.3275 1.15 0.4925 1.315 0.6575 0 0.82 0.1625 0.985 0.3275 1.15 0.4925 1.315 0.6575\n"
     ]
    },
    {
     "name": "stderr",
     "output_type": "stream",
     "text": [
      "++ 3drefit processed 1 datasets\n",
      "++ 3drefit: AFNI version=AFNI_24.2.00 (Jul 15 2024) [64-bit]\n",
      "++ Authored by: RW Cox\n",
      "++ Processing AFNI dataset /media/brain/Spatial/spatialfMRI/fMRI_data/spatialfMRI_nii/sub-01/func/sub-01_task-geo_run-02_echo-5_part-mag_bold.nii.gz\n",
      " + setting slice time offsets\n",
      " + loading and re-writing dataset /media/brain/Spatial/spatialfMRI/fMRI_data/spatialfMRI_nii/sub-01/func/sub-01_task-geo_run-02_echo-5_part-mag_bold.nii.gz (/media/brain/Spatial/spatialfMRI/fMRI_data/spatialfMRI_nii/sub-01/func/sub-01_task-geo_run-02_echo-5_part-mag_bold.nii.gz in NIFTI storage)\n"
     ]
    },
    {
     "name": "stdout",
     "output_type": "stream",
     "text": [
      "0 0.82 0.1625 0.985 0.3275 1.15 0.4925 1.315 0.6575 0 0.82 0.1625 0.985 0.3275 1.15 0.4925 1.315 0.6575 0 0.82 0.1625 0.985 0.3275 1.15 0.4925 1.315 0.6575 0 0.82 0.1625 0.985 0.3275 1.15 0.4925 1.315 0.6575 0 0.82 0.1625 0.985 0.3275 1.15 0.4925 1.315 0.6575\n"
     ]
    },
    {
     "name": "stderr",
     "output_type": "stream",
     "text": [
      "++ 3drefit processed 1 datasets\n",
      "++ 3drefit: AFNI version=AFNI_24.2.00 (Jul 15 2024) [64-bit]\n",
      "++ Authored by: RW Cox\n",
      "++ Processing AFNI dataset /media/brain/Spatial/spatialfMRI/fMRI_data/spatialfMRI_nii/sub-01/func/sub-01_task-geo_run-02_echo-1_part-phase_bold.nii.gz\n",
      " + setting slice time offsets\n",
      " + loading and re-writing dataset /media/brain/Spatial/spatialfMRI/fMRI_data/spatialfMRI_nii/sub-01/func/sub-01_task-geo_run-02_echo-1_part-phase_bold.nii.gz (/media/brain/Spatial/spatialfMRI/fMRI_data/spatialfMRI_nii/sub-01/func/sub-01_task-geo_run-02_echo-1_part-phase_bold.nii.gz in NIFTI storage)\n"
     ]
    },
    {
     "name": "stdout",
     "output_type": "stream",
     "text": [
      "0 0.82 0.1625 0.985 0.3275 1.15 0.4925 1.315 0.6575 0 0.82 0.1625 0.985 0.3275 1.15 0.4925 1.315 0.6575 0 0.82 0.1625 0.985 0.3275 1.15 0.4925 1.315 0.6575 0 0.82 0.1625 0.985 0.3275 1.15 0.4925 1.315 0.6575 0 0.82 0.1625 0.985 0.3275 1.15 0.4925 1.315 0.6575\n"
     ]
    },
    {
     "name": "stderr",
     "output_type": "stream",
     "text": [
      "++ 3drefit processed 1 datasets\n",
      "++ 3drefit: AFNI version=AFNI_24.2.00 (Jul 15 2024) [64-bit]\n",
      "++ Authored by: RW Cox\n",
      "++ Processing AFNI dataset /media/brain/Spatial/spatialfMRI/fMRI_data/spatialfMRI_nii/sub-01/func/sub-01_task-geo_run-02_echo-2_part-phase_bold.nii.gz\n",
      " + setting slice time offsets\n",
      " + loading and re-writing dataset /media/brain/Spatial/spatialfMRI/fMRI_data/spatialfMRI_nii/sub-01/func/sub-01_task-geo_run-02_echo-2_part-phase_bold.nii.gz (/media/brain/Spatial/spatialfMRI/fMRI_data/spatialfMRI_nii/sub-01/func/sub-01_task-geo_run-02_echo-2_part-phase_bold.nii.gz in NIFTI storage)\n"
     ]
    },
    {
     "name": "stdout",
     "output_type": "stream",
     "text": [
      "0 0.82 0.1625 0.985 0.3275 1.15 0.4925 1.315 0.6575 0 0.82 0.1625 0.985 0.3275 1.15 0.4925 1.315 0.6575 0 0.82 0.1625 0.985 0.3275 1.15 0.4925 1.315 0.6575 0 0.82 0.1625 0.985 0.3275 1.15 0.4925 1.315 0.6575 0 0.82 0.1625 0.985 0.3275 1.15 0.4925 1.315 0.6575\n"
     ]
    },
    {
     "name": "stderr",
     "output_type": "stream",
     "text": [
      "++ 3drefit processed 1 datasets\n",
      "++ 3drefit: AFNI version=AFNI_24.2.00 (Jul 15 2024) [64-bit]\n",
      "++ Authored by: RW Cox\n",
      "++ Processing AFNI dataset /media/brain/Spatial/spatialfMRI/fMRI_data/spatialfMRI_nii/sub-01/func/sub-01_task-geo_run-02_echo-3_part-phase_bold.nii.gz\n",
      " + setting slice time offsets\n",
      " + loading and re-writing dataset /media/brain/Spatial/spatialfMRI/fMRI_data/spatialfMRI_nii/sub-01/func/sub-01_task-geo_run-02_echo-3_part-phase_bold.nii.gz (/media/brain/Spatial/spatialfMRI/fMRI_data/spatialfMRI_nii/sub-01/func/sub-01_task-geo_run-02_echo-3_part-phase_bold.nii.gz in NIFTI storage)\n"
     ]
    },
    {
     "name": "stdout",
     "output_type": "stream",
     "text": [
      "0 0.82 0.1625 0.985 0.3275 1.15 0.4925 1.315 0.6575 0 0.82 0.1625 0.985 0.3275 1.15 0.4925 1.315 0.6575 0 0.82 0.1625 0.985 0.3275 1.15 0.4925 1.315 0.6575 0 0.82 0.1625 0.985 0.3275 1.15 0.4925 1.315 0.6575 0 0.82 0.1625 0.985 0.3275 1.15 0.4925 1.315 0.6575\n"
     ]
    },
    {
     "name": "stderr",
     "output_type": "stream",
     "text": [
      "++ 3drefit processed 1 datasets\n",
      "++ 3drefit: AFNI version=AFNI_24.2.00 (Jul 15 2024) [64-bit]\n",
      "++ Authored by: RW Cox\n",
      "++ Processing AFNI dataset /media/brain/Spatial/spatialfMRI/fMRI_data/spatialfMRI_nii/sub-01/func/sub-01_task-geo_run-02_echo-4_part-phase_bold.nii.gz\n",
      " + setting slice time offsets\n",
      " + loading and re-writing dataset /media/brain/Spatial/spatialfMRI/fMRI_data/spatialfMRI_nii/sub-01/func/sub-01_task-geo_run-02_echo-4_part-phase_bold.nii.gz (/media/brain/Spatial/spatialfMRI/fMRI_data/spatialfMRI_nii/sub-01/func/sub-01_task-geo_run-02_echo-4_part-phase_bold.nii.gz in NIFTI storage)\n"
     ]
    },
    {
     "name": "stdout",
     "output_type": "stream",
     "text": [
      "0 0.82 0.1625 0.985 0.3275 1.15 0.4925 1.315 0.6575 0 0.82 0.1625 0.985 0.3275 1.15 0.4925 1.315 0.6575 0 0.82 0.1625 0.985 0.3275 1.15 0.4925 1.315 0.6575 0 0.82 0.1625 0.985 0.3275 1.15 0.4925 1.315 0.6575 0 0.82 0.1625 0.985 0.3275 1.15 0.4925 1.315 0.6575\n"
     ]
    },
    {
     "name": "stderr",
     "output_type": "stream",
     "text": [
      "++ 3drefit processed 1 datasets\n",
      "++ 3drefit: AFNI version=AFNI_24.2.00 (Jul 15 2024) [64-bit]\n",
      "++ Authored by: RW Cox\n",
      "++ Processing AFNI dataset /media/brain/Spatial/spatialfMRI/fMRI_data/spatialfMRI_nii/sub-01/func/sub-01_task-geo_run-02_echo-5_part-phase_bold.nii.gz\n",
      " + setting slice time offsets\n",
      " + loading and re-writing dataset /media/brain/Spatial/spatialfMRI/fMRI_data/spatialfMRI_nii/sub-01/func/sub-01_task-geo_run-02_echo-5_part-phase_bold.nii.gz (/media/brain/Spatial/spatialfMRI/fMRI_data/spatialfMRI_nii/sub-01/func/sub-01_task-geo_run-02_echo-5_part-phase_bold.nii.gz in NIFTI storage)\n"
     ]
    },
    {
     "name": "stdout",
     "output_type": "stream",
     "text": [
      "0 0.82 0.1625 0.985 0.3275 1.15 0.4925 1.315 0.6575 0 0.82 0.1625 0.985 0.3275 1.15 0.4925 1.315 0.6575 0 0.82 0.1625 0.985 0.3275 1.15 0.4925 1.315 0.6575 0 0.82 0.1625 0.985 0.3275 1.15 0.4925 1.315 0.6575 0 0.82 0.1625 0.985 0.3275 1.15 0.4925 1.315 0.6575\n"
     ]
    },
    {
     "name": "stderr",
     "output_type": "stream",
     "text": [
      "++ 3drefit processed 1 datasets\n",
      "++ 3drefit: AFNI version=AFNI_24.2.00 (Jul 15 2024) [64-bit]\n",
      "++ Authored by: RW Cox\n",
      "++ Processing AFNI dataset /media/brain/Spatial/spatialfMRI/fMRI_data/spatialfMRI_nii/sub-01/func/sub-01_task-geo_run-03_echo-1_part-mag_sbref.nii.gz\n",
      "\u001b[7m*+ WARNING:\u001b[0m -Tslices: dataset has no time axis to add slice offset to!\n",
      " + Didn't make any changes for dataset /media/brain/Spatial/spatialfMRI/fMRI_data/spatialfMRI_nii/sub-01/func/sub-01_task-geo_run-03_echo-1_part-mag_sbref.nii.gz !\n",
      "++ 3drefit processed 1 datasets\n",
      "++ 3drefit: AFNI version=AFNI_24.2.00 (Jul 15 2024) [64-bit]\n",
      "++ Authored by: RW Cox\n",
      "++ Processing AFNI dataset /media/brain/Spatial/spatialfMRI/fMRI_data/spatialfMRI_nii/sub-01/func/sub-01_task-geo_run-03_echo-2_part-mag_sbref.nii.gz\n",
      "\u001b[7m*+ WARNING:\u001b[0m -Tslices: dataset has no time axis to add slice offset to!\n",
      " + Didn't make any changes for dataset /media/brain/Spatial/spatialfMRI/fMRI_data/spatialfMRI_nii/sub-01/func/sub-01_task-geo_run-03_echo-2_part-mag_sbref.nii.gz !\n",
      "++ 3drefit processed 1 datasets\n",
      "++ 3drefit: AFNI version=AFNI_24.2.00 (Jul 15 2024) [64-bit]\n",
      "++ Authored by: RW Cox\n",
      "++ Processing AFNI dataset /media/brain/Spatial/spatialfMRI/fMRI_data/spatialfMRI_nii/sub-01/func/sub-01_task-geo_run-03_echo-3_part-mag_sbref.nii.gz\n",
      "\u001b[7m*+ WARNING:\u001b[0m -Tslices: dataset has no time axis to add slice offset to!\n",
      " + Didn't make any changes for dataset /media/brain/Spatial/spatialfMRI/fMRI_data/spatialfMRI_nii/sub-01/func/sub-01_task-geo_run-03_echo-3_part-mag_sbref.nii.gz !\n",
      "++ 3drefit processed 1 datasets\n",
      "++ 3drefit: AFNI version=AFNI_24.2.00 (Jul 15 2024) [64-bit]\n",
      "++ Authored by: RW Cox\n",
      "++ Processing AFNI dataset /media/brain/Spatial/spatialfMRI/fMRI_data/spatialfMRI_nii/sub-01/func/sub-01_task-geo_run-03_echo-4_part-mag_sbref.nii.gz\n",
      "\u001b[7m*+ WARNING:\u001b[0m -Tslices: dataset has no time axis to add slice offset to!\n",
      " + Didn't make any changes for dataset /media/brain/Spatial/spatialfMRI/fMRI_data/spatialfMRI_nii/sub-01/func/sub-01_task-geo_run-03_echo-4_part-mag_sbref.nii.gz !\n",
      "++ 3drefit processed 1 datasets\n",
      "++ 3drefit: AFNI version=AFNI_24.2.00 (Jul 15 2024) [64-bit]\n",
      "++ Authored by: RW Cox\n",
      "++ Processing AFNI dataset /media/brain/Spatial/spatialfMRI/fMRI_data/spatialfMRI_nii/sub-01/func/sub-01_task-geo_run-03_echo-5_part-mag_sbref.nii.gz\n",
      "\u001b[7m*+ WARNING:\u001b[0m -Tslices: dataset has no time axis to add slice offset to!\n",
      " + Didn't make any changes for dataset /media/brain/Spatial/spatialfMRI/fMRI_data/spatialfMRI_nii/sub-01/func/sub-01_task-geo_run-03_echo-5_part-mag_sbref.nii.gz !\n",
      "++ 3drefit processed 1 datasets\n",
      "++ 3drefit: AFNI version=AFNI_24.2.00 (Jul 15 2024) [64-bit]\n",
      "++ Authored by: RW Cox\n",
      "++ Processing AFNI dataset /media/brain/Spatial/spatialfMRI/fMRI_data/spatialfMRI_nii/sub-01/func/sub-01_task-geo_run-03_echo-1_part-phase_sbref.nii.gz\n",
      "\u001b[7m*+ WARNING:\u001b[0m -Tslices: dataset has no time axis to add slice offset to!\n",
      " + Didn't make any changes for dataset /media/brain/Spatial/spatialfMRI/fMRI_data/spatialfMRI_nii/sub-01/func/sub-01_task-geo_run-03_echo-1_part-phase_sbref.nii.gz !\n",
      "++ 3drefit processed 1 datasets\n",
      "++ 3drefit: AFNI version=AFNI_24.2.00 (Jul 15 2024) [64-bit]\n",
      "++ Authored by: RW Cox\n",
      "++ Processing AFNI dataset /media/brain/Spatial/spatialfMRI/fMRI_data/spatialfMRI_nii/sub-01/func/sub-01_task-geo_run-03_echo-2_part-phase_sbref.nii.gz\n",
      "\u001b[7m*+ WARNING:\u001b[0m -Tslices: dataset has no time axis to add slice offset to!\n",
      " + Didn't make any changes for dataset /media/brain/Spatial/spatialfMRI/fMRI_data/spatialfMRI_nii/sub-01/func/sub-01_task-geo_run-03_echo-2_part-phase_sbref.nii.gz !\n",
      "++ 3drefit processed 1 datasets\n",
      "++ 3drefit: AFNI version=AFNI_24.2.00 (Jul 15 2024) [64-bit]\n",
      "++ Authored by: RW Cox\n",
      "++ Processing AFNI dataset /media/brain/Spatial/spatialfMRI/fMRI_data/spatialfMRI_nii/sub-01/func/sub-01_task-geo_run-03_echo-3_part-phase_sbref.nii.gz\n",
      "\u001b[7m*+ WARNING:\u001b[0m -Tslices: dataset has no time axis to add slice offset to!\n",
      " + Didn't make any changes for dataset /media/brain/Spatial/spatialfMRI/fMRI_data/spatialfMRI_nii/sub-01/func/sub-01_task-geo_run-03_echo-3_part-phase_sbref.nii.gz !\n",
      "++ 3drefit processed 1 datasets\n",
      "++ 3drefit: AFNI version=AFNI_24.2.00 (Jul 15 2024) [64-bit]\n",
      "++ Authored by: RW Cox\n",
      "++ Processing AFNI dataset /media/brain/Spatial/spatialfMRI/fMRI_data/spatialfMRI_nii/sub-01/func/sub-01_task-geo_run-03_echo-4_part-phase_sbref.nii.gz\n",
      "\u001b[7m*+ WARNING:\u001b[0m -Tslices: dataset has no time axis to add slice offset to!\n",
      " + Didn't make any changes for dataset /media/brain/Spatial/spatialfMRI/fMRI_data/spatialfMRI_nii/sub-01/func/sub-01_task-geo_run-03_echo-4_part-phase_sbref.nii.gz !\n",
      "++ 3drefit processed 1 datasets\n",
      "++ 3drefit: AFNI version=AFNI_24.2.00 (Jul 15 2024) [64-bit]\n",
      "++ Authored by: RW Cox\n",
      "++ Processing AFNI dataset /media/brain/Spatial/spatialfMRI/fMRI_data/spatialfMRI_nii/sub-01/func/sub-01_task-geo_run-03_echo-5_part-phase_sbref.nii.gz\n",
      "\u001b[7m*+ WARNING:\u001b[0m -Tslices: dataset has no time axis to add slice offset to!\n",
      " + Didn't make any changes for dataset /media/brain/Spatial/spatialfMRI/fMRI_data/spatialfMRI_nii/sub-01/func/sub-01_task-geo_run-03_echo-5_part-phase_sbref.nii.gz !\n",
      "++ 3drefit processed 1 datasets\n",
      "++ 3drefit: AFNI version=AFNI_24.2.00 (Jul 15 2024) [64-bit]\n",
      "++ Authored by: RW Cox\n",
      "++ Processing AFNI dataset /media/brain/Spatial/spatialfMRI/fMRI_data/spatialfMRI_nii/sub-01/func/sub-01_task-geo_run-03_echo-1_part-mag_bold.nii.gz\n",
      " + setting slice time offsets\n",
      " + loading and re-writing dataset /media/brain/Spatial/spatialfMRI/fMRI_data/spatialfMRI_nii/sub-01/func/sub-01_task-geo_run-03_echo-1_part-mag_bold.nii.gz (/media/brain/Spatial/spatialfMRI/fMRI_data/spatialfMRI_nii/sub-01/func/sub-01_task-geo_run-03_echo-1_part-mag_bold.nii.gz in NIFTI storage)\n"
     ]
    },
    {
     "name": "stdout",
     "output_type": "stream",
     "text": [
      "0 0.165 0.3275 0.4925 0.6575 0.8225 0.9875 1.15 1.315 1.48 1.645 1.8075 1.9725 2.1375 2.3025 2.465 2.63 2.795 2.96 3.125 3.2875 3.4525 3.6175 3.7825 3.945 4.11 4.275 4.44 4.605 4.7675 4.9325 5.0975 5.2625 5.425 5.59 5.755 5.92 6.085 6.2475 6.4125 6.5775 6.7425 6.905 7.07 7.235\n",
      "0 0.165 0.3275 0.4925 0.6575 0.8225 0.9875 1.15 1.315 1.48 1.645 1.8075 1.9725 2.1375 2.3025 2.465 2.63 2.795 2.96 3.125 3.2875 3.4525 3.6175 3.7825 3.945 4.11 4.275 4.44 4.605 4.7675 4.9325 5.0975 5.2625 5.425 5.59 5.755 5.92 6.085 6.2475 6.4125 6.5775 6.7425 6.905 7.07 7.235\n",
      "0 0.165 0.3275 0.4925 0.6575 0.8225 0.9875 1.15 1.315 1.48 1.645 1.8075 1.9725 2.1375 2.3025 2.465 2.63 2.795 2.96 3.125 3.2875 3.4525 3.6175 3.7825 3.945 4.11 4.275 4.44 4.605 4.7675 4.9325 5.0975 5.2625 5.425 5.59 5.755 5.92 6.085 6.2475 6.4125 6.5775 6.7425 6.905 7.07 7.235\n",
      "0 0.165 0.3275 0.4925 0.6575 0.8225 0.9875 1.15 1.315 1.48 1.645 1.8075 1.9725 2.1375 2.3025 2.465 2.63 2.795 2.96 3.125 3.2875 3.4525 3.6175 3.7825 3.945 4.11 4.275 4.44 4.605 4.7675 4.9325 5.0975 5.2625 5.425 5.59 5.755 5.92 6.085 6.2475 6.4125 6.5775 6.7425 6.905 7.07 7.235\n",
      "0 0.165 0.3275 0.4925 0.6575 0.8225 0.9875 1.15 1.315 1.48 1.645 1.8075 1.9725 2.1375 2.3025 2.4675 2.63 2.795 2.96 3.125 3.2875 3.4525 3.6175 3.7825 3.945 4.11 4.275 4.44 4.605 4.7675 4.9325 5.0975 5.2625 5.425 5.59 5.755 5.92 6.085 6.2475 6.4125 6.5775 6.7425 6.905 7.07 7.235\n",
      "0 0.165 0.3275 0.4925 0.6575 0.8225 0.9875 1.15 1.315 1.48 1.645 1.8075 1.9725 2.1375 2.3025 2.465 2.63 2.795 2.96 3.125 3.2875 3.4525 3.6175 3.7825 3.945 4.11 4.275 4.44 4.605 4.7675 4.9325 5.0975 5.2625 5.425 5.59 5.755 5.92 6.085 6.2475 6.4125 6.5775 6.7425 6.905 7.07 7.235\n",
      "0 0.165 0.3275 0.4925 0.6575 0.8225 0.9875 1.15 1.315 1.48 1.645 1.8075 1.9725 2.1375 2.3025 2.465 2.63 2.795 2.96 3.125 3.2875 3.4525 3.6175 3.7825 3.945 4.11 4.275 4.44 4.605 4.7675 4.9325 5.0975 5.2625 5.425 5.59 5.755 5.92 6.085 6.2475 6.4125 6.5775 6.7425 6.905 7.07 7.235\n",
      "0 0.165 0.3275 0.4925 0.6575 0.8225 0.9875 1.15 1.315 1.48 1.645 1.8075 1.9725 2.1375 2.3025 2.465 2.63 2.795 2.96 3.125 3.2875 3.4525 3.6175 3.7825 3.945 4.11 4.275 4.44 4.605 4.7675 4.9325 5.0975 5.2625 5.425 5.59 5.755 5.92 6.085 6.2475 6.4125 6.5775 6.7425 6.905 7.07 7.235\n",
      "0 0.165 0.3275 0.4925 0.6575 0.8225 0.9875 1.15 1.315 1.48 1.645 1.8075 1.9725 2.1375 2.3025 2.465 2.63 2.795 2.96 3.125 3.2875 3.4525 3.6175 3.7825 3.945 4.11 4.275 4.44 4.605 4.7675 4.9325 5.0975 5.2625 5.425 5.59 5.755 5.92 6.085 6.2475 6.4125 6.5775 6.7425 6.905 7.07 7.235\n",
      "0 0.165 0.3275 0.4925 0.6575 0.8225 0.9875 1.15 1.315 1.48 1.645 1.8075 1.9725 2.1375 2.3025 2.4675 2.63 2.795 2.96 3.125 3.2875 3.4525 3.6175 3.7825 3.945 4.11 4.275 4.44 4.605 4.7675 4.9325 5.0975 5.2625 5.425 5.59 5.755 5.92 6.085 6.2475 6.4125 6.5775 6.7425 6.905 7.07 7.235\n",
      "0 0.8225 0.165 0.9875 0.3275 1.15 0.4925 1.315 0.6575 0 0.8225 0.165 0.9875 0.3275 1.15 0.4925 1.315 0.6575 0 0.8225 0.165 0.9875 0.3275 1.15 0.4925 1.315 0.6575 0 0.8225 0.165 0.9875 0.3275 1.15 0.4925 1.315 0.6575 0 0.8225 0.165 0.9875 0.3275 1.15 0.4925 1.315 0.6575\n"
     ]
    },
    {
     "name": "stderr",
     "output_type": "stream",
     "text": [
      "++ 3drefit processed 1 datasets\n",
      "++ 3drefit: AFNI version=AFNI_24.2.00 (Jul 15 2024) [64-bit]\n",
      "++ Authored by: RW Cox\n",
      "++ Processing AFNI dataset /media/brain/Spatial/spatialfMRI/fMRI_data/spatialfMRI_nii/sub-01/func/sub-01_task-geo_run-03_echo-2_part-mag_bold.nii.gz\n",
      " + setting slice time offsets\n",
      " + loading and re-writing dataset /media/brain/Spatial/spatialfMRI/fMRI_data/spatialfMRI_nii/sub-01/func/sub-01_task-geo_run-03_echo-2_part-mag_bold.nii.gz (/media/brain/Spatial/spatialfMRI/fMRI_data/spatialfMRI_nii/sub-01/func/sub-01_task-geo_run-03_echo-2_part-mag_bold.nii.gz in NIFTI storage)\n"
     ]
    },
    {
     "name": "stdout",
     "output_type": "stream",
     "text": [
      "0 0.8225 0.165 0.9875 0.3275 1.15 0.4925 1.315 0.6575 0 0.8225 0.165 0.9875 0.3275 1.15 0.4925 1.315 0.6575 0 0.8225 0.165 0.9875 0.3275 1.15 0.4925 1.315 0.6575 0 0.8225 0.165 0.9875 0.3275 1.15 0.4925 1.315 0.6575 0 0.8225 0.165 0.9875 0.3275 1.15 0.4925 1.315 0.6575\n"
     ]
    },
    {
     "name": "stderr",
     "output_type": "stream",
     "text": [
      "++ 3drefit processed 1 datasets\n",
      "++ 3drefit: AFNI version=AFNI_24.2.00 (Jul 15 2024) [64-bit]\n",
      "++ Authored by: RW Cox\n",
      "++ Processing AFNI dataset /media/brain/Spatial/spatialfMRI/fMRI_data/spatialfMRI_nii/sub-01/func/sub-01_task-geo_run-03_echo-3_part-mag_bold.nii.gz\n",
      " + setting slice time offsets\n",
      " + loading and re-writing dataset /media/brain/Spatial/spatialfMRI/fMRI_data/spatialfMRI_nii/sub-01/func/sub-01_task-geo_run-03_echo-3_part-mag_bold.nii.gz (/media/brain/Spatial/spatialfMRI/fMRI_data/spatialfMRI_nii/sub-01/func/sub-01_task-geo_run-03_echo-3_part-mag_bold.nii.gz in NIFTI storage)\n"
     ]
    },
    {
     "name": "stdout",
     "output_type": "stream",
     "text": [
      "0 0.8225 0.165 0.9875 0.3275 1.15 0.4925 1.315 0.6575 0 0.8225 0.165 0.9875 0.3275 1.15 0.4925 1.315 0.6575 0 0.8225 0.165 0.9875 0.3275 1.15 0.4925 1.315 0.6575 0 0.8225 0.165 0.9875 0.3275 1.15 0.4925 1.315 0.6575 0 0.8225 0.165 0.9875 0.3275 1.15 0.4925 1.315 0.6575\n"
     ]
    },
    {
     "name": "stderr",
     "output_type": "stream",
     "text": [
      "++ 3drefit processed 1 datasets\n",
      "++ 3drefit: AFNI version=AFNI_24.2.00 (Jul 15 2024) [64-bit]\n",
      "++ Authored by: RW Cox\n",
      "++ Processing AFNI dataset /media/brain/Spatial/spatialfMRI/fMRI_data/spatialfMRI_nii/sub-01/func/sub-01_task-geo_run-03_echo-4_part-mag_bold.nii.gz\n",
      " + setting slice time offsets\n",
      " + loading and re-writing dataset /media/brain/Spatial/spatialfMRI/fMRI_data/spatialfMRI_nii/sub-01/func/sub-01_task-geo_run-03_echo-4_part-mag_bold.nii.gz (/media/brain/Spatial/spatialfMRI/fMRI_data/spatialfMRI_nii/sub-01/func/sub-01_task-geo_run-03_echo-4_part-mag_bold.nii.gz in NIFTI storage)\n"
     ]
    },
    {
     "name": "stdout",
     "output_type": "stream",
     "text": [
      "0 0.8225 0.165 0.9875 0.3275 1.15 0.4925 1.315 0.6575 0 0.8225 0.165 0.9875 0.3275 1.15 0.4925 1.315 0.6575 0 0.8225 0.165 0.9875 0.3275 1.15 0.4925 1.315 0.6575 0 0.8225 0.165 0.9875 0.3275 1.15 0.4925 1.315 0.6575 0 0.8225 0.165 0.9875 0.3275 1.15 0.4925 1.315 0.6575\n"
     ]
    },
    {
     "name": "stderr",
     "output_type": "stream",
     "text": [
      "++ 3drefit processed 1 datasets\n",
      "++ 3drefit: AFNI version=AFNI_24.2.00 (Jul 15 2024) [64-bit]\n",
      "++ Authored by: RW Cox\n",
      "++ Processing AFNI dataset /media/brain/Spatial/spatialfMRI/fMRI_data/spatialfMRI_nii/sub-01/func/sub-01_task-geo_run-03_echo-5_part-mag_bold.nii.gz\n",
      " + setting slice time offsets\n",
      " + loading and re-writing dataset /media/brain/Spatial/spatialfMRI/fMRI_data/spatialfMRI_nii/sub-01/func/sub-01_task-geo_run-03_echo-5_part-mag_bold.nii.gz (/media/brain/Spatial/spatialfMRI/fMRI_data/spatialfMRI_nii/sub-01/func/sub-01_task-geo_run-03_echo-5_part-mag_bold.nii.gz in NIFTI storage)\n"
     ]
    },
    {
     "name": "stdout",
     "output_type": "stream",
     "text": [
      "0 0.8225 0.165 0.9875 0.3275 1.15 0.4925 1.315 0.6575 0 0.8225 0.165 0.9875 0.3275 1.15 0.4925 1.315 0.6575 0 0.8225 0.165 0.9875 0.3275 1.15 0.4925 1.315 0.6575 0 0.8225 0.165 0.9875 0.3275 1.15 0.4925 1.315 0.6575 0 0.8225 0.165 0.9875 0.3275 1.15 0.4925 1.315 0.6575\n"
     ]
    },
    {
     "name": "stderr",
     "output_type": "stream",
     "text": [
      "++ 3drefit processed 1 datasets\n",
      "++ 3drefit: AFNI version=AFNI_24.2.00 (Jul 15 2024) [64-bit]\n",
      "++ Authored by: RW Cox\n",
      "++ Processing AFNI dataset /media/brain/Spatial/spatialfMRI/fMRI_data/spatialfMRI_nii/sub-01/func/sub-01_task-geo_run-03_echo-1_part-phase_bold.nii.gz\n",
      " + setting slice time offsets\n",
      " + loading and re-writing dataset /media/brain/Spatial/spatialfMRI/fMRI_data/spatialfMRI_nii/sub-01/func/sub-01_task-geo_run-03_echo-1_part-phase_bold.nii.gz (/media/brain/Spatial/spatialfMRI/fMRI_data/spatialfMRI_nii/sub-01/func/sub-01_task-geo_run-03_echo-1_part-phase_bold.nii.gz in NIFTI storage)\n"
     ]
    },
    {
     "name": "stdout",
     "output_type": "stream",
     "text": [
      "0 0.8225 0.165 0.9875 0.3275 1.15 0.4925 1.315 0.6575 0 0.8225 0.165 0.9875 0.3275 1.15 0.4925 1.315 0.6575 0 0.8225 0.165 0.9875 0.3275 1.15 0.4925 1.315 0.6575 0 0.8225 0.165 0.9875 0.3275 1.15 0.4925 1.315 0.6575 0 0.8225 0.165 0.9875 0.3275 1.15 0.4925 1.315 0.6575\n"
     ]
    },
    {
     "name": "stderr",
     "output_type": "stream",
     "text": [
      "++ 3drefit processed 1 datasets\n",
      "++ 3drefit: AFNI version=AFNI_24.2.00 (Jul 15 2024) [64-bit]\n",
      "++ Authored by: RW Cox\n",
      "++ Processing AFNI dataset /media/brain/Spatial/spatialfMRI/fMRI_data/spatialfMRI_nii/sub-01/func/sub-01_task-geo_run-03_echo-2_part-phase_bold.nii.gz\n",
      " + setting slice time offsets\n",
      " + loading and re-writing dataset /media/brain/Spatial/spatialfMRI/fMRI_data/spatialfMRI_nii/sub-01/func/sub-01_task-geo_run-03_echo-2_part-phase_bold.nii.gz (/media/brain/Spatial/spatialfMRI/fMRI_data/spatialfMRI_nii/sub-01/func/sub-01_task-geo_run-03_echo-2_part-phase_bold.nii.gz in NIFTI storage)\n"
     ]
    },
    {
     "name": "stdout",
     "output_type": "stream",
     "text": [
      "0 0.8225 0.165 0.9875 0.3275 1.15 0.4925 1.315 0.6575 0 0.8225 0.165 0.9875 0.3275 1.15 0.4925 1.315 0.6575 0 0.8225 0.165 0.9875 0.3275 1.15 0.4925 1.315 0.6575 0 0.8225 0.165 0.9875 0.3275 1.15 0.4925 1.315 0.6575 0 0.8225 0.165 0.9875 0.3275 1.15 0.4925 1.315 0.6575\n"
     ]
    },
    {
     "name": "stderr",
     "output_type": "stream",
     "text": [
      "++ 3drefit processed 1 datasets\n",
      "++ 3drefit: AFNI version=AFNI_24.2.00 (Jul 15 2024) [64-bit]\n",
      "++ Authored by: RW Cox\n",
      "++ Processing AFNI dataset /media/brain/Spatial/spatialfMRI/fMRI_data/spatialfMRI_nii/sub-01/func/sub-01_task-geo_run-03_echo-3_part-phase_bold.nii.gz\n",
      " + setting slice time offsets\n",
      " + loading and re-writing dataset /media/brain/Spatial/spatialfMRI/fMRI_data/spatialfMRI_nii/sub-01/func/sub-01_task-geo_run-03_echo-3_part-phase_bold.nii.gz (/media/brain/Spatial/spatialfMRI/fMRI_data/spatialfMRI_nii/sub-01/func/sub-01_task-geo_run-03_echo-3_part-phase_bold.nii.gz in NIFTI storage)\n"
     ]
    },
    {
     "name": "stdout",
     "output_type": "stream",
     "text": [
      "0 0.8225 0.165 0.9875 0.3275 1.15 0.4925 1.315 0.6575 0 0.8225 0.165 0.9875 0.3275 1.15 0.4925 1.315 0.6575 0 0.8225 0.165 0.9875 0.3275 1.15 0.4925 1.315 0.6575 0 0.8225 0.165 0.9875 0.3275 1.15 0.4925 1.315 0.6575 0 0.8225 0.165 0.9875 0.3275 1.15 0.4925 1.315 0.6575\n"
     ]
    },
    {
     "name": "stderr",
     "output_type": "stream",
     "text": [
      "++ 3drefit processed 1 datasets\n",
      "++ 3drefit: AFNI version=AFNI_24.2.00 (Jul 15 2024) [64-bit]\n",
      "++ Authored by: RW Cox\n",
      "++ Processing AFNI dataset /media/brain/Spatial/spatialfMRI/fMRI_data/spatialfMRI_nii/sub-01/func/sub-01_task-geo_run-03_echo-4_part-phase_bold.nii.gz\n",
      " + setting slice time offsets\n",
      " + loading and re-writing dataset /media/brain/Spatial/spatialfMRI/fMRI_data/spatialfMRI_nii/sub-01/func/sub-01_task-geo_run-03_echo-4_part-phase_bold.nii.gz (/media/brain/Spatial/spatialfMRI/fMRI_data/spatialfMRI_nii/sub-01/func/sub-01_task-geo_run-03_echo-4_part-phase_bold.nii.gz in NIFTI storage)\n"
     ]
    },
    {
     "name": "stdout",
     "output_type": "stream",
     "text": [
      "0 0.8225 0.165 0.9875 0.3275 1.15 0.4925 1.315 0.6575 0 0.8225 0.165 0.9875 0.3275 1.15 0.4925 1.315 0.6575 0 0.8225 0.165 0.9875 0.3275 1.15 0.4925 1.315 0.6575 0 0.8225 0.165 0.9875 0.3275 1.15 0.4925 1.315 0.6575 0 0.8225 0.165 0.9875 0.3275 1.15 0.4925 1.315 0.6575\n"
     ]
    },
    {
     "name": "stderr",
     "output_type": "stream",
     "text": [
      "++ 3drefit processed 1 datasets\n",
      "++ 3drefit: AFNI version=AFNI_24.2.00 (Jul 15 2024) [64-bit]\n",
      "++ Authored by: RW Cox\n",
      "++ Processing AFNI dataset /media/brain/Spatial/spatialfMRI/fMRI_data/spatialfMRI_nii/sub-01/func/sub-01_task-geo_run-03_echo-5_part-phase_bold.nii.gz\n",
      " + setting slice time offsets\n",
      " + loading and re-writing dataset /media/brain/Spatial/spatialfMRI/fMRI_data/spatialfMRI_nii/sub-01/func/sub-01_task-geo_run-03_echo-5_part-phase_bold.nii.gz (/media/brain/Spatial/spatialfMRI/fMRI_data/spatialfMRI_nii/sub-01/func/sub-01_task-geo_run-03_echo-5_part-phase_bold.nii.gz in NIFTI storage)\n"
     ]
    },
    {
     "name": "stdout",
     "output_type": "stream",
     "text": [
      "0 0.8225 0.165 0.9875 0.3275 1.15 0.4925 1.315 0.6575 0 0.8225 0.165 0.9875 0.3275 1.15 0.4925 1.315 0.6575 0 0.8225 0.165 0.9875 0.3275 1.15 0.4925 1.315 0.6575 0 0.8225 0.165 0.9875 0.3275 1.15 0.4925 1.315 0.6575 0 0.8225 0.165 0.9875 0.3275 1.15 0.4925 1.315 0.6575\n"
     ]
    },
    {
     "name": "stderr",
     "output_type": "stream",
     "text": [
      "++ 3drefit processed 1 datasets\n",
      "++ 3drefit: AFNI version=AFNI_24.2.00 (Jul 15 2024) [64-bit]\n",
      "++ Authored by: RW Cox\n",
      "++ Processing AFNI dataset /media/brain/Spatial/spatialfMRI/fMRI_data/spatialfMRI_nii/sub-01/func/sub-01_task-geo_run-04_echo-1_part-mag_sbref.nii.gz\n",
      "\u001b[7m*+ WARNING:\u001b[0m -Tslices: dataset has no time axis to add slice offset to!\n",
      " + Didn't make any changes for dataset /media/brain/Spatial/spatialfMRI/fMRI_data/spatialfMRI_nii/sub-01/func/sub-01_task-geo_run-04_echo-1_part-mag_sbref.nii.gz !\n",
      "++ 3drefit processed 1 datasets\n",
      "++ 3drefit: AFNI version=AFNI_24.2.00 (Jul 15 2024) [64-bit]\n",
      "++ Authored by: RW Cox\n",
      "++ Processing AFNI dataset /media/brain/Spatial/spatialfMRI/fMRI_data/spatialfMRI_nii/sub-01/func/sub-01_task-geo_run-04_echo-2_part-mag_sbref.nii.gz\n",
      "\u001b[7m*+ WARNING:\u001b[0m -Tslices: dataset has no time axis to add slice offset to!\n",
      " + Didn't make any changes for dataset /media/brain/Spatial/spatialfMRI/fMRI_data/spatialfMRI_nii/sub-01/func/sub-01_task-geo_run-04_echo-2_part-mag_sbref.nii.gz !\n",
      "++ 3drefit processed 1 datasets\n",
      "++ 3drefit: AFNI version=AFNI_24.2.00 (Jul 15 2024) [64-bit]\n",
      "++ Authored by: RW Cox\n",
      "++ Processing AFNI dataset /media/brain/Spatial/spatialfMRI/fMRI_data/spatialfMRI_nii/sub-01/func/sub-01_task-geo_run-04_echo-3_part-mag_sbref.nii.gz\n",
      "\u001b[7m*+ WARNING:\u001b[0m -Tslices: dataset has no time axis to add slice offset to!\n",
      " + Didn't make any changes for dataset /media/brain/Spatial/spatialfMRI/fMRI_data/spatialfMRI_nii/sub-01/func/sub-01_task-geo_run-04_echo-3_part-mag_sbref.nii.gz !\n",
      "++ 3drefit processed 1 datasets\n",
      "++ 3drefit: AFNI version=AFNI_24.2.00 (Jul 15 2024) [64-bit]\n",
      "++ Authored by: RW Cox\n",
      "++ Processing AFNI dataset /media/brain/Spatial/spatialfMRI/fMRI_data/spatialfMRI_nii/sub-01/func/sub-01_task-geo_run-04_echo-4_part-mag_sbref.nii.gz\n",
      "\u001b[7m*+ WARNING:\u001b[0m -Tslices: dataset has no time axis to add slice offset to!\n",
      " + Didn't make any changes for dataset /media/brain/Spatial/spatialfMRI/fMRI_data/spatialfMRI_nii/sub-01/func/sub-01_task-geo_run-04_echo-4_part-mag_sbref.nii.gz !\n",
      "++ 3drefit processed 1 datasets\n",
      "++ 3drefit: AFNI version=AFNI_24.2.00 (Jul 15 2024) [64-bit]\n",
      "++ Authored by: RW Cox\n",
      "++ Processing AFNI dataset /media/brain/Spatial/spatialfMRI/fMRI_data/spatialfMRI_nii/sub-01/func/sub-01_task-geo_run-04_echo-5_part-mag_sbref.nii.gz\n",
      "\u001b[7m*+ WARNING:\u001b[0m -Tslices: dataset has no time axis to add slice offset to!\n",
      " + Didn't make any changes for dataset /media/brain/Spatial/spatialfMRI/fMRI_data/spatialfMRI_nii/sub-01/func/sub-01_task-geo_run-04_echo-5_part-mag_sbref.nii.gz !\n",
      "++ 3drefit processed 1 datasets\n",
      "++ 3drefit: AFNI version=AFNI_24.2.00 (Jul 15 2024) [64-bit]\n",
      "++ Authored by: RW Cox\n",
      "++ Processing AFNI dataset /media/brain/Spatial/spatialfMRI/fMRI_data/spatialfMRI_nii/sub-01/func/sub-01_task-geo_run-04_echo-1_part-phase_sbref.nii.gz\n",
      "\u001b[7m*+ WARNING:\u001b[0m -Tslices: dataset has no time axis to add slice offset to!\n",
      " + Didn't make any changes for dataset /media/brain/Spatial/spatialfMRI/fMRI_data/spatialfMRI_nii/sub-01/func/sub-01_task-geo_run-04_echo-1_part-phase_sbref.nii.gz !\n",
      "++ 3drefit processed 1 datasets\n",
      "++ 3drefit: AFNI version=AFNI_24.2.00 (Jul 15 2024) [64-bit]\n",
      "++ Authored by: RW Cox\n",
      "++ Processing AFNI dataset /media/brain/Spatial/spatialfMRI/fMRI_data/spatialfMRI_nii/sub-01/func/sub-01_task-geo_run-04_echo-2_part-phase_sbref.nii.gz\n",
      "\u001b[7m*+ WARNING:\u001b[0m -Tslices: dataset has no time axis to add slice offset to!\n",
      " + Didn't make any changes for dataset /media/brain/Spatial/spatialfMRI/fMRI_data/spatialfMRI_nii/sub-01/func/sub-01_task-geo_run-04_echo-2_part-phase_sbref.nii.gz !\n",
      "++ 3drefit processed 1 datasets\n",
      "++ 3drefit: AFNI version=AFNI_24.2.00 (Jul 15 2024) [64-bit]\n",
      "++ Authored by: RW Cox\n",
      "++ Processing AFNI dataset /media/brain/Spatial/spatialfMRI/fMRI_data/spatialfMRI_nii/sub-01/func/sub-01_task-geo_run-04_echo-3_part-phase_sbref.nii.gz\n",
      "\u001b[7m*+ WARNING:\u001b[0m -Tslices: dataset has no time axis to add slice offset to!\n",
      " + Didn't make any changes for dataset /media/brain/Spatial/spatialfMRI/fMRI_data/spatialfMRI_nii/sub-01/func/sub-01_task-geo_run-04_echo-3_part-phase_sbref.nii.gz !\n",
      "++ 3drefit processed 1 datasets\n",
      "++ 3drefit: AFNI version=AFNI_24.2.00 (Jul 15 2024) [64-bit]\n",
      "++ Authored by: RW Cox\n",
      "++ Processing AFNI dataset /media/brain/Spatial/spatialfMRI/fMRI_data/spatialfMRI_nii/sub-01/func/sub-01_task-geo_run-04_echo-4_part-phase_sbref.nii.gz\n",
      "\u001b[7m*+ WARNING:\u001b[0m -Tslices: dataset has no time axis to add slice offset to!\n",
      " + Didn't make any changes for dataset /media/brain/Spatial/spatialfMRI/fMRI_data/spatialfMRI_nii/sub-01/func/sub-01_task-geo_run-04_echo-4_part-phase_sbref.nii.gz !\n",
      "++ 3drefit processed 1 datasets\n",
      "++ 3drefit: AFNI version=AFNI_24.2.00 (Jul 15 2024) [64-bit]\n",
      "++ Authored by: RW Cox\n",
      "++ Processing AFNI dataset /media/brain/Spatial/spatialfMRI/fMRI_data/spatialfMRI_nii/sub-01/func/sub-01_task-geo_run-04_echo-5_part-phase_sbref.nii.gz\n",
      "\u001b[7m*+ WARNING:\u001b[0m -Tslices: dataset has no time axis to add slice offset to!\n",
      " + Didn't make any changes for dataset /media/brain/Spatial/spatialfMRI/fMRI_data/spatialfMRI_nii/sub-01/func/sub-01_task-geo_run-04_echo-5_part-phase_sbref.nii.gz !\n",
      "++ 3drefit processed 1 datasets\n",
      "++ 3drefit: AFNI version=AFNI_24.2.00 (Jul 15 2024) [64-bit]\n",
      "++ Authored by: RW Cox\n",
      "++ Processing AFNI dataset /media/brain/Spatial/spatialfMRI/fMRI_data/spatialfMRI_nii/sub-01/func/sub-01_task-geo_run-04_echo-1_part-mag_bold.nii.gz\n",
      " + setting slice time offsets\n",
      " + loading and re-writing dataset /media/brain/Spatial/spatialfMRI/fMRI_data/spatialfMRI_nii/sub-01/func/sub-01_task-geo_run-04_echo-1_part-mag_bold.nii.gz (/media/brain/Spatial/spatialfMRI/fMRI_data/spatialfMRI_nii/sub-01/func/sub-01_task-geo_run-04_echo-1_part-mag_bold.nii.gz in NIFTI storage)\n"
     ]
    },
    {
     "name": "stdout",
     "output_type": "stream",
     "text": [
      "0 0.165 0.33 0.495 0.6575 0.8225 0.9875 1.1525 1.315 1.48 1.645 1.81 1.975 2.1375 2.3025 2.4675 2.6325 2.795 2.96 3.125 3.29 3.455 3.6175 3.7825 3.9475 4.1125 4.275 4.44 4.605 4.77 4.935 5.0975 5.2625 5.4275 5.5925 5.755 5.92 6.085 6.25 6.415 6.5775 6.7425 6.9075 7.0725 7.235\n",
      "0 0.165 0.33 0.495 0.6575 0.8225 0.9875 1.1525 1.315 1.48 1.645 1.81 1.975 2.1375 2.3025 2.4675 2.6325 2.795 2.96 3.125 3.29 3.455 3.6175 3.7825 3.9475 4.1125 4.275 4.44 4.605 4.77 4.935 5.0975 5.2625 5.4275 5.5925 5.755 5.92 6.085 6.25 6.415 6.5775 6.7425 6.9075 7.0725 7.235\n",
      "0 0.165 0.33 0.495 0.6575 0.8225 0.9875 1.1525 1.315 1.48 1.645 1.81 1.975 2.1375 2.3025 2.4675 2.6325 2.795 2.96 3.125 3.29 3.455 3.6175 3.7825 3.9475 4.1125 4.275 4.44 4.605 4.77 4.935 5.0975 5.2625 5.4275 5.5925 5.755 5.92 6.085 6.25 6.415 6.5775 6.7425 6.9075 7.0725 7.235\n",
      "0 0.165 0.33 0.495 0.6575 0.8225 0.9875 1.1525 1.315 1.48 1.645 1.81 1.975 2.1375 2.3025 2.4675 2.6325 2.795 2.96 3.125 3.29 3.455 3.6175 3.7825 3.9475 4.1125 4.275 4.44 4.605 4.77 4.935 5.0975 5.2625 5.4275 5.5925 5.755 5.92 6.085 6.25 6.415 6.5775 6.7425 6.9075 7.0725 7.235\n",
      "0 0.165 0.33 0.495 0.6575 0.8225 0.9875 1.1525 1.315 1.48 1.645 1.81 1.975 2.1375 2.3025 2.4675 2.6325 2.795 2.96 3.125 3.29 3.455 3.6175 3.7825 3.9475 4.1125 4.275 4.44 4.605 4.77 4.935 5.0975 5.2625 5.4275 5.5925 5.755 5.92 6.085 6.25 6.415 6.5775 6.7425 6.9075 7.0725 7.235\n",
      "0 0.165 0.33 0.495 0.6575 0.8225 0.9875 1.1525 1.315 1.48 1.645 1.81 1.975 2.1375 2.3025 2.4675 2.6325 2.795 2.96 3.125 3.29 3.455 3.6175 3.7825 3.9475 4.1125 4.275 4.44 4.605 4.77 4.935 5.0975 5.2625 5.4275 5.5925 5.755 5.92 6.085 6.25 6.415 6.5775 6.7425 6.9075 7.0725 7.235\n",
      "0 0.165 0.33 0.495 0.6575 0.8225 0.9875 1.1525 1.315 1.48 1.645 1.81 1.975 2.1375 2.3025 2.4675 2.6325 2.795 2.96 3.125 3.29 3.455 3.6175 3.7825 3.9475 4.1125 4.275 4.44 4.605 4.77 4.935 5.0975 5.2625 5.4275 5.5925 5.755 5.92 6.085 6.25 6.415 6.5775 6.7425 6.9075 7.0725 7.235\n",
      "0 0.165 0.33 0.495 0.6575 0.8225 0.9875 1.1525 1.315 1.48 1.645 1.81 1.975 2.1375 2.3025 2.4675 2.6325 2.795 2.96 3.125 3.29 3.455 3.6175 3.7825 3.9475 4.1125 4.275 4.44 4.605 4.77 4.935 5.0975 5.2625 5.4275 5.5925 5.755 5.92 6.085 6.25 6.415 6.5775 6.7425 6.9075 7.0725 7.235\n",
      "0 0.165 0.33 0.495 0.6575 0.8225 0.9875 1.1525 1.315 1.48 1.645 1.81 1.975 2.1375 2.3025 2.4675 2.6325 2.795 2.96 3.125 3.29 3.455 3.6175 3.7825 3.9475 4.1125 4.275 4.44 4.605 4.77 4.935 5.0975 5.2625 5.4275 5.5925 5.755 5.92 6.085 6.25 6.415 6.5775 6.7425 6.9075 7.0725 7.235\n",
      "0 0.165 0.33 0.495 0.6575 0.8225 0.9875 1.1525 1.315 1.48 1.645 1.81 1.975 2.1375 2.3025 2.4675 2.6325 2.795 2.96 3.125 3.29 3.455 3.6175 3.7825 3.9475 4.1125 4.275 4.44 4.605 4.77 4.935 5.0975 5.2625 5.4275 5.5925 5.755 5.92 6.085 6.25 6.415 6.5775 6.7425 6.9075 7.0725 7.235\n",
      "0 0.8225 0.165 0.9875 0.33 1.1525 0.495 1.315 0.6575 0 0.8225 0.165 0.9875 0.33 1.1525 0.495 1.315 0.6575 0 0.8225 0.165 0.9875 0.33 1.1525 0.495 1.315 0.6575 0 0.8225 0.165 0.9875 0.33 1.1525 0.495 1.315 0.6575 0 0.8225 0.165 0.9875 0.33 1.1525 0.495 1.315 0.6575\n"
     ]
    },
    {
     "name": "stderr",
     "output_type": "stream",
     "text": [
      "++ 3drefit processed 1 datasets\n",
      "++ 3drefit: AFNI version=AFNI_24.2.00 (Jul 15 2024) [64-bit]\n",
      "++ Authored by: RW Cox\n",
      "++ Processing AFNI dataset /media/brain/Spatial/spatialfMRI/fMRI_data/spatialfMRI_nii/sub-01/func/sub-01_task-geo_run-04_echo-2_part-mag_bold.nii.gz\n",
      " + setting slice time offsets\n",
      " + loading and re-writing dataset /media/brain/Spatial/spatialfMRI/fMRI_data/spatialfMRI_nii/sub-01/func/sub-01_task-geo_run-04_echo-2_part-mag_bold.nii.gz (/media/brain/Spatial/spatialfMRI/fMRI_data/spatialfMRI_nii/sub-01/func/sub-01_task-geo_run-04_echo-2_part-mag_bold.nii.gz in NIFTI storage)\n"
     ]
    },
    {
     "name": "stdout",
     "output_type": "stream",
     "text": [
      "0 0.8225 0.165 0.9875 0.33 1.1525 0.495 1.315 0.6575 0 0.8225 0.165 0.9875 0.33 1.1525 0.495 1.315 0.6575 0 0.8225 0.165 0.9875 0.33 1.1525 0.495 1.315 0.6575 0 0.8225 0.165 0.9875 0.33 1.1525 0.495 1.315 0.6575 0 0.8225 0.165 0.9875 0.33 1.1525 0.495 1.315 0.6575\n"
     ]
    },
    {
     "name": "stderr",
     "output_type": "stream",
     "text": [
      "++ 3drefit processed 1 datasets\n",
      "++ 3drefit: AFNI version=AFNI_24.2.00 (Jul 15 2024) [64-bit]\n",
      "++ Authored by: RW Cox\n",
      "++ Processing AFNI dataset /media/brain/Spatial/spatialfMRI/fMRI_data/spatialfMRI_nii/sub-01/func/sub-01_task-geo_run-04_echo-3_part-mag_bold.nii.gz\n",
      " + setting slice time offsets\n",
      " + loading and re-writing dataset /media/brain/Spatial/spatialfMRI/fMRI_data/spatialfMRI_nii/sub-01/func/sub-01_task-geo_run-04_echo-3_part-mag_bold.nii.gz (/media/brain/Spatial/spatialfMRI/fMRI_data/spatialfMRI_nii/sub-01/func/sub-01_task-geo_run-04_echo-3_part-mag_bold.nii.gz in NIFTI storage)\n"
     ]
    },
    {
     "name": "stdout",
     "output_type": "stream",
     "text": [
      "0 0.8225 0.165 0.9875 0.33 1.1525 0.495 1.315 0.6575 0 0.8225 0.165 0.9875 0.33 1.1525 0.495 1.315 0.6575 0 0.8225 0.165 0.9875 0.33 1.1525 0.495 1.315 0.6575 0 0.8225 0.165 0.9875 0.33 1.1525 0.495 1.315 0.6575 0 0.8225 0.165 0.9875 0.33 1.1525 0.495 1.315 0.6575\n"
     ]
    },
    {
     "name": "stderr",
     "output_type": "stream",
     "text": [
      "++ 3drefit processed 1 datasets\n",
      "++ 3drefit: AFNI version=AFNI_24.2.00 (Jul 15 2024) [64-bit]\n",
      "++ Authored by: RW Cox\n",
      "++ Processing AFNI dataset /media/brain/Spatial/spatialfMRI/fMRI_data/spatialfMRI_nii/sub-01/func/sub-01_task-geo_run-04_echo-4_part-mag_bold.nii.gz\n",
      " + setting slice time offsets\n",
      " + loading and re-writing dataset /media/brain/Spatial/spatialfMRI/fMRI_data/spatialfMRI_nii/sub-01/func/sub-01_task-geo_run-04_echo-4_part-mag_bold.nii.gz (/media/brain/Spatial/spatialfMRI/fMRI_data/spatialfMRI_nii/sub-01/func/sub-01_task-geo_run-04_echo-4_part-mag_bold.nii.gz in NIFTI storage)\n"
     ]
    },
    {
     "name": "stdout",
     "output_type": "stream",
     "text": [
      "0 0.8225 0.165 0.9875 0.33 1.1525 0.495 1.315 0.6575 0 0.8225 0.165 0.9875 0.33 1.1525 0.495 1.315 0.6575 0 0.8225 0.165 0.9875 0.33 1.1525 0.495 1.315 0.6575 0 0.8225 0.165 0.9875 0.33 1.1525 0.495 1.315 0.6575 0 0.8225 0.165 0.9875 0.33 1.1525 0.495 1.315 0.6575\n"
     ]
    },
    {
     "name": "stderr",
     "output_type": "stream",
     "text": [
      "++ 3drefit processed 1 datasets\n",
      "++ 3drefit: AFNI version=AFNI_24.2.00 (Jul 15 2024) [64-bit]\n",
      "++ Authored by: RW Cox\n",
      "++ Processing AFNI dataset /media/brain/Spatial/spatialfMRI/fMRI_data/spatialfMRI_nii/sub-01/func/sub-01_task-geo_run-04_echo-5_part-mag_bold.nii.gz\n",
      " + setting slice time offsets\n",
      " + loading and re-writing dataset /media/brain/Spatial/spatialfMRI/fMRI_data/spatialfMRI_nii/sub-01/func/sub-01_task-geo_run-04_echo-5_part-mag_bold.nii.gz (/media/brain/Spatial/spatialfMRI/fMRI_data/spatialfMRI_nii/sub-01/func/sub-01_task-geo_run-04_echo-5_part-mag_bold.nii.gz in NIFTI storage)\n"
     ]
    },
    {
     "name": "stdout",
     "output_type": "stream",
     "text": [
      "0 0.8225 0.165 0.9875 0.33 1.1525 0.495 1.315 0.6575 0 0.8225 0.165 0.9875 0.33 1.1525 0.495 1.315 0.6575 0 0.8225 0.165 0.9875 0.33 1.1525 0.495 1.315 0.6575 0 0.8225 0.165 0.9875 0.33 1.1525 0.495 1.315 0.6575 0 0.8225 0.165 0.9875 0.33 1.1525 0.495 1.315 0.6575\n"
     ]
    },
    {
     "name": "stderr",
     "output_type": "stream",
     "text": [
      "++ 3drefit processed 1 datasets\n",
      "++ 3drefit: AFNI version=AFNI_24.2.00 (Jul 15 2024) [64-bit]\n",
      "++ Authored by: RW Cox\n",
      "++ Processing AFNI dataset /media/brain/Spatial/spatialfMRI/fMRI_data/spatialfMRI_nii/sub-01/func/sub-01_task-geo_run-04_echo-1_part-phase_bold.nii.gz\n",
      " + setting slice time offsets\n",
      " + loading and re-writing dataset /media/brain/Spatial/spatialfMRI/fMRI_data/spatialfMRI_nii/sub-01/func/sub-01_task-geo_run-04_echo-1_part-phase_bold.nii.gz (/media/brain/Spatial/spatialfMRI/fMRI_data/spatialfMRI_nii/sub-01/func/sub-01_task-geo_run-04_echo-1_part-phase_bold.nii.gz in NIFTI storage)\n"
     ]
    },
    {
     "name": "stdout",
     "output_type": "stream",
     "text": [
      "0 0.8225 0.165 0.9875 0.33 1.1525 0.495 1.315 0.6575 0 0.8225 0.165 0.9875 0.33 1.1525 0.495 1.315 0.6575 0 0.8225 0.165 0.9875 0.33 1.1525 0.495 1.315 0.6575 0 0.8225 0.165 0.9875 0.33 1.1525 0.495 1.315 0.6575 0 0.8225 0.165 0.9875 0.33 1.1525 0.495 1.315 0.6575\n"
     ]
    },
    {
     "name": "stderr",
     "output_type": "stream",
     "text": [
      "++ 3drefit processed 1 datasets\n",
      "++ 3drefit: AFNI version=AFNI_24.2.00 (Jul 15 2024) [64-bit]\n",
      "++ Authored by: RW Cox\n",
      "++ Processing AFNI dataset /media/brain/Spatial/spatialfMRI/fMRI_data/spatialfMRI_nii/sub-01/func/sub-01_task-geo_run-04_echo-2_part-phase_bold.nii.gz\n",
      " + setting slice time offsets\n",
      " + loading and re-writing dataset /media/brain/Spatial/spatialfMRI/fMRI_data/spatialfMRI_nii/sub-01/func/sub-01_task-geo_run-04_echo-2_part-phase_bold.nii.gz (/media/brain/Spatial/spatialfMRI/fMRI_data/spatialfMRI_nii/sub-01/func/sub-01_task-geo_run-04_echo-2_part-phase_bold.nii.gz in NIFTI storage)\n"
     ]
    },
    {
     "name": "stdout",
     "output_type": "stream",
     "text": [
      "0 0.8225 0.165 0.9875 0.33 1.1525 0.495 1.315 0.6575 0 0.8225 0.165 0.9875 0.33 1.1525 0.495 1.315 0.6575 0 0.8225 0.165 0.9875 0.33 1.1525 0.495 1.315 0.6575 0 0.8225 0.165 0.9875 0.33 1.1525 0.495 1.315 0.6575 0 0.8225 0.165 0.9875 0.33 1.1525 0.495 1.315 0.6575\n"
     ]
    },
    {
     "name": "stderr",
     "output_type": "stream",
     "text": [
      "++ 3drefit processed 1 datasets\n",
      "++ 3drefit: AFNI version=AFNI_24.2.00 (Jul 15 2024) [64-bit]\n",
      "++ Authored by: RW Cox\n",
      "++ Processing AFNI dataset /media/brain/Spatial/spatialfMRI/fMRI_data/spatialfMRI_nii/sub-01/func/sub-01_task-geo_run-04_echo-3_part-phase_bold.nii.gz\n",
      " + setting slice time offsets\n",
      " + loading and re-writing dataset /media/brain/Spatial/spatialfMRI/fMRI_data/spatialfMRI_nii/sub-01/func/sub-01_task-geo_run-04_echo-3_part-phase_bold.nii.gz (/media/brain/Spatial/spatialfMRI/fMRI_data/spatialfMRI_nii/sub-01/func/sub-01_task-geo_run-04_echo-3_part-phase_bold.nii.gz in NIFTI storage)\n"
     ]
    },
    {
     "name": "stdout",
     "output_type": "stream",
     "text": [
      "0 0.8225 0.165 0.9875 0.33 1.1525 0.495 1.315 0.6575 0 0.8225 0.165 0.9875 0.33 1.1525 0.495 1.315 0.6575 0 0.8225 0.165 0.9875 0.33 1.1525 0.495 1.315 0.6575 0 0.8225 0.165 0.9875 0.33 1.1525 0.495 1.315 0.6575 0 0.8225 0.165 0.9875 0.33 1.1525 0.495 1.315 0.6575\n"
     ]
    },
    {
     "name": "stderr",
     "output_type": "stream",
     "text": [
      "++ 3drefit processed 1 datasets\n",
      "++ 3drefit: AFNI version=AFNI_24.2.00 (Jul 15 2024) [64-bit]\n",
      "++ Authored by: RW Cox\n",
      "++ Processing AFNI dataset /media/brain/Spatial/spatialfMRI/fMRI_data/spatialfMRI_nii/sub-01/func/sub-01_task-geo_run-04_echo-4_part-phase_bold.nii.gz\n",
      " + setting slice time offsets\n",
      " + loading and re-writing dataset /media/brain/Spatial/spatialfMRI/fMRI_data/spatialfMRI_nii/sub-01/func/sub-01_task-geo_run-04_echo-4_part-phase_bold.nii.gz (/media/brain/Spatial/spatialfMRI/fMRI_data/spatialfMRI_nii/sub-01/func/sub-01_task-geo_run-04_echo-4_part-phase_bold.nii.gz in NIFTI storage)\n"
     ]
    },
    {
     "name": "stdout",
     "output_type": "stream",
     "text": [
      "0 0.8225 0.165 0.9875 0.33 1.1525 0.495 1.315 0.6575 0 0.8225 0.165 0.9875 0.33 1.1525 0.495 1.315 0.6575 0 0.8225 0.165 0.9875 0.33 1.1525 0.495 1.315 0.6575 0 0.8225 0.165 0.9875 0.33 1.1525 0.495 1.315 0.6575 0 0.8225 0.165 0.9875 0.33 1.1525 0.495 1.315 0.6575\n"
     ]
    },
    {
     "name": "stderr",
     "output_type": "stream",
     "text": [
      "++ 3drefit processed 1 datasets\n",
      "++ 3drefit: AFNI version=AFNI_24.2.00 (Jul 15 2024) [64-bit]\n",
      "++ Authored by: RW Cox\n",
      "++ Processing AFNI dataset /media/brain/Spatial/spatialfMRI/fMRI_data/spatialfMRI_nii/sub-01/func/sub-01_task-geo_run-04_echo-5_part-phase_bold.nii.gz\n",
      " + setting slice time offsets\n",
      " + loading and re-writing dataset /media/brain/Spatial/spatialfMRI/fMRI_data/spatialfMRI_nii/sub-01/func/sub-01_task-geo_run-04_echo-5_part-phase_bold.nii.gz (/media/brain/Spatial/spatialfMRI/fMRI_data/spatialfMRI_nii/sub-01/func/sub-01_task-geo_run-04_echo-5_part-phase_bold.nii.gz in NIFTI storage)\n"
     ]
    },
    {
     "name": "stdout",
     "output_type": "stream",
     "text": [
      "0 0.8225 0.165 0.9875 0.33 1.1525 0.495 1.315 0.6575 0 0.8225 0.165 0.9875 0.33 1.1525 0.495 1.315 0.6575 0 0.8225 0.165 0.9875 0.33 1.1525 0.495 1.315 0.6575 0 0.8225 0.165 0.9875 0.33 1.1525 0.495 1.315 0.6575 0 0.8225 0.165 0.9875 0.33 1.1525 0.495 1.315 0.6575\n"
     ]
    },
    {
     "name": "stderr",
     "output_type": "stream",
     "text": [
      "++ 3drefit processed 1 datasets\n",
      "++ 3drefit: AFNI version=AFNI_24.2.00 (Jul 15 2024) [64-bit]\n",
      "++ Authored by: RW Cox\n",
      "++ Processing AFNI dataset /media/brain/Spatial/spatialfMRI/fMRI_data/spatialfMRI_nii/sub-01/func/sub-01_task-geo_run-05_echo-1_part-mag_sbref.nii.gz\n",
      "\u001b[7m*+ WARNING:\u001b[0m -Tslices: dataset has no time axis to add slice offset to!\n",
      " + Didn't make any changes for dataset /media/brain/Spatial/spatialfMRI/fMRI_data/spatialfMRI_nii/sub-01/func/sub-01_task-geo_run-05_echo-1_part-mag_sbref.nii.gz !\n",
      "++ 3drefit processed 1 datasets\n",
      "++ 3drefit: AFNI version=AFNI_24.2.00 (Jul 15 2024) [64-bit]\n",
      "++ Authored by: RW Cox\n",
      "++ Processing AFNI dataset /media/brain/Spatial/spatialfMRI/fMRI_data/spatialfMRI_nii/sub-01/func/sub-01_task-geo_run-05_echo-2_part-mag_sbref.nii.gz\n",
      "\u001b[7m*+ WARNING:\u001b[0m -Tslices: dataset has no time axis to add slice offset to!\n",
      " + Didn't make any changes for dataset /media/brain/Spatial/spatialfMRI/fMRI_data/spatialfMRI_nii/sub-01/func/sub-01_task-geo_run-05_echo-2_part-mag_sbref.nii.gz !\n",
      "++ 3drefit processed 1 datasets\n",
      "++ 3drefit: AFNI version=AFNI_24.2.00 (Jul 15 2024) [64-bit]\n",
      "++ Authored by: RW Cox\n",
      "++ Processing AFNI dataset /media/brain/Spatial/spatialfMRI/fMRI_data/spatialfMRI_nii/sub-01/func/sub-01_task-geo_run-05_echo-3_part-mag_sbref.nii.gz\n",
      "\u001b[7m*+ WARNING:\u001b[0m -Tslices: dataset has no time axis to add slice offset to!\n",
      " + Didn't make any changes for dataset /media/brain/Spatial/spatialfMRI/fMRI_data/spatialfMRI_nii/sub-01/func/sub-01_task-geo_run-05_echo-3_part-mag_sbref.nii.gz !\n",
      "++ 3drefit processed 1 datasets\n",
      "++ 3drefit: AFNI version=AFNI_24.2.00 (Jul 15 2024) [64-bit]\n",
      "++ Authored by: RW Cox\n",
      "++ Processing AFNI dataset /media/brain/Spatial/spatialfMRI/fMRI_data/spatialfMRI_nii/sub-01/func/sub-01_task-geo_run-05_echo-4_part-mag_sbref.nii.gz\n",
      "\u001b[7m*+ WARNING:\u001b[0m -Tslices: dataset has no time axis to add slice offset to!\n",
      " + Didn't make any changes for dataset /media/brain/Spatial/spatialfMRI/fMRI_data/spatialfMRI_nii/sub-01/func/sub-01_task-geo_run-05_echo-4_part-mag_sbref.nii.gz !\n",
      "++ 3drefit processed 1 datasets\n",
      "++ 3drefit: AFNI version=AFNI_24.2.00 (Jul 15 2024) [64-bit]\n",
      "++ Authored by: RW Cox\n",
      "++ Processing AFNI dataset /media/brain/Spatial/spatialfMRI/fMRI_data/spatialfMRI_nii/sub-01/func/sub-01_task-geo_run-05_echo-5_part-mag_sbref.nii.gz\n",
      "\u001b[7m*+ WARNING:\u001b[0m -Tslices: dataset has no time axis to add slice offset to!\n",
      " + Didn't make any changes for dataset /media/brain/Spatial/spatialfMRI/fMRI_data/spatialfMRI_nii/sub-01/func/sub-01_task-geo_run-05_echo-5_part-mag_sbref.nii.gz !\n",
      "++ 3drefit processed 1 datasets\n",
      "++ 3drefit: AFNI version=AFNI_24.2.00 (Jul 15 2024) [64-bit]\n",
      "++ Authored by: RW Cox\n",
      "++ Processing AFNI dataset /media/brain/Spatial/spatialfMRI/fMRI_data/spatialfMRI_nii/sub-01/func/sub-01_task-geo_run-05_echo-1_part-phase_sbref.nii.gz\n",
      "\u001b[7m*+ WARNING:\u001b[0m -Tslices: dataset has no time axis to add slice offset to!\n",
      " + Didn't make any changes for dataset /media/brain/Spatial/spatialfMRI/fMRI_data/spatialfMRI_nii/sub-01/func/sub-01_task-geo_run-05_echo-1_part-phase_sbref.nii.gz !\n",
      "++ 3drefit processed 1 datasets\n",
      "++ 3drefit: AFNI version=AFNI_24.2.00 (Jul 15 2024) [64-bit]\n",
      "++ Authored by: RW Cox\n",
      "++ Processing AFNI dataset /media/brain/Spatial/spatialfMRI/fMRI_data/spatialfMRI_nii/sub-01/func/sub-01_task-geo_run-05_echo-2_part-phase_sbref.nii.gz\n",
      "\u001b[7m*+ WARNING:\u001b[0m -Tslices: dataset has no time axis to add slice offset to!\n",
      " + Didn't make any changes for dataset /media/brain/Spatial/spatialfMRI/fMRI_data/spatialfMRI_nii/sub-01/func/sub-01_task-geo_run-05_echo-2_part-phase_sbref.nii.gz !\n",
      "++ 3drefit processed 1 datasets\n",
      "++ 3drefit: AFNI version=AFNI_24.2.00 (Jul 15 2024) [64-bit]\n",
      "++ Authored by: RW Cox\n",
      "++ Processing AFNI dataset /media/brain/Spatial/spatialfMRI/fMRI_data/spatialfMRI_nii/sub-01/func/sub-01_task-geo_run-05_echo-3_part-phase_sbref.nii.gz\n",
      "\u001b[7m*+ WARNING:\u001b[0m -Tslices: dataset has no time axis to add slice offset to!\n",
      " + Didn't make any changes for dataset /media/brain/Spatial/spatialfMRI/fMRI_data/spatialfMRI_nii/sub-01/func/sub-01_task-geo_run-05_echo-3_part-phase_sbref.nii.gz !\n",
      "++ 3drefit processed 1 datasets\n",
      "++ 3drefit: AFNI version=AFNI_24.2.00 (Jul 15 2024) [64-bit]\n",
      "++ Authored by: RW Cox\n",
      "++ Processing AFNI dataset /media/brain/Spatial/spatialfMRI/fMRI_data/spatialfMRI_nii/sub-01/func/sub-01_task-geo_run-05_echo-4_part-phase_sbref.nii.gz\n",
      "\u001b[7m*+ WARNING:\u001b[0m -Tslices: dataset has no time axis to add slice offset to!\n",
      " + Didn't make any changes for dataset /media/brain/Spatial/spatialfMRI/fMRI_data/spatialfMRI_nii/sub-01/func/sub-01_task-geo_run-05_echo-4_part-phase_sbref.nii.gz !\n",
      "++ 3drefit processed 1 datasets\n",
      "++ 3drefit: AFNI version=AFNI_24.2.00 (Jul 15 2024) [64-bit]\n",
      "++ Authored by: RW Cox\n",
      "++ Processing AFNI dataset /media/brain/Spatial/spatialfMRI/fMRI_data/spatialfMRI_nii/sub-01/func/sub-01_task-geo_run-05_echo-5_part-phase_sbref.nii.gz\n",
      "\u001b[7m*+ WARNING:\u001b[0m -Tslices: dataset has no time axis to add slice offset to!\n",
      " + Didn't make any changes for dataset /media/brain/Spatial/spatialfMRI/fMRI_data/spatialfMRI_nii/sub-01/func/sub-01_task-geo_run-05_echo-5_part-phase_sbref.nii.gz !\n",
      "++ 3drefit processed 1 datasets\n",
      "++ 3drefit: AFNI version=AFNI_24.2.00 (Jul 15 2024) [64-bit]\n",
      "++ Authored by: RW Cox\n",
      "++ Processing AFNI dataset /media/brain/Spatial/spatialfMRI/fMRI_data/spatialfMRI_nii/sub-01/func/sub-01_task-geo_run-05_echo-1_part-mag_bold.nii.gz\n",
      " + setting slice time offsets\n",
      " + loading and re-writing dataset /media/brain/Spatial/spatialfMRI/fMRI_data/spatialfMRI_nii/sub-01/func/sub-01_task-geo_run-05_echo-1_part-mag_bold.nii.gz (/media/brain/Spatial/spatialfMRI/fMRI_data/spatialfMRI_nii/sub-01/func/sub-01_task-geo_run-05_echo-1_part-mag_bold.nii.gz in NIFTI storage)\n"
     ]
    },
    {
     "name": "stdout",
     "output_type": "stream",
     "text": [
      "0 0.165 0.33 0.4925 0.6575 0.8225 0.9875 1.1525 1.315 1.48 1.645 1.81 1.9725 2.1375 2.3025 2.4675 2.6325 2.795 2.96 3.125 3.29 3.4525 3.6175 3.7825 3.9475 4.1125 4.275 4.44 4.605 4.77 4.9325 5.0975 5.2625 5.4275 5.5925 5.755 5.92 6.085 6.25 6.4125 6.5775 6.7425 6.9075 7.0725 7.235\n",
      "0 0.165 0.33 0.4925 0.6575 0.8225 0.9875 1.1525 1.315 1.48 1.645 1.81 1.9725 2.1375 2.3025 2.4675 2.6325 2.795 2.96 3.125 3.29 3.4525 3.6175 3.7825 3.9475 4.1125 4.275 4.44 4.605 4.77 4.9325 5.0975 5.2625 5.4275 5.5925 5.755 5.92 6.085 6.25 6.4125 6.5775 6.7425 6.9075 7.0725 7.235\n",
      "0 0.165 0.33 0.4925 0.6575 0.8225 0.9875 1.1525 1.315 1.48 1.645 1.81 1.9725 2.1375 2.3025 2.4675 2.6325 2.795 2.96 3.125 3.29 3.4525 3.6175 3.7825 3.9475 4.1125 4.275 4.44 4.605 4.77 4.9325 5.0975 5.2625 5.4275 5.5925 5.755 5.92 6.085 6.25 6.4125 6.5775 6.7425 6.9075 7.0725 7.235\n",
      "0 0.165 0.33 0.495 0.6575 0.8225 0.9875 1.1525 1.315 1.48 1.645 1.81 1.9725 2.1375 2.3025 2.4675 2.6325 2.795 2.96 3.125 3.29 3.4525 3.6175 3.7825 3.9475 4.1125 4.275 4.44 4.605 4.77 4.9325 5.0975 5.2625 5.4275 5.5925 5.755 5.92 6.085 6.25 6.4125 6.5775 6.7425 6.9075 7.0725 7.235\n",
      "0 0.165 0.33 0.495 0.6575 0.8225 0.9875 1.1525 1.315 1.48 1.645 1.81 1.9725 2.1375 2.3025 2.4675 2.6325 2.795 2.96 3.125 3.29 3.4525 3.6175 3.7825 3.9475 4.1125 4.275 4.44 4.605 4.77 4.9325 5.0975 5.2625 5.4275 5.5925 5.755 5.92 6.085 6.25 6.4125 6.5775 6.7425 6.9075 7.0725 7.235\n",
      "0 0.165 0.33 0.4925 0.6575 0.8225 0.9875 1.1525 1.315 1.48 1.645 1.81 1.9725 2.1375 2.3025 2.4675 2.6325 2.795 2.96 3.125 3.29 3.4525 3.6175 3.7825 3.9475 4.1125 4.275 4.44 4.605 4.77 4.9325 5.0975 5.2625 5.4275 5.5925 5.755 5.92 6.085 6.25 6.4125 6.5775 6.7425 6.9075 7.0725 7.235\n",
      "0 0.165 0.33 0.4925 0.6575 0.8225 0.9875 1.1525 1.315 1.48 1.645 1.81 1.9725 2.1375 2.3025 2.4675 2.6325 2.795 2.96 3.125 3.29 3.4525 3.6175 3.7825 3.9475 4.1125 4.275 4.44 4.605 4.77 4.9325 5.0975 5.2625 5.4275 5.5925 5.755 5.92 6.085 6.25 6.4125 6.5775 6.7425 6.9075 7.0725 7.235\n",
      "0 0.165 0.33 0.4925 0.6575 0.8225 0.9875 1.1525 1.315 1.48 1.645 1.81 1.9725 2.1375 2.3025 2.4675 2.6325 2.795 2.96 3.125 3.29 3.4525 3.6175 3.7825 3.9475 4.1125 4.275 4.44 4.605 4.77 4.9325 5.0975 5.2625 5.4275 5.5925 5.755 5.92 6.085 6.25 6.4125 6.5775 6.7425 6.9075 7.0725 7.235\n",
      "0 0.165 0.33 0.495 0.6575 0.8225 0.9875 1.1525 1.315 1.48 1.645 1.81 1.9725 2.1375 2.3025 2.4675 2.6325 2.795 2.96 3.125 3.29 3.4525 3.6175 3.7825 3.9475 4.1125 4.275 4.44 4.605 4.77 4.9325 5.0975 5.2625 5.4275 5.5925 5.755 5.92 6.085 6.25 6.4125 6.5775 6.7425 6.9075 7.0725 7.235\n",
      "0 0.165 0.33 0.495 0.6575 0.8225 0.9875 1.1525 1.315 1.48 1.645 1.81 1.9725 2.1375 2.3025 2.4675 2.6325 2.795 2.96 3.125 3.29 3.4525 3.6175 3.7825 3.9475 4.1125 4.275 4.44 4.605 4.77 4.9325 5.0975 5.2625 5.4275 5.5925 5.755 5.92 6.085 6.25 6.4125 6.5775 6.7425 6.9075 7.0725 7.235\n",
      "0 0.8225 0.165 0.9875 0.33 1.1525 0.4925 1.315 0.6575 0 0.8225 0.165 0.9875 0.33 1.1525 0.4925 1.315 0.6575 0 0.8225 0.165 0.9875 0.33 1.1525 0.4925 1.315 0.6575 0 0.8225 0.165 0.9875 0.33 1.1525 0.4925 1.315 0.6575 0 0.8225 0.165 0.9875 0.33 1.1525 0.4925 1.315 0.6575\n"
     ]
    },
    {
     "name": "stderr",
     "output_type": "stream",
     "text": [
      "++ 3drefit processed 1 datasets\n",
      "++ 3drefit: AFNI version=AFNI_24.2.00 (Jul 15 2024) [64-bit]\n",
      "++ Authored by: RW Cox\n",
      "++ Processing AFNI dataset /media/brain/Spatial/spatialfMRI/fMRI_data/spatialfMRI_nii/sub-01/func/sub-01_task-geo_run-05_echo-2_part-mag_bold.nii.gz\n",
      " + setting slice time offsets\n",
      " + loading and re-writing dataset /media/brain/Spatial/spatialfMRI/fMRI_data/spatialfMRI_nii/sub-01/func/sub-01_task-geo_run-05_echo-2_part-mag_bold.nii.gz (/media/brain/Spatial/spatialfMRI/fMRI_data/spatialfMRI_nii/sub-01/func/sub-01_task-geo_run-05_echo-2_part-mag_bold.nii.gz in NIFTI storage)\n"
     ]
    },
    {
     "name": "stdout",
     "output_type": "stream",
     "text": [
      "0 0.8225 0.165 0.9875 0.33 1.1525 0.4925 1.315 0.6575 0 0.8225 0.165 0.9875 0.33 1.1525 0.4925 1.315 0.6575 0 0.8225 0.165 0.9875 0.33 1.1525 0.4925 1.315 0.6575 0 0.8225 0.165 0.9875 0.33 1.1525 0.4925 1.315 0.6575 0 0.8225 0.165 0.9875 0.33 1.1525 0.4925 1.315 0.6575\n"
     ]
    },
    {
     "name": "stderr",
     "output_type": "stream",
     "text": [
      "++ 3drefit processed 1 datasets\n",
      "++ 3drefit: AFNI version=AFNI_24.2.00 (Jul 15 2024) [64-bit]\n",
      "++ Authored by: RW Cox\n",
      "++ Processing AFNI dataset /media/brain/Spatial/spatialfMRI/fMRI_data/spatialfMRI_nii/sub-01/func/sub-01_task-geo_run-05_echo-3_part-mag_bold.nii.gz\n",
      " + setting slice time offsets\n",
      " + loading and re-writing dataset /media/brain/Spatial/spatialfMRI/fMRI_data/spatialfMRI_nii/sub-01/func/sub-01_task-geo_run-05_echo-3_part-mag_bold.nii.gz (/media/brain/Spatial/spatialfMRI/fMRI_data/spatialfMRI_nii/sub-01/func/sub-01_task-geo_run-05_echo-3_part-mag_bold.nii.gz in NIFTI storage)\n"
     ]
    },
    {
     "name": "stdout",
     "output_type": "stream",
     "text": [
      "0 0.8225 0.165 0.9875 0.33 1.1525 0.4925 1.315 0.6575 0 0.8225 0.165 0.9875 0.33 1.1525 0.4925 1.315 0.6575 0 0.8225 0.165 0.9875 0.33 1.1525 0.4925 1.315 0.6575 0 0.8225 0.165 0.9875 0.33 1.1525 0.4925 1.315 0.6575 0 0.8225 0.165 0.9875 0.33 1.1525 0.4925 1.315 0.6575\n"
     ]
    },
    {
     "name": "stderr",
     "output_type": "stream",
     "text": [
      "++ 3drefit processed 1 datasets\n",
      "++ 3drefit: AFNI version=AFNI_24.2.00 (Jul 15 2024) [64-bit]\n",
      "++ Authored by: RW Cox\n",
      "++ Processing AFNI dataset /media/brain/Spatial/spatialfMRI/fMRI_data/spatialfMRI_nii/sub-01/func/sub-01_task-geo_run-05_echo-4_part-mag_bold.nii.gz\n",
      " + setting slice time offsets\n",
      " + loading and re-writing dataset /media/brain/Spatial/spatialfMRI/fMRI_data/spatialfMRI_nii/sub-01/func/sub-01_task-geo_run-05_echo-4_part-mag_bold.nii.gz (/media/brain/Spatial/spatialfMRI/fMRI_data/spatialfMRI_nii/sub-01/func/sub-01_task-geo_run-05_echo-4_part-mag_bold.nii.gz in NIFTI storage)\n"
     ]
    },
    {
     "name": "stdout",
     "output_type": "stream",
     "text": [
      "0 0.8225 0.165 0.9875 0.33 1.1525 0.495 1.315 0.6575 0 0.8225 0.165 0.9875 0.33 1.1525 0.495 1.315 0.6575 0 0.8225 0.165 0.9875 0.33 1.1525 0.495 1.315 0.6575 0 0.8225 0.165 0.9875 0.33 1.1525 0.495 1.315 0.6575 0 0.8225 0.165 0.9875 0.33 1.1525 0.495 1.315 0.6575\n"
     ]
    },
    {
     "name": "stderr",
     "output_type": "stream",
     "text": [
      "++ 3drefit processed 1 datasets\n",
      "++ 3drefit: AFNI version=AFNI_24.2.00 (Jul 15 2024) [64-bit]\n",
      "++ Authored by: RW Cox\n",
      "++ Processing AFNI dataset /media/brain/Spatial/spatialfMRI/fMRI_data/spatialfMRI_nii/sub-01/func/sub-01_task-geo_run-05_echo-5_part-mag_bold.nii.gz\n",
      " + setting slice time offsets\n",
      " + loading and re-writing dataset /media/brain/Spatial/spatialfMRI/fMRI_data/spatialfMRI_nii/sub-01/func/sub-01_task-geo_run-05_echo-5_part-mag_bold.nii.gz (/media/brain/Spatial/spatialfMRI/fMRI_data/spatialfMRI_nii/sub-01/func/sub-01_task-geo_run-05_echo-5_part-mag_bold.nii.gz in NIFTI storage)\n"
     ]
    },
    {
     "name": "stdout",
     "output_type": "stream",
     "text": [
      "0 0.8225 0.165 0.9875 0.33 1.1525 0.495 1.315 0.6575 0 0.8225 0.165 0.9875 0.33 1.1525 0.495 1.315 0.6575 0 0.8225 0.165 0.9875 0.33 1.1525 0.495 1.315 0.6575 0 0.8225 0.165 0.9875 0.33 1.1525 0.495 1.315 0.6575 0 0.8225 0.165 0.9875 0.33 1.1525 0.495 1.315 0.6575\n"
     ]
    },
    {
     "name": "stderr",
     "output_type": "stream",
     "text": [
      "++ 3drefit processed 1 datasets\n",
      "++ 3drefit: AFNI version=AFNI_24.2.00 (Jul 15 2024) [64-bit]\n",
      "++ Authored by: RW Cox\n",
      "++ Processing AFNI dataset /media/brain/Spatial/spatialfMRI/fMRI_data/spatialfMRI_nii/sub-01/func/sub-01_task-geo_run-05_echo-1_part-phase_bold.nii.gz\n",
      " + setting slice time offsets\n",
      " + loading and re-writing dataset /media/brain/Spatial/spatialfMRI/fMRI_data/spatialfMRI_nii/sub-01/func/sub-01_task-geo_run-05_echo-1_part-phase_bold.nii.gz (/media/brain/Spatial/spatialfMRI/fMRI_data/spatialfMRI_nii/sub-01/func/sub-01_task-geo_run-05_echo-1_part-phase_bold.nii.gz in NIFTI storage)\n"
     ]
    },
    {
     "name": "stdout",
     "output_type": "stream",
     "text": [
      "0 0.8225 0.165 0.9875 0.33 1.1525 0.4925 1.315 0.6575 0 0.8225 0.165 0.9875 0.33 1.1525 0.4925 1.315 0.6575 0 0.8225 0.165 0.9875 0.33 1.1525 0.4925 1.315 0.6575 0 0.8225 0.165 0.9875 0.33 1.1525 0.4925 1.315 0.6575 0 0.8225 0.165 0.9875 0.33 1.1525 0.4925 1.315 0.6575\n"
     ]
    },
    {
     "name": "stderr",
     "output_type": "stream",
     "text": [
      "++ 3drefit processed 1 datasets\n",
      "++ 3drefit: AFNI version=AFNI_24.2.00 (Jul 15 2024) [64-bit]\n",
      "++ Authored by: RW Cox\n",
      "++ Processing AFNI dataset /media/brain/Spatial/spatialfMRI/fMRI_data/spatialfMRI_nii/sub-01/func/sub-01_task-geo_run-05_echo-2_part-phase_bold.nii.gz\n",
      " + setting slice time offsets\n",
      " + loading and re-writing dataset /media/brain/Spatial/spatialfMRI/fMRI_data/spatialfMRI_nii/sub-01/func/sub-01_task-geo_run-05_echo-2_part-phase_bold.nii.gz (/media/brain/Spatial/spatialfMRI/fMRI_data/spatialfMRI_nii/sub-01/func/sub-01_task-geo_run-05_echo-2_part-phase_bold.nii.gz in NIFTI storage)\n"
     ]
    },
    {
     "name": "stdout",
     "output_type": "stream",
     "text": [
      "0 0.8225 0.165 0.9875 0.33 1.1525 0.4925 1.315 0.6575 0 0.8225 0.165 0.9875 0.33 1.1525 0.4925 1.315 0.6575 0 0.8225 0.165 0.9875 0.33 1.1525 0.4925 1.315 0.6575 0 0.8225 0.165 0.9875 0.33 1.1525 0.4925 1.315 0.6575 0 0.8225 0.165 0.9875 0.33 1.1525 0.4925 1.315 0.6575\n"
     ]
    },
    {
     "name": "stderr",
     "output_type": "stream",
     "text": [
      "++ 3drefit processed 1 datasets\n",
      "++ 3drefit: AFNI version=AFNI_24.2.00 (Jul 15 2024) [64-bit]\n",
      "++ Authored by: RW Cox\n",
      "++ Processing AFNI dataset /media/brain/Spatial/spatialfMRI/fMRI_data/spatialfMRI_nii/sub-01/func/sub-01_task-geo_run-05_echo-3_part-phase_bold.nii.gz\n",
      " + setting slice time offsets\n",
      " + loading and re-writing dataset /media/brain/Spatial/spatialfMRI/fMRI_data/spatialfMRI_nii/sub-01/func/sub-01_task-geo_run-05_echo-3_part-phase_bold.nii.gz (/media/brain/Spatial/spatialfMRI/fMRI_data/spatialfMRI_nii/sub-01/func/sub-01_task-geo_run-05_echo-3_part-phase_bold.nii.gz in NIFTI storage)\n"
     ]
    },
    {
     "name": "stdout",
     "output_type": "stream",
     "text": [
      "0 0.8225 0.165 0.9875 0.33 1.1525 0.4925 1.315 0.6575 0 0.8225 0.165 0.9875 0.33 1.1525 0.4925 1.315 0.6575 0 0.8225 0.165 0.9875 0.33 1.1525 0.4925 1.315 0.6575 0 0.8225 0.165 0.9875 0.33 1.1525 0.4925 1.315 0.6575 0 0.8225 0.165 0.9875 0.33 1.1525 0.4925 1.315 0.6575\n"
     ]
    },
    {
     "name": "stderr",
     "output_type": "stream",
     "text": [
      "++ 3drefit processed 1 datasets\n",
      "++ 3drefit: AFNI version=AFNI_24.2.00 (Jul 15 2024) [64-bit]\n",
      "++ Authored by: RW Cox\n",
      "++ Processing AFNI dataset /media/brain/Spatial/spatialfMRI/fMRI_data/spatialfMRI_nii/sub-01/func/sub-01_task-geo_run-05_echo-4_part-phase_bold.nii.gz\n",
      " + setting slice time offsets\n",
      " + loading and re-writing dataset /media/brain/Spatial/spatialfMRI/fMRI_data/spatialfMRI_nii/sub-01/func/sub-01_task-geo_run-05_echo-4_part-phase_bold.nii.gz (/media/brain/Spatial/spatialfMRI/fMRI_data/spatialfMRI_nii/sub-01/func/sub-01_task-geo_run-05_echo-4_part-phase_bold.nii.gz in NIFTI storage)\n"
     ]
    },
    {
     "name": "stdout",
     "output_type": "stream",
     "text": [
      "0 0.8225 0.165 0.9875 0.33 1.1525 0.495 1.315 0.6575 0 0.8225 0.165 0.9875 0.33 1.1525 0.495 1.315 0.6575 0 0.8225 0.165 0.9875 0.33 1.1525 0.495 1.315 0.6575 0 0.8225 0.165 0.9875 0.33 1.1525 0.495 1.315 0.6575 0 0.8225 0.165 0.9875 0.33 1.1525 0.495 1.315 0.6575\n"
     ]
    },
    {
     "name": "stderr",
     "output_type": "stream",
     "text": [
      "++ 3drefit processed 1 datasets\n",
      "++ 3drefit: AFNI version=AFNI_24.2.00 (Jul 15 2024) [64-bit]\n",
      "++ Authored by: RW Cox\n",
      "++ Processing AFNI dataset /media/brain/Spatial/spatialfMRI/fMRI_data/spatialfMRI_nii/sub-01/func/sub-01_task-geo_run-05_echo-5_part-phase_bold.nii.gz\n",
      " + setting slice time offsets\n",
      " + loading and re-writing dataset /media/brain/Spatial/spatialfMRI/fMRI_data/spatialfMRI_nii/sub-01/func/sub-01_task-geo_run-05_echo-5_part-phase_bold.nii.gz (/media/brain/Spatial/spatialfMRI/fMRI_data/spatialfMRI_nii/sub-01/func/sub-01_task-geo_run-05_echo-5_part-phase_bold.nii.gz in NIFTI storage)\n"
     ]
    },
    {
     "name": "stdout",
     "output_type": "stream",
     "text": [
      "0 0.8225 0.165 0.9875 0.33 1.1525 0.495 1.315 0.6575 0 0.8225 0.165 0.9875 0.33 1.1525 0.495 1.315 0.6575 0 0.8225 0.165 0.9875 0.33 1.1525 0.495 1.315 0.6575 0 0.8225 0.165 0.9875 0.33 1.1525 0.495 1.315 0.6575 0 0.8225 0.165 0.9875 0.33 1.1525 0.495 1.315 0.6575\n"
     ]
    },
    {
     "name": "stderr",
     "output_type": "stream",
     "text": [
      "++ 3drefit processed 1 datasets\n",
      "++ 3drefit: AFNI version=AFNI_24.2.00 (Jul 15 2024) [64-bit]\n",
      "++ Authored by: RW Cox\n",
      "++ Processing AFNI dataset /media/brain/Spatial/spatialfMRI/fMRI_data/spatialfMRI_nii/sub-01/func/sub-01_task-geo_run-06_echo-1_part-mag_sbref.nii.gz\n",
      "\u001b[7m*+ WARNING:\u001b[0m -Tslices: dataset has no time axis to add slice offset to!\n",
      " + Didn't make any changes for dataset /media/brain/Spatial/spatialfMRI/fMRI_data/spatialfMRI_nii/sub-01/func/sub-01_task-geo_run-06_echo-1_part-mag_sbref.nii.gz !\n",
      "++ 3drefit processed 1 datasets\n",
      "++ 3drefit: AFNI version=AFNI_24.2.00 (Jul 15 2024) [64-bit]\n",
      "++ Authored by: RW Cox\n",
      "++ Processing AFNI dataset /media/brain/Spatial/spatialfMRI/fMRI_data/spatialfMRI_nii/sub-01/func/sub-01_task-geo_run-06_echo-2_part-mag_sbref.nii.gz\n",
      "\u001b[7m*+ WARNING:\u001b[0m -Tslices: dataset has no time axis to add slice offset to!\n",
      " + Didn't make any changes for dataset /media/brain/Spatial/spatialfMRI/fMRI_data/spatialfMRI_nii/sub-01/func/sub-01_task-geo_run-06_echo-2_part-mag_sbref.nii.gz !\n",
      "++ 3drefit processed 1 datasets\n",
      "++ 3drefit: AFNI version=AFNI_24.2.00 (Jul 15 2024) [64-bit]\n",
      "++ Authored by: RW Cox\n",
      "++ Processing AFNI dataset /media/brain/Spatial/spatialfMRI/fMRI_data/spatialfMRI_nii/sub-01/func/sub-01_task-geo_run-06_echo-3_part-mag_sbref.nii.gz\n",
      "\u001b[7m*+ WARNING:\u001b[0m -Tslices: dataset has no time axis to add slice offset to!\n",
      " + Didn't make any changes for dataset /media/brain/Spatial/spatialfMRI/fMRI_data/spatialfMRI_nii/sub-01/func/sub-01_task-geo_run-06_echo-3_part-mag_sbref.nii.gz !\n",
      "++ 3drefit processed 1 datasets\n",
      "++ 3drefit: AFNI version=AFNI_24.2.00 (Jul 15 2024) [64-bit]\n",
      "++ Authored by: RW Cox\n",
      "++ Processing AFNI dataset /media/brain/Spatial/spatialfMRI/fMRI_data/spatialfMRI_nii/sub-01/func/sub-01_task-geo_run-06_echo-4_part-mag_sbref.nii.gz\n",
      "\u001b[7m*+ WARNING:\u001b[0m -Tslices: dataset has no time axis to add slice offset to!\n",
      " + Didn't make any changes for dataset /media/brain/Spatial/spatialfMRI/fMRI_data/spatialfMRI_nii/sub-01/func/sub-01_task-geo_run-06_echo-4_part-mag_sbref.nii.gz !\n",
      "++ 3drefit processed 1 datasets\n",
      "++ 3drefit: AFNI version=AFNI_24.2.00 (Jul 15 2024) [64-bit]\n",
      "++ Authored by: RW Cox\n",
      "++ Processing AFNI dataset /media/brain/Spatial/spatialfMRI/fMRI_data/spatialfMRI_nii/sub-01/func/sub-01_task-geo_run-06_echo-5_part-mag_sbref.nii.gz\n",
      "\u001b[7m*+ WARNING:\u001b[0m -Tslices: dataset has no time axis to add slice offset to!\n",
      " + Didn't make any changes for dataset /media/brain/Spatial/spatialfMRI/fMRI_data/spatialfMRI_nii/sub-01/func/sub-01_task-geo_run-06_echo-5_part-mag_sbref.nii.gz !\n",
      "++ 3drefit processed 1 datasets\n",
      "++ 3drefit: AFNI version=AFNI_24.2.00 (Jul 15 2024) [64-bit]\n",
      "++ Authored by: RW Cox\n",
      "++ Processing AFNI dataset /media/brain/Spatial/spatialfMRI/fMRI_data/spatialfMRI_nii/sub-01/func/sub-01_task-geo_run-06_echo-1_part-phase_sbref.nii.gz\n",
      "\u001b[7m*+ WARNING:\u001b[0m -Tslices: dataset has no time axis to add slice offset to!\n",
      " + Didn't make any changes for dataset /media/brain/Spatial/spatialfMRI/fMRI_data/spatialfMRI_nii/sub-01/func/sub-01_task-geo_run-06_echo-1_part-phase_sbref.nii.gz !\n",
      "++ 3drefit processed 1 datasets\n",
      "++ 3drefit: AFNI version=AFNI_24.2.00 (Jul 15 2024) [64-bit]\n",
      "++ Authored by: RW Cox\n",
      "++ Processing AFNI dataset /media/brain/Spatial/spatialfMRI/fMRI_data/spatialfMRI_nii/sub-01/func/sub-01_task-geo_run-06_echo-2_part-phase_sbref.nii.gz\n",
      "\u001b[7m*+ WARNING:\u001b[0m -Tslices: dataset has no time axis to add slice offset to!\n",
      " + Didn't make any changes for dataset /media/brain/Spatial/spatialfMRI/fMRI_data/spatialfMRI_nii/sub-01/func/sub-01_task-geo_run-06_echo-2_part-phase_sbref.nii.gz !\n",
      "++ 3drefit processed 1 datasets\n",
      "++ 3drefit: AFNI version=AFNI_24.2.00 (Jul 15 2024) [64-bit]\n",
      "++ Authored by: RW Cox\n",
      "++ Processing AFNI dataset /media/brain/Spatial/spatialfMRI/fMRI_data/spatialfMRI_nii/sub-01/func/sub-01_task-geo_run-06_echo-3_part-phase_sbref.nii.gz\n",
      "\u001b[7m*+ WARNING:\u001b[0m -Tslices: dataset has no time axis to add slice offset to!\n",
      " + Didn't make any changes for dataset /media/brain/Spatial/spatialfMRI/fMRI_data/spatialfMRI_nii/sub-01/func/sub-01_task-geo_run-06_echo-3_part-phase_sbref.nii.gz !\n",
      "++ 3drefit processed 1 datasets\n",
      "++ 3drefit: AFNI version=AFNI_24.2.00 (Jul 15 2024) [64-bit]\n",
      "++ Authored by: RW Cox\n",
      "++ Processing AFNI dataset /media/brain/Spatial/spatialfMRI/fMRI_data/spatialfMRI_nii/sub-01/func/sub-01_task-geo_run-06_echo-4_part-phase_sbref.nii.gz\n",
      "\u001b[7m*+ WARNING:\u001b[0m -Tslices: dataset has no time axis to add slice offset to!\n",
      " + Didn't make any changes for dataset /media/brain/Spatial/spatialfMRI/fMRI_data/spatialfMRI_nii/sub-01/func/sub-01_task-geo_run-06_echo-4_part-phase_sbref.nii.gz !\n",
      "++ 3drefit processed 1 datasets\n",
      "++ 3drefit: AFNI version=AFNI_24.2.00 (Jul 15 2024) [64-bit]\n",
      "++ Authored by: RW Cox\n",
      "++ Processing AFNI dataset /media/brain/Spatial/spatialfMRI/fMRI_data/spatialfMRI_nii/sub-01/func/sub-01_task-geo_run-06_echo-5_part-phase_sbref.nii.gz\n",
      "\u001b[7m*+ WARNING:\u001b[0m -Tslices: dataset has no time axis to add slice offset to!\n",
      " + Didn't make any changes for dataset /media/brain/Spatial/spatialfMRI/fMRI_data/spatialfMRI_nii/sub-01/func/sub-01_task-geo_run-06_echo-5_part-phase_sbref.nii.gz !\n",
      "++ 3drefit processed 1 datasets\n",
      "++ 3drefit: AFNI version=AFNI_24.2.00 (Jul 15 2024) [64-bit]\n",
      "++ Authored by: RW Cox\n",
      "++ Processing AFNI dataset /media/brain/Spatial/spatialfMRI/fMRI_data/spatialfMRI_nii/sub-01/func/sub-01_task-geo_run-06_echo-1_part-mag_bold.nii.gz\n",
      " + setting slice time offsets\n",
      " + loading and re-writing dataset /media/brain/Spatial/spatialfMRI/fMRI_data/spatialfMRI_nii/sub-01/func/sub-01_task-geo_run-06_echo-1_part-mag_bold.nii.gz (/media/brain/Spatial/spatialfMRI/fMRI_data/spatialfMRI_nii/sub-01/func/sub-01_task-geo_run-06_echo-1_part-mag_bold.nii.gz in NIFTI storage)\n"
     ]
    },
    {
     "name": "stdout",
     "output_type": "stream",
     "text": [
      "0 0.165 0.33 0.495 0.6575 0.8225 0.9875 1.1525 1.3175 1.48 1.645 1.81 1.975 2.1375 2.3025 2.4675 2.6325 2.795 2.96 3.125 3.29 3.455 3.6175 3.7825 3.9475 4.1125 4.275 4.44 4.605 4.77 4.935 5.0975 5.2625 5.4275 5.5925 5.755 5.92 6.085 6.25 6.415 6.5775 6.7425 6.9075 7.0725 7.235\n",
      "0 0.165 0.33 0.495 0.6575 0.8225 0.9875 1.1525 1.3175 1.48 1.645 1.81 1.975 2.1375 2.3025 2.4675 2.6325 2.795 2.96 3.125 3.29 3.455 3.6175 3.7825 3.9475 4.1125 4.275 4.44 4.605 4.77 4.935 5.0975 5.2625 5.4275 5.5925 5.755 5.92 6.085 6.25 6.415 6.5775 6.7425 6.9075 7.0725 7.235\n",
      "0 0.165 0.33 0.495 0.6575 0.8225 0.9875 1.1525 1.3175 1.48 1.645 1.81 1.975 2.1375 2.3025 2.4675 2.6325 2.795 2.96 3.125 3.29 3.455 3.6175 3.7825 3.9475 4.1125 4.275 4.44 4.605 4.77 4.935 5.0975 5.2625 5.4275 5.5925 5.755 5.92 6.085 6.25 6.415 6.5775 6.7425 6.9075 7.0725 7.235\n",
      "0 0.165 0.33 0.495 0.6575 0.8225 0.9875 1.1525 1.3175 1.48 1.645 1.81 1.975 2.1375 2.3025 2.4675 2.6325 2.7975 2.96 3.125 3.29 3.455 3.6175 3.7825 3.9475 4.1125 4.275 4.44 4.605 4.77 4.935 5.0975 5.2625 5.4275 5.5925 5.755 5.92 6.085 6.25 6.415 6.5775 6.7425 6.9075 7.0725 7.235\n",
      "0 0.165 0.33 0.495 0.6575 0.8225 0.9875 1.1525 1.3175 1.48 1.645 1.81 1.975 2.1375 2.3025 2.4675 2.6325 2.7975 2.96 3.125 3.29 3.455 3.6175 3.7825 3.9475 4.1125 4.275 4.44 4.605 4.77 4.935 5.0975 5.2625 5.4275 5.5925 5.755 5.92 6.085 6.25 6.415 6.5775 6.7425 6.9075 7.0725 7.235\n",
      "0 0.165 0.33 0.495 0.6575 0.8225 0.9875 1.1525 1.3175 1.48 1.645 1.81 1.975 2.1375 2.3025 2.4675 2.6325 2.795 2.96 3.125 3.29 3.455 3.6175 3.7825 3.9475 4.1125 4.275 4.44 4.605 4.77 4.935 5.0975 5.2625 5.4275 5.5925 5.755 5.92 6.085 6.25 6.415 6.5775 6.7425 6.9075 7.0725 7.235\n",
      "0 0.165 0.33 0.495 0.6575 0.8225 0.9875 1.1525 1.3175 1.48 1.645 1.81 1.975 2.1375 2.3025 2.4675 2.6325 2.795 2.96 3.125 3.29 3.455 3.6175 3.7825 3.9475 4.1125 4.275 4.44 4.605 4.77 4.935 5.0975 5.2625 5.4275 5.5925 5.755 5.92 6.085 6.25 6.415 6.5775 6.7425 6.9075 7.0725 7.235\n",
      "0 0.165 0.33 0.495 0.6575 0.8225 0.9875 1.1525 1.3175 1.48 1.645 1.81 1.975 2.1375 2.3025 2.4675 2.6325 2.795 2.96 3.125 3.29 3.455 3.6175 3.7825 3.9475 4.1125 4.275 4.44 4.605 4.77 4.935 5.0975 5.2625 5.4275 5.5925 5.755 5.92 6.085 6.25 6.415 6.5775 6.7425 6.9075 7.0725 7.235\n",
      "0 0.165 0.33 0.495 0.6575 0.8225 0.9875 1.1525 1.3175 1.48 1.645 1.81 1.975 2.1375 2.3025 2.4675 2.6325 2.7975 2.96 3.125 3.29 3.455 3.6175 3.7825 3.9475 4.1125 4.275 4.44 4.605 4.77 4.935 5.0975 5.2625 5.4275 5.5925 5.755 5.92 6.085 6.25 6.415 6.5775 6.7425 6.9075 7.0725 7.235\n",
      "0 0.165 0.33 0.495 0.6575 0.8225 0.9875 1.1525 1.3175 1.48 1.645 1.81 1.975 2.1375 2.3025 2.4675 2.6325 2.7975 2.96 3.125 3.29 3.455 3.6175 3.7825 3.9475 4.1125 4.275 4.44 4.605 4.77 4.935 5.0975 5.2625 5.4275 5.5925 5.755 5.92 6.085 6.25 6.415 6.5775 6.7425 6.9075 7.0725 7.235\n",
      "0 0.8225 0.165 0.9875 0.33 1.1525 0.495 1.3175 0.6575 0 0.8225 0.165 0.9875 0.33 1.1525 0.495 1.3175 0.6575 0 0.8225 0.165 0.9875 0.33 1.1525 0.495 1.3175 0.6575 0 0.8225 0.165 0.9875 0.33 1.1525 0.495 1.3175 0.6575 0 0.8225 0.165 0.9875 0.33 1.1525 0.495 1.3175 0.6575\n"
     ]
    },
    {
     "name": "stderr",
     "output_type": "stream",
     "text": [
      "++ 3drefit processed 1 datasets\n",
      "++ 3drefit: AFNI version=AFNI_24.2.00 (Jul 15 2024) [64-bit]\n",
      "++ Authored by: RW Cox\n",
      "++ Processing AFNI dataset /media/brain/Spatial/spatialfMRI/fMRI_data/spatialfMRI_nii/sub-01/func/sub-01_task-geo_run-06_echo-2_part-mag_bold.nii.gz\n",
      " + setting slice time offsets\n",
      " + loading and re-writing dataset /media/brain/Spatial/spatialfMRI/fMRI_data/spatialfMRI_nii/sub-01/func/sub-01_task-geo_run-06_echo-2_part-mag_bold.nii.gz (/media/brain/Spatial/spatialfMRI/fMRI_data/spatialfMRI_nii/sub-01/func/sub-01_task-geo_run-06_echo-2_part-mag_bold.nii.gz in NIFTI storage)\n"
     ]
    },
    {
     "name": "stdout",
     "output_type": "stream",
     "text": [
      "0 0.8225 0.165 0.9875 0.33 1.1525 0.495 1.3175 0.6575 0 0.8225 0.165 0.9875 0.33 1.1525 0.495 1.3175 0.6575 0 0.8225 0.165 0.9875 0.33 1.1525 0.495 1.3175 0.6575 0 0.8225 0.165 0.9875 0.33 1.1525 0.495 1.3175 0.6575 0 0.8225 0.165 0.9875 0.33 1.1525 0.495 1.3175 0.6575\n"
     ]
    },
    {
     "name": "stderr",
     "output_type": "stream",
     "text": [
      "++ 3drefit processed 1 datasets\n",
      "++ 3drefit: AFNI version=AFNI_24.2.00 (Jul 15 2024) [64-bit]\n",
      "++ Authored by: RW Cox\n",
      "++ Processing AFNI dataset /media/brain/Spatial/spatialfMRI/fMRI_data/spatialfMRI_nii/sub-01/func/sub-01_task-geo_run-06_echo-3_part-mag_bold.nii.gz\n",
      " + setting slice time offsets\n",
      " + loading and re-writing dataset /media/brain/Spatial/spatialfMRI/fMRI_data/spatialfMRI_nii/sub-01/func/sub-01_task-geo_run-06_echo-3_part-mag_bold.nii.gz (/media/brain/Spatial/spatialfMRI/fMRI_data/spatialfMRI_nii/sub-01/func/sub-01_task-geo_run-06_echo-3_part-mag_bold.nii.gz in NIFTI storage)\n"
     ]
    },
    {
     "name": "stdout",
     "output_type": "stream",
     "text": [
      "0 0.8225 0.165 0.9875 0.33 1.1525 0.495 1.3175 0.6575 0 0.8225 0.165 0.9875 0.33 1.1525 0.495 1.3175 0.6575 0 0.8225 0.165 0.9875 0.33 1.1525 0.495 1.3175 0.6575 0 0.8225 0.165 0.9875 0.33 1.1525 0.495 1.3175 0.6575 0 0.8225 0.165 0.9875 0.33 1.1525 0.495 1.3175 0.6575\n"
     ]
    },
    {
     "name": "stderr",
     "output_type": "stream",
     "text": [
      "++ 3drefit processed 1 datasets\n",
      "++ 3drefit: AFNI version=AFNI_24.2.00 (Jul 15 2024) [64-bit]\n",
      "++ Authored by: RW Cox\n",
      "++ Processing AFNI dataset /media/brain/Spatial/spatialfMRI/fMRI_data/spatialfMRI_nii/sub-01/func/sub-01_task-geo_run-06_echo-4_part-mag_bold.nii.gz\n",
      " + setting slice time offsets\n",
      " + loading and re-writing dataset /media/brain/Spatial/spatialfMRI/fMRI_data/spatialfMRI_nii/sub-01/func/sub-01_task-geo_run-06_echo-4_part-mag_bold.nii.gz (/media/brain/Spatial/spatialfMRI/fMRI_data/spatialfMRI_nii/sub-01/func/sub-01_task-geo_run-06_echo-4_part-mag_bold.nii.gz in NIFTI storage)\n"
     ]
    },
    {
     "name": "stdout",
     "output_type": "stream",
     "text": [
      "0 0.8225 0.165 0.9875 0.33 1.1525 0.495 1.3175 0.6575 0 0.8225 0.165 0.9875 0.33 1.1525 0.495 1.3175 0.6575 0 0.8225 0.165 0.9875 0.33 1.1525 0.495 1.3175 0.6575 0 0.8225 0.165 0.9875 0.33 1.1525 0.495 1.3175 0.6575 0 0.8225 0.165 0.9875 0.33 1.1525 0.495 1.3175 0.6575\n"
     ]
    },
    {
     "name": "stderr",
     "output_type": "stream",
     "text": [
      "++ 3drefit processed 1 datasets\n",
      "++ 3drefit: AFNI version=AFNI_24.2.00 (Jul 15 2024) [64-bit]\n",
      "++ Authored by: RW Cox\n",
      "++ Processing AFNI dataset /media/brain/Spatial/spatialfMRI/fMRI_data/spatialfMRI_nii/sub-01/func/sub-01_task-geo_run-06_echo-5_part-mag_bold.nii.gz\n",
      " + setting slice time offsets\n",
      " + loading and re-writing dataset /media/brain/Spatial/spatialfMRI/fMRI_data/spatialfMRI_nii/sub-01/func/sub-01_task-geo_run-06_echo-5_part-mag_bold.nii.gz (/media/brain/Spatial/spatialfMRI/fMRI_data/spatialfMRI_nii/sub-01/func/sub-01_task-geo_run-06_echo-5_part-mag_bold.nii.gz in NIFTI storage)\n"
     ]
    },
    {
     "name": "stdout",
     "output_type": "stream",
     "text": [
      "0 0.8225 0.165 0.9875 0.33 1.1525 0.495 1.3175 0.6575 0 0.8225 0.165 0.9875 0.33 1.1525 0.495 1.3175 0.6575 0 0.8225 0.165 0.9875 0.33 1.1525 0.495 1.3175 0.6575 0 0.8225 0.165 0.9875 0.33 1.1525 0.495 1.3175 0.6575 0 0.8225 0.165 0.9875 0.33 1.1525 0.495 1.3175 0.6575\n"
     ]
    },
    {
     "name": "stderr",
     "output_type": "stream",
     "text": [
      "++ 3drefit processed 1 datasets\n",
      "++ 3drefit: AFNI version=AFNI_24.2.00 (Jul 15 2024) [64-bit]\n",
      "++ Authored by: RW Cox\n",
      "++ Processing AFNI dataset /media/brain/Spatial/spatialfMRI/fMRI_data/spatialfMRI_nii/sub-01/func/sub-01_task-geo_run-06_echo-1_part-phase_bold.nii.gz\n",
      " + setting slice time offsets\n",
      " + loading and re-writing dataset /media/brain/Spatial/spatialfMRI/fMRI_data/spatialfMRI_nii/sub-01/func/sub-01_task-geo_run-06_echo-1_part-phase_bold.nii.gz (/media/brain/Spatial/spatialfMRI/fMRI_data/spatialfMRI_nii/sub-01/func/sub-01_task-geo_run-06_echo-1_part-phase_bold.nii.gz in NIFTI storage)\n"
     ]
    },
    {
     "name": "stdout",
     "output_type": "stream",
     "text": [
      "0 0.8225 0.165 0.9875 0.33 1.1525 0.495 1.3175 0.6575 0 0.8225 0.165 0.9875 0.33 1.1525 0.495 1.3175 0.6575 0 0.8225 0.165 0.9875 0.33 1.1525 0.495 1.3175 0.6575 0 0.8225 0.165 0.9875 0.33 1.1525 0.495 1.3175 0.6575 0 0.8225 0.165 0.9875 0.33 1.1525 0.495 1.3175 0.6575\n"
     ]
    },
    {
     "name": "stderr",
     "output_type": "stream",
     "text": [
      "++ 3drefit processed 1 datasets\n",
      "++ 3drefit: AFNI version=AFNI_24.2.00 (Jul 15 2024) [64-bit]\n",
      "++ Authored by: RW Cox\n",
      "++ Processing AFNI dataset /media/brain/Spatial/spatialfMRI/fMRI_data/spatialfMRI_nii/sub-01/func/sub-01_task-geo_run-06_echo-2_part-phase_bold.nii.gz\n",
      " + setting slice time offsets\n",
      " + loading and re-writing dataset /media/brain/Spatial/spatialfMRI/fMRI_data/spatialfMRI_nii/sub-01/func/sub-01_task-geo_run-06_echo-2_part-phase_bold.nii.gz (/media/brain/Spatial/spatialfMRI/fMRI_data/spatialfMRI_nii/sub-01/func/sub-01_task-geo_run-06_echo-2_part-phase_bold.nii.gz in NIFTI storage)\n"
     ]
    },
    {
     "name": "stdout",
     "output_type": "stream",
     "text": [
      "0 0.8225 0.165 0.9875 0.33 1.1525 0.495 1.3175 0.6575 0 0.8225 0.165 0.9875 0.33 1.1525 0.495 1.3175 0.6575 0 0.8225 0.165 0.9875 0.33 1.1525 0.495 1.3175 0.6575 0 0.8225 0.165 0.9875 0.33 1.1525 0.495 1.3175 0.6575 0 0.8225 0.165 0.9875 0.33 1.1525 0.495 1.3175 0.6575\n"
     ]
    },
    {
     "name": "stderr",
     "output_type": "stream",
     "text": [
      "++ 3drefit processed 1 datasets\n",
      "++ 3drefit: AFNI version=AFNI_24.2.00 (Jul 15 2024) [64-bit]\n",
      "++ Authored by: RW Cox\n",
      "++ Processing AFNI dataset /media/brain/Spatial/spatialfMRI/fMRI_data/spatialfMRI_nii/sub-01/func/sub-01_task-geo_run-06_echo-3_part-phase_bold.nii.gz\n",
      " + setting slice time offsets\n",
      " + loading and re-writing dataset /media/brain/Spatial/spatialfMRI/fMRI_data/spatialfMRI_nii/sub-01/func/sub-01_task-geo_run-06_echo-3_part-phase_bold.nii.gz (/media/brain/Spatial/spatialfMRI/fMRI_data/spatialfMRI_nii/sub-01/func/sub-01_task-geo_run-06_echo-3_part-phase_bold.nii.gz in NIFTI storage)\n"
     ]
    },
    {
     "name": "stdout",
     "output_type": "stream",
     "text": [
      "0 0.8225 0.165 0.9875 0.33 1.1525 0.495 1.3175 0.6575 0 0.8225 0.165 0.9875 0.33 1.1525 0.495 1.3175 0.6575 0 0.8225 0.165 0.9875 0.33 1.1525 0.495 1.3175 0.6575 0 0.8225 0.165 0.9875 0.33 1.1525 0.495 1.3175 0.6575 0 0.8225 0.165 0.9875 0.33 1.1525 0.495 1.3175 0.6575\n"
     ]
    },
    {
     "name": "stderr",
     "output_type": "stream",
     "text": [
      "++ 3drefit processed 1 datasets\n",
      "++ 3drefit: AFNI version=AFNI_24.2.00 (Jul 15 2024) [64-bit]\n",
      "++ Authored by: RW Cox\n",
      "++ Processing AFNI dataset /media/brain/Spatial/spatialfMRI/fMRI_data/spatialfMRI_nii/sub-01/func/sub-01_task-geo_run-06_echo-4_part-phase_bold.nii.gz\n",
      " + setting slice time offsets\n",
      " + loading and re-writing dataset /media/brain/Spatial/spatialfMRI/fMRI_data/spatialfMRI_nii/sub-01/func/sub-01_task-geo_run-06_echo-4_part-phase_bold.nii.gz (/media/brain/Spatial/spatialfMRI/fMRI_data/spatialfMRI_nii/sub-01/func/sub-01_task-geo_run-06_echo-4_part-phase_bold.nii.gz in NIFTI storage)\n"
     ]
    },
    {
     "name": "stdout",
     "output_type": "stream",
     "text": [
      "0 0.8225 0.165 0.9875 0.33 1.1525 0.495 1.3175 0.6575 0 0.8225 0.165 0.9875 0.33 1.1525 0.495 1.3175 0.6575 0 0.8225 0.165 0.9875 0.33 1.1525 0.495 1.3175 0.6575 0 0.8225 0.165 0.9875 0.33 1.1525 0.495 1.3175 0.6575 0 0.8225 0.165 0.9875 0.33 1.1525 0.495 1.3175 0.6575\n"
     ]
    },
    {
     "name": "stderr",
     "output_type": "stream",
     "text": [
      "++ 3drefit processed 1 datasets\n",
      "++ 3drefit: AFNI version=AFNI_24.2.00 (Jul 15 2024) [64-bit]\n",
      "++ Authored by: RW Cox\n",
      "++ Processing AFNI dataset /media/brain/Spatial/spatialfMRI/fMRI_data/spatialfMRI_nii/sub-01/func/sub-01_task-geo_run-06_echo-5_part-phase_bold.nii.gz\n",
      " + setting slice time offsets\n",
      " + loading and re-writing dataset /media/brain/Spatial/spatialfMRI/fMRI_data/spatialfMRI_nii/sub-01/func/sub-01_task-geo_run-06_echo-5_part-phase_bold.nii.gz (/media/brain/Spatial/spatialfMRI/fMRI_data/spatialfMRI_nii/sub-01/func/sub-01_task-geo_run-06_echo-5_part-phase_bold.nii.gz in NIFTI storage)\n"
     ]
    },
    {
     "name": "stdout",
     "output_type": "stream",
     "text": [
      "0 0.8225 0.165 0.9875 0.33 1.1525 0.495 1.3175 0.6575 0 0.8225 0.165 0.9875 0.33 1.1525 0.495 1.3175 0.6575 0 0.8225 0.165 0.9875 0.33 1.1525 0.495 1.3175 0.6575 0 0.8225 0.165 0.9875 0.33 1.1525 0.495 1.3175 0.6575 0 0.8225 0.165 0.9875 0.33 1.1525 0.495 1.3175 0.6575\n"
     ]
    },
    {
     "name": "stderr",
     "output_type": "stream",
     "text": [
      "++ 3drefit processed 1 datasets\n",
      "++ 3drefit: AFNI version=AFNI_24.2.00 (Jul 15 2024) [64-bit]\n",
      "++ Authored by: RW Cox\n",
      "++ Processing AFNI dataset /media/brain/Spatial/spatialfMRI/fMRI_data/spatialfMRI_nii/sub-01/func/sub-01_task-geo_run-07_echo-1_part-mag_sbref.nii.gz\n",
      "\u001b[7m*+ WARNING:\u001b[0m -Tslices: dataset has no time axis to add slice offset to!\n",
      " + Didn't make any changes for dataset /media/brain/Spatial/spatialfMRI/fMRI_data/spatialfMRI_nii/sub-01/func/sub-01_task-geo_run-07_echo-1_part-mag_sbref.nii.gz !\n",
      "++ 3drefit processed 1 datasets\n",
      "++ 3drefit: AFNI version=AFNI_24.2.00 (Jul 15 2024) [64-bit]\n",
      "++ Authored by: RW Cox\n",
      "++ Processing AFNI dataset /media/brain/Spatial/spatialfMRI/fMRI_data/spatialfMRI_nii/sub-01/func/sub-01_task-geo_run-07_echo-2_part-mag_sbref.nii.gz\n",
      "\u001b[7m*+ WARNING:\u001b[0m -Tslices: dataset has no time axis to add slice offset to!\n",
      " + Didn't make any changes for dataset /media/brain/Spatial/spatialfMRI/fMRI_data/spatialfMRI_nii/sub-01/func/sub-01_task-geo_run-07_echo-2_part-mag_sbref.nii.gz !\n",
      "++ 3drefit processed 1 datasets\n",
      "++ 3drefit: AFNI version=AFNI_24.2.00 (Jul 15 2024) [64-bit]\n",
      "++ Authored by: RW Cox\n",
      "++ Processing AFNI dataset /media/brain/Spatial/spatialfMRI/fMRI_data/spatialfMRI_nii/sub-01/func/sub-01_task-geo_run-07_echo-3_part-mag_sbref.nii.gz\n",
      "\u001b[7m*+ WARNING:\u001b[0m -Tslices: dataset has no time axis to add slice offset to!\n",
      " + Didn't make any changes for dataset /media/brain/Spatial/spatialfMRI/fMRI_data/spatialfMRI_nii/sub-01/func/sub-01_task-geo_run-07_echo-3_part-mag_sbref.nii.gz !\n",
      "++ 3drefit processed 1 datasets\n",
      "++ 3drefit: AFNI version=AFNI_24.2.00 (Jul 15 2024) [64-bit]\n",
      "++ Authored by: RW Cox\n",
      "++ Processing AFNI dataset /media/brain/Spatial/spatialfMRI/fMRI_data/spatialfMRI_nii/sub-01/func/sub-01_task-geo_run-07_echo-4_part-mag_sbref.nii.gz\n",
      "\u001b[7m*+ WARNING:\u001b[0m -Tslices: dataset has no time axis to add slice offset to!\n",
      " + Didn't make any changes for dataset /media/brain/Spatial/spatialfMRI/fMRI_data/spatialfMRI_nii/sub-01/func/sub-01_task-geo_run-07_echo-4_part-mag_sbref.nii.gz !\n",
      "++ 3drefit processed 1 datasets\n",
      "++ 3drefit: AFNI version=AFNI_24.2.00 (Jul 15 2024) [64-bit]\n",
      "++ Authored by: RW Cox\n",
      "++ Processing AFNI dataset /media/brain/Spatial/spatialfMRI/fMRI_data/spatialfMRI_nii/sub-01/func/sub-01_task-geo_run-07_echo-5_part-mag_sbref.nii.gz\n",
      "\u001b[7m*+ WARNING:\u001b[0m -Tslices: dataset has no time axis to add slice offset to!\n",
      " + Didn't make any changes for dataset /media/brain/Spatial/spatialfMRI/fMRI_data/spatialfMRI_nii/sub-01/func/sub-01_task-geo_run-07_echo-5_part-mag_sbref.nii.gz !\n",
      "++ 3drefit processed 1 datasets\n",
      "++ 3drefit: AFNI version=AFNI_24.2.00 (Jul 15 2024) [64-bit]\n",
      "++ Authored by: RW Cox\n",
      "++ Processing AFNI dataset /media/brain/Spatial/spatialfMRI/fMRI_data/spatialfMRI_nii/sub-01/func/sub-01_task-geo_run-07_echo-1_part-phase_sbref.nii.gz\n",
      "\u001b[7m*+ WARNING:\u001b[0m -Tslices: dataset has no time axis to add slice offset to!\n",
      " + Didn't make any changes for dataset /media/brain/Spatial/spatialfMRI/fMRI_data/spatialfMRI_nii/sub-01/func/sub-01_task-geo_run-07_echo-1_part-phase_sbref.nii.gz !\n",
      "++ 3drefit processed 1 datasets\n",
      "++ 3drefit: AFNI version=AFNI_24.2.00 (Jul 15 2024) [64-bit]\n",
      "++ Authored by: RW Cox\n",
      "++ Processing AFNI dataset /media/brain/Spatial/spatialfMRI/fMRI_data/spatialfMRI_nii/sub-01/func/sub-01_task-geo_run-07_echo-2_part-phase_sbref.nii.gz\n",
      "\u001b[7m*+ WARNING:\u001b[0m -Tslices: dataset has no time axis to add slice offset to!\n",
      " + Didn't make any changes for dataset /media/brain/Spatial/spatialfMRI/fMRI_data/spatialfMRI_nii/sub-01/func/sub-01_task-geo_run-07_echo-2_part-phase_sbref.nii.gz !\n",
      "++ 3drefit processed 1 datasets\n",
      "++ 3drefit: AFNI version=AFNI_24.2.00 (Jul 15 2024) [64-bit]\n",
      "++ Authored by: RW Cox\n",
      "++ Processing AFNI dataset /media/brain/Spatial/spatialfMRI/fMRI_data/spatialfMRI_nii/sub-01/func/sub-01_task-geo_run-07_echo-3_part-phase_sbref.nii.gz\n",
      "\u001b[7m*+ WARNING:\u001b[0m -Tslices: dataset has no time axis to add slice offset to!\n",
      " + Didn't make any changes for dataset /media/brain/Spatial/spatialfMRI/fMRI_data/spatialfMRI_nii/sub-01/func/sub-01_task-geo_run-07_echo-3_part-phase_sbref.nii.gz !\n",
      "++ 3drefit processed 1 datasets\n",
      "++ 3drefit: AFNI version=AFNI_24.2.00 (Jul 15 2024) [64-bit]\n",
      "++ Authored by: RW Cox\n",
      "++ Processing AFNI dataset /media/brain/Spatial/spatialfMRI/fMRI_data/spatialfMRI_nii/sub-01/func/sub-01_task-geo_run-07_echo-4_part-phase_sbref.nii.gz\n",
      "\u001b[7m*+ WARNING:\u001b[0m -Tslices: dataset has no time axis to add slice offset to!\n",
      " + Didn't make any changes for dataset /media/brain/Spatial/spatialfMRI/fMRI_data/spatialfMRI_nii/sub-01/func/sub-01_task-geo_run-07_echo-4_part-phase_sbref.nii.gz !\n",
      "++ 3drefit processed 1 datasets\n",
      "++ 3drefit: AFNI version=AFNI_24.2.00 (Jul 15 2024) [64-bit]\n",
      "++ Authored by: RW Cox\n",
      "++ Processing AFNI dataset /media/brain/Spatial/spatialfMRI/fMRI_data/spatialfMRI_nii/sub-01/func/sub-01_task-geo_run-07_echo-5_part-phase_sbref.nii.gz\n",
      "\u001b[7m*+ WARNING:\u001b[0m -Tslices: dataset has no time axis to add slice offset to!\n",
      " + Didn't make any changes for dataset /media/brain/Spatial/spatialfMRI/fMRI_data/spatialfMRI_nii/sub-01/func/sub-01_task-geo_run-07_echo-5_part-phase_sbref.nii.gz !\n",
      "++ 3drefit processed 1 datasets\n",
      "++ 3drefit: AFNI version=AFNI_24.2.00 (Jul 15 2024) [64-bit]\n",
      "++ Authored by: RW Cox\n",
      "++ Processing AFNI dataset /media/brain/Spatial/spatialfMRI/fMRI_data/spatialfMRI_nii/sub-01/func/sub-01_task-geo_run-07_echo-1_part-mag_bold.nii.gz\n",
      " + setting slice time offsets\n",
      " + loading and re-writing dataset /media/brain/Spatial/spatialfMRI/fMRI_data/spatialfMRI_nii/sub-01/func/sub-01_task-geo_run-07_echo-1_part-mag_bold.nii.gz (/media/brain/Spatial/spatialfMRI/fMRI_data/spatialfMRI_nii/sub-01/func/sub-01_task-geo_run-07_echo-1_part-mag_bold.nii.gz in NIFTI storage)\n"
     ]
    },
    {
     "name": "stdout",
     "output_type": "stream",
     "text": [
      "0 0.165 0.33 0.4925 0.6575 0.8225 0.9875 1.15 1.315 1.48 1.645 1.8075 1.9725 2.1375 2.3025 2.4675 2.63 2.795 2.96 3.125 3.2875 3.4525 3.6175 3.7825 3.9475 4.11 4.275 4.44 4.605 4.7675 4.9325 5.0975 5.2625 5.4275 5.59 5.755 5.92 6.085 6.2475 6.4125 6.5775 6.7425 6.9075 7.07 7.235\n",
      "0 0.165 0.33 0.4925 0.6575 0.8225 0.9875 1.15 1.315 1.48 1.645 1.8075 1.9725 2.1375 2.3025 2.4675 2.63 2.795 2.96 3.125 3.2875 3.4525 3.6175 3.7825 3.9475 4.11 4.275 4.44 4.605 4.7675 4.9325 5.0975 5.2625 5.4275 5.59 5.755 5.92 6.085 6.2475 6.4125 6.5775 6.7425 6.9075 7.07 7.235\n",
      "0 0.165 0.33 0.4925 0.6575 0.8225 0.9875 1.15 1.315 1.48 1.645 1.8075 1.9725 2.1375 2.3025 2.4675 2.63 2.795 2.96 3.125 3.2875 3.4525 3.6175 3.7825 3.9475 4.11 4.275 4.44 4.605 4.7675 4.9325 5.0975 5.2625 5.4275 5.59 5.755 5.92 6.085 6.2475 6.4125 6.5775 6.7425 6.9075 7.07 7.235\n",
      "0 0.165 0.33 0.4925 0.6575 0.8225 0.9875 1.15 1.315 1.48 1.645 1.81 1.9725 2.1375 2.3025 2.4675 2.63 2.795 2.96 3.125 3.2875 3.4525 3.6175 3.7825 3.9475 4.11 4.275 4.44 4.605 4.7675 4.9325 5.0975 5.2625 5.4275 5.59 5.755 5.92 6.085 6.2475 6.4125 6.5775 6.7425 6.9075 7.07 7.235\n",
      "0 0.165 0.33 0.4925 0.6575 0.8225 0.9875 1.15 1.315 1.48 1.645 1.81 1.9725 2.1375 2.3025 2.4675 2.63 2.795 2.96 3.125 3.2875 3.4525 3.6175 3.7825 3.9475 4.11 4.275 4.44 4.605 4.7675 4.9325 5.0975 5.2625 5.4275 5.59 5.755 5.92 6.085 6.2475 6.4125 6.5775 6.7425 6.9075 7.07 7.235\n",
      "0 0.165 0.33 0.4925 0.6575 0.8225 0.9875 1.15 1.315 1.48 1.645 1.8075 1.9725 2.1375 2.3025 2.4675 2.63 2.795 2.96 3.125 3.2875 3.4525 3.6175 3.7825 3.9475 4.11 4.275 4.44 4.605 4.7675 4.9325 5.0975 5.2625 5.4275 5.59 5.755 5.92 6.085 6.2475 6.4125 6.5775 6.7425 6.9075 7.07 7.235\n",
      "0 0.165 0.33 0.4925 0.6575 0.8225 0.9875 1.15 1.315 1.48 1.645 1.8075 1.9725 2.1375 2.3025 2.4675 2.63 2.795 2.96 3.125 3.2875 3.4525 3.6175 3.7825 3.9475 4.11 4.275 4.44 4.605 4.7675 4.9325 5.0975 5.2625 5.4275 5.59 5.755 5.92 6.085 6.2475 6.4125 6.5775 6.7425 6.9075 7.07 7.235\n",
      "0 0.165 0.33 0.4925 0.6575 0.8225 0.9875 1.15 1.315 1.48 1.645 1.8075 1.9725 2.1375 2.3025 2.4675 2.63 2.795 2.96 3.125 3.2875 3.4525 3.6175 3.7825 3.9475 4.11 4.275 4.44 4.605 4.7675 4.9325 5.0975 5.2625 5.4275 5.59 5.755 5.92 6.085 6.2475 6.4125 6.5775 6.7425 6.9075 7.07 7.235\n",
      "0 0.165 0.33 0.4925 0.6575 0.8225 0.9875 1.15 1.315 1.48 1.645 1.81 1.9725 2.1375 2.3025 2.4675 2.63 2.795 2.96 3.125 3.2875 3.4525 3.6175 3.7825 3.9475 4.11 4.275 4.44 4.605 4.7675 4.9325 5.0975 5.2625 5.4275 5.59 5.755 5.92 6.085 6.2475 6.4125 6.5775 6.7425 6.9075 7.07 7.235\n",
      "0 0.165 0.33 0.4925 0.6575 0.8225 0.9875 1.15 1.315 1.48 1.645 1.81 1.9725 2.1375 2.3025 2.4675 2.63 2.795 2.96 3.125 3.2875 3.4525 3.6175 3.7825 3.9475 4.11 4.275 4.44 4.605 4.7675 4.9325 5.0975 5.2625 5.4275 5.59 5.755 5.92 6.085 6.2475 6.4125 6.5775 6.7425 6.9075 7.07 7.235\n",
      "0 0.8225 0.165 0.9875 0.33 1.15 0.4925 1.315 0.6575 0 0.8225 0.165 0.9875 0.33 1.15 0.4925 1.315 0.6575 0 0.8225 0.165 0.9875 0.33 1.15 0.4925 1.315 0.6575 0 0.8225 0.165 0.9875 0.33 1.15 0.4925 1.315 0.6575 0 0.8225 0.165 0.9875 0.33 1.15 0.4925 1.315 0.6575\n"
     ]
    },
    {
     "name": "stderr",
     "output_type": "stream",
     "text": [
      "++ 3drefit processed 1 datasets\n",
      "++ 3drefit: AFNI version=AFNI_24.2.00 (Jul 15 2024) [64-bit]\n",
      "++ Authored by: RW Cox\n",
      "++ Processing AFNI dataset /media/brain/Spatial/spatialfMRI/fMRI_data/spatialfMRI_nii/sub-01/func/sub-01_task-geo_run-07_echo-2_part-mag_bold.nii.gz\n",
      " + setting slice time offsets\n",
      " + loading and re-writing dataset /media/brain/Spatial/spatialfMRI/fMRI_data/spatialfMRI_nii/sub-01/func/sub-01_task-geo_run-07_echo-2_part-mag_bold.nii.gz (/media/brain/Spatial/spatialfMRI/fMRI_data/spatialfMRI_nii/sub-01/func/sub-01_task-geo_run-07_echo-2_part-mag_bold.nii.gz in NIFTI storage)\n"
     ]
    },
    {
     "name": "stdout",
     "output_type": "stream",
     "text": [
      "0 0.8225 0.165 0.9875 0.33 1.15 0.4925 1.315 0.6575 0 0.8225 0.165 0.9875 0.33 1.15 0.4925 1.315 0.6575 0 0.8225 0.165 0.9875 0.33 1.15 0.4925 1.315 0.6575 0 0.8225 0.165 0.9875 0.33 1.15 0.4925 1.315 0.6575 0 0.8225 0.165 0.9875 0.33 1.15 0.4925 1.315 0.6575\n"
     ]
    },
    {
     "name": "stderr",
     "output_type": "stream",
     "text": [
      "++ 3drefit processed 1 datasets\n",
      "++ 3drefit: AFNI version=AFNI_24.2.00 (Jul 15 2024) [64-bit]\n",
      "++ Authored by: RW Cox\n",
      "++ Processing AFNI dataset /media/brain/Spatial/spatialfMRI/fMRI_data/spatialfMRI_nii/sub-01/func/sub-01_task-geo_run-07_echo-3_part-mag_bold.nii.gz\n",
      " + setting slice time offsets\n",
      " + loading and re-writing dataset /media/brain/Spatial/spatialfMRI/fMRI_data/spatialfMRI_nii/sub-01/func/sub-01_task-geo_run-07_echo-3_part-mag_bold.nii.gz (/media/brain/Spatial/spatialfMRI/fMRI_data/spatialfMRI_nii/sub-01/func/sub-01_task-geo_run-07_echo-3_part-mag_bold.nii.gz in NIFTI storage)\n"
     ]
    },
    {
     "name": "stdout",
     "output_type": "stream",
     "text": [
      "0 0.8225 0.165 0.9875 0.33 1.15 0.4925 1.315 0.6575 0 0.8225 0.165 0.9875 0.33 1.15 0.4925 1.315 0.6575 0 0.8225 0.165 0.9875 0.33 1.15 0.4925 1.315 0.6575 0 0.8225 0.165 0.9875 0.33 1.15 0.4925 1.315 0.6575 0 0.8225 0.165 0.9875 0.33 1.15 0.4925 1.315 0.6575\n"
     ]
    },
    {
     "name": "stderr",
     "output_type": "stream",
     "text": [
      "++ 3drefit processed 1 datasets\n",
      "++ 3drefit: AFNI version=AFNI_24.2.00 (Jul 15 2024) [64-bit]\n",
      "++ Authored by: RW Cox\n",
      "++ Processing AFNI dataset /media/brain/Spatial/spatialfMRI/fMRI_data/spatialfMRI_nii/sub-01/func/sub-01_task-geo_run-07_echo-4_part-mag_bold.nii.gz\n",
      " + setting slice time offsets\n",
      " + loading and re-writing dataset /media/brain/Spatial/spatialfMRI/fMRI_data/spatialfMRI_nii/sub-01/func/sub-01_task-geo_run-07_echo-4_part-mag_bold.nii.gz (/media/brain/Spatial/spatialfMRI/fMRI_data/spatialfMRI_nii/sub-01/func/sub-01_task-geo_run-07_echo-4_part-mag_bold.nii.gz in NIFTI storage)\n"
     ]
    },
    {
     "name": "stdout",
     "output_type": "stream",
     "text": [
      "0 0.8225 0.165 0.9875 0.33 1.15 0.4925 1.315 0.6575 0 0.8225 0.165 0.9875 0.33 1.15 0.4925 1.315 0.6575 0 0.8225 0.165 0.9875 0.33 1.15 0.4925 1.315 0.6575 0 0.8225 0.165 0.9875 0.33 1.15 0.4925 1.315 0.6575 0 0.8225 0.165 0.9875 0.33 1.15 0.4925 1.315 0.6575\n"
     ]
    },
    {
     "name": "stderr",
     "output_type": "stream",
     "text": [
      "++ 3drefit processed 1 datasets\n",
      "++ 3drefit: AFNI version=AFNI_24.2.00 (Jul 15 2024) [64-bit]\n",
      "++ Authored by: RW Cox\n",
      "++ Processing AFNI dataset /media/brain/Spatial/spatialfMRI/fMRI_data/spatialfMRI_nii/sub-01/func/sub-01_task-geo_run-07_echo-5_part-mag_bold.nii.gz\n",
      " + setting slice time offsets\n",
      " + loading and re-writing dataset /media/brain/Spatial/spatialfMRI/fMRI_data/spatialfMRI_nii/sub-01/func/sub-01_task-geo_run-07_echo-5_part-mag_bold.nii.gz (/media/brain/Spatial/spatialfMRI/fMRI_data/spatialfMRI_nii/sub-01/func/sub-01_task-geo_run-07_echo-5_part-mag_bold.nii.gz in NIFTI storage)\n"
     ]
    },
    {
     "name": "stdout",
     "output_type": "stream",
     "text": [
      "0 0.8225 0.165 0.9875 0.33 1.15 0.4925 1.315 0.6575 0 0.8225 0.165 0.9875 0.33 1.15 0.4925 1.315 0.6575 0 0.8225 0.165 0.9875 0.33 1.15 0.4925 1.315 0.6575 0 0.8225 0.165 0.9875 0.33 1.15 0.4925 1.315 0.6575 0 0.8225 0.165 0.9875 0.33 1.15 0.4925 1.315 0.6575\n"
     ]
    },
    {
     "name": "stderr",
     "output_type": "stream",
     "text": [
      "++ 3drefit processed 1 datasets\n",
      "++ 3drefit: AFNI version=AFNI_24.2.00 (Jul 15 2024) [64-bit]\n",
      "++ Authored by: RW Cox\n",
      "++ Processing AFNI dataset /media/brain/Spatial/spatialfMRI/fMRI_data/spatialfMRI_nii/sub-01/func/sub-01_task-geo_run-07_echo-1_part-phase_bold.nii.gz\n",
      " + setting slice time offsets\n",
      " + loading and re-writing dataset /media/brain/Spatial/spatialfMRI/fMRI_data/spatialfMRI_nii/sub-01/func/sub-01_task-geo_run-07_echo-1_part-phase_bold.nii.gz (/media/brain/Spatial/spatialfMRI/fMRI_data/spatialfMRI_nii/sub-01/func/sub-01_task-geo_run-07_echo-1_part-phase_bold.nii.gz in NIFTI storage)\n"
     ]
    },
    {
     "name": "stdout",
     "output_type": "stream",
     "text": [
      "0 0.8225 0.165 0.9875 0.33 1.15 0.4925 1.315 0.6575 0 0.8225 0.165 0.9875 0.33 1.15 0.4925 1.315 0.6575 0 0.8225 0.165 0.9875 0.33 1.15 0.4925 1.315 0.6575 0 0.8225 0.165 0.9875 0.33 1.15 0.4925 1.315 0.6575 0 0.8225 0.165 0.9875 0.33 1.15 0.4925 1.315 0.6575\n"
     ]
    },
    {
     "name": "stderr",
     "output_type": "stream",
     "text": [
      "++ 3drefit processed 1 datasets\n",
      "++ 3drefit: AFNI version=AFNI_24.2.00 (Jul 15 2024) [64-bit]\n",
      "++ Authored by: RW Cox\n",
      "++ Processing AFNI dataset /media/brain/Spatial/spatialfMRI/fMRI_data/spatialfMRI_nii/sub-01/func/sub-01_task-geo_run-07_echo-2_part-phase_bold.nii.gz\n",
      " + setting slice time offsets\n",
      " + loading and re-writing dataset /media/brain/Spatial/spatialfMRI/fMRI_data/spatialfMRI_nii/sub-01/func/sub-01_task-geo_run-07_echo-2_part-phase_bold.nii.gz (/media/brain/Spatial/spatialfMRI/fMRI_data/spatialfMRI_nii/sub-01/func/sub-01_task-geo_run-07_echo-2_part-phase_bold.nii.gz in NIFTI storage)\n"
     ]
    },
    {
     "name": "stdout",
     "output_type": "stream",
     "text": [
      "0 0.8225 0.165 0.9875 0.33 1.15 0.4925 1.315 0.6575 0 0.8225 0.165 0.9875 0.33 1.15 0.4925 1.315 0.6575 0 0.8225 0.165 0.9875 0.33 1.15 0.4925 1.315 0.6575 0 0.8225 0.165 0.9875 0.33 1.15 0.4925 1.315 0.6575 0 0.8225 0.165 0.9875 0.33 1.15 0.4925 1.315 0.6575\n"
     ]
    },
    {
     "name": "stderr",
     "output_type": "stream",
     "text": [
      "++ 3drefit processed 1 datasets\n",
      "++ 3drefit: AFNI version=AFNI_24.2.00 (Jul 15 2024) [64-bit]\n",
      "++ Authored by: RW Cox\n",
      "++ Processing AFNI dataset /media/brain/Spatial/spatialfMRI/fMRI_data/spatialfMRI_nii/sub-01/func/sub-01_task-geo_run-07_echo-3_part-phase_bold.nii.gz\n",
      " + setting slice time offsets\n",
      " + loading and re-writing dataset /media/brain/Spatial/spatialfMRI/fMRI_data/spatialfMRI_nii/sub-01/func/sub-01_task-geo_run-07_echo-3_part-phase_bold.nii.gz (/media/brain/Spatial/spatialfMRI/fMRI_data/spatialfMRI_nii/sub-01/func/sub-01_task-geo_run-07_echo-3_part-phase_bold.nii.gz in NIFTI storage)\n"
     ]
    },
    {
     "name": "stdout",
     "output_type": "stream",
     "text": [
      "0 0.8225 0.165 0.9875 0.33 1.15 0.4925 1.315 0.6575 0 0.8225 0.165 0.9875 0.33 1.15 0.4925 1.315 0.6575 0 0.8225 0.165 0.9875 0.33 1.15 0.4925 1.315 0.6575 0 0.8225 0.165 0.9875 0.33 1.15 0.4925 1.315 0.6575 0 0.8225 0.165 0.9875 0.33 1.15 0.4925 1.315 0.6575\n"
     ]
    },
    {
     "name": "stderr",
     "output_type": "stream",
     "text": [
      "++ 3drefit processed 1 datasets\n",
      "++ 3drefit: AFNI version=AFNI_24.2.00 (Jul 15 2024) [64-bit]\n",
      "++ Authored by: RW Cox\n",
      "++ Processing AFNI dataset /media/brain/Spatial/spatialfMRI/fMRI_data/spatialfMRI_nii/sub-01/func/sub-01_task-geo_run-07_echo-4_part-phase_bold.nii.gz\n",
      " + setting slice time offsets\n",
      " + loading and re-writing dataset /media/brain/Spatial/spatialfMRI/fMRI_data/spatialfMRI_nii/sub-01/func/sub-01_task-geo_run-07_echo-4_part-phase_bold.nii.gz (/media/brain/Spatial/spatialfMRI/fMRI_data/spatialfMRI_nii/sub-01/func/sub-01_task-geo_run-07_echo-4_part-phase_bold.nii.gz in NIFTI storage)\n"
     ]
    },
    {
     "name": "stdout",
     "output_type": "stream",
     "text": [
      "0 0.8225 0.165 0.9875 0.33 1.15 0.4925 1.315 0.6575 0 0.8225 0.165 0.9875 0.33 1.15 0.4925 1.315 0.6575 0 0.8225 0.165 0.9875 0.33 1.15 0.4925 1.315 0.6575 0 0.8225 0.165 0.9875 0.33 1.15 0.4925 1.315 0.6575 0 0.8225 0.165 0.9875 0.33 1.15 0.4925 1.315 0.6575\n"
     ]
    },
    {
     "name": "stderr",
     "output_type": "stream",
     "text": [
      "++ 3drefit processed 1 datasets\n",
      "++ 3drefit: AFNI version=AFNI_24.2.00 (Jul 15 2024) [64-bit]\n",
      "++ Authored by: RW Cox\n",
      "++ Processing AFNI dataset /media/brain/Spatial/spatialfMRI/fMRI_data/spatialfMRI_nii/sub-01/func/sub-01_task-geo_run-07_echo-5_part-phase_bold.nii.gz\n",
      " + setting slice time offsets\n",
      " + loading and re-writing dataset /media/brain/Spatial/spatialfMRI/fMRI_data/spatialfMRI_nii/sub-01/func/sub-01_task-geo_run-07_echo-5_part-phase_bold.nii.gz (/media/brain/Spatial/spatialfMRI/fMRI_data/spatialfMRI_nii/sub-01/func/sub-01_task-geo_run-07_echo-5_part-phase_bold.nii.gz in NIFTI storage)\n"
     ]
    },
    {
     "name": "stdout",
     "output_type": "stream",
     "text": [
      "0 0.8225 0.165 0.9875 0.33 1.15 0.4925 1.315 0.6575 0 0.8225 0.165 0.9875 0.33 1.15 0.4925 1.315 0.6575 0 0.8225 0.165 0.9875 0.33 1.15 0.4925 1.315 0.6575 0 0.8225 0.165 0.9875 0.33 1.15 0.4925 1.315 0.6575 0 0.8225 0.165 0.9875 0.33 1.15 0.4925 1.315 0.6575\n"
     ]
    },
    {
     "name": "stderr",
     "output_type": "stream",
     "text": [
      "++ 3drefit processed 1 datasets\n",
      "++ 3drefit: AFNI version=AFNI_24.2.00 (Jul 15 2024) [64-bit]\n",
      "++ Authored by: RW Cox\n",
      "++ Processing AFNI dataset /media/brain/Spatial/spatialfMRI/fMRI_data/spatialfMRI_nii/sub-01/func/sub-01_task-geo_run-08_echo-1_part-mag_sbref.nii.gz\n",
      "\u001b[7m*+ WARNING:\u001b[0m -Tslices: dataset has no time axis to add slice offset to!\n",
      " + Didn't make any changes for dataset /media/brain/Spatial/spatialfMRI/fMRI_data/spatialfMRI_nii/sub-01/func/sub-01_task-geo_run-08_echo-1_part-mag_sbref.nii.gz !\n",
      "++ 3drefit processed 1 datasets\n",
      "++ 3drefit: AFNI version=AFNI_24.2.00 (Jul 15 2024) [64-bit]\n",
      "++ Authored by: RW Cox\n",
      "++ Processing AFNI dataset /media/brain/Spatial/spatialfMRI/fMRI_data/spatialfMRI_nii/sub-01/func/sub-01_task-geo_run-08_echo-2_part-mag_sbref.nii.gz\n",
      "\u001b[7m*+ WARNING:\u001b[0m -Tslices: dataset has no time axis to add slice offset to!\n",
      " + Didn't make any changes for dataset /media/brain/Spatial/spatialfMRI/fMRI_data/spatialfMRI_nii/sub-01/func/sub-01_task-geo_run-08_echo-2_part-mag_sbref.nii.gz !\n",
      "++ 3drefit processed 1 datasets\n",
      "++ 3drefit: AFNI version=AFNI_24.2.00 (Jul 15 2024) [64-bit]\n",
      "++ Authored by: RW Cox\n",
      "++ Processing AFNI dataset /media/brain/Spatial/spatialfMRI/fMRI_data/spatialfMRI_nii/sub-01/func/sub-01_task-geo_run-08_echo-3_part-mag_sbref.nii.gz\n",
      "\u001b[7m*+ WARNING:\u001b[0m -Tslices: dataset has no time axis to add slice offset to!\n",
      " + Didn't make any changes for dataset /media/brain/Spatial/spatialfMRI/fMRI_data/spatialfMRI_nii/sub-01/func/sub-01_task-geo_run-08_echo-3_part-mag_sbref.nii.gz !\n",
      "++ 3drefit processed 1 datasets\n",
      "++ 3drefit: AFNI version=AFNI_24.2.00 (Jul 15 2024) [64-bit]\n",
      "++ Authored by: RW Cox\n",
      "++ Processing AFNI dataset /media/brain/Spatial/spatialfMRI/fMRI_data/spatialfMRI_nii/sub-01/func/sub-01_task-geo_run-08_echo-4_part-mag_sbref.nii.gz\n",
      "\u001b[7m*+ WARNING:\u001b[0m -Tslices: dataset has no time axis to add slice offset to!\n",
      " + Didn't make any changes for dataset /media/brain/Spatial/spatialfMRI/fMRI_data/spatialfMRI_nii/sub-01/func/sub-01_task-geo_run-08_echo-4_part-mag_sbref.nii.gz !\n",
      "++ 3drefit processed 1 datasets\n",
      "++ 3drefit: AFNI version=AFNI_24.2.00 (Jul 15 2024) [64-bit]\n",
      "++ Authored by: RW Cox\n",
      "++ Processing AFNI dataset /media/brain/Spatial/spatialfMRI/fMRI_data/spatialfMRI_nii/sub-01/func/sub-01_task-geo_run-08_echo-5_part-mag_sbref.nii.gz\n",
      "\u001b[7m*+ WARNING:\u001b[0m -Tslices: dataset has no time axis to add slice offset to!\n",
      " + Didn't make any changes for dataset /media/brain/Spatial/spatialfMRI/fMRI_data/spatialfMRI_nii/sub-01/func/sub-01_task-geo_run-08_echo-5_part-mag_sbref.nii.gz !\n",
      "++ 3drefit processed 1 datasets\n",
      "++ 3drefit: AFNI version=AFNI_24.2.00 (Jul 15 2024) [64-bit]\n",
      "++ Authored by: RW Cox\n",
      "++ Processing AFNI dataset /media/brain/Spatial/spatialfMRI/fMRI_data/spatialfMRI_nii/sub-01/func/sub-01_task-geo_run-08_echo-1_part-phase_sbref.nii.gz\n",
      "\u001b[7m*+ WARNING:\u001b[0m -Tslices: dataset has no time axis to add slice offset to!\n",
      " + Didn't make any changes for dataset /media/brain/Spatial/spatialfMRI/fMRI_data/spatialfMRI_nii/sub-01/func/sub-01_task-geo_run-08_echo-1_part-phase_sbref.nii.gz !\n",
      "++ 3drefit processed 1 datasets\n",
      "++ 3drefit: AFNI version=AFNI_24.2.00 (Jul 15 2024) [64-bit]\n",
      "++ Authored by: RW Cox\n",
      "++ Processing AFNI dataset /media/brain/Spatial/spatialfMRI/fMRI_data/spatialfMRI_nii/sub-01/func/sub-01_task-geo_run-08_echo-2_part-phase_sbref.nii.gz\n",
      "\u001b[7m*+ WARNING:\u001b[0m -Tslices: dataset has no time axis to add slice offset to!\n",
      " + Didn't make any changes for dataset /media/brain/Spatial/spatialfMRI/fMRI_data/spatialfMRI_nii/sub-01/func/sub-01_task-geo_run-08_echo-2_part-phase_sbref.nii.gz !\n",
      "++ 3drefit processed 1 datasets\n",
      "++ 3drefit: AFNI version=AFNI_24.2.00 (Jul 15 2024) [64-bit]\n",
      "++ Authored by: RW Cox\n",
      "++ Processing AFNI dataset /media/brain/Spatial/spatialfMRI/fMRI_data/spatialfMRI_nii/sub-01/func/sub-01_task-geo_run-08_echo-3_part-phase_sbref.nii.gz\n",
      "\u001b[7m*+ WARNING:\u001b[0m -Tslices: dataset has no time axis to add slice offset to!\n",
      " + Didn't make any changes for dataset /media/brain/Spatial/spatialfMRI/fMRI_data/spatialfMRI_nii/sub-01/func/sub-01_task-geo_run-08_echo-3_part-phase_sbref.nii.gz !\n",
      "++ 3drefit processed 1 datasets\n",
      "++ 3drefit: AFNI version=AFNI_24.2.00 (Jul 15 2024) [64-bit]\n",
      "++ Authored by: RW Cox\n",
      "++ Processing AFNI dataset /media/brain/Spatial/spatialfMRI/fMRI_data/spatialfMRI_nii/sub-01/func/sub-01_task-geo_run-08_echo-4_part-phase_sbref.nii.gz\n",
      "\u001b[7m*+ WARNING:\u001b[0m -Tslices: dataset has no time axis to add slice offset to!\n",
      " + Didn't make any changes for dataset /media/brain/Spatial/spatialfMRI/fMRI_data/spatialfMRI_nii/sub-01/func/sub-01_task-geo_run-08_echo-4_part-phase_sbref.nii.gz !\n",
      "++ 3drefit processed 1 datasets\n",
      "++ 3drefit: AFNI version=AFNI_24.2.00 (Jul 15 2024) [64-bit]\n",
      "++ Authored by: RW Cox\n",
      "++ Processing AFNI dataset /media/brain/Spatial/spatialfMRI/fMRI_data/spatialfMRI_nii/sub-01/func/sub-01_task-geo_run-08_echo-5_part-phase_sbref.nii.gz\n",
      "\u001b[7m*+ WARNING:\u001b[0m -Tslices: dataset has no time axis to add slice offset to!\n",
      " + Didn't make any changes for dataset /media/brain/Spatial/spatialfMRI/fMRI_data/spatialfMRI_nii/sub-01/func/sub-01_task-geo_run-08_echo-5_part-phase_sbref.nii.gz !\n",
      "++ 3drefit processed 1 datasets\n",
      "++ 3drefit: AFNI version=AFNI_24.2.00 (Jul 15 2024) [64-bit]\n",
      "++ Authored by: RW Cox\n",
      "++ Processing AFNI dataset /media/brain/Spatial/spatialfMRI/fMRI_data/spatialfMRI_nii/sub-01/func/sub-01_task-geo_run-08_echo-1_part-mag_bold.nii.gz\n",
      " + setting slice time offsets\n",
      " + loading and re-writing dataset /media/brain/Spatial/spatialfMRI/fMRI_data/spatialfMRI_nii/sub-01/func/sub-01_task-geo_run-08_echo-1_part-mag_bold.nii.gz (/media/brain/Spatial/spatialfMRI/fMRI_data/spatialfMRI_nii/sub-01/func/sub-01_task-geo_run-08_echo-1_part-mag_bold.nii.gz in NIFTI storage)\n"
     ]
    },
    {
     "name": "stdout",
     "output_type": "stream",
     "text": [
      "0 0.1625 0.3275 0.4925 0.6575 0.82 0.985 1.15 1.315 1.48 1.6425 1.8075 1.9725 2.1375 2.3 2.465 2.63 2.795 2.96 3.1225 3.2875 3.4525 3.6175 3.78 3.945 4.11 4.275 4.44 4.6025 4.7675 4.9325 5.0975 5.26 5.425 5.59 5.755 5.92 6.0825 6.2475 6.4125 6.5775 6.74 6.905 7.07 7.235\n",
      "0 0.1625 0.3275 0.4925 0.6575 0.82 0.985 1.15 1.315 1.48 1.6425 1.8075 1.9725 2.1375 2.3 2.465 2.63 2.795 2.96 3.1225 3.2875 3.4525 3.6175 3.78 3.945 4.11 4.275 4.44 4.6025 4.7675 4.9325 5.0975 5.26 5.425 5.59 5.755 5.92 6.0825 6.2475 6.4125 6.5775 6.74 6.905 7.07 7.235\n",
      "0 0.1625 0.3275 0.4925 0.6575 0.82 0.985 1.15 1.315 1.48 1.6425 1.8075 1.9725 2.1375 2.3 2.465 2.63 2.795 2.96 3.1225 3.2875 3.4525 3.6175 3.78 3.945 4.11 4.275 4.44 4.6025 4.7675 4.9325 5.0975 5.26 5.425 5.59 5.755 5.92 6.0825 6.2475 6.4125 6.5775 6.74 6.905 7.07 7.235\n",
      "0 0.1625 0.3275 0.4925 0.6575 0.82 0.985 1.15 1.315 1.48 1.6425 1.8075 1.9725 2.1375 2.3 2.465 2.63 2.795 2.96 3.1225 3.2875 3.4525 3.6175 3.78 3.945 4.11 4.275 4.44 4.6025 4.7675 4.9325 5.0975 5.26 5.425 5.59 5.755 5.92 6.0825 6.2475 6.4125 6.5775 6.74 6.905 7.07 7.235\n",
      "0 0.1625 0.3275 0.4925 0.6575 0.82 0.985 1.15 1.315 1.48 1.6425 1.8075 1.9725 2.1375 2.3 2.465 2.63 2.795 2.96 3.1225 3.2875 3.4525 3.6175 3.78 3.945 4.11 4.275 4.44 4.6025 4.7675 4.9325 5.0975 5.26 5.425 5.59 5.755 5.92 6.0825 6.2475 6.4125 6.5775 6.74 6.905 7.07 7.235\n",
      "0 0.1625 0.3275 0.4925 0.6575 0.82 0.985 1.15 1.315 1.48 1.6425 1.8075 1.9725 2.1375 2.3 2.465 2.63 2.795 2.96 3.1225 3.2875 3.4525 3.6175 3.78 3.945 4.11 4.275 4.44 4.6025 4.7675 4.9325 5.0975 5.26 5.425 5.59 5.755 5.92 6.0825 6.2475 6.4125 6.5775 6.74 6.905 7.07 7.235\n",
      "0 0.1625 0.3275 0.4925 0.6575 0.82 0.985 1.15 1.315 1.48 1.6425 1.8075 1.9725 2.1375 2.3 2.465 2.63 2.795 2.96 3.1225 3.2875 3.4525 3.6175 3.78 3.945 4.11 4.275 4.44 4.6025 4.7675 4.9325 5.0975 5.26 5.425 5.59 5.755 5.92 6.0825 6.2475 6.4125 6.5775 6.74 6.905 7.07 7.235\n",
      "0 0.1625 0.3275 0.4925 0.6575 0.82 0.985 1.15 1.315 1.48 1.6425 1.8075 1.9725 2.1375 2.3 2.465 2.63 2.795 2.96 3.1225 3.2875 3.4525 3.6175 3.78 3.945 4.11 4.275 4.44 4.6025 4.7675 4.9325 5.0975 5.26 5.425 5.59 5.755 5.92 6.0825 6.2475 6.4125 6.5775 6.74 6.905 7.07 7.235\n",
      "0 0.1625 0.3275 0.4925 0.6575 0.82 0.985 1.15 1.315 1.48 1.6425 1.8075 1.9725 2.1375 2.3 2.465 2.63 2.795 2.96 3.1225 3.2875 3.4525 3.6175 3.78 3.945 4.11 4.275 4.44 4.6025 4.7675 4.9325 5.0975 5.26 5.425 5.59 5.755 5.92 6.0825 6.2475 6.4125 6.5775 6.74 6.905 7.07 7.235\n",
      "0 0.1625 0.3275 0.4925 0.6575 0.82 0.985 1.15 1.315 1.48 1.6425 1.8075 1.9725 2.1375 2.3 2.465 2.63 2.795 2.96 3.1225 3.2875 3.4525 3.6175 3.78 3.945 4.11 4.275 4.44 4.6025 4.7675 4.9325 5.0975 5.26 5.425 5.59 5.755 5.92 6.0825 6.2475 6.4125 6.5775 6.74 6.905 7.07 7.235\n",
      "0 0.82 0.1625 0.985 0.3275 1.15 0.4925 1.315 0.6575 0 0.82 0.1625 0.985 0.3275 1.15 0.4925 1.315 0.6575 0 0.82 0.1625 0.985 0.3275 1.15 0.4925 1.315 0.6575 0 0.82 0.1625 0.985 0.3275 1.15 0.4925 1.315 0.6575 0 0.82 0.1625 0.985 0.3275 1.15 0.4925 1.315 0.6575\n"
     ]
    },
    {
     "name": "stderr",
     "output_type": "stream",
     "text": [
      "++ 3drefit processed 1 datasets\n",
      "++ 3drefit: AFNI version=AFNI_24.2.00 (Jul 15 2024) [64-bit]\n",
      "++ Authored by: RW Cox\n",
      "++ Processing AFNI dataset /media/brain/Spatial/spatialfMRI/fMRI_data/spatialfMRI_nii/sub-01/func/sub-01_task-geo_run-08_echo-2_part-mag_bold.nii.gz\n",
      " + setting slice time offsets\n",
      " + loading and re-writing dataset /media/brain/Spatial/spatialfMRI/fMRI_data/spatialfMRI_nii/sub-01/func/sub-01_task-geo_run-08_echo-2_part-mag_bold.nii.gz (/media/brain/Spatial/spatialfMRI/fMRI_data/spatialfMRI_nii/sub-01/func/sub-01_task-geo_run-08_echo-2_part-mag_bold.nii.gz in NIFTI storage)\n"
     ]
    },
    {
     "name": "stdout",
     "output_type": "stream",
     "text": [
      "0 0.82 0.1625 0.985 0.3275 1.15 0.4925 1.315 0.6575 0 0.82 0.1625 0.985 0.3275 1.15 0.4925 1.315 0.6575 0 0.82 0.1625 0.985 0.3275 1.15 0.4925 1.315 0.6575 0 0.82 0.1625 0.985 0.3275 1.15 0.4925 1.315 0.6575 0 0.82 0.1625 0.985 0.3275 1.15 0.4925 1.315 0.6575\n"
     ]
    },
    {
     "name": "stderr",
     "output_type": "stream",
     "text": [
      "++ 3drefit processed 1 datasets\n",
      "++ 3drefit: AFNI version=AFNI_24.2.00 (Jul 15 2024) [64-bit]\n",
      "++ Authored by: RW Cox\n",
      "++ Processing AFNI dataset /media/brain/Spatial/spatialfMRI/fMRI_data/spatialfMRI_nii/sub-01/func/sub-01_task-geo_run-08_echo-3_part-mag_bold.nii.gz\n",
      " + setting slice time offsets\n",
      " + loading and re-writing dataset /media/brain/Spatial/spatialfMRI/fMRI_data/spatialfMRI_nii/sub-01/func/sub-01_task-geo_run-08_echo-3_part-mag_bold.nii.gz (/media/brain/Spatial/spatialfMRI/fMRI_data/spatialfMRI_nii/sub-01/func/sub-01_task-geo_run-08_echo-3_part-mag_bold.nii.gz in NIFTI storage)\n"
     ]
    },
    {
     "name": "stdout",
     "output_type": "stream",
     "text": [
      "0 0.82 0.1625 0.985 0.3275 1.15 0.4925 1.315 0.6575 0 0.82 0.1625 0.985 0.3275 1.15 0.4925 1.315 0.6575 0 0.82 0.1625 0.985 0.3275 1.15 0.4925 1.315 0.6575 0 0.82 0.1625 0.985 0.3275 1.15 0.4925 1.315 0.6575 0 0.82 0.1625 0.985 0.3275 1.15 0.4925 1.315 0.6575\n"
     ]
    },
    {
     "name": "stderr",
     "output_type": "stream",
     "text": [
      "++ 3drefit processed 1 datasets\n",
      "++ 3drefit: AFNI version=AFNI_24.2.00 (Jul 15 2024) [64-bit]\n",
      "++ Authored by: RW Cox\n",
      "++ Processing AFNI dataset /media/brain/Spatial/spatialfMRI/fMRI_data/spatialfMRI_nii/sub-01/func/sub-01_task-geo_run-08_echo-4_part-mag_bold.nii.gz\n",
      " + setting slice time offsets\n",
      " + loading and re-writing dataset /media/brain/Spatial/spatialfMRI/fMRI_data/spatialfMRI_nii/sub-01/func/sub-01_task-geo_run-08_echo-4_part-mag_bold.nii.gz (/media/brain/Spatial/spatialfMRI/fMRI_data/spatialfMRI_nii/sub-01/func/sub-01_task-geo_run-08_echo-4_part-mag_bold.nii.gz in NIFTI storage)\n"
     ]
    },
    {
     "name": "stdout",
     "output_type": "stream",
     "text": [
      "0 0.82 0.1625 0.985 0.3275 1.15 0.4925 1.315 0.6575 0 0.82 0.1625 0.985 0.3275 1.15 0.4925 1.315 0.6575 0 0.82 0.1625 0.985 0.3275 1.15 0.4925 1.315 0.6575 0 0.82 0.1625 0.985 0.3275 1.15 0.4925 1.315 0.6575 0 0.82 0.1625 0.985 0.3275 1.15 0.4925 1.315 0.6575\n"
     ]
    },
    {
     "name": "stderr",
     "output_type": "stream",
     "text": [
      "++ 3drefit processed 1 datasets\n",
      "++ 3drefit: AFNI version=AFNI_24.2.00 (Jul 15 2024) [64-bit]\n",
      "++ Authored by: RW Cox\n",
      "++ Processing AFNI dataset /media/brain/Spatial/spatialfMRI/fMRI_data/spatialfMRI_nii/sub-01/func/sub-01_task-geo_run-08_echo-5_part-mag_bold.nii.gz\n",
      " + setting slice time offsets\n",
      " + loading and re-writing dataset /media/brain/Spatial/spatialfMRI/fMRI_data/spatialfMRI_nii/sub-01/func/sub-01_task-geo_run-08_echo-5_part-mag_bold.nii.gz (/media/brain/Spatial/spatialfMRI/fMRI_data/spatialfMRI_nii/sub-01/func/sub-01_task-geo_run-08_echo-5_part-mag_bold.nii.gz in NIFTI storage)\n"
     ]
    },
    {
     "name": "stdout",
     "output_type": "stream",
     "text": [
      "0 0.82 0.1625 0.985 0.3275 1.15 0.4925 1.315 0.6575 0 0.82 0.1625 0.985 0.3275 1.15 0.4925 1.315 0.6575 0 0.82 0.1625 0.985 0.3275 1.15 0.4925 1.315 0.6575 0 0.82 0.1625 0.985 0.3275 1.15 0.4925 1.315 0.6575 0 0.82 0.1625 0.985 0.3275 1.15 0.4925 1.315 0.6575\n"
     ]
    },
    {
     "name": "stderr",
     "output_type": "stream",
     "text": [
      "++ 3drefit processed 1 datasets\n",
      "++ 3drefit: AFNI version=AFNI_24.2.00 (Jul 15 2024) [64-bit]\n",
      "++ Authored by: RW Cox\n",
      "++ Processing AFNI dataset /media/brain/Spatial/spatialfMRI/fMRI_data/spatialfMRI_nii/sub-01/func/sub-01_task-geo_run-08_echo-1_part-phase_bold.nii.gz\n",
      " + setting slice time offsets\n",
      " + loading and re-writing dataset /media/brain/Spatial/spatialfMRI/fMRI_data/spatialfMRI_nii/sub-01/func/sub-01_task-geo_run-08_echo-1_part-phase_bold.nii.gz (/media/brain/Spatial/spatialfMRI/fMRI_data/spatialfMRI_nii/sub-01/func/sub-01_task-geo_run-08_echo-1_part-phase_bold.nii.gz in NIFTI storage)\n"
     ]
    },
    {
     "name": "stdout",
     "output_type": "stream",
     "text": [
      "0 0.82 0.1625 0.985 0.3275 1.15 0.4925 1.315 0.6575 0 0.82 0.1625 0.985 0.3275 1.15 0.4925 1.315 0.6575 0 0.82 0.1625 0.985 0.3275 1.15 0.4925 1.315 0.6575 0 0.82 0.1625 0.985 0.3275 1.15 0.4925 1.315 0.6575 0 0.82 0.1625 0.985 0.3275 1.15 0.4925 1.315 0.6575\n"
     ]
    },
    {
     "name": "stderr",
     "output_type": "stream",
     "text": [
      "++ 3drefit processed 1 datasets\n",
      "++ 3drefit: AFNI version=AFNI_24.2.00 (Jul 15 2024) [64-bit]\n",
      "++ Authored by: RW Cox\n",
      "++ Processing AFNI dataset /media/brain/Spatial/spatialfMRI/fMRI_data/spatialfMRI_nii/sub-01/func/sub-01_task-geo_run-08_echo-2_part-phase_bold.nii.gz\n",
      " + setting slice time offsets\n",
      " + loading and re-writing dataset /media/brain/Spatial/spatialfMRI/fMRI_data/spatialfMRI_nii/sub-01/func/sub-01_task-geo_run-08_echo-2_part-phase_bold.nii.gz (/media/brain/Spatial/spatialfMRI/fMRI_data/spatialfMRI_nii/sub-01/func/sub-01_task-geo_run-08_echo-2_part-phase_bold.nii.gz in NIFTI storage)\n"
     ]
    },
    {
     "name": "stdout",
     "output_type": "stream",
     "text": [
      "0 0.82 0.1625 0.985 0.3275 1.15 0.4925 1.315 0.6575 0 0.82 0.1625 0.985 0.3275 1.15 0.4925 1.315 0.6575 0 0.82 0.1625 0.985 0.3275 1.15 0.4925 1.315 0.6575 0 0.82 0.1625 0.985 0.3275 1.15 0.4925 1.315 0.6575 0 0.82 0.1625 0.985 0.3275 1.15 0.4925 1.315 0.6575\n"
     ]
    },
    {
     "name": "stderr",
     "output_type": "stream",
     "text": [
      "++ 3drefit processed 1 datasets\n",
      "++ 3drefit: AFNI version=AFNI_24.2.00 (Jul 15 2024) [64-bit]\n",
      "++ Authored by: RW Cox\n",
      "++ Processing AFNI dataset /media/brain/Spatial/spatialfMRI/fMRI_data/spatialfMRI_nii/sub-01/func/sub-01_task-geo_run-08_echo-3_part-phase_bold.nii.gz\n",
      " + setting slice time offsets\n",
      " + loading and re-writing dataset /media/brain/Spatial/spatialfMRI/fMRI_data/spatialfMRI_nii/sub-01/func/sub-01_task-geo_run-08_echo-3_part-phase_bold.nii.gz (/media/brain/Spatial/spatialfMRI/fMRI_data/spatialfMRI_nii/sub-01/func/sub-01_task-geo_run-08_echo-3_part-phase_bold.nii.gz in NIFTI storage)\n"
     ]
    },
    {
     "name": "stdout",
     "output_type": "stream",
     "text": [
      "0 0.82 0.1625 0.985 0.3275 1.15 0.4925 1.315 0.6575 0 0.82 0.1625 0.985 0.3275 1.15 0.4925 1.315 0.6575 0 0.82 0.1625 0.985 0.3275 1.15 0.4925 1.315 0.6575 0 0.82 0.1625 0.985 0.3275 1.15 0.4925 1.315 0.6575 0 0.82 0.1625 0.985 0.3275 1.15 0.4925 1.315 0.6575\n"
     ]
    },
    {
     "name": "stderr",
     "output_type": "stream",
     "text": [
      "++ 3drefit processed 1 datasets\n",
      "++ 3drefit: AFNI version=AFNI_24.2.00 (Jul 15 2024) [64-bit]\n",
      "++ Authored by: RW Cox\n",
      "++ Processing AFNI dataset /media/brain/Spatial/spatialfMRI/fMRI_data/spatialfMRI_nii/sub-01/func/sub-01_task-geo_run-08_echo-4_part-phase_bold.nii.gz\n",
      " + setting slice time offsets\n",
      " + loading and re-writing dataset /media/brain/Spatial/spatialfMRI/fMRI_data/spatialfMRI_nii/sub-01/func/sub-01_task-geo_run-08_echo-4_part-phase_bold.nii.gz (/media/brain/Spatial/spatialfMRI/fMRI_data/spatialfMRI_nii/sub-01/func/sub-01_task-geo_run-08_echo-4_part-phase_bold.nii.gz in NIFTI storage)\n"
     ]
    },
    {
     "name": "stdout",
     "output_type": "stream",
     "text": [
      "0 0.82 0.1625 0.985 0.3275 1.15 0.4925 1.315 0.6575 0 0.82 0.1625 0.985 0.3275 1.15 0.4925 1.315 0.6575 0 0.82 0.1625 0.985 0.3275 1.15 0.4925 1.315 0.6575 0 0.82 0.1625 0.985 0.3275 1.15 0.4925 1.315 0.6575 0 0.82 0.1625 0.985 0.3275 1.15 0.4925 1.315 0.6575\n"
     ]
    },
    {
     "name": "stderr",
     "output_type": "stream",
     "text": [
      "++ 3drefit processed 1 datasets\n",
      "++ 3drefit: AFNI version=AFNI_24.2.00 (Jul 15 2024) [64-bit]\n",
      "++ Authored by: RW Cox\n",
      "++ Processing AFNI dataset /media/brain/Spatial/spatialfMRI/fMRI_data/spatialfMRI_nii/sub-01/func/sub-01_task-geo_run-08_echo-5_part-phase_bold.nii.gz\n",
      " + setting slice time offsets\n",
      " + loading and re-writing dataset /media/brain/Spatial/spatialfMRI/fMRI_data/spatialfMRI_nii/sub-01/func/sub-01_task-geo_run-08_echo-5_part-phase_bold.nii.gz (/media/brain/Spatial/spatialfMRI/fMRI_data/spatialfMRI_nii/sub-01/func/sub-01_task-geo_run-08_echo-5_part-phase_bold.nii.gz in NIFTI storage)\n"
     ]
    },
    {
     "name": "stdout",
     "output_type": "stream",
     "text": [
      "0 0.82 0.1625 0.985 0.3275 1.15 0.4925 1.315 0.6575 0 0.82 0.1625 0.985 0.3275 1.15 0.4925 1.315 0.6575 0 0.82 0.1625 0.985 0.3275 1.15 0.4925 1.315 0.6575 0 0.82 0.1625 0.985 0.3275 1.15 0.4925 1.315 0.6575 0 0.82 0.1625 0.985 0.3275 1.15 0.4925 1.315 0.6575\n"
     ]
    },
    {
     "name": "stderr",
     "output_type": "stream",
     "text": [
      "++ 3drefit processed 1 datasets\n",
      "++ 3drefit: AFNI version=AFNI_24.2.00 (Jul 15 2024) [64-bit]\n",
      "++ Authored by: RW Cox\n",
      "++ Processing AFNI dataset /media/brain/Spatial/spatialfMRI/fMRI_data/spatialfMRI_nii/sub-01/func/sub-01_task-geo_run-09_echo-1_part-mag_sbref.nii.gz\n",
      "\u001b[7m*+ WARNING:\u001b[0m -Tslices: dataset has no time axis to add slice offset to!\n",
      " + Didn't make any changes for dataset /media/brain/Spatial/spatialfMRI/fMRI_data/spatialfMRI_nii/sub-01/func/sub-01_task-geo_run-09_echo-1_part-mag_sbref.nii.gz !\n",
      "++ 3drefit processed 1 datasets\n",
      "++ 3drefit: AFNI version=AFNI_24.2.00 (Jul 15 2024) [64-bit]\n",
      "++ Authored by: RW Cox\n",
      "++ Processing AFNI dataset /media/brain/Spatial/spatialfMRI/fMRI_data/spatialfMRI_nii/sub-01/func/sub-01_task-geo_run-09_echo-2_part-mag_sbref.nii.gz\n",
      "\u001b[7m*+ WARNING:\u001b[0m -Tslices: dataset has no time axis to add slice offset to!\n",
      " + Didn't make any changes for dataset /media/brain/Spatial/spatialfMRI/fMRI_data/spatialfMRI_nii/sub-01/func/sub-01_task-geo_run-09_echo-2_part-mag_sbref.nii.gz !\n",
      "++ 3drefit processed 1 datasets\n",
      "++ 3drefit: AFNI version=AFNI_24.2.00 (Jul 15 2024) [64-bit]\n",
      "++ Authored by: RW Cox\n",
      "++ Processing AFNI dataset /media/brain/Spatial/spatialfMRI/fMRI_data/spatialfMRI_nii/sub-01/func/sub-01_task-geo_run-09_echo-3_part-mag_sbref.nii.gz\n",
      "\u001b[7m*+ WARNING:\u001b[0m -Tslices: dataset has no time axis to add slice offset to!\n",
      " + Didn't make any changes for dataset /media/brain/Spatial/spatialfMRI/fMRI_data/spatialfMRI_nii/sub-01/func/sub-01_task-geo_run-09_echo-3_part-mag_sbref.nii.gz !\n",
      "++ 3drefit processed 1 datasets\n",
      "++ 3drefit: AFNI version=AFNI_24.2.00 (Jul 15 2024) [64-bit]\n",
      "++ Authored by: RW Cox\n",
      "++ Processing AFNI dataset /media/brain/Spatial/spatialfMRI/fMRI_data/spatialfMRI_nii/sub-01/func/sub-01_task-geo_run-09_echo-4_part-mag_sbref.nii.gz\n",
      "\u001b[7m*+ WARNING:\u001b[0m -Tslices: dataset has no time axis to add slice offset to!\n",
      " + Didn't make any changes for dataset /media/brain/Spatial/spatialfMRI/fMRI_data/spatialfMRI_nii/sub-01/func/sub-01_task-geo_run-09_echo-4_part-mag_sbref.nii.gz !\n",
      "++ 3drefit processed 1 datasets\n",
      "++ 3drefit: AFNI version=AFNI_24.2.00 (Jul 15 2024) [64-bit]\n",
      "++ Authored by: RW Cox\n",
      "++ Processing AFNI dataset /media/brain/Spatial/spatialfMRI/fMRI_data/spatialfMRI_nii/sub-01/func/sub-01_task-geo_run-09_echo-5_part-mag_sbref.nii.gz\n",
      "\u001b[7m*+ WARNING:\u001b[0m -Tslices: dataset has no time axis to add slice offset to!\n",
      " + Didn't make any changes for dataset /media/brain/Spatial/spatialfMRI/fMRI_data/spatialfMRI_nii/sub-01/func/sub-01_task-geo_run-09_echo-5_part-mag_sbref.nii.gz !\n",
      "++ 3drefit processed 1 datasets\n",
      "++ 3drefit: AFNI version=AFNI_24.2.00 (Jul 15 2024) [64-bit]\n",
      "++ Authored by: RW Cox\n",
      "++ Processing AFNI dataset /media/brain/Spatial/spatialfMRI/fMRI_data/spatialfMRI_nii/sub-01/func/sub-01_task-geo_run-09_echo-1_part-phase_sbref.nii.gz\n",
      "\u001b[7m*+ WARNING:\u001b[0m -Tslices: dataset has no time axis to add slice offset to!\n",
      " + Didn't make any changes for dataset /media/brain/Spatial/spatialfMRI/fMRI_data/spatialfMRI_nii/sub-01/func/sub-01_task-geo_run-09_echo-1_part-phase_sbref.nii.gz !\n",
      "++ 3drefit processed 1 datasets\n",
      "++ 3drefit: AFNI version=AFNI_24.2.00 (Jul 15 2024) [64-bit]\n",
      "++ Authored by: RW Cox\n",
      "++ Processing AFNI dataset /media/brain/Spatial/spatialfMRI/fMRI_data/spatialfMRI_nii/sub-01/func/sub-01_task-geo_run-09_echo-2_part-phase_sbref.nii.gz\n",
      "\u001b[7m*+ WARNING:\u001b[0m -Tslices: dataset has no time axis to add slice offset to!\n",
      " + Didn't make any changes for dataset /media/brain/Spatial/spatialfMRI/fMRI_data/spatialfMRI_nii/sub-01/func/sub-01_task-geo_run-09_echo-2_part-phase_sbref.nii.gz !\n",
      "++ 3drefit processed 1 datasets\n",
      "++ 3drefit: AFNI version=AFNI_24.2.00 (Jul 15 2024) [64-bit]\n",
      "++ Authored by: RW Cox\n",
      "++ Processing AFNI dataset /media/brain/Spatial/spatialfMRI/fMRI_data/spatialfMRI_nii/sub-01/func/sub-01_task-geo_run-09_echo-3_part-phase_sbref.nii.gz\n",
      "\u001b[7m*+ WARNING:\u001b[0m -Tslices: dataset has no time axis to add slice offset to!\n",
      " + Didn't make any changes for dataset /media/brain/Spatial/spatialfMRI/fMRI_data/spatialfMRI_nii/sub-01/func/sub-01_task-geo_run-09_echo-3_part-phase_sbref.nii.gz !\n",
      "++ 3drefit processed 1 datasets\n",
      "++ 3drefit: AFNI version=AFNI_24.2.00 (Jul 15 2024) [64-bit]\n",
      "++ Authored by: RW Cox\n",
      "++ Processing AFNI dataset /media/brain/Spatial/spatialfMRI/fMRI_data/spatialfMRI_nii/sub-01/func/sub-01_task-geo_run-09_echo-4_part-phase_sbref.nii.gz\n",
      "\u001b[7m*+ WARNING:\u001b[0m -Tslices: dataset has no time axis to add slice offset to!\n",
      " + Didn't make any changes for dataset /media/brain/Spatial/spatialfMRI/fMRI_data/spatialfMRI_nii/sub-01/func/sub-01_task-geo_run-09_echo-4_part-phase_sbref.nii.gz !\n",
      "++ 3drefit processed 1 datasets\n",
      "++ 3drefit: AFNI version=AFNI_24.2.00 (Jul 15 2024) [64-bit]\n",
      "++ Authored by: RW Cox\n",
      "++ Processing AFNI dataset /media/brain/Spatial/spatialfMRI/fMRI_data/spatialfMRI_nii/sub-01/func/sub-01_task-geo_run-09_echo-5_part-phase_sbref.nii.gz\n",
      "\u001b[7m*+ WARNING:\u001b[0m -Tslices: dataset has no time axis to add slice offset to!\n",
      " + Didn't make any changes for dataset /media/brain/Spatial/spatialfMRI/fMRI_data/spatialfMRI_nii/sub-01/func/sub-01_task-geo_run-09_echo-5_part-phase_sbref.nii.gz !\n",
      "++ 3drefit processed 1 datasets\n",
      "++ 3drefit: AFNI version=AFNI_24.2.00 (Jul 15 2024) [64-bit]\n",
      "++ Authored by: RW Cox\n",
      "++ Processing AFNI dataset /media/brain/Spatial/spatialfMRI/fMRI_data/spatialfMRI_nii/sub-01/func/sub-01_task-geo_run-09_echo-1_part-mag_bold.nii.gz\n",
      " + setting slice time offsets\n",
      " + loading and re-writing dataset /media/brain/Spatial/spatialfMRI/fMRI_data/spatialfMRI_nii/sub-01/func/sub-01_task-geo_run-09_echo-1_part-mag_bold.nii.gz (/media/brain/Spatial/spatialfMRI/fMRI_data/spatialfMRI_nii/sub-01/func/sub-01_task-geo_run-09_echo-1_part-mag_bold.nii.gz in NIFTI storage)\n"
     ]
    },
    {
     "name": "stdout",
     "output_type": "stream",
     "text": [
      "0 0.165 0.3275 0.4925 0.6575 0.8225 0.9875 1.15 1.315 1.48 1.645 1.8075 1.9725 2.1375 2.3025 2.4675 2.63 2.795 2.96 3.125 3.2875 3.4525 3.6175 3.7825 3.9475 4.11 4.275 4.44 4.605 4.7675 4.9325 5.0975 5.2625 5.4275 5.59 5.755 5.92 6.085 6.2475 6.4125 6.5775 6.7425 6.9075 7.07 7.235\n",
      "0 0.165 0.3275 0.4925 0.6575 0.8225 0.9875 1.15 1.315 1.48 1.645 1.8075 1.9725 2.1375 2.3025 2.4675 2.63 2.795 2.96 3.125 3.2875 3.4525 3.6175 3.7825 3.9475 4.11 4.275 4.44 4.605 4.7675 4.9325 5.0975 5.2625 5.4275 5.59 5.755 5.92 6.085 6.2475 6.4125 6.5775 6.7425 6.9075 7.07 7.235\n",
      "0 0.165 0.3275 0.4925 0.6575 0.8225 0.9875 1.15 1.315 1.48 1.645 1.8075 1.9725 2.1375 2.3025 2.4675 2.63 2.795 2.96 3.125 3.2875 3.4525 3.6175 3.7825 3.9475 4.11 4.275 4.44 4.605 4.7675 4.9325 5.0975 5.2625 5.4275 5.59 5.755 5.92 6.085 6.2475 6.4125 6.5775 6.7425 6.9075 7.07 7.235\n",
      "0 0.165 0.3275 0.4925 0.6575 0.8225 0.9875 1.15 1.315 1.48 1.645 1.8075 1.9725 2.1375 2.3025 2.4675 2.63 2.795 2.96 3.125 3.2875 3.4525 3.6175 3.7825 3.9475 4.11 4.275 4.44 4.605 4.7675 4.9325 5.0975 5.2625 5.4275 5.59 5.755 5.92 6.085 6.2475 6.4125 6.5775 6.7425 6.9075 7.07 7.235\n",
      "0 0.165 0.3275 0.4925 0.6575 0.8225 0.9875 1.15 1.315 1.48 1.645 1.8075 1.9725 2.1375 2.3025 2.4675 2.63 2.795 2.96 3.125 3.2875 3.4525 3.6175 3.7825 3.9475 4.11 4.275 4.44 4.605 4.7675 4.9325 5.0975 5.2625 5.4275 5.59 5.755 5.92 6.085 6.2475 6.4125 6.5775 6.7425 6.9075 7.07 7.235\n",
      "0 0.165 0.3275 0.4925 0.6575 0.8225 0.9875 1.15 1.315 1.48 1.645 1.8075 1.9725 2.1375 2.3025 2.4675 2.63 2.795 2.96 3.125 3.2875 3.4525 3.6175 3.7825 3.9475 4.11 4.275 4.44 4.605 4.7675 4.9325 5.0975 5.2625 5.4275 5.59 5.755 5.92 6.085 6.2475 6.4125 6.5775 6.7425 6.9075 7.07 7.235\n",
      "0 0.165 0.3275 0.4925 0.6575 0.8225 0.9875 1.15 1.315 1.48 1.645 1.8075 1.9725 2.1375 2.3025 2.4675 2.63 2.795 2.96 3.125 3.2875 3.4525 3.6175 3.7825 3.9475 4.11 4.275 4.44 4.605 4.7675 4.9325 5.0975 5.2625 5.4275 5.59 5.755 5.92 6.085 6.2475 6.4125 6.5775 6.7425 6.9075 7.07 7.235\n",
      "0 0.165 0.3275 0.4925 0.6575 0.8225 0.9875 1.15 1.315 1.48 1.645 1.8075 1.9725 2.1375 2.3025 2.4675 2.63 2.795 2.96 3.125 3.2875 3.4525 3.6175 3.7825 3.9475 4.11 4.275 4.44 4.605 4.7675 4.9325 5.0975 5.2625 5.4275 5.59 5.755 5.92 6.085 6.2475 6.4125 6.5775 6.7425 6.9075 7.07 7.235\n",
      "0 0.165 0.3275 0.4925 0.6575 0.8225 0.9875 1.15 1.315 1.48 1.645 1.8075 1.9725 2.1375 2.3025 2.4675 2.63 2.795 2.96 3.125 3.2875 3.4525 3.6175 3.7825 3.9475 4.11 4.275 4.44 4.605 4.7675 4.9325 5.0975 5.2625 5.4275 5.59 5.755 5.92 6.085 6.2475 6.4125 6.5775 6.7425 6.9075 7.07 7.235\n",
      "0 0.165 0.3275 0.4925 0.6575 0.8225 0.9875 1.15 1.315 1.48 1.645 1.8075 1.9725 2.1375 2.3025 2.4675 2.63 2.795 2.96 3.125 3.2875 3.4525 3.6175 3.7825 3.9475 4.11 4.275 4.44 4.605 4.7675 4.9325 5.0975 5.2625 5.4275 5.59 5.755 5.92 6.085 6.2475 6.4125 6.5775 6.7425 6.9075 7.07 7.235\n",
      "0 0.8225 0.165 0.9875 0.3275 1.15 0.4925 1.315 0.6575 0 0.8225 0.165 0.9875 0.3275 1.15 0.4925 1.315 0.6575 0 0.8225 0.165 0.9875 0.3275 1.15 0.4925 1.315 0.6575 0 0.8225 0.165 0.9875 0.3275 1.15 0.4925 1.315 0.6575 0 0.8225 0.165 0.9875 0.3275 1.15 0.4925 1.315 0.6575\n"
     ]
    },
    {
     "name": "stderr",
     "output_type": "stream",
     "text": [
      "++ 3drefit processed 1 datasets\n",
      "++ 3drefit: AFNI version=AFNI_24.2.00 (Jul 15 2024) [64-bit]\n",
      "++ Authored by: RW Cox\n",
      "++ Processing AFNI dataset /media/brain/Spatial/spatialfMRI/fMRI_data/spatialfMRI_nii/sub-01/func/sub-01_task-geo_run-09_echo-2_part-mag_bold.nii.gz\n",
      " + setting slice time offsets\n",
      " + loading and re-writing dataset /media/brain/Spatial/spatialfMRI/fMRI_data/spatialfMRI_nii/sub-01/func/sub-01_task-geo_run-09_echo-2_part-mag_bold.nii.gz (/media/brain/Spatial/spatialfMRI/fMRI_data/spatialfMRI_nii/sub-01/func/sub-01_task-geo_run-09_echo-2_part-mag_bold.nii.gz in NIFTI storage)\n"
     ]
    },
    {
     "name": "stdout",
     "output_type": "stream",
     "text": [
      "0 0.8225 0.165 0.9875 0.3275 1.15 0.4925 1.315 0.6575 0 0.8225 0.165 0.9875 0.3275 1.15 0.4925 1.315 0.6575 0 0.8225 0.165 0.9875 0.3275 1.15 0.4925 1.315 0.6575 0 0.8225 0.165 0.9875 0.3275 1.15 0.4925 1.315 0.6575 0 0.8225 0.165 0.9875 0.3275 1.15 0.4925 1.315 0.6575\n"
     ]
    },
    {
     "name": "stderr",
     "output_type": "stream",
     "text": [
      "++ 3drefit processed 1 datasets\n",
      "++ 3drefit: AFNI version=AFNI_24.2.00 (Jul 15 2024) [64-bit]\n",
      "++ Authored by: RW Cox\n",
      "++ Processing AFNI dataset /media/brain/Spatial/spatialfMRI/fMRI_data/spatialfMRI_nii/sub-01/func/sub-01_task-geo_run-09_echo-3_part-mag_bold.nii.gz\n",
      " + setting slice time offsets\n",
      " + loading and re-writing dataset /media/brain/Spatial/spatialfMRI/fMRI_data/spatialfMRI_nii/sub-01/func/sub-01_task-geo_run-09_echo-3_part-mag_bold.nii.gz (/media/brain/Spatial/spatialfMRI/fMRI_data/spatialfMRI_nii/sub-01/func/sub-01_task-geo_run-09_echo-3_part-mag_bold.nii.gz in NIFTI storage)\n"
     ]
    },
    {
     "name": "stdout",
     "output_type": "stream",
     "text": [
      "0 0.8225 0.165 0.9875 0.3275 1.15 0.4925 1.315 0.6575 0 0.8225 0.165 0.9875 0.3275 1.15 0.4925 1.315 0.6575 0 0.8225 0.165 0.9875 0.3275 1.15 0.4925 1.315 0.6575 0 0.8225 0.165 0.9875 0.3275 1.15 0.4925 1.315 0.6575 0 0.8225 0.165 0.9875 0.3275 1.15 0.4925 1.315 0.6575\n"
     ]
    },
    {
     "name": "stderr",
     "output_type": "stream",
     "text": [
      "++ 3drefit processed 1 datasets\n",
      "++ 3drefit: AFNI version=AFNI_24.2.00 (Jul 15 2024) [64-bit]\n",
      "++ Authored by: RW Cox\n",
      "++ Processing AFNI dataset /media/brain/Spatial/spatialfMRI/fMRI_data/spatialfMRI_nii/sub-01/func/sub-01_task-geo_run-09_echo-4_part-mag_bold.nii.gz\n",
      " + setting slice time offsets\n",
      " + loading and re-writing dataset /media/brain/Spatial/spatialfMRI/fMRI_data/spatialfMRI_nii/sub-01/func/sub-01_task-geo_run-09_echo-4_part-mag_bold.nii.gz (/media/brain/Spatial/spatialfMRI/fMRI_data/spatialfMRI_nii/sub-01/func/sub-01_task-geo_run-09_echo-4_part-mag_bold.nii.gz in NIFTI storage)\n"
     ]
    },
    {
     "name": "stdout",
     "output_type": "stream",
     "text": [
      "0 0.8225 0.165 0.9875 0.3275 1.15 0.4925 1.315 0.6575 0 0.8225 0.165 0.9875 0.3275 1.15 0.4925 1.315 0.6575 0 0.8225 0.165 0.9875 0.3275 1.15 0.4925 1.315 0.6575 0 0.8225 0.165 0.9875 0.3275 1.15 0.4925 1.315 0.6575 0 0.8225 0.165 0.9875 0.3275 1.15 0.4925 1.315 0.6575\n"
     ]
    },
    {
     "name": "stderr",
     "output_type": "stream",
     "text": [
      "++ 3drefit processed 1 datasets\n",
      "++ 3drefit: AFNI version=AFNI_24.2.00 (Jul 15 2024) [64-bit]\n",
      "++ Authored by: RW Cox\n",
      "++ Processing AFNI dataset /media/brain/Spatial/spatialfMRI/fMRI_data/spatialfMRI_nii/sub-01/func/sub-01_task-geo_run-09_echo-5_part-mag_bold.nii.gz\n",
      " + setting slice time offsets\n",
      " + loading and re-writing dataset /media/brain/Spatial/spatialfMRI/fMRI_data/spatialfMRI_nii/sub-01/func/sub-01_task-geo_run-09_echo-5_part-mag_bold.nii.gz (/media/brain/Spatial/spatialfMRI/fMRI_data/spatialfMRI_nii/sub-01/func/sub-01_task-geo_run-09_echo-5_part-mag_bold.nii.gz in NIFTI storage)\n"
     ]
    },
    {
     "name": "stdout",
     "output_type": "stream",
     "text": [
      "0 0.8225 0.165 0.9875 0.3275 1.15 0.4925 1.315 0.6575 0 0.8225 0.165 0.9875 0.3275 1.15 0.4925 1.315 0.6575 0 0.8225 0.165 0.9875 0.3275 1.15 0.4925 1.315 0.6575 0 0.8225 0.165 0.9875 0.3275 1.15 0.4925 1.315 0.6575 0 0.8225 0.165 0.9875 0.3275 1.15 0.4925 1.315 0.6575\n"
     ]
    },
    {
     "name": "stderr",
     "output_type": "stream",
     "text": [
      "++ 3drefit processed 1 datasets\n",
      "++ 3drefit: AFNI version=AFNI_24.2.00 (Jul 15 2024) [64-bit]\n",
      "++ Authored by: RW Cox\n",
      "++ Processing AFNI dataset /media/brain/Spatial/spatialfMRI/fMRI_data/spatialfMRI_nii/sub-01/func/sub-01_task-geo_run-09_echo-1_part-phase_bold.nii.gz\n",
      " + setting slice time offsets\n",
      " + loading and re-writing dataset /media/brain/Spatial/spatialfMRI/fMRI_data/spatialfMRI_nii/sub-01/func/sub-01_task-geo_run-09_echo-1_part-phase_bold.nii.gz (/media/brain/Spatial/spatialfMRI/fMRI_data/spatialfMRI_nii/sub-01/func/sub-01_task-geo_run-09_echo-1_part-phase_bold.nii.gz in NIFTI storage)\n"
     ]
    },
    {
     "name": "stdout",
     "output_type": "stream",
     "text": [
      "0 0.8225 0.165 0.9875 0.3275 1.15 0.4925 1.315 0.6575 0 0.8225 0.165 0.9875 0.3275 1.15 0.4925 1.315 0.6575 0 0.8225 0.165 0.9875 0.3275 1.15 0.4925 1.315 0.6575 0 0.8225 0.165 0.9875 0.3275 1.15 0.4925 1.315 0.6575 0 0.8225 0.165 0.9875 0.3275 1.15 0.4925 1.315 0.6575\n"
     ]
    },
    {
     "name": "stderr",
     "output_type": "stream",
     "text": [
      "++ 3drefit processed 1 datasets\n",
      "++ 3drefit: AFNI version=AFNI_24.2.00 (Jul 15 2024) [64-bit]\n",
      "++ Authored by: RW Cox\n",
      "++ Processing AFNI dataset /media/brain/Spatial/spatialfMRI/fMRI_data/spatialfMRI_nii/sub-01/func/sub-01_task-geo_run-09_echo-2_part-phase_bold.nii.gz\n",
      " + setting slice time offsets\n",
      " + loading and re-writing dataset /media/brain/Spatial/spatialfMRI/fMRI_data/spatialfMRI_nii/sub-01/func/sub-01_task-geo_run-09_echo-2_part-phase_bold.nii.gz (/media/brain/Spatial/spatialfMRI/fMRI_data/spatialfMRI_nii/sub-01/func/sub-01_task-geo_run-09_echo-2_part-phase_bold.nii.gz in NIFTI storage)\n"
     ]
    },
    {
     "name": "stdout",
     "output_type": "stream",
     "text": [
      "0 0.8225 0.165 0.9875 0.3275 1.15 0.4925 1.315 0.6575 0 0.8225 0.165 0.9875 0.3275 1.15 0.4925 1.315 0.6575 0 0.8225 0.165 0.9875 0.3275 1.15 0.4925 1.315 0.6575 0 0.8225 0.165 0.9875 0.3275 1.15 0.4925 1.315 0.6575 0 0.8225 0.165 0.9875 0.3275 1.15 0.4925 1.315 0.6575\n"
     ]
    },
    {
     "name": "stderr",
     "output_type": "stream",
     "text": [
      "++ 3drefit processed 1 datasets\n",
      "++ 3drefit: AFNI version=AFNI_24.2.00 (Jul 15 2024) [64-bit]\n",
      "++ Authored by: RW Cox\n",
      "++ Processing AFNI dataset /media/brain/Spatial/spatialfMRI/fMRI_data/spatialfMRI_nii/sub-01/func/sub-01_task-geo_run-09_echo-3_part-phase_bold.nii.gz\n",
      " + setting slice time offsets\n",
      " + loading and re-writing dataset /media/brain/Spatial/spatialfMRI/fMRI_data/spatialfMRI_nii/sub-01/func/sub-01_task-geo_run-09_echo-3_part-phase_bold.nii.gz (/media/brain/Spatial/spatialfMRI/fMRI_data/spatialfMRI_nii/sub-01/func/sub-01_task-geo_run-09_echo-3_part-phase_bold.nii.gz in NIFTI storage)\n"
     ]
    },
    {
     "name": "stdout",
     "output_type": "stream",
     "text": [
      "0 0.8225 0.165 0.9875 0.3275 1.15 0.4925 1.315 0.6575 0 0.8225 0.165 0.9875 0.3275 1.15 0.4925 1.315 0.6575 0 0.8225 0.165 0.9875 0.3275 1.15 0.4925 1.315 0.6575 0 0.8225 0.165 0.9875 0.3275 1.15 0.4925 1.315 0.6575 0 0.8225 0.165 0.9875 0.3275 1.15 0.4925 1.315 0.6575\n"
     ]
    },
    {
     "name": "stderr",
     "output_type": "stream",
     "text": [
      "++ 3drefit processed 1 datasets\n",
      "++ 3drefit: AFNI version=AFNI_24.2.00 (Jul 15 2024) [64-bit]\n",
      "++ Authored by: RW Cox\n",
      "++ Processing AFNI dataset /media/brain/Spatial/spatialfMRI/fMRI_data/spatialfMRI_nii/sub-01/func/sub-01_task-geo_run-09_echo-4_part-phase_bold.nii.gz\n",
      " + setting slice time offsets\n",
      " + loading and re-writing dataset /media/brain/Spatial/spatialfMRI/fMRI_data/spatialfMRI_nii/sub-01/func/sub-01_task-geo_run-09_echo-4_part-phase_bold.nii.gz (/media/brain/Spatial/spatialfMRI/fMRI_data/spatialfMRI_nii/sub-01/func/sub-01_task-geo_run-09_echo-4_part-phase_bold.nii.gz in NIFTI storage)\n"
     ]
    },
    {
     "name": "stdout",
     "output_type": "stream",
     "text": [
      "0 0.8225 0.165 0.9875 0.3275 1.15 0.4925 1.315 0.6575 0 0.8225 0.165 0.9875 0.3275 1.15 0.4925 1.315 0.6575 0 0.8225 0.165 0.9875 0.3275 1.15 0.4925 1.315 0.6575 0 0.8225 0.165 0.9875 0.3275 1.15 0.4925 1.315 0.6575 0 0.8225 0.165 0.9875 0.3275 1.15 0.4925 1.315 0.6575\n"
     ]
    },
    {
     "name": "stderr",
     "output_type": "stream",
     "text": [
      "++ 3drefit processed 1 datasets\n",
      "++ 3drefit: AFNI version=AFNI_24.2.00 (Jul 15 2024) [64-bit]\n",
      "++ Authored by: RW Cox\n",
      "++ Processing AFNI dataset /media/brain/Spatial/spatialfMRI/fMRI_data/spatialfMRI_nii/sub-01/func/sub-01_task-geo_run-09_echo-5_part-phase_bold.nii.gz\n",
      " + setting slice time offsets\n",
      " + loading and re-writing dataset /media/brain/Spatial/spatialfMRI/fMRI_data/spatialfMRI_nii/sub-01/func/sub-01_task-geo_run-09_echo-5_part-phase_bold.nii.gz (/media/brain/Spatial/spatialfMRI/fMRI_data/spatialfMRI_nii/sub-01/func/sub-01_task-geo_run-09_echo-5_part-phase_bold.nii.gz in NIFTI storage)\n"
     ]
    },
    {
     "name": "stdout",
     "output_type": "stream",
     "text": [
      "0 0.8225 0.165 0.9875 0.3275 1.15 0.4925 1.315 0.6575 0 0.8225 0.165 0.9875 0.3275 1.15 0.4925 1.315 0.6575 0 0.8225 0.165 0.9875 0.3275 1.15 0.4925 1.315 0.6575 0 0.8225 0.165 0.9875 0.3275 1.15 0.4925 1.315 0.6575 0 0.8225 0.165 0.9875 0.3275 1.15 0.4925 1.315 0.6575\n"
     ]
    },
    {
     "name": "stderr",
     "output_type": "stream",
     "text": [
      "++ 3drefit processed 1 datasets\n",
      "++ 3drefit: AFNI version=AFNI_24.2.00 (Jul 15 2024) [64-bit]\n",
      "++ Authored by: RW Cox\n",
      "++ Processing AFNI dataset /media/brain/Spatial/spatialfMRI/fMRI_data/spatialfMRI_nii/sub-01/func/sub-01_task-geo_run-10_echo-1_part-mag_sbref.nii.gz\n",
      "\u001b[7m*+ WARNING:\u001b[0m -Tslices: dataset has no time axis to add slice offset to!\n",
      " + Didn't make any changes for dataset /media/brain/Spatial/spatialfMRI/fMRI_data/spatialfMRI_nii/sub-01/func/sub-01_task-geo_run-10_echo-1_part-mag_sbref.nii.gz !\n",
      "++ 3drefit processed 1 datasets\n",
      "++ 3drefit: AFNI version=AFNI_24.2.00 (Jul 15 2024) [64-bit]\n",
      "++ Authored by: RW Cox\n",
      "++ Processing AFNI dataset /media/brain/Spatial/spatialfMRI/fMRI_data/spatialfMRI_nii/sub-01/func/sub-01_task-geo_run-10_echo-2_part-mag_sbref.nii.gz\n",
      "\u001b[7m*+ WARNING:\u001b[0m -Tslices: dataset has no time axis to add slice offset to!\n",
      " + Didn't make any changes for dataset /media/brain/Spatial/spatialfMRI/fMRI_data/spatialfMRI_nii/sub-01/func/sub-01_task-geo_run-10_echo-2_part-mag_sbref.nii.gz !\n",
      "++ 3drefit processed 1 datasets\n",
      "++ 3drefit: AFNI version=AFNI_24.2.00 (Jul 15 2024) [64-bit]\n",
      "++ Authored by: RW Cox\n",
      "++ Processing AFNI dataset /media/brain/Spatial/spatialfMRI/fMRI_data/spatialfMRI_nii/sub-01/func/sub-01_task-geo_run-10_echo-3_part-mag_sbref.nii.gz\n",
      "\u001b[7m*+ WARNING:\u001b[0m -Tslices: dataset has no time axis to add slice offset to!\n",
      " + Didn't make any changes for dataset /media/brain/Spatial/spatialfMRI/fMRI_data/spatialfMRI_nii/sub-01/func/sub-01_task-geo_run-10_echo-3_part-mag_sbref.nii.gz !\n",
      "++ 3drefit processed 1 datasets\n",
      "++ 3drefit: AFNI version=AFNI_24.2.00 (Jul 15 2024) [64-bit]\n",
      "++ Authored by: RW Cox\n",
      "++ Processing AFNI dataset /media/brain/Spatial/spatialfMRI/fMRI_data/spatialfMRI_nii/sub-01/func/sub-01_task-geo_run-10_echo-4_part-mag_sbref.nii.gz\n",
      "\u001b[7m*+ WARNING:\u001b[0m -Tslices: dataset has no time axis to add slice offset to!\n",
      " + Didn't make any changes for dataset /media/brain/Spatial/spatialfMRI/fMRI_data/spatialfMRI_nii/sub-01/func/sub-01_task-geo_run-10_echo-4_part-mag_sbref.nii.gz !\n",
      "++ 3drefit processed 1 datasets\n",
      "++ 3drefit: AFNI version=AFNI_24.2.00 (Jul 15 2024) [64-bit]\n",
      "++ Authored by: RW Cox\n",
      "++ Processing AFNI dataset /media/brain/Spatial/spatialfMRI/fMRI_data/spatialfMRI_nii/sub-01/func/sub-01_task-geo_run-10_echo-5_part-mag_sbref.nii.gz\n",
      "\u001b[7m*+ WARNING:\u001b[0m -Tslices: dataset has no time axis to add slice offset to!\n",
      " + Didn't make any changes for dataset /media/brain/Spatial/spatialfMRI/fMRI_data/spatialfMRI_nii/sub-01/func/sub-01_task-geo_run-10_echo-5_part-mag_sbref.nii.gz !\n",
      "++ 3drefit processed 1 datasets\n",
      "++ 3drefit: AFNI version=AFNI_24.2.00 (Jul 15 2024) [64-bit]\n",
      "++ Authored by: RW Cox\n",
      "++ Processing AFNI dataset /media/brain/Spatial/spatialfMRI/fMRI_data/spatialfMRI_nii/sub-01/func/sub-01_task-geo_run-10_echo-1_part-phase_sbref.nii.gz\n",
      "\u001b[7m*+ WARNING:\u001b[0m -Tslices: dataset has no time axis to add slice offset to!\n",
      " + Didn't make any changes for dataset /media/brain/Spatial/spatialfMRI/fMRI_data/spatialfMRI_nii/sub-01/func/sub-01_task-geo_run-10_echo-1_part-phase_sbref.nii.gz !\n",
      "++ 3drefit processed 1 datasets\n",
      "++ 3drefit: AFNI version=AFNI_24.2.00 (Jul 15 2024) [64-bit]\n",
      "++ Authored by: RW Cox\n",
      "++ Processing AFNI dataset /media/brain/Spatial/spatialfMRI/fMRI_data/spatialfMRI_nii/sub-01/func/sub-01_task-geo_run-10_echo-2_part-phase_sbref.nii.gz\n",
      "\u001b[7m*+ WARNING:\u001b[0m -Tslices: dataset has no time axis to add slice offset to!\n",
      " + Didn't make any changes for dataset /media/brain/Spatial/spatialfMRI/fMRI_data/spatialfMRI_nii/sub-01/func/sub-01_task-geo_run-10_echo-2_part-phase_sbref.nii.gz !\n",
      "++ 3drefit processed 1 datasets\n",
      "++ 3drefit: AFNI version=AFNI_24.2.00 (Jul 15 2024) [64-bit]\n",
      "++ Authored by: RW Cox\n",
      "++ Processing AFNI dataset /media/brain/Spatial/spatialfMRI/fMRI_data/spatialfMRI_nii/sub-01/func/sub-01_task-geo_run-10_echo-3_part-phase_sbref.nii.gz\n",
      "\u001b[7m*+ WARNING:\u001b[0m -Tslices: dataset has no time axis to add slice offset to!\n",
      " + Didn't make any changes for dataset /media/brain/Spatial/spatialfMRI/fMRI_data/spatialfMRI_nii/sub-01/func/sub-01_task-geo_run-10_echo-3_part-phase_sbref.nii.gz !\n",
      "++ 3drefit processed 1 datasets\n",
      "++ 3drefit: AFNI version=AFNI_24.2.00 (Jul 15 2024) [64-bit]\n",
      "++ Authored by: RW Cox\n",
      "++ Processing AFNI dataset /media/brain/Spatial/spatialfMRI/fMRI_data/spatialfMRI_nii/sub-01/func/sub-01_task-geo_run-10_echo-4_part-phase_sbref.nii.gz\n",
      "\u001b[7m*+ WARNING:\u001b[0m -Tslices: dataset has no time axis to add slice offset to!\n",
      " + Didn't make any changes for dataset /media/brain/Spatial/spatialfMRI/fMRI_data/spatialfMRI_nii/sub-01/func/sub-01_task-geo_run-10_echo-4_part-phase_sbref.nii.gz !\n",
      "++ 3drefit processed 1 datasets\n",
      "++ 3drefit: AFNI version=AFNI_24.2.00 (Jul 15 2024) [64-bit]\n",
      "++ Authored by: RW Cox\n",
      "++ Processing AFNI dataset /media/brain/Spatial/spatialfMRI/fMRI_data/spatialfMRI_nii/sub-01/func/sub-01_task-geo_run-10_echo-5_part-phase_sbref.nii.gz\n",
      "\u001b[7m*+ WARNING:\u001b[0m -Tslices: dataset has no time axis to add slice offset to!\n",
      " + Didn't make any changes for dataset /media/brain/Spatial/spatialfMRI/fMRI_data/spatialfMRI_nii/sub-01/func/sub-01_task-geo_run-10_echo-5_part-phase_sbref.nii.gz !\n",
      "++ 3drefit processed 1 datasets\n",
      "++ 3drefit: AFNI version=AFNI_24.2.00 (Jul 15 2024) [64-bit]\n",
      "++ Authored by: RW Cox\n",
      "++ Processing AFNI dataset /media/brain/Spatial/spatialfMRI/fMRI_data/spatialfMRI_nii/sub-01/func/sub-01_task-geo_run-10_echo-1_part-mag_bold.nii.gz\n",
      " + setting slice time offsets\n",
      " + loading and re-writing dataset /media/brain/Spatial/spatialfMRI/fMRI_data/spatialfMRI_nii/sub-01/func/sub-01_task-geo_run-10_echo-1_part-mag_bold.nii.gz (/media/brain/Spatial/spatialfMRI/fMRI_data/spatialfMRI_nii/sub-01/func/sub-01_task-geo_run-10_echo-1_part-mag_bold.nii.gz in NIFTI storage)\n"
     ]
    },
    {
     "name": "stdout",
     "output_type": "stream",
     "text": [
      "0 0.165 0.33 0.4925 0.6575 0.8225 0.9875 1.1525 1.315 1.48 1.645 1.81 1.9725 2.1375 2.3025 2.4675 2.6325 2.795 2.96 3.125 3.29 3.4525 3.6175 3.7825 3.9475 4.1125 4.275 4.44 4.605 4.77 4.9325 5.0975 5.2625 5.4275 5.59 5.755 5.92 6.085 6.25 6.4125 6.5775 6.7425 6.9075 7.07 7.235\n",
      "0 0.165 0.33 0.4925 0.6575 0.8225 0.9875 1.1525 1.315 1.48 1.645 1.81 1.9725 2.1375 2.3025 2.4675 2.6325 2.795 2.96 3.125 3.29 3.4525 3.6175 3.7825 3.9475 4.1125 4.275 4.44 4.605 4.77 4.9325 5.0975 5.2625 5.4275 5.59 5.755 5.92 6.085 6.25 6.4125 6.5775 6.7425 6.9075 7.07 7.235\n",
      "0 0.165 0.33 0.4925 0.6575 0.8225 0.9875 1.1525 1.315 1.48 1.645 1.81 1.9725 2.1375 2.3025 2.4675 2.6325 2.795 2.96 3.125 3.29 3.4525 3.6175 3.7825 3.9475 4.1125 4.275 4.44 4.605 4.77 4.9325 5.0975 5.2625 5.4275 5.59 5.755 5.92 6.085 6.25 6.4125 6.5775 6.7425 6.9075 7.07 7.235\n",
      "0 0.165 0.33 0.4925 0.6575 0.8225 0.9875 1.1525 1.315 1.48 1.645 1.81 1.9725 2.1375 2.3025 2.4675 2.6325 2.795 2.96 3.125 3.29 3.4525 3.6175 3.7825 3.9475 4.1125 4.275 4.44 4.605 4.77 4.9325 5.0975 5.2625 5.4275 5.59 5.755 5.92 6.085 6.25 6.4125 6.5775 6.7425 6.9075 7.07 7.235\n",
      "0 0.165 0.33 0.4925 0.6575 0.8225 0.9875 1.1525 1.315 1.48 1.645 1.81 1.9725 2.1375 2.3025 2.4675 2.6325 2.795 2.96 3.125 3.29 3.4525 3.6175 3.7825 3.9475 4.1125 4.275 4.44 4.605 4.77 4.9325 5.0975 5.2625 5.4275 5.5925 5.755 5.92 6.085 6.25 6.4125 6.5775 6.7425 6.9075 7.07 7.235\n",
      "0 0.165 0.33 0.4925 0.6575 0.8225 0.9875 1.1525 1.315 1.48 1.645 1.81 1.9725 2.1375 2.3025 2.4675 2.6325 2.795 2.96 3.125 3.29 3.4525 3.6175 3.7825 3.9475 4.1125 4.275 4.44 4.605 4.77 4.9325 5.0975 5.2625 5.4275 5.59 5.755 5.92 6.085 6.25 6.4125 6.5775 6.7425 6.9075 7.07 7.235\n",
      "0 0.165 0.33 0.4925 0.6575 0.8225 0.9875 1.1525 1.315 1.48 1.645 1.81 1.9725 2.1375 2.3025 2.4675 2.6325 2.795 2.96 3.125 3.29 3.4525 3.6175 3.7825 3.9475 4.1125 4.275 4.44 4.605 4.77 4.9325 5.0975 5.2625 5.4275 5.59 5.755 5.92 6.085 6.25 6.4125 6.5775 6.7425 6.9075 7.07 7.235\n",
      "0 0.165 0.33 0.4925 0.6575 0.8225 0.9875 1.1525 1.315 1.48 1.645 1.81 1.9725 2.1375 2.3025 2.4675 2.6325 2.795 2.96 3.125 3.29 3.4525 3.6175 3.7825 3.9475 4.1125 4.275 4.44 4.605 4.77 4.9325 5.0975 5.2625 5.4275 5.59 5.755 5.92 6.085 6.25 6.4125 6.5775 6.7425 6.9075 7.07 7.235\n",
      "0 0.165 0.33 0.4925 0.6575 0.8225 0.9875 1.1525 1.315 1.48 1.645 1.81 1.9725 2.1375 2.3025 2.4675 2.6325 2.795 2.96 3.125 3.29 3.4525 3.6175 3.7825 3.9475 4.1125 4.275 4.44 4.605 4.77 4.9325 5.0975 5.2625 5.4275 5.59 5.755 5.92 6.085 6.25 6.4125 6.5775 6.7425 6.9075 7.07 7.235\n",
      "0 0.165 0.33 0.4925 0.6575 0.8225 0.9875 1.1525 1.315 1.48 1.645 1.81 1.9725 2.1375 2.3025 2.4675 2.6325 2.795 2.96 3.125 3.29 3.4525 3.6175 3.7825 3.9475 4.1125 4.275 4.44 4.605 4.77 4.9325 5.0975 5.2625 5.4275 5.5925 5.755 5.92 6.085 6.25 6.4125 6.5775 6.7425 6.9075 7.07 7.235\n",
      "0 0.8225 0.165 0.9875 0.33 1.1525 0.4925 1.315 0.6575 0 0.8225 0.165 0.9875 0.33 1.1525 0.4925 1.315 0.6575 0 0.8225 0.165 0.9875 0.33 1.1525 0.4925 1.315 0.6575 0 0.8225 0.165 0.9875 0.33 1.1525 0.4925 1.315 0.6575 0 0.8225 0.165 0.9875 0.33 1.1525 0.4925 1.315 0.6575\n"
     ]
    },
    {
     "name": "stderr",
     "output_type": "stream",
     "text": [
      "++ 3drefit processed 1 datasets\n",
      "++ 3drefit: AFNI version=AFNI_24.2.00 (Jul 15 2024) [64-bit]\n",
      "++ Authored by: RW Cox\n",
      "++ Processing AFNI dataset /media/brain/Spatial/spatialfMRI/fMRI_data/spatialfMRI_nii/sub-01/func/sub-01_task-geo_run-10_echo-2_part-mag_bold.nii.gz\n",
      " + setting slice time offsets\n",
      " + loading and re-writing dataset /media/brain/Spatial/spatialfMRI/fMRI_data/spatialfMRI_nii/sub-01/func/sub-01_task-geo_run-10_echo-2_part-mag_bold.nii.gz (/media/brain/Spatial/spatialfMRI/fMRI_data/spatialfMRI_nii/sub-01/func/sub-01_task-geo_run-10_echo-2_part-mag_bold.nii.gz in NIFTI storage)\n"
     ]
    },
    {
     "name": "stdout",
     "output_type": "stream",
     "text": [
      "0 0.8225 0.165 0.9875 0.33 1.1525 0.4925 1.315 0.6575 0 0.8225 0.165 0.9875 0.33 1.1525 0.4925 1.315 0.6575 0 0.8225 0.165 0.9875 0.33 1.1525 0.4925 1.315 0.6575 0 0.8225 0.165 0.9875 0.33 1.1525 0.4925 1.315 0.6575 0 0.8225 0.165 0.9875 0.33 1.1525 0.4925 1.315 0.6575\n"
     ]
    },
    {
     "name": "stderr",
     "output_type": "stream",
     "text": [
      "++ 3drefit processed 1 datasets\n",
      "++ 3drefit: AFNI version=AFNI_24.2.00 (Jul 15 2024) [64-bit]\n",
      "++ Authored by: RW Cox\n",
      "++ Processing AFNI dataset /media/brain/Spatial/spatialfMRI/fMRI_data/spatialfMRI_nii/sub-01/func/sub-01_task-geo_run-10_echo-3_part-mag_bold.nii.gz\n",
      " + setting slice time offsets\n",
      " + loading and re-writing dataset /media/brain/Spatial/spatialfMRI/fMRI_data/spatialfMRI_nii/sub-01/func/sub-01_task-geo_run-10_echo-3_part-mag_bold.nii.gz (/media/brain/Spatial/spatialfMRI/fMRI_data/spatialfMRI_nii/sub-01/func/sub-01_task-geo_run-10_echo-3_part-mag_bold.nii.gz in NIFTI storage)\n"
     ]
    },
    {
     "name": "stdout",
     "output_type": "stream",
     "text": [
      "0 0.8225 0.165 0.9875 0.33 1.1525 0.4925 1.315 0.6575 0 0.8225 0.165 0.9875 0.33 1.1525 0.4925 1.315 0.6575 0 0.8225 0.165 0.9875 0.33 1.1525 0.4925 1.315 0.6575 0 0.8225 0.165 0.9875 0.33 1.1525 0.4925 1.315 0.6575 0 0.8225 0.165 0.9875 0.33 1.1525 0.4925 1.315 0.6575\n"
     ]
    },
    {
     "name": "stderr",
     "output_type": "stream",
     "text": [
      "++ 3drefit processed 1 datasets\n",
      "++ 3drefit: AFNI version=AFNI_24.2.00 (Jul 15 2024) [64-bit]\n",
      "++ Authored by: RW Cox\n",
      "++ Processing AFNI dataset /media/brain/Spatial/spatialfMRI/fMRI_data/spatialfMRI_nii/sub-01/func/sub-01_task-geo_run-10_echo-4_part-mag_bold.nii.gz\n",
      " + setting slice time offsets\n",
      " + loading and re-writing dataset /media/brain/Spatial/spatialfMRI/fMRI_data/spatialfMRI_nii/sub-01/func/sub-01_task-geo_run-10_echo-4_part-mag_bold.nii.gz (/media/brain/Spatial/spatialfMRI/fMRI_data/spatialfMRI_nii/sub-01/func/sub-01_task-geo_run-10_echo-4_part-mag_bold.nii.gz in NIFTI storage)\n"
     ]
    },
    {
     "name": "stdout",
     "output_type": "stream",
     "text": [
      "0 0.8225 0.165 0.9875 0.33 1.1525 0.4925 1.315 0.6575 0 0.8225 0.165 0.9875 0.33 1.1525 0.4925 1.315 0.6575 0 0.8225 0.165 0.9875 0.33 1.1525 0.4925 1.315 0.6575 0 0.8225 0.165 0.9875 0.33 1.1525 0.4925 1.315 0.6575 0 0.8225 0.165 0.9875 0.33 1.1525 0.4925 1.315 0.6575\n"
     ]
    },
    {
     "name": "stderr",
     "output_type": "stream",
     "text": [
      "++ 3drefit processed 1 datasets\n",
      "++ 3drefit: AFNI version=AFNI_24.2.00 (Jul 15 2024) [64-bit]\n",
      "++ Authored by: RW Cox\n",
      "++ Processing AFNI dataset /media/brain/Spatial/spatialfMRI/fMRI_data/spatialfMRI_nii/sub-01/func/sub-01_task-geo_run-10_echo-5_part-mag_bold.nii.gz\n",
      " + setting slice time offsets\n",
      " + loading and re-writing dataset /media/brain/Spatial/spatialfMRI/fMRI_data/spatialfMRI_nii/sub-01/func/sub-01_task-geo_run-10_echo-5_part-mag_bold.nii.gz (/media/brain/Spatial/spatialfMRI/fMRI_data/spatialfMRI_nii/sub-01/func/sub-01_task-geo_run-10_echo-5_part-mag_bold.nii.gz in NIFTI storage)\n"
     ]
    },
    {
     "name": "stdout",
     "output_type": "stream",
     "text": [
      "0 0.8225 0.165 0.9875 0.33 1.1525 0.4925 1.315 0.6575 0 0.8225 0.165 0.9875 0.33 1.1525 0.4925 1.315 0.6575 0 0.8225 0.165 0.9875 0.33 1.1525 0.4925 1.315 0.6575 0 0.8225 0.165 0.9875 0.33 1.1525 0.4925 1.315 0.6575 0 0.8225 0.165 0.9875 0.33 1.1525 0.4925 1.315 0.6575\n"
     ]
    },
    {
     "name": "stderr",
     "output_type": "stream",
     "text": [
      "++ 3drefit processed 1 datasets\n",
      "++ 3drefit: AFNI version=AFNI_24.2.00 (Jul 15 2024) [64-bit]\n",
      "++ Authored by: RW Cox\n",
      "++ Processing AFNI dataset /media/brain/Spatial/spatialfMRI/fMRI_data/spatialfMRI_nii/sub-01/func/sub-01_task-geo_run-10_echo-1_part-phase_bold.nii.gz\n",
      " + setting slice time offsets\n",
      " + loading and re-writing dataset /media/brain/Spatial/spatialfMRI/fMRI_data/spatialfMRI_nii/sub-01/func/sub-01_task-geo_run-10_echo-1_part-phase_bold.nii.gz (/media/brain/Spatial/spatialfMRI/fMRI_data/spatialfMRI_nii/sub-01/func/sub-01_task-geo_run-10_echo-1_part-phase_bold.nii.gz in NIFTI storage)\n"
     ]
    },
    {
     "name": "stdout",
     "output_type": "stream",
     "text": [
      "0 0.8225 0.165 0.9875 0.33 1.1525 0.4925 1.315 0.6575 0 0.8225 0.165 0.9875 0.33 1.1525 0.4925 1.315 0.6575 0 0.8225 0.165 0.9875 0.33 1.1525 0.4925 1.315 0.6575 0 0.8225 0.165 0.9875 0.33 1.1525 0.4925 1.315 0.6575 0 0.8225 0.165 0.9875 0.33 1.1525 0.4925 1.315 0.6575\n"
     ]
    },
    {
     "name": "stderr",
     "output_type": "stream",
     "text": [
      "++ 3drefit processed 1 datasets\n",
      "++ 3drefit: AFNI version=AFNI_24.2.00 (Jul 15 2024) [64-bit]\n",
      "++ Authored by: RW Cox\n",
      "++ Processing AFNI dataset /media/brain/Spatial/spatialfMRI/fMRI_data/spatialfMRI_nii/sub-01/func/sub-01_task-geo_run-10_echo-2_part-phase_bold.nii.gz\n",
      " + setting slice time offsets\n",
      " + loading and re-writing dataset /media/brain/Spatial/spatialfMRI/fMRI_data/spatialfMRI_nii/sub-01/func/sub-01_task-geo_run-10_echo-2_part-phase_bold.nii.gz (/media/brain/Spatial/spatialfMRI/fMRI_data/spatialfMRI_nii/sub-01/func/sub-01_task-geo_run-10_echo-2_part-phase_bold.nii.gz in NIFTI storage)\n"
     ]
    },
    {
     "name": "stdout",
     "output_type": "stream",
     "text": [
      "0 0.8225 0.165 0.9875 0.33 1.1525 0.4925 1.315 0.6575 0 0.8225 0.165 0.9875 0.33 1.1525 0.4925 1.315 0.6575 0 0.8225 0.165 0.9875 0.33 1.1525 0.4925 1.315 0.6575 0 0.8225 0.165 0.9875 0.33 1.1525 0.4925 1.315 0.6575 0 0.8225 0.165 0.9875 0.33 1.1525 0.4925 1.315 0.6575\n"
     ]
    },
    {
     "name": "stderr",
     "output_type": "stream",
     "text": [
      "++ 3drefit processed 1 datasets\n",
      "++ 3drefit: AFNI version=AFNI_24.2.00 (Jul 15 2024) [64-bit]\n",
      "++ Authored by: RW Cox\n",
      "++ Processing AFNI dataset /media/brain/Spatial/spatialfMRI/fMRI_data/spatialfMRI_nii/sub-01/func/sub-01_task-geo_run-10_echo-3_part-phase_bold.nii.gz\n",
      " + setting slice time offsets\n",
      " + loading and re-writing dataset /media/brain/Spatial/spatialfMRI/fMRI_data/spatialfMRI_nii/sub-01/func/sub-01_task-geo_run-10_echo-3_part-phase_bold.nii.gz (/media/brain/Spatial/spatialfMRI/fMRI_data/spatialfMRI_nii/sub-01/func/sub-01_task-geo_run-10_echo-3_part-phase_bold.nii.gz in NIFTI storage)\n"
     ]
    },
    {
     "name": "stdout",
     "output_type": "stream",
     "text": [
      "0 0.8225 0.165 0.9875 0.33 1.1525 0.4925 1.315 0.6575 0 0.8225 0.165 0.9875 0.33 1.1525 0.4925 1.315 0.6575 0 0.8225 0.165 0.9875 0.33 1.1525 0.4925 1.315 0.6575 0 0.8225 0.165 0.9875 0.33 1.1525 0.4925 1.315 0.6575 0 0.8225 0.165 0.9875 0.33 1.1525 0.4925 1.315 0.6575\n"
     ]
    },
    {
     "name": "stderr",
     "output_type": "stream",
     "text": [
      "++ 3drefit processed 1 datasets\n",
      "++ 3drefit: AFNI version=AFNI_24.2.00 (Jul 15 2024) [64-bit]\n",
      "++ Authored by: RW Cox\n",
      "++ Processing AFNI dataset /media/brain/Spatial/spatialfMRI/fMRI_data/spatialfMRI_nii/sub-01/func/sub-01_task-geo_run-10_echo-4_part-phase_bold.nii.gz\n",
      " + setting slice time offsets\n",
      " + loading and re-writing dataset /media/brain/Spatial/spatialfMRI/fMRI_data/spatialfMRI_nii/sub-01/func/sub-01_task-geo_run-10_echo-4_part-phase_bold.nii.gz (/media/brain/Spatial/spatialfMRI/fMRI_data/spatialfMRI_nii/sub-01/func/sub-01_task-geo_run-10_echo-4_part-phase_bold.nii.gz in NIFTI storage)\n"
     ]
    },
    {
     "name": "stdout",
     "output_type": "stream",
     "text": [
      "0 0.8225 0.165 0.9875 0.33 1.1525 0.4925 1.315 0.6575 0 0.8225 0.165 0.9875 0.33 1.1525 0.4925 1.315 0.6575 0 0.8225 0.165 0.9875 0.33 1.1525 0.4925 1.315 0.6575 0 0.8225 0.165 0.9875 0.33 1.1525 0.4925 1.315 0.6575 0 0.8225 0.165 0.9875 0.33 1.1525 0.4925 1.315 0.6575\n"
     ]
    },
    {
     "name": "stderr",
     "output_type": "stream",
     "text": [
      "++ 3drefit processed 1 datasets\n",
      "++ 3drefit: AFNI version=AFNI_24.2.00 (Jul 15 2024) [64-bit]\n",
      "++ Authored by: RW Cox\n",
      "++ Processing AFNI dataset /media/brain/Spatial/spatialfMRI/fMRI_data/spatialfMRI_nii/sub-01/func/sub-01_task-geo_run-10_echo-5_part-phase_bold.nii.gz\n",
      " + setting slice time offsets\n",
      " + loading and re-writing dataset /media/brain/Spatial/spatialfMRI/fMRI_data/spatialfMRI_nii/sub-01/func/sub-01_task-geo_run-10_echo-5_part-phase_bold.nii.gz (/media/brain/Spatial/spatialfMRI/fMRI_data/spatialfMRI_nii/sub-01/func/sub-01_task-geo_run-10_echo-5_part-phase_bold.nii.gz in NIFTI storage)\n"
     ]
    },
    {
     "name": "stdout",
     "output_type": "stream",
     "text": [
      "0 0.8225 0.165 0.9875 0.33 1.1525 0.4925 1.315 0.6575 0 0.8225 0.165 0.9875 0.33 1.1525 0.4925 1.315 0.6575 0 0.8225 0.165 0.9875 0.33 1.1525 0.4925 1.315 0.6575 0 0.8225 0.165 0.9875 0.33 1.1525 0.4925 1.315 0.6575 0 0.8225 0.165 0.9875 0.33 1.1525 0.4925 1.315 0.6575\n"
     ]
    },
    {
     "name": "stderr",
     "output_type": "stream",
     "text": [
      "++ 3drefit processed 1 datasets\n",
      "++ 3drefit: AFNI version=AFNI_24.2.00 (Jul 15 2024) [64-bit]\n",
      "++ Authored by: RW Cox\n",
      "++ Processing AFNI dataset /media/brain/Spatial/spatialfMRI/fMRI_data/spatialfMRI_nii/sub-01/func/sub-01_task-geo_run-11_echo-1_part-mag_sbref.nii.gz\n",
      "\u001b[7m*+ WARNING:\u001b[0m -Tslices: dataset has no time axis to add slice offset to!\n",
      " + Didn't make any changes for dataset /media/brain/Spatial/spatialfMRI/fMRI_data/spatialfMRI_nii/sub-01/func/sub-01_task-geo_run-11_echo-1_part-mag_sbref.nii.gz !\n",
      "++ 3drefit processed 1 datasets\n",
      "++ 3drefit: AFNI version=AFNI_24.2.00 (Jul 15 2024) [64-bit]\n",
      "++ Authored by: RW Cox\n",
      "++ Processing AFNI dataset /media/brain/Spatial/spatialfMRI/fMRI_data/spatialfMRI_nii/sub-01/func/sub-01_task-geo_run-11_echo-2_part-mag_sbref.nii.gz\n",
      "\u001b[7m*+ WARNING:\u001b[0m -Tslices: dataset has no time axis to add slice offset to!\n",
      " + Didn't make any changes for dataset /media/brain/Spatial/spatialfMRI/fMRI_data/spatialfMRI_nii/sub-01/func/sub-01_task-geo_run-11_echo-2_part-mag_sbref.nii.gz !\n",
      "++ 3drefit processed 1 datasets\n",
      "++ 3drefit: AFNI version=AFNI_24.2.00 (Jul 15 2024) [64-bit]\n",
      "++ Authored by: RW Cox\n",
      "++ Processing AFNI dataset /media/brain/Spatial/spatialfMRI/fMRI_data/spatialfMRI_nii/sub-01/func/sub-01_task-geo_run-11_echo-3_part-mag_sbref.nii.gz\n",
      "\u001b[7m*+ WARNING:\u001b[0m -Tslices: dataset has no time axis to add slice offset to!\n",
      " + Didn't make any changes for dataset /media/brain/Spatial/spatialfMRI/fMRI_data/spatialfMRI_nii/sub-01/func/sub-01_task-geo_run-11_echo-3_part-mag_sbref.nii.gz !\n",
      "++ 3drefit processed 1 datasets\n",
      "++ 3drefit: AFNI version=AFNI_24.2.00 (Jul 15 2024) [64-bit]\n",
      "++ Authored by: RW Cox\n",
      "++ Processing AFNI dataset /media/brain/Spatial/spatialfMRI/fMRI_data/spatialfMRI_nii/sub-01/func/sub-01_task-geo_run-11_echo-4_part-mag_sbref.nii.gz\n",
      "\u001b[7m*+ WARNING:\u001b[0m -Tslices: dataset has no time axis to add slice offset to!\n",
      " + Didn't make any changes for dataset /media/brain/Spatial/spatialfMRI/fMRI_data/spatialfMRI_nii/sub-01/func/sub-01_task-geo_run-11_echo-4_part-mag_sbref.nii.gz !\n",
      "++ 3drefit processed 1 datasets\n",
      "++ 3drefit: AFNI version=AFNI_24.2.00 (Jul 15 2024) [64-bit]\n",
      "++ Authored by: RW Cox\n",
      "++ Processing AFNI dataset /media/brain/Spatial/spatialfMRI/fMRI_data/spatialfMRI_nii/sub-01/func/sub-01_task-geo_run-11_echo-5_part-mag_sbref.nii.gz\n",
      "\u001b[7m*+ WARNING:\u001b[0m -Tslices: dataset has no time axis to add slice offset to!\n",
      " + Didn't make any changes for dataset /media/brain/Spatial/spatialfMRI/fMRI_data/spatialfMRI_nii/sub-01/func/sub-01_task-geo_run-11_echo-5_part-mag_sbref.nii.gz !\n",
      "++ 3drefit processed 1 datasets\n",
      "++ 3drefit: AFNI version=AFNI_24.2.00 (Jul 15 2024) [64-bit]\n",
      "++ Authored by: RW Cox\n",
      "++ Processing AFNI dataset /media/brain/Spatial/spatialfMRI/fMRI_data/spatialfMRI_nii/sub-01/func/sub-01_task-geo_run-11_echo-1_part-phase_sbref.nii.gz\n",
      "\u001b[7m*+ WARNING:\u001b[0m -Tslices: dataset has no time axis to add slice offset to!\n",
      " + Didn't make any changes for dataset /media/brain/Spatial/spatialfMRI/fMRI_data/spatialfMRI_nii/sub-01/func/sub-01_task-geo_run-11_echo-1_part-phase_sbref.nii.gz !\n",
      "++ 3drefit processed 1 datasets\n",
      "++ 3drefit: AFNI version=AFNI_24.2.00 (Jul 15 2024) [64-bit]\n",
      "++ Authored by: RW Cox\n",
      "++ Processing AFNI dataset /media/brain/Spatial/spatialfMRI/fMRI_data/spatialfMRI_nii/sub-01/func/sub-01_task-geo_run-11_echo-2_part-phase_sbref.nii.gz\n",
      "\u001b[7m*+ WARNING:\u001b[0m -Tslices: dataset has no time axis to add slice offset to!\n",
      " + Didn't make any changes for dataset /media/brain/Spatial/spatialfMRI/fMRI_data/spatialfMRI_nii/sub-01/func/sub-01_task-geo_run-11_echo-2_part-phase_sbref.nii.gz !\n",
      "++ 3drefit processed 1 datasets\n",
      "++ 3drefit: AFNI version=AFNI_24.2.00 (Jul 15 2024) [64-bit]\n",
      "++ Authored by: RW Cox\n",
      "++ Processing AFNI dataset /media/brain/Spatial/spatialfMRI/fMRI_data/spatialfMRI_nii/sub-01/func/sub-01_task-geo_run-11_echo-3_part-phase_sbref.nii.gz\n",
      "\u001b[7m*+ WARNING:\u001b[0m -Tslices: dataset has no time axis to add slice offset to!\n",
      " + Didn't make any changes for dataset /media/brain/Spatial/spatialfMRI/fMRI_data/spatialfMRI_nii/sub-01/func/sub-01_task-geo_run-11_echo-3_part-phase_sbref.nii.gz !\n",
      "++ 3drefit processed 1 datasets\n",
      "++ 3drefit: AFNI version=AFNI_24.2.00 (Jul 15 2024) [64-bit]\n",
      "++ Authored by: RW Cox\n",
      "++ Processing AFNI dataset /media/brain/Spatial/spatialfMRI/fMRI_data/spatialfMRI_nii/sub-01/func/sub-01_task-geo_run-11_echo-4_part-phase_sbref.nii.gz\n",
      "\u001b[7m*+ WARNING:\u001b[0m -Tslices: dataset has no time axis to add slice offset to!\n",
      " + Didn't make any changes for dataset /media/brain/Spatial/spatialfMRI/fMRI_data/spatialfMRI_nii/sub-01/func/sub-01_task-geo_run-11_echo-4_part-phase_sbref.nii.gz !\n",
      "++ 3drefit processed 1 datasets\n",
      "++ 3drefit: AFNI version=AFNI_24.2.00 (Jul 15 2024) [64-bit]\n",
      "++ Authored by: RW Cox\n",
      "++ Processing AFNI dataset /media/brain/Spatial/spatialfMRI/fMRI_data/spatialfMRI_nii/sub-01/func/sub-01_task-geo_run-11_echo-5_part-phase_sbref.nii.gz\n",
      "\u001b[7m*+ WARNING:\u001b[0m -Tslices: dataset has no time axis to add slice offset to!\n",
      " + Didn't make any changes for dataset /media/brain/Spatial/spatialfMRI/fMRI_data/spatialfMRI_nii/sub-01/func/sub-01_task-geo_run-11_echo-5_part-phase_sbref.nii.gz !\n",
      "++ 3drefit processed 1 datasets\n",
      "++ 3drefit: AFNI version=AFNI_24.2.00 (Jul 15 2024) [64-bit]\n",
      "++ Authored by: RW Cox\n",
      "++ Processing AFNI dataset /media/brain/Spatial/spatialfMRI/fMRI_data/spatialfMRI_nii/sub-01/func/sub-01_task-geo_run-11_echo-1_part-mag_bold.nii.gz\n",
      " + setting slice time offsets\n",
      " + loading and re-writing dataset /media/brain/Spatial/spatialfMRI/fMRI_data/spatialfMRI_nii/sub-01/func/sub-01_task-geo_run-11_echo-1_part-mag_bold.nii.gz (/media/brain/Spatial/spatialfMRI/fMRI_data/spatialfMRI_nii/sub-01/func/sub-01_task-geo_run-11_echo-1_part-mag_bold.nii.gz in NIFTI storage)\n"
     ]
    },
    {
     "name": "stdout",
     "output_type": "stream",
     "text": [
      "0 0.165 0.33 0.4925 0.6575 0.8225 0.9875 1.15 1.315 1.48 1.645 1.81 1.9725 2.1375 2.3025 2.4675 2.63 2.795 2.96 3.125 3.29 3.4525 3.6175 3.7825 3.9475 4.11 4.275 4.44 4.605 4.77 4.9325 5.0975 5.2625 5.4275 5.59 5.755 5.92 6.085 6.25 6.4125 6.5775 6.7425 6.9075 7.07 7.235\n",
      "0 0.165 0.33 0.4925 0.6575 0.8225 0.9875 1.1525 1.315 1.48 1.645 1.81 1.9725 2.1375 2.3025 2.4675 2.63 2.795 2.96 3.125 3.29 3.4525 3.6175 3.7825 3.9475 4.11 4.275 4.44 4.605 4.77 4.9325 5.0975 5.2625 5.4275 5.59 5.755 5.92 6.085 6.25 6.4125 6.5775 6.7425 6.9075 7.07 7.235\n",
      "0 0.165 0.33 0.4925 0.6575 0.8225 0.9875 1.1525 1.315 1.48 1.645 1.81 1.9725 2.1375 2.3025 2.4675 2.63 2.795 2.96 3.125 3.29 3.4525 3.6175 3.7825 3.9475 4.11 4.275 4.44 4.605 4.77 4.9325 5.0975 5.2625 5.4275 5.59 5.755 5.92 6.085 6.25 6.4125 6.5775 6.7425 6.9075 7.07 7.235\n",
      "0 0.165 0.33 0.4925 0.6575 0.8225 0.9875 1.1525 1.315 1.48 1.645 1.81 1.9725 2.1375 2.3025 2.4675 2.63 2.795 2.96 3.125 3.29 3.4525 3.6175 3.7825 3.9475 4.11 4.275 4.44 4.605 4.77 4.9325 5.0975 5.2625 5.4275 5.59 5.755 5.92 6.085 6.25 6.4125 6.5775 6.7425 6.9075 7.07 7.235\n",
      "0 0.165 0.33 0.4925 0.6575 0.8225 0.9875 1.1525 1.315 1.48 1.645 1.81 1.9725 2.1375 2.3025 2.4675 2.63 2.795 2.96 3.125 3.29 3.4525 3.6175 3.7825 3.9475 4.11 4.275 4.44 4.605 4.77 4.9325 5.0975 5.2625 5.4275 5.59 5.755 5.92 6.085 6.25 6.4125 6.5775 6.7425 6.9075 7.07 7.235\n",
      "0 0.165 0.33 0.4925 0.6575 0.8225 0.9875 1.15 1.315 1.48 1.645 1.81 1.9725 2.1375 2.3025 2.4675 2.63 2.795 2.96 3.125 3.29 3.4525 3.6175 3.7825 3.9475 4.11 4.275 4.44 4.605 4.77 4.9325 5.0975 5.2625 5.4275 5.59 5.755 5.92 6.085 6.25 6.4125 6.5775 6.7425 6.9075 7.07 7.235\n",
      "0 0.165 0.33 0.4925 0.6575 0.8225 0.9875 1.1525 1.315 1.48 1.645 1.81 1.9725 2.1375 2.3025 2.4675 2.63 2.795 2.96 3.125 3.29 3.4525 3.6175 3.7825 3.9475 4.11 4.275 4.44 4.605 4.77 4.9325 5.0975 5.2625 5.4275 5.59 5.755 5.92 6.085 6.25 6.4125 6.5775 6.7425 6.9075 7.07 7.235\n",
      "0 0.165 0.33 0.4925 0.6575 0.8225 0.9875 1.1525 1.315 1.48 1.645 1.81 1.9725 2.1375 2.3025 2.4675 2.63 2.795 2.96 3.125 3.29 3.4525 3.6175 3.7825 3.9475 4.11 4.275 4.44 4.605 4.77 4.9325 5.0975 5.2625 5.4275 5.59 5.755 5.92 6.085 6.25 6.4125 6.5775 6.7425 6.9075 7.07 7.235\n",
      "0 0.165 0.33 0.4925 0.6575 0.8225 0.9875 1.1525 1.315 1.48 1.645 1.81 1.9725 2.1375 2.3025 2.4675 2.63 2.795 2.96 3.125 3.29 3.4525 3.6175 3.7825 3.9475 4.11 4.275 4.44 4.605 4.77 4.9325 5.0975 5.2625 5.4275 5.59 5.755 5.92 6.085 6.25 6.4125 6.5775 6.7425 6.9075 7.07 7.235\n",
      "0 0.165 0.33 0.4925 0.6575 0.8225 0.9875 1.1525 1.315 1.48 1.645 1.81 1.9725 2.1375 2.3025 2.4675 2.63 2.795 2.96 3.125 3.29 3.4525 3.6175 3.7825 3.9475 4.11 4.275 4.44 4.605 4.77 4.9325 5.0975 5.2625 5.4275 5.59 5.755 5.92 6.085 6.25 6.4125 6.5775 6.7425 6.9075 7.07 7.235\n",
      "0 0.8225 0.165 0.9875 0.33 1.15 0.4925 1.315 0.6575 0 0.8225 0.165 0.9875 0.33 1.15 0.4925 1.315 0.6575 0 0.8225 0.165 0.9875 0.33 1.15 0.4925 1.315 0.6575 0 0.8225 0.165 0.9875 0.33 1.15 0.4925 1.315 0.6575 0 0.8225 0.165 0.9875 0.33 1.15 0.4925 1.315 0.6575\n"
     ]
    },
    {
     "name": "stderr",
     "output_type": "stream",
     "text": [
      "++ 3drefit processed 1 datasets\n",
      "++ 3drefit: AFNI version=AFNI_24.2.00 (Jul 15 2024) [64-bit]\n",
      "++ Authored by: RW Cox\n",
      "++ Processing AFNI dataset /media/brain/Spatial/spatialfMRI/fMRI_data/spatialfMRI_nii/sub-01/func/sub-01_task-geo_run-11_echo-2_part-mag_bold.nii.gz\n",
      " + setting slice time offsets\n",
      " + loading and re-writing dataset /media/brain/Spatial/spatialfMRI/fMRI_data/spatialfMRI_nii/sub-01/func/sub-01_task-geo_run-11_echo-2_part-mag_bold.nii.gz (/media/brain/Spatial/spatialfMRI/fMRI_data/spatialfMRI_nii/sub-01/func/sub-01_task-geo_run-11_echo-2_part-mag_bold.nii.gz in NIFTI storage)\n"
     ]
    },
    {
     "name": "stdout",
     "output_type": "stream",
     "text": [
      "0 0.8225 0.165 0.9875 0.33 1.1525 0.4925 1.315 0.6575 0 0.8225 0.165 0.9875 0.33 1.1525 0.4925 1.315 0.6575 0 0.8225 0.165 0.9875 0.33 1.1525 0.4925 1.315 0.6575 0 0.8225 0.165 0.9875 0.33 1.1525 0.4925 1.315 0.6575 0 0.8225 0.165 0.9875 0.33 1.1525 0.4925 1.315 0.6575\n"
     ]
    },
    {
     "name": "stderr",
     "output_type": "stream",
     "text": [
      "++ 3drefit processed 1 datasets\n",
      "++ 3drefit: AFNI version=AFNI_24.2.00 (Jul 15 2024) [64-bit]\n",
      "++ Authored by: RW Cox\n",
      "++ Processing AFNI dataset /media/brain/Spatial/spatialfMRI/fMRI_data/spatialfMRI_nii/sub-01/func/sub-01_task-geo_run-11_echo-3_part-mag_bold.nii.gz\n",
      " + setting slice time offsets\n",
      " + loading and re-writing dataset /media/brain/Spatial/spatialfMRI/fMRI_data/spatialfMRI_nii/sub-01/func/sub-01_task-geo_run-11_echo-3_part-mag_bold.nii.gz (/media/brain/Spatial/spatialfMRI/fMRI_data/spatialfMRI_nii/sub-01/func/sub-01_task-geo_run-11_echo-3_part-mag_bold.nii.gz in NIFTI storage)\n"
     ]
    },
    {
     "name": "stdout",
     "output_type": "stream",
     "text": [
      "0 0.8225 0.165 0.9875 0.33 1.1525 0.4925 1.315 0.6575 0 0.8225 0.165 0.9875 0.33 1.1525 0.4925 1.315 0.6575 0 0.8225 0.165 0.9875 0.33 1.1525 0.4925 1.315 0.6575 0 0.8225 0.165 0.9875 0.33 1.1525 0.4925 1.315 0.6575 0 0.8225 0.165 0.9875 0.33 1.1525 0.4925 1.315 0.6575\n"
     ]
    },
    {
     "name": "stderr",
     "output_type": "stream",
     "text": [
      "++ 3drefit processed 1 datasets\n",
      "++ 3drefit: AFNI version=AFNI_24.2.00 (Jul 15 2024) [64-bit]\n",
      "++ Authored by: RW Cox\n",
      "++ Processing AFNI dataset /media/brain/Spatial/spatialfMRI/fMRI_data/spatialfMRI_nii/sub-01/func/sub-01_task-geo_run-11_echo-4_part-mag_bold.nii.gz\n",
      " + setting slice time offsets\n",
      " + loading and re-writing dataset /media/brain/Spatial/spatialfMRI/fMRI_data/spatialfMRI_nii/sub-01/func/sub-01_task-geo_run-11_echo-4_part-mag_bold.nii.gz (/media/brain/Spatial/spatialfMRI/fMRI_data/spatialfMRI_nii/sub-01/func/sub-01_task-geo_run-11_echo-4_part-mag_bold.nii.gz in NIFTI storage)\n"
     ]
    },
    {
     "name": "stdout",
     "output_type": "stream",
     "text": [
      "0 0.8225 0.165 0.9875 0.33 1.1525 0.4925 1.315 0.6575 0 0.8225 0.165 0.9875 0.33 1.1525 0.4925 1.315 0.6575 0 0.8225 0.165 0.9875 0.33 1.1525 0.4925 1.315 0.6575 0 0.8225 0.165 0.9875 0.33 1.1525 0.4925 1.315 0.6575 0 0.8225 0.165 0.9875 0.33 1.1525 0.4925 1.315 0.6575\n"
     ]
    },
    {
     "name": "stderr",
     "output_type": "stream",
     "text": [
      "++ 3drefit processed 1 datasets\n",
      "++ 3drefit: AFNI version=AFNI_24.2.00 (Jul 15 2024) [64-bit]\n",
      "++ Authored by: RW Cox\n",
      "++ Processing AFNI dataset /media/brain/Spatial/spatialfMRI/fMRI_data/spatialfMRI_nii/sub-01/func/sub-01_task-geo_run-11_echo-5_part-mag_bold.nii.gz\n",
      " + setting slice time offsets\n",
      " + loading and re-writing dataset /media/brain/Spatial/spatialfMRI/fMRI_data/spatialfMRI_nii/sub-01/func/sub-01_task-geo_run-11_echo-5_part-mag_bold.nii.gz (/media/brain/Spatial/spatialfMRI/fMRI_data/spatialfMRI_nii/sub-01/func/sub-01_task-geo_run-11_echo-5_part-mag_bold.nii.gz in NIFTI storage)\n"
     ]
    },
    {
     "name": "stdout",
     "output_type": "stream",
     "text": [
      "0 0.8225 0.165 0.9875 0.33 1.1525 0.4925 1.315 0.6575 0 0.8225 0.165 0.9875 0.33 1.1525 0.4925 1.315 0.6575 0 0.8225 0.165 0.9875 0.33 1.1525 0.4925 1.315 0.6575 0 0.8225 0.165 0.9875 0.33 1.1525 0.4925 1.315 0.6575 0 0.8225 0.165 0.9875 0.33 1.1525 0.4925 1.315 0.6575\n"
     ]
    },
    {
     "name": "stderr",
     "output_type": "stream",
     "text": [
      "++ 3drefit processed 1 datasets\n",
      "++ 3drefit: AFNI version=AFNI_24.2.00 (Jul 15 2024) [64-bit]\n",
      "++ Authored by: RW Cox\n",
      "++ Processing AFNI dataset /media/brain/Spatial/spatialfMRI/fMRI_data/spatialfMRI_nii/sub-01/func/sub-01_task-geo_run-11_echo-1_part-phase_bold.nii.gz\n",
      " + setting slice time offsets\n",
      " + loading and re-writing dataset /media/brain/Spatial/spatialfMRI/fMRI_data/spatialfMRI_nii/sub-01/func/sub-01_task-geo_run-11_echo-1_part-phase_bold.nii.gz (/media/brain/Spatial/spatialfMRI/fMRI_data/spatialfMRI_nii/sub-01/func/sub-01_task-geo_run-11_echo-1_part-phase_bold.nii.gz in NIFTI storage)\n"
     ]
    },
    {
     "name": "stdout",
     "output_type": "stream",
     "text": [
      "0 0.8225 0.165 0.9875 0.33 1.15 0.4925 1.315 0.6575 0 0.8225 0.165 0.9875 0.33 1.15 0.4925 1.315 0.6575 0 0.8225 0.165 0.9875 0.33 1.15 0.4925 1.315 0.6575 0 0.8225 0.165 0.9875 0.33 1.15 0.4925 1.315 0.6575 0 0.8225 0.165 0.9875 0.33 1.15 0.4925 1.315 0.6575\n"
     ]
    },
    {
     "name": "stderr",
     "output_type": "stream",
     "text": [
      "++ 3drefit processed 1 datasets\n",
      "++ 3drefit: AFNI version=AFNI_24.2.00 (Jul 15 2024) [64-bit]\n",
      "++ Authored by: RW Cox\n",
      "++ Processing AFNI dataset /media/brain/Spatial/spatialfMRI/fMRI_data/spatialfMRI_nii/sub-01/func/sub-01_task-geo_run-11_echo-2_part-phase_bold.nii.gz\n",
      " + setting slice time offsets\n",
      " + loading and re-writing dataset /media/brain/Spatial/spatialfMRI/fMRI_data/spatialfMRI_nii/sub-01/func/sub-01_task-geo_run-11_echo-2_part-phase_bold.nii.gz (/media/brain/Spatial/spatialfMRI/fMRI_data/spatialfMRI_nii/sub-01/func/sub-01_task-geo_run-11_echo-2_part-phase_bold.nii.gz in NIFTI storage)\n"
     ]
    },
    {
     "name": "stdout",
     "output_type": "stream",
     "text": [
      "0 0.8225 0.165 0.9875 0.33 1.1525 0.4925 1.315 0.6575 0 0.8225 0.165 0.9875 0.33 1.1525 0.4925 1.315 0.6575 0 0.8225 0.165 0.9875 0.33 1.1525 0.4925 1.315 0.6575 0 0.8225 0.165 0.9875 0.33 1.1525 0.4925 1.315 0.6575 0 0.8225 0.165 0.9875 0.33 1.1525 0.4925 1.315 0.6575\n"
     ]
    },
    {
     "name": "stderr",
     "output_type": "stream",
     "text": [
      "++ 3drefit processed 1 datasets\n",
      "++ 3drefit: AFNI version=AFNI_24.2.00 (Jul 15 2024) [64-bit]\n",
      "++ Authored by: RW Cox\n",
      "++ Processing AFNI dataset /media/brain/Spatial/spatialfMRI/fMRI_data/spatialfMRI_nii/sub-01/func/sub-01_task-geo_run-11_echo-3_part-phase_bold.nii.gz\n",
      " + setting slice time offsets\n",
      " + loading and re-writing dataset /media/brain/Spatial/spatialfMRI/fMRI_data/spatialfMRI_nii/sub-01/func/sub-01_task-geo_run-11_echo-3_part-phase_bold.nii.gz (/media/brain/Spatial/spatialfMRI/fMRI_data/spatialfMRI_nii/sub-01/func/sub-01_task-geo_run-11_echo-3_part-phase_bold.nii.gz in NIFTI storage)\n"
     ]
    },
    {
     "name": "stdout",
     "output_type": "stream",
     "text": [
      "0 0.8225 0.165 0.9875 0.33 1.1525 0.4925 1.315 0.6575 0 0.8225 0.165 0.9875 0.33 1.1525 0.4925 1.315 0.6575 0 0.8225 0.165 0.9875 0.33 1.1525 0.4925 1.315 0.6575 0 0.8225 0.165 0.9875 0.33 1.1525 0.4925 1.315 0.6575 0 0.8225 0.165 0.9875 0.33 1.1525 0.4925 1.315 0.6575\n"
     ]
    },
    {
     "name": "stderr",
     "output_type": "stream",
     "text": [
      "++ 3drefit processed 1 datasets\n",
      "++ 3drefit: AFNI version=AFNI_24.2.00 (Jul 15 2024) [64-bit]\n",
      "++ Authored by: RW Cox\n",
      "++ Processing AFNI dataset /media/brain/Spatial/spatialfMRI/fMRI_data/spatialfMRI_nii/sub-01/func/sub-01_task-geo_run-11_echo-4_part-phase_bold.nii.gz\n",
      " + setting slice time offsets\n",
      " + loading and re-writing dataset /media/brain/Spatial/spatialfMRI/fMRI_data/spatialfMRI_nii/sub-01/func/sub-01_task-geo_run-11_echo-4_part-phase_bold.nii.gz (/media/brain/Spatial/spatialfMRI/fMRI_data/spatialfMRI_nii/sub-01/func/sub-01_task-geo_run-11_echo-4_part-phase_bold.nii.gz in NIFTI storage)\n"
     ]
    },
    {
     "name": "stdout",
     "output_type": "stream",
     "text": [
      "0 0.8225 0.165 0.9875 0.33 1.1525 0.4925 1.315 0.6575 0 0.8225 0.165 0.9875 0.33 1.1525 0.4925 1.315 0.6575 0 0.8225 0.165 0.9875 0.33 1.1525 0.4925 1.315 0.6575 0 0.8225 0.165 0.9875 0.33 1.1525 0.4925 1.315 0.6575 0 0.8225 0.165 0.9875 0.33 1.1525 0.4925 1.315 0.6575\n"
     ]
    },
    {
     "name": "stderr",
     "output_type": "stream",
     "text": [
      "++ 3drefit processed 1 datasets\n",
      "++ 3drefit: AFNI version=AFNI_24.2.00 (Jul 15 2024) [64-bit]\n",
      "++ Authored by: RW Cox\n",
      "++ Processing AFNI dataset /media/brain/Spatial/spatialfMRI/fMRI_data/spatialfMRI_nii/sub-01/func/sub-01_task-geo_run-11_echo-5_part-phase_bold.nii.gz\n",
      " + setting slice time offsets\n",
      " + loading and re-writing dataset /media/brain/Spatial/spatialfMRI/fMRI_data/spatialfMRI_nii/sub-01/func/sub-01_task-geo_run-11_echo-5_part-phase_bold.nii.gz (/media/brain/Spatial/spatialfMRI/fMRI_data/spatialfMRI_nii/sub-01/func/sub-01_task-geo_run-11_echo-5_part-phase_bold.nii.gz in NIFTI storage)\n"
     ]
    },
    {
     "name": "stdout",
     "output_type": "stream",
     "text": [
      "0 0.8225 0.165 0.9875 0.33 1.1525 0.4925 1.315 0.6575 0 0.8225 0.165 0.9875 0.33 1.1525 0.4925 1.315 0.6575 0 0.8225 0.165 0.9875 0.33 1.1525 0.4925 1.315 0.6575 0 0.8225 0.165 0.9875 0.33 1.1525 0.4925 1.315 0.6575 0 0.8225 0.165 0.9875 0.33 1.1525 0.4925 1.315 0.6575\n"
     ]
    },
    {
     "name": "stderr",
     "output_type": "stream",
     "text": [
      "++ 3drefit processed 1 datasets\n",
      "++ 3drefit: AFNI version=AFNI_24.2.00 (Jul 15 2024) [64-bit]\n",
      "++ Authored by: RW Cox\n",
      "++ Processing AFNI dataset /media/brain/Spatial/spatialfMRI/fMRI_data/spatialfMRI_nii/sub-01/func/sub-01_task-geo_run-12_echo-1_part-mag_sbref.nii.gz\n",
      "\u001b[7m*+ WARNING:\u001b[0m -Tslices: dataset has no time axis to add slice offset to!\n",
      " + Didn't make any changes for dataset /media/brain/Spatial/spatialfMRI/fMRI_data/spatialfMRI_nii/sub-01/func/sub-01_task-geo_run-12_echo-1_part-mag_sbref.nii.gz !\n",
      "++ 3drefit processed 1 datasets\n",
      "++ 3drefit: AFNI version=AFNI_24.2.00 (Jul 15 2024) [64-bit]\n",
      "++ Authored by: RW Cox\n",
      "++ Processing AFNI dataset /media/brain/Spatial/spatialfMRI/fMRI_data/spatialfMRI_nii/sub-01/func/sub-01_task-geo_run-12_echo-2_part-mag_sbref.nii.gz\n",
      "\u001b[7m*+ WARNING:\u001b[0m -Tslices: dataset has no time axis to add slice offset to!\n",
      " + Didn't make any changes for dataset /media/brain/Spatial/spatialfMRI/fMRI_data/spatialfMRI_nii/sub-01/func/sub-01_task-geo_run-12_echo-2_part-mag_sbref.nii.gz !\n",
      "++ 3drefit processed 1 datasets\n",
      "++ 3drefit: AFNI version=AFNI_24.2.00 (Jul 15 2024) [64-bit]\n",
      "++ Authored by: RW Cox\n",
      "++ Processing AFNI dataset /media/brain/Spatial/spatialfMRI/fMRI_data/spatialfMRI_nii/sub-01/func/sub-01_task-geo_run-12_echo-3_part-mag_sbref.nii.gz\n",
      "\u001b[7m*+ WARNING:\u001b[0m -Tslices: dataset has no time axis to add slice offset to!\n",
      " + Didn't make any changes for dataset /media/brain/Spatial/spatialfMRI/fMRI_data/spatialfMRI_nii/sub-01/func/sub-01_task-geo_run-12_echo-3_part-mag_sbref.nii.gz !\n",
      "++ 3drefit processed 1 datasets\n",
      "++ 3drefit: AFNI version=AFNI_24.2.00 (Jul 15 2024) [64-bit]\n",
      "++ Authored by: RW Cox\n",
      "++ Processing AFNI dataset /media/brain/Spatial/spatialfMRI/fMRI_data/spatialfMRI_nii/sub-01/func/sub-01_task-geo_run-12_echo-4_part-mag_sbref.nii.gz\n",
      "\u001b[7m*+ WARNING:\u001b[0m -Tslices: dataset has no time axis to add slice offset to!\n",
      " + Didn't make any changes for dataset /media/brain/Spatial/spatialfMRI/fMRI_data/spatialfMRI_nii/sub-01/func/sub-01_task-geo_run-12_echo-4_part-mag_sbref.nii.gz !\n",
      "++ 3drefit processed 1 datasets\n",
      "++ 3drefit: AFNI version=AFNI_24.2.00 (Jul 15 2024) [64-bit]\n",
      "++ Authored by: RW Cox\n",
      "++ Processing AFNI dataset /media/brain/Spatial/spatialfMRI/fMRI_data/spatialfMRI_nii/sub-01/func/sub-01_task-geo_run-12_echo-5_part-mag_sbref.nii.gz\n",
      "\u001b[7m*+ WARNING:\u001b[0m -Tslices: dataset has no time axis to add slice offset to!\n",
      " + Didn't make any changes for dataset /media/brain/Spatial/spatialfMRI/fMRI_data/spatialfMRI_nii/sub-01/func/sub-01_task-geo_run-12_echo-5_part-mag_sbref.nii.gz !\n",
      "++ 3drefit processed 1 datasets\n",
      "++ 3drefit: AFNI version=AFNI_24.2.00 (Jul 15 2024) [64-bit]\n",
      "++ Authored by: RW Cox\n",
      "++ Processing AFNI dataset /media/brain/Spatial/spatialfMRI/fMRI_data/spatialfMRI_nii/sub-01/func/sub-01_task-geo_run-12_echo-1_part-phase_sbref.nii.gz\n",
      "\u001b[7m*+ WARNING:\u001b[0m -Tslices: dataset has no time axis to add slice offset to!\n",
      " + Didn't make any changes for dataset /media/brain/Spatial/spatialfMRI/fMRI_data/spatialfMRI_nii/sub-01/func/sub-01_task-geo_run-12_echo-1_part-phase_sbref.nii.gz !\n",
      "++ 3drefit processed 1 datasets\n",
      "++ 3drefit: AFNI version=AFNI_24.2.00 (Jul 15 2024) [64-bit]\n",
      "++ Authored by: RW Cox\n",
      "++ Processing AFNI dataset /media/brain/Spatial/spatialfMRI/fMRI_data/spatialfMRI_nii/sub-01/func/sub-01_task-geo_run-12_echo-2_part-phase_sbref.nii.gz\n",
      "\u001b[7m*+ WARNING:\u001b[0m -Tslices: dataset has no time axis to add slice offset to!\n",
      " + Didn't make any changes for dataset /media/brain/Spatial/spatialfMRI/fMRI_data/spatialfMRI_nii/sub-01/func/sub-01_task-geo_run-12_echo-2_part-phase_sbref.nii.gz !\n",
      "++ 3drefit processed 1 datasets\n",
      "++ 3drefit: AFNI version=AFNI_24.2.00 (Jul 15 2024) [64-bit]\n",
      "++ Authored by: RW Cox\n",
      "++ Processing AFNI dataset /media/brain/Spatial/spatialfMRI/fMRI_data/spatialfMRI_nii/sub-01/func/sub-01_task-geo_run-12_echo-3_part-phase_sbref.nii.gz\n",
      "\u001b[7m*+ WARNING:\u001b[0m -Tslices: dataset has no time axis to add slice offset to!\n",
      " + Didn't make any changes for dataset /media/brain/Spatial/spatialfMRI/fMRI_data/spatialfMRI_nii/sub-01/func/sub-01_task-geo_run-12_echo-3_part-phase_sbref.nii.gz !\n",
      "++ 3drefit processed 1 datasets\n",
      "++ 3drefit: AFNI version=AFNI_24.2.00 (Jul 15 2024) [64-bit]\n",
      "++ Authored by: RW Cox\n",
      "++ Processing AFNI dataset /media/brain/Spatial/spatialfMRI/fMRI_data/spatialfMRI_nii/sub-01/func/sub-01_task-geo_run-12_echo-4_part-phase_sbref.nii.gz\n",
      "\u001b[7m*+ WARNING:\u001b[0m -Tslices: dataset has no time axis to add slice offset to!\n",
      " + Didn't make any changes for dataset /media/brain/Spatial/spatialfMRI/fMRI_data/spatialfMRI_nii/sub-01/func/sub-01_task-geo_run-12_echo-4_part-phase_sbref.nii.gz !\n",
      "++ 3drefit processed 1 datasets\n",
      "++ 3drefit: AFNI version=AFNI_24.2.00 (Jul 15 2024) [64-bit]\n",
      "++ Authored by: RW Cox\n",
      "++ Processing AFNI dataset /media/brain/Spatial/spatialfMRI/fMRI_data/spatialfMRI_nii/sub-01/func/sub-01_task-geo_run-12_echo-5_part-phase_sbref.nii.gz\n",
      "\u001b[7m*+ WARNING:\u001b[0m -Tslices: dataset has no time axis to add slice offset to!\n",
      " + Didn't make any changes for dataset /media/brain/Spatial/spatialfMRI/fMRI_data/spatialfMRI_nii/sub-01/func/sub-01_task-geo_run-12_echo-5_part-phase_sbref.nii.gz !\n",
      "++ 3drefit processed 1 datasets\n",
      "++ 3drefit: AFNI version=AFNI_24.2.00 (Jul 15 2024) [64-bit]\n",
      "++ Authored by: RW Cox\n",
      "++ Processing AFNI dataset /media/brain/Spatial/spatialfMRI/fMRI_data/spatialfMRI_nii/sub-01/func/sub-01_task-geo_run-12_echo-1_part-mag_bold.nii.gz\n",
      " + setting slice time offsets\n",
      " + loading and re-writing dataset /media/brain/Spatial/spatialfMRI/fMRI_data/spatialfMRI_nii/sub-01/func/sub-01_task-geo_run-12_echo-1_part-mag_bold.nii.gz (/media/brain/Spatial/spatialfMRI/fMRI_data/spatialfMRI_nii/sub-01/func/sub-01_task-geo_run-12_echo-1_part-mag_bold.nii.gz in NIFTI storage)\n"
     ]
    },
    {
     "name": "stdout",
     "output_type": "stream",
     "text": [
      "0 0.165 0.33 0.4925 0.6575 0.8225 0.9875 1.15 1.315 1.48 1.645 1.8075 1.9725 2.1375 2.3025 2.4675 2.63 2.795 2.96 3.125 3.2875 3.4525 3.6175 3.7825 3.9475 4.11 4.275 4.44 4.605 4.7675 4.9325 5.0975 5.2625 5.4275 5.59 5.755 5.92 6.085 6.2475 6.4125 6.5775 6.7425 6.9075 7.07 7.235\n",
      "0 0.165 0.33 0.4925 0.6575 0.8225 0.9875 1.15 1.315 1.48 1.645 1.8075 1.9725 2.1375 2.3025 2.4675 2.63 2.795 2.96 3.125 3.2875 3.4525 3.6175 3.7825 3.9475 4.11 4.275 4.44 4.605 4.7675 4.9325 5.0975 5.2625 5.4275 5.59 5.755 5.92 6.085 6.2475 6.4125 6.5775 6.7425 6.9075 7.07 7.235\n",
      "0 0.165 0.33 0.4925 0.6575 0.8225 0.9875 1.15 1.315 1.48 1.645 1.81 1.9725 2.1375 2.3025 2.4675 2.63 2.795 2.96 3.125 3.2875 3.4525 3.6175 3.7825 3.9475 4.11 4.275 4.44 4.605 4.7675 4.9325 5.0975 5.2625 5.4275 5.59 5.755 5.92 6.085 6.2475 6.4125 6.5775 6.7425 6.9075 7.07 7.235\n",
      "0 0.165 0.33 0.4925 0.6575 0.8225 0.9875 1.15 1.315 1.48 1.645 1.81 1.9725 2.1375 2.3025 2.4675 2.63 2.795 2.96 3.125 3.2875 3.4525 3.6175 3.7825 3.9475 4.11 4.275 4.44 4.605 4.7675 4.9325 5.0975 5.2625 5.4275 5.59 5.755 5.92 6.085 6.2475 6.4125 6.5775 6.7425 6.9075 7.07 7.235\n",
      "0 0.165 0.33 0.4925 0.6575 0.8225 0.9875 1.15 1.315 1.48 1.645 1.81 1.9725 2.1375 2.3025 2.4675 2.63 2.795 2.96 3.125 3.2875 3.4525 3.6175 3.7825 3.9475 4.11 4.275 4.44 4.605 4.7675 4.9325 5.0975 5.2625 5.4275 5.59 5.755 5.92 6.085 6.2475 6.4125 6.5775 6.7425 6.9075 7.07 7.235\n",
      "0 0.165 0.33 0.4925 0.6575 0.8225 0.9875 1.15 1.315 1.48 1.645 1.8075 1.9725 2.1375 2.3025 2.4675 2.63 2.795 2.96 3.125 3.2875 3.4525 3.6175 3.7825 3.9475 4.11 4.275 4.44 4.605 4.7675 4.9325 5.0975 5.2625 5.4275 5.59 5.755 5.92 6.085 6.2475 6.4125 6.5775 6.7425 6.9075 7.07 7.235\n",
      "0 0.165 0.33 0.4925 0.6575 0.8225 0.9875 1.15 1.315 1.48 1.645 1.8075 1.9725 2.1375 2.3025 2.4675 2.63 2.795 2.96 3.125 3.2875 3.4525 3.6175 3.7825 3.9475 4.11 4.275 4.44 4.605 4.7675 4.9325 5.0975 5.2625 5.4275 5.59 5.755 5.92 6.085 6.2475 6.4125 6.5775 6.7425 6.9075 7.07 7.235\n",
      "0 0.165 0.33 0.4925 0.6575 0.8225 0.9875 1.15 1.315 1.48 1.645 1.81 1.9725 2.1375 2.3025 2.4675 2.63 2.795 2.96 3.125 3.2875 3.4525 3.6175 3.7825 3.9475 4.11 4.275 4.44 4.605 4.7675 4.9325 5.0975 5.2625 5.4275 5.59 5.755 5.92 6.085 6.2475 6.4125 6.5775 6.7425 6.9075 7.07 7.235\n",
      "0 0.165 0.33 0.4925 0.6575 0.8225 0.9875 1.15 1.315 1.48 1.645 1.81 1.9725 2.1375 2.3025 2.4675 2.63 2.795 2.96 3.125 3.2875 3.4525 3.6175 3.7825 3.9475 4.11 4.275 4.44 4.605 4.7675 4.9325 5.0975 5.2625 5.4275 5.59 5.755 5.92 6.085 6.2475 6.4125 6.5775 6.7425 6.9075 7.07 7.235\n",
      "0 0.165 0.33 0.4925 0.6575 0.8225 0.9875 1.15 1.315 1.48 1.645 1.81 1.9725 2.1375 2.3025 2.4675 2.63 2.795 2.96 3.125 3.2875 3.4525 3.6175 3.7825 3.9475 4.11 4.275 4.44 4.605 4.7675 4.9325 5.0975 5.2625 5.4275 5.59 5.755 5.92 6.085 6.2475 6.4125 6.5775 6.7425 6.9075 7.07 7.235\n",
      "0 0.8225 0.165 0.9875 0.33 1.15 0.4925 1.315 0.6575 0 0.8225 0.165 0.9875 0.33 1.15 0.4925 1.315 0.6575 0 0.8225 0.165 0.9875 0.33 1.15 0.4925 1.315 0.6575 0 0.8225 0.165 0.9875 0.33 1.15 0.4925 1.315 0.6575 0 0.8225 0.165 0.9875 0.33 1.15 0.4925 1.315 0.6575\n"
     ]
    },
    {
     "name": "stderr",
     "output_type": "stream",
     "text": [
      "++ 3drefit processed 1 datasets\n",
      "++ 3drefit: AFNI version=AFNI_24.2.00 (Jul 15 2024) [64-bit]\n",
      "++ Authored by: RW Cox\n",
      "++ Processing AFNI dataset /media/brain/Spatial/spatialfMRI/fMRI_data/spatialfMRI_nii/sub-01/func/sub-01_task-geo_run-12_echo-2_part-mag_bold.nii.gz\n",
      " + setting slice time offsets\n",
      " + loading and re-writing dataset /media/brain/Spatial/spatialfMRI/fMRI_data/spatialfMRI_nii/sub-01/func/sub-01_task-geo_run-12_echo-2_part-mag_bold.nii.gz (/media/brain/Spatial/spatialfMRI/fMRI_data/spatialfMRI_nii/sub-01/func/sub-01_task-geo_run-12_echo-2_part-mag_bold.nii.gz in NIFTI storage)\n"
     ]
    },
    {
     "name": "stdout",
     "output_type": "stream",
     "text": [
      "0 0.8225 0.165 0.9875 0.33 1.15 0.4925 1.315 0.6575 0 0.8225 0.165 0.9875 0.33 1.15 0.4925 1.315 0.6575 0 0.8225 0.165 0.9875 0.33 1.15 0.4925 1.315 0.6575 0 0.8225 0.165 0.9875 0.33 1.15 0.4925 1.315 0.6575 0 0.8225 0.165 0.9875 0.33 1.15 0.4925 1.315 0.6575\n"
     ]
    },
    {
     "name": "stderr",
     "output_type": "stream",
     "text": [
      "++ 3drefit processed 1 datasets\n",
      "++ 3drefit: AFNI version=AFNI_24.2.00 (Jul 15 2024) [64-bit]\n",
      "++ Authored by: RW Cox\n",
      "++ Processing AFNI dataset /media/brain/Spatial/spatialfMRI/fMRI_data/spatialfMRI_nii/sub-01/func/sub-01_task-geo_run-12_echo-3_part-mag_bold.nii.gz\n",
      " + setting slice time offsets\n",
      " + loading and re-writing dataset /media/brain/Spatial/spatialfMRI/fMRI_data/spatialfMRI_nii/sub-01/func/sub-01_task-geo_run-12_echo-3_part-mag_bold.nii.gz (/media/brain/Spatial/spatialfMRI/fMRI_data/spatialfMRI_nii/sub-01/func/sub-01_task-geo_run-12_echo-3_part-mag_bold.nii.gz in NIFTI storage)\n"
     ]
    },
    {
     "name": "stdout",
     "output_type": "stream",
     "text": [
      "0 0.8225 0.165 0.9875 0.33 1.15 0.4925 1.315 0.6575 0 0.8225 0.165 0.9875 0.33 1.15 0.4925 1.315 0.6575 0 0.8225 0.165 0.9875 0.33 1.15 0.4925 1.315 0.6575 0 0.8225 0.165 0.9875 0.33 1.15 0.4925 1.315 0.6575 0 0.8225 0.165 0.9875 0.33 1.15 0.4925 1.315 0.6575\n"
     ]
    },
    {
     "name": "stderr",
     "output_type": "stream",
     "text": [
      "++ 3drefit processed 1 datasets\n",
      "++ 3drefit: AFNI version=AFNI_24.2.00 (Jul 15 2024) [64-bit]\n",
      "++ Authored by: RW Cox\n",
      "++ Processing AFNI dataset /media/brain/Spatial/spatialfMRI/fMRI_data/spatialfMRI_nii/sub-01/func/sub-01_task-geo_run-12_echo-4_part-mag_bold.nii.gz\n",
      " + setting slice time offsets\n",
      " + loading and re-writing dataset /media/brain/Spatial/spatialfMRI/fMRI_data/spatialfMRI_nii/sub-01/func/sub-01_task-geo_run-12_echo-4_part-mag_bold.nii.gz (/media/brain/Spatial/spatialfMRI/fMRI_data/spatialfMRI_nii/sub-01/func/sub-01_task-geo_run-12_echo-4_part-mag_bold.nii.gz in NIFTI storage)\n"
     ]
    },
    {
     "name": "stdout",
     "output_type": "stream",
     "text": [
      "0 0.8225 0.165 0.9875 0.33 1.15 0.4925 1.315 0.6575 0 0.8225 0.165 0.9875 0.33 1.15 0.4925 1.315 0.6575 0 0.8225 0.165 0.9875 0.33 1.15 0.4925 1.315 0.6575 0 0.8225 0.165 0.9875 0.33 1.15 0.4925 1.315 0.6575 0 0.8225 0.165 0.9875 0.33 1.15 0.4925 1.315 0.6575\n"
     ]
    },
    {
     "name": "stderr",
     "output_type": "stream",
     "text": [
      "++ 3drefit processed 1 datasets\n",
      "++ 3drefit: AFNI version=AFNI_24.2.00 (Jul 15 2024) [64-bit]\n",
      "++ Authored by: RW Cox\n",
      "++ Processing AFNI dataset /media/brain/Spatial/spatialfMRI/fMRI_data/spatialfMRI_nii/sub-01/func/sub-01_task-geo_run-12_echo-5_part-mag_bold.nii.gz\n",
      " + setting slice time offsets\n",
      " + loading and re-writing dataset /media/brain/Spatial/spatialfMRI/fMRI_data/spatialfMRI_nii/sub-01/func/sub-01_task-geo_run-12_echo-5_part-mag_bold.nii.gz (/media/brain/Spatial/spatialfMRI/fMRI_data/spatialfMRI_nii/sub-01/func/sub-01_task-geo_run-12_echo-5_part-mag_bold.nii.gz in NIFTI storage)\n"
     ]
    },
    {
     "name": "stdout",
     "output_type": "stream",
     "text": [
      "0 0.8225 0.165 0.9875 0.33 1.15 0.4925 1.315 0.6575 0 0.8225 0.165 0.9875 0.33 1.15 0.4925 1.315 0.6575 0 0.8225 0.165 0.9875 0.33 1.15 0.4925 1.315 0.6575 0 0.8225 0.165 0.9875 0.33 1.15 0.4925 1.315 0.6575 0 0.8225 0.165 0.9875 0.33 1.15 0.4925 1.315 0.6575\n"
     ]
    },
    {
     "name": "stderr",
     "output_type": "stream",
     "text": [
      "++ 3drefit processed 1 datasets\n",
      "++ 3drefit: AFNI version=AFNI_24.2.00 (Jul 15 2024) [64-bit]\n",
      "++ Authored by: RW Cox\n",
      "++ Processing AFNI dataset /media/brain/Spatial/spatialfMRI/fMRI_data/spatialfMRI_nii/sub-01/func/sub-01_task-geo_run-12_echo-1_part-phase_bold.nii.gz\n",
      " + setting slice time offsets\n",
      " + loading and re-writing dataset /media/brain/Spatial/spatialfMRI/fMRI_data/spatialfMRI_nii/sub-01/func/sub-01_task-geo_run-12_echo-1_part-phase_bold.nii.gz (/media/brain/Spatial/spatialfMRI/fMRI_data/spatialfMRI_nii/sub-01/func/sub-01_task-geo_run-12_echo-1_part-phase_bold.nii.gz in NIFTI storage)\n"
     ]
    },
    {
     "name": "stdout",
     "output_type": "stream",
     "text": [
      "0 0.8225 0.165 0.9875 0.33 1.15 0.4925 1.315 0.6575 0 0.8225 0.165 0.9875 0.33 1.15 0.4925 1.315 0.6575 0 0.8225 0.165 0.9875 0.33 1.15 0.4925 1.315 0.6575 0 0.8225 0.165 0.9875 0.33 1.15 0.4925 1.315 0.6575 0 0.8225 0.165 0.9875 0.33 1.15 0.4925 1.315 0.6575\n"
     ]
    },
    {
     "name": "stderr",
     "output_type": "stream",
     "text": [
      "++ 3drefit processed 1 datasets\n",
      "++ 3drefit: AFNI version=AFNI_24.2.00 (Jul 15 2024) [64-bit]\n",
      "++ Authored by: RW Cox\n",
      "++ Processing AFNI dataset /media/brain/Spatial/spatialfMRI/fMRI_data/spatialfMRI_nii/sub-01/func/sub-01_task-geo_run-12_echo-2_part-phase_bold.nii.gz\n",
      " + setting slice time offsets\n",
      " + loading and re-writing dataset /media/brain/Spatial/spatialfMRI/fMRI_data/spatialfMRI_nii/sub-01/func/sub-01_task-geo_run-12_echo-2_part-phase_bold.nii.gz (/media/brain/Spatial/spatialfMRI/fMRI_data/spatialfMRI_nii/sub-01/func/sub-01_task-geo_run-12_echo-2_part-phase_bold.nii.gz in NIFTI storage)\n"
     ]
    },
    {
     "name": "stdout",
     "output_type": "stream",
     "text": [
      "0 0.8225 0.165 0.9875 0.33 1.15 0.4925 1.315 0.6575 0 0.8225 0.165 0.9875 0.33 1.15 0.4925 1.315 0.6575 0 0.8225 0.165 0.9875 0.33 1.15 0.4925 1.315 0.6575 0 0.8225 0.165 0.9875 0.33 1.15 0.4925 1.315 0.6575 0 0.8225 0.165 0.9875 0.33 1.15 0.4925 1.315 0.6575\n"
     ]
    },
    {
     "name": "stderr",
     "output_type": "stream",
     "text": [
      "++ 3drefit processed 1 datasets\n",
      "++ 3drefit: AFNI version=AFNI_24.2.00 (Jul 15 2024) [64-bit]\n",
      "++ Authored by: RW Cox\n",
      "++ Processing AFNI dataset /media/brain/Spatial/spatialfMRI/fMRI_data/spatialfMRI_nii/sub-01/func/sub-01_task-geo_run-12_echo-3_part-phase_bold.nii.gz\n",
      " + setting slice time offsets\n",
      " + loading and re-writing dataset /media/brain/Spatial/spatialfMRI/fMRI_data/spatialfMRI_nii/sub-01/func/sub-01_task-geo_run-12_echo-3_part-phase_bold.nii.gz (/media/brain/Spatial/spatialfMRI/fMRI_data/spatialfMRI_nii/sub-01/func/sub-01_task-geo_run-12_echo-3_part-phase_bold.nii.gz in NIFTI storage)\n"
     ]
    },
    {
     "name": "stdout",
     "output_type": "stream",
     "text": [
      "0 0.8225 0.165 0.9875 0.33 1.15 0.4925 1.315 0.6575 0 0.8225 0.165 0.9875 0.33 1.15 0.4925 1.315 0.6575 0 0.8225 0.165 0.9875 0.33 1.15 0.4925 1.315 0.6575 0 0.8225 0.165 0.9875 0.33 1.15 0.4925 1.315 0.6575 0 0.8225 0.165 0.9875 0.33 1.15 0.4925 1.315 0.6575\n"
     ]
    },
    {
     "name": "stderr",
     "output_type": "stream",
     "text": [
      "++ 3drefit processed 1 datasets\n",
      "++ 3drefit: AFNI version=AFNI_24.2.00 (Jul 15 2024) [64-bit]\n",
      "++ Authored by: RW Cox\n",
      "++ Processing AFNI dataset /media/brain/Spatial/spatialfMRI/fMRI_data/spatialfMRI_nii/sub-01/func/sub-01_task-geo_run-12_echo-4_part-phase_bold.nii.gz\n",
      " + setting slice time offsets\n",
      " + loading and re-writing dataset /media/brain/Spatial/spatialfMRI/fMRI_data/spatialfMRI_nii/sub-01/func/sub-01_task-geo_run-12_echo-4_part-phase_bold.nii.gz (/media/brain/Spatial/spatialfMRI/fMRI_data/spatialfMRI_nii/sub-01/func/sub-01_task-geo_run-12_echo-4_part-phase_bold.nii.gz in NIFTI storage)\n"
     ]
    },
    {
     "name": "stdout",
     "output_type": "stream",
     "text": [
      "0 0.8225 0.165 0.9875 0.33 1.15 0.4925 1.315 0.6575 0 0.8225 0.165 0.9875 0.33 1.15 0.4925 1.315 0.6575 0 0.8225 0.165 0.9875 0.33 1.15 0.4925 1.315 0.6575 0 0.8225 0.165 0.9875 0.33 1.15 0.4925 1.315 0.6575 0 0.8225 0.165 0.9875 0.33 1.15 0.4925 1.315 0.6575\n"
     ]
    },
    {
     "name": "stderr",
     "output_type": "stream",
     "text": [
      "++ 3drefit processed 1 datasets\n",
      "++ 3drefit: AFNI version=AFNI_24.2.00 (Jul 15 2024) [64-bit]\n",
      "++ Authored by: RW Cox\n",
      "++ Processing AFNI dataset /media/brain/Spatial/spatialfMRI/fMRI_data/spatialfMRI_nii/sub-01/func/sub-01_task-geo_run-12_echo-5_part-phase_bold.nii.gz\n",
      " + setting slice time offsets\n",
      " + loading and re-writing dataset /media/brain/Spatial/spatialfMRI/fMRI_data/spatialfMRI_nii/sub-01/func/sub-01_task-geo_run-12_echo-5_part-phase_bold.nii.gz (/media/brain/Spatial/spatialfMRI/fMRI_data/spatialfMRI_nii/sub-01/func/sub-01_task-geo_run-12_echo-5_part-phase_bold.nii.gz in NIFTI storage)\n"
     ]
    },
    {
     "name": "stdout",
     "output_type": "stream",
     "text": [
      "0 0.8225 0.165 0.9875 0.33 1.15 0.4925 1.315 0.6575 0 0.8225 0.165 0.9875 0.33 1.15 0.4925 1.315 0.6575 0 0.8225 0.165 0.9875 0.33 1.15 0.4925 1.315 0.6575 0 0.8225 0.165 0.9875 0.33 1.15 0.4925 1.315 0.6575 0 0.8225 0.165 0.9875 0.33 1.15 0.4925 1.315 0.6575\n"
     ]
    },
    {
     "name": "stderr",
     "output_type": "stream",
     "text": [
      "++ 3drefit processed 1 datasets\n",
      "++ 3drefit: AFNI version=AFNI_24.2.00 (Jul 15 2024) [64-bit]\n",
      "++ Authored by: RW Cox\n",
      "++ Processing AFNI dataset /media/brain/Spatial/spatialfMRI/fMRI_data/spatialfMRI_nii/sub-01/func/sub-01_task-geo_run-13_echo-1_part-mag_sbref.nii.gz\n",
      "\u001b[7m*+ WARNING:\u001b[0m -Tslices: dataset has no time axis to add slice offset to!\n",
      " + Didn't make any changes for dataset /media/brain/Spatial/spatialfMRI/fMRI_data/spatialfMRI_nii/sub-01/func/sub-01_task-geo_run-13_echo-1_part-mag_sbref.nii.gz !\n",
      "++ 3drefit processed 1 datasets\n",
      "++ 3drefit: AFNI version=AFNI_24.2.00 (Jul 15 2024) [64-bit]\n",
      "++ Authored by: RW Cox\n",
      "++ Processing AFNI dataset /media/brain/Spatial/spatialfMRI/fMRI_data/spatialfMRI_nii/sub-01/func/sub-01_task-geo_run-13_echo-2_part-mag_sbref.nii.gz\n",
      "\u001b[7m*+ WARNING:\u001b[0m -Tslices: dataset has no time axis to add slice offset to!\n",
      " + Didn't make any changes for dataset /media/brain/Spatial/spatialfMRI/fMRI_data/spatialfMRI_nii/sub-01/func/sub-01_task-geo_run-13_echo-2_part-mag_sbref.nii.gz !\n",
      "++ 3drefit processed 1 datasets\n",
      "++ 3drefit: AFNI version=AFNI_24.2.00 (Jul 15 2024) [64-bit]\n",
      "++ Authored by: RW Cox\n",
      "++ Processing AFNI dataset /media/brain/Spatial/spatialfMRI/fMRI_data/spatialfMRI_nii/sub-01/func/sub-01_task-geo_run-13_echo-3_part-mag_sbref.nii.gz\n",
      "\u001b[7m*+ WARNING:\u001b[0m -Tslices: dataset has no time axis to add slice offset to!\n",
      " + Didn't make any changes for dataset /media/brain/Spatial/spatialfMRI/fMRI_data/spatialfMRI_nii/sub-01/func/sub-01_task-geo_run-13_echo-3_part-mag_sbref.nii.gz !\n",
      "++ 3drefit processed 1 datasets\n",
      "++ 3drefit: AFNI version=AFNI_24.2.00 (Jul 15 2024) [64-bit]\n",
      "++ Authored by: RW Cox\n",
      "++ Processing AFNI dataset /media/brain/Spatial/spatialfMRI/fMRI_data/spatialfMRI_nii/sub-01/func/sub-01_task-geo_run-13_echo-4_part-mag_sbref.nii.gz\n",
      "\u001b[7m*+ WARNING:\u001b[0m -Tslices: dataset has no time axis to add slice offset to!\n",
      " + Didn't make any changes for dataset /media/brain/Spatial/spatialfMRI/fMRI_data/spatialfMRI_nii/sub-01/func/sub-01_task-geo_run-13_echo-4_part-mag_sbref.nii.gz !\n",
      "++ 3drefit processed 1 datasets\n",
      "++ 3drefit: AFNI version=AFNI_24.2.00 (Jul 15 2024) [64-bit]\n",
      "++ Authored by: RW Cox\n",
      "++ Processing AFNI dataset /media/brain/Spatial/spatialfMRI/fMRI_data/spatialfMRI_nii/sub-01/func/sub-01_task-geo_run-13_echo-5_part-mag_sbref.nii.gz\n",
      "\u001b[7m*+ WARNING:\u001b[0m -Tslices: dataset has no time axis to add slice offset to!\n",
      " + Didn't make any changes for dataset /media/brain/Spatial/spatialfMRI/fMRI_data/spatialfMRI_nii/sub-01/func/sub-01_task-geo_run-13_echo-5_part-mag_sbref.nii.gz !\n",
      "++ 3drefit processed 1 datasets\n",
      "++ 3drefit: AFNI version=AFNI_24.2.00 (Jul 15 2024) [64-bit]\n",
      "++ Authored by: RW Cox\n",
      "++ Processing AFNI dataset /media/brain/Spatial/spatialfMRI/fMRI_data/spatialfMRI_nii/sub-01/func/sub-01_task-geo_run-13_echo-1_part-phase_sbref.nii.gz\n",
      "\u001b[7m*+ WARNING:\u001b[0m -Tslices: dataset has no time axis to add slice offset to!\n",
      " + Didn't make any changes for dataset /media/brain/Spatial/spatialfMRI/fMRI_data/spatialfMRI_nii/sub-01/func/sub-01_task-geo_run-13_echo-1_part-phase_sbref.nii.gz !\n",
      "++ 3drefit processed 1 datasets\n",
      "++ 3drefit: AFNI version=AFNI_24.2.00 (Jul 15 2024) [64-bit]\n",
      "++ Authored by: RW Cox\n",
      "++ Processing AFNI dataset /media/brain/Spatial/spatialfMRI/fMRI_data/spatialfMRI_nii/sub-01/func/sub-01_task-geo_run-13_echo-2_part-phase_sbref.nii.gz\n",
      "\u001b[7m*+ WARNING:\u001b[0m -Tslices: dataset has no time axis to add slice offset to!\n",
      " + Didn't make any changes for dataset /media/brain/Spatial/spatialfMRI/fMRI_data/spatialfMRI_nii/sub-01/func/sub-01_task-geo_run-13_echo-2_part-phase_sbref.nii.gz !\n",
      "++ 3drefit processed 1 datasets\n",
      "++ 3drefit: AFNI version=AFNI_24.2.00 (Jul 15 2024) [64-bit]\n",
      "++ Authored by: RW Cox\n",
      "++ Processing AFNI dataset /media/brain/Spatial/spatialfMRI/fMRI_data/spatialfMRI_nii/sub-01/func/sub-01_task-geo_run-13_echo-3_part-phase_sbref.nii.gz\n",
      "\u001b[7m*+ WARNING:\u001b[0m -Tslices: dataset has no time axis to add slice offset to!\n",
      " + Didn't make any changes for dataset /media/brain/Spatial/spatialfMRI/fMRI_data/spatialfMRI_nii/sub-01/func/sub-01_task-geo_run-13_echo-3_part-phase_sbref.nii.gz !\n",
      "++ 3drefit processed 1 datasets\n",
      "++ 3drefit: AFNI version=AFNI_24.2.00 (Jul 15 2024) [64-bit]\n",
      "++ Authored by: RW Cox\n",
      "++ Processing AFNI dataset /media/brain/Spatial/spatialfMRI/fMRI_data/spatialfMRI_nii/sub-01/func/sub-01_task-geo_run-13_echo-4_part-phase_sbref.nii.gz\n",
      "\u001b[7m*+ WARNING:\u001b[0m -Tslices: dataset has no time axis to add slice offset to!\n",
      " + Didn't make any changes for dataset /media/brain/Spatial/spatialfMRI/fMRI_data/spatialfMRI_nii/sub-01/func/sub-01_task-geo_run-13_echo-4_part-phase_sbref.nii.gz !\n",
      "++ 3drefit processed 1 datasets\n",
      "++ 3drefit: AFNI version=AFNI_24.2.00 (Jul 15 2024) [64-bit]\n",
      "++ Authored by: RW Cox\n",
      "++ Processing AFNI dataset /media/brain/Spatial/spatialfMRI/fMRI_data/spatialfMRI_nii/sub-01/func/sub-01_task-geo_run-13_echo-5_part-phase_sbref.nii.gz\n",
      "\u001b[7m*+ WARNING:\u001b[0m -Tslices: dataset has no time axis to add slice offset to!\n",
      " + Didn't make any changes for dataset /media/brain/Spatial/spatialfMRI/fMRI_data/spatialfMRI_nii/sub-01/func/sub-01_task-geo_run-13_echo-5_part-phase_sbref.nii.gz !\n",
      "++ 3drefit processed 1 datasets\n",
      "++ 3drefit: AFNI version=AFNI_24.2.00 (Jul 15 2024) [64-bit]\n",
      "++ Authored by: RW Cox\n",
      "++ Processing AFNI dataset /media/brain/Spatial/spatialfMRI/fMRI_data/spatialfMRI_nii/sub-01/func/sub-01_task-geo_run-13_echo-1_part-mag_bold.nii.gz\n",
      " + setting slice time offsets\n",
      " + loading and re-writing dataset /media/brain/Spatial/spatialfMRI/fMRI_data/spatialfMRI_nii/sub-01/func/sub-01_task-geo_run-13_echo-1_part-mag_bold.nii.gz (/media/brain/Spatial/spatialfMRI/fMRI_data/spatialfMRI_nii/sub-01/func/sub-01_task-geo_run-13_echo-1_part-mag_bold.nii.gz in NIFTI storage)\n"
     ]
    },
    {
     "name": "stdout",
     "output_type": "stream",
     "text": [
      "0 0.165 0.3275 0.4925 0.6575 0.8225 0.985 1.15 1.315 1.48 1.6425 1.8075 1.9725 2.1375 2.3025 2.465 2.63 2.795 2.96 3.1225 3.2875 3.4525 3.6175 3.7825 3.945 4.11 4.275 4.44 4.6025 4.7675 4.9325 5.0975 5.2625 5.425 5.59 5.755 5.92 6.0825 6.2475 6.4125 6.5775 6.7425 6.905 7.07 7.235\n",
      "0 0.165 0.3275 0.4925 0.6575 0.8225 0.985 1.15 1.315 1.48 1.6425 1.8075 1.9725 2.1375 2.3025 2.465 2.63 2.795 2.96 3.1225 3.2875 3.4525 3.6175 3.7825 3.945 4.11 4.275 4.44 4.6025 4.7675 4.9325 5.0975 5.2625 5.425 5.59 5.755 5.92 6.0825 6.2475 6.4125 6.5775 6.7425 6.905 7.07 7.235\n",
      "0 0.165 0.3275 0.4925 0.6575 0.8225 0.985 1.15 1.315 1.48 1.6425 1.8075 1.9725 2.1375 2.3025 2.465 2.63 2.795 2.96 3.1225 3.2875 3.4525 3.6175 3.7825 3.945 4.11 4.275 4.44 4.6025 4.7675 4.9325 5.0975 5.2625 5.425 5.59 5.755 5.92 6.0825 6.2475 6.4125 6.5775 6.7425 6.905 7.07 7.235\n",
      "0 0.165 0.3275 0.4925 0.6575 0.8225 0.985 1.15 1.315 1.48 1.645 1.8075 1.9725 2.1375 2.3025 2.465 2.63 2.795 2.96 3.1225 3.2875 3.4525 3.6175 3.7825 3.945 4.11 4.275 4.44 4.6025 4.7675 4.9325 5.0975 5.2625 5.425 5.59 5.755 5.92 6.0825 6.2475 6.4125 6.5775 6.7425 6.905 7.07 7.235\n",
      "0 0.165 0.3275 0.4925 0.6575 0.8225 0.985 1.15 1.315 1.48 1.645 1.8075 1.9725 2.1375 2.3025 2.465 2.63 2.795 2.96 3.1225 3.2875 3.4525 3.6175 3.7825 3.945 4.11 4.275 4.44 4.6025 4.7675 4.9325 5.0975 5.2625 5.425 5.59 5.755 5.92 6.0825 6.2475 6.4125 6.5775 6.7425 6.905 7.07 7.235\n",
      "0 0.165 0.3275 0.4925 0.6575 0.8225 0.985 1.15 1.315 1.48 1.6425 1.8075 1.9725 2.1375 2.3025 2.465 2.63 2.795 2.96 3.1225 3.2875 3.4525 3.6175 3.7825 3.945 4.11 4.275 4.44 4.6025 4.7675 4.9325 5.0975 5.2625 5.425 5.59 5.755 5.92 6.0825 6.2475 6.4125 6.5775 6.7425 6.905 7.07 7.235\n",
      "0 0.165 0.3275 0.4925 0.6575 0.8225 0.985 1.15 1.315 1.48 1.6425 1.8075 1.9725 2.1375 2.3025 2.465 2.63 2.795 2.96 3.1225 3.2875 3.4525 3.6175 3.7825 3.945 4.11 4.275 4.44 4.6025 4.7675 4.9325 5.0975 5.2625 5.425 5.59 5.755 5.92 6.0825 6.2475 6.4125 6.5775 6.7425 6.905 7.07 7.235\n",
      "0 0.165 0.3275 0.4925 0.6575 0.8225 0.985 1.15 1.315 1.48 1.6425 1.8075 1.9725 2.1375 2.3025 2.465 2.63 2.795 2.96 3.1225 3.2875 3.4525 3.6175 3.7825 3.945 4.11 4.275 4.44 4.6025 4.7675 4.9325 5.0975 5.2625 5.425 5.59 5.755 5.92 6.0825 6.2475 6.4125 6.5775 6.7425 6.905 7.07 7.235\n",
      "0 0.165 0.3275 0.4925 0.6575 0.8225 0.985 1.15 1.315 1.48 1.645 1.8075 1.9725 2.1375 2.3025 2.465 2.63 2.795 2.96 3.1225 3.2875 3.4525 3.6175 3.7825 3.945 4.11 4.275 4.44 4.6025 4.7675 4.9325 5.0975 5.2625 5.425 5.59 5.755 5.92 6.0825 6.2475 6.4125 6.5775 6.7425 6.905 7.07 7.235\n",
      "0 0.165 0.3275 0.4925 0.6575 0.8225 0.985 1.15 1.315 1.48 1.645 1.8075 1.9725 2.1375 2.3025 2.465 2.63 2.795 2.96 3.1225 3.2875 3.4525 3.6175 3.7825 3.945 4.11 4.275 4.44 4.6025 4.7675 4.9325 5.0975 5.2625 5.425 5.59 5.755 5.92 6.0825 6.2475 6.4125 6.5775 6.7425 6.905 7.07 7.235\n",
      "0 0.8225 0.165 0.985 0.3275 1.15 0.4925 1.315 0.6575 0 0.8225 0.165 0.985 0.3275 1.15 0.4925 1.315 0.6575 0 0.8225 0.165 0.985 0.3275 1.15 0.4925 1.315 0.6575 0 0.8225 0.165 0.985 0.3275 1.15 0.4925 1.315 0.6575 0 0.8225 0.165 0.985 0.3275 1.15 0.4925 1.315 0.6575\n"
     ]
    },
    {
     "name": "stderr",
     "output_type": "stream",
     "text": [
      "++ 3drefit processed 1 datasets\n",
      "++ 3drefit: AFNI version=AFNI_24.2.00 (Jul 15 2024) [64-bit]\n",
      "++ Authored by: RW Cox\n",
      "++ Processing AFNI dataset /media/brain/Spatial/spatialfMRI/fMRI_data/spatialfMRI_nii/sub-01/func/sub-01_task-geo_run-13_echo-2_part-mag_bold.nii.gz\n",
      " + setting slice time offsets\n",
      " + loading and re-writing dataset /media/brain/Spatial/spatialfMRI/fMRI_data/spatialfMRI_nii/sub-01/func/sub-01_task-geo_run-13_echo-2_part-mag_bold.nii.gz (/media/brain/Spatial/spatialfMRI/fMRI_data/spatialfMRI_nii/sub-01/func/sub-01_task-geo_run-13_echo-2_part-mag_bold.nii.gz in NIFTI storage)\n"
     ]
    },
    {
     "name": "stdout",
     "output_type": "stream",
     "text": [
      "0 0.8225 0.165 0.985 0.3275 1.15 0.4925 1.315 0.6575 0 0.8225 0.165 0.985 0.3275 1.15 0.4925 1.315 0.6575 0 0.8225 0.165 0.985 0.3275 1.15 0.4925 1.315 0.6575 0 0.8225 0.165 0.985 0.3275 1.15 0.4925 1.315 0.6575 0 0.8225 0.165 0.985 0.3275 1.15 0.4925 1.315 0.6575\n"
     ]
    },
    {
     "name": "stderr",
     "output_type": "stream",
     "text": [
      "++ 3drefit processed 1 datasets\n",
      "++ 3drefit: AFNI version=AFNI_24.2.00 (Jul 15 2024) [64-bit]\n",
      "++ Authored by: RW Cox\n",
      "++ Processing AFNI dataset /media/brain/Spatial/spatialfMRI/fMRI_data/spatialfMRI_nii/sub-01/func/sub-01_task-geo_run-13_echo-3_part-mag_bold.nii.gz\n",
      " + setting slice time offsets\n",
      " + loading and re-writing dataset /media/brain/Spatial/spatialfMRI/fMRI_data/spatialfMRI_nii/sub-01/func/sub-01_task-geo_run-13_echo-3_part-mag_bold.nii.gz (/media/brain/Spatial/spatialfMRI/fMRI_data/spatialfMRI_nii/sub-01/func/sub-01_task-geo_run-13_echo-3_part-mag_bold.nii.gz in NIFTI storage)\n"
     ]
    },
    {
     "name": "stdout",
     "output_type": "stream",
     "text": [
      "0 0.8225 0.165 0.985 0.3275 1.15 0.4925 1.315 0.6575 0 0.8225 0.165 0.985 0.3275 1.15 0.4925 1.315 0.6575 0 0.8225 0.165 0.985 0.3275 1.15 0.4925 1.315 0.6575 0 0.8225 0.165 0.985 0.3275 1.15 0.4925 1.315 0.6575 0 0.8225 0.165 0.985 0.3275 1.15 0.4925 1.315 0.6575\n"
     ]
    },
    {
     "name": "stderr",
     "output_type": "stream",
     "text": [
      "++ 3drefit processed 1 datasets\n",
      "++ 3drefit: AFNI version=AFNI_24.2.00 (Jul 15 2024) [64-bit]\n",
      "++ Authored by: RW Cox\n",
      "++ Processing AFNI dataset /media/brain/Spatial/spatialfMRI/fMRI_data/spatialfMRI_nii/sub-01/func/sub-01_task-geo_run-13_echo-4_part-mag_bold.nii.gz\n",
      " + setting slice time offsets\n",
      " + loading and re-writing dataset /media/brain/Spatial/spatialfMRI/fMRI_data/spatialfMRI_nii/sub-01/func/sub-01_task-geo_run-13_echo-4_part-mag_bold.nii.gz (/media/brain/Spatial/spatialfMRI/fMRI_data/spatialfMRI_nii/sub-01/func/sub-01_task-geo_run-13_echo-4_part-mag_bold.nii.gz in NIFTI storage)\n"
     ]
    },
    {
     "name": "stdout",
     "output_type": "stream",
     "text": [
      "0 0.8225 0.165 0.985 0.3275 1.15 0.4925 1.315 0.6575 0 0.8225 0.165 0.985 0.3275 1.15 0.4925 1.315 0.6575 0 0.8225 0.165 0.985 0.3275 1.15 0.4925 1.315 0.6575 0 0.8225 0.165 0.985 0.3275 1.15 0.4925 1.315 0.6575 0 0.8225 0.165 0.985 0.3275 1.15 0.4925 1.315 0.6575\n"
     ]
    },
    {
     "name": "stderr",
     "output_type": "stream",
     "text": [
      "++ 3drefit processed 1 datasets\n",
      "++ 3drefit: AFNI version=AFNI_24.2.00 (Jul 15 2024) [64-bit]\n",
      "++ Authored by: RW Cox\n",
      "++ Processing AFNI dataset /media/brain/Spatial/spatialfMRI/fMRI_data/spatialfMRI_nii/sub-01/func/sub-01_task-geo_run-13_echo-5_part-mag_bold.nii.gz\n",
      " + setting slice time offsets\n",
      " + loading and re-writing dataset /media/brain/Spatial/spatialfMRI/fMRI_data/spatialfMRI_nii/sub-01/func/sub-01_task-geo_run-13_echo-5_part-mag_bold.nii.gz (/media/brain/Spatial/spatialfMRI/fMRI_data/spatialfMRI_nii/sub-01/func/sub-01_task-geo_run-13_echo-5_part-mag_bold.nii.gz in NIFTI storage)\n"
     ]
    },
    {
     "name": "stdout",
     "output_type": "stream",
     "text": [
      "0 0.8225 0.165 0.985 0.3275 1.15 0.4925 1.315 0.6575 0 0.8225 0.165 0.985 0.3275 1.15 0.4925 1.315 0.6575 0 0.8225 0.165 0.985 0.3275 1.15 0.4925 1.315 0.6575 0 0.8225 0.165 0.985 0.3275 1.15 0.4925 1.315 0.6575 0 0.8225 0.165 0.985 0.3275 1.15 0.4925 1.315 0.6575\n"
     ]
    },
    {
     "name": "stderr",
     "output_type": "stream",
     "text": [
      "++ 3drefit processed 1 datasets\n",
      "++ 3drefit: AFNI version=AFNI_24.2.00 (Jul 15 2024) [64-bit]\n",
      "++ Authored by: RW Cox\n",
      "++ Processing AFNI dataset /media/brain/Spatial/spatialfMRI/fMRI_data/spatialfMRI_nii/sub-01/func/sub-01_task-geo_run-13_echo-1_part-phase_bold.nii.gz\n",
      " + setting slice time offsets\n",
      " + loading and re-writing dataset /media/brain/Spatial/spatialfMRI/fMRI_data/spatialfMRI_nii/sub-01/func/sub-01_task-geo_run-13_echo-1_part-phase_bold.nii.gz (/media/brain/Spatial/spatialfMRI/fMRI_data/spatialfMRI_nii/sub-01/func/sub-01_task-geo_run-13_echo-1_part-phase_bold.nii.gz in NIFTI storage)\n"
     ]
    },
    {
     "name": "stdout",
     "output_type": "stream",
     "text": [
      "0 0.8225 0.165 0.985 0.3275 1.15 0.4925 1.315 0.6575 0 0.8225 0.165 0.985 0.3275 1.15 0.4925 1.315 0.6575 0 0.8225 0.165 0.985 0.3275 1.15 0.4925 1.315 0.6575 0 0.8225 0.165 0.985 0.3275 1.15 0.4925 1.315 0.6575 0 0.8225 0.165 0.985 0.3275 1.15 0.4925 1.315 0.6575\n"
     ]
    },
    {
     "name": "stderr",
     "output_type": "stream",
     "text": [
      "++ 3drefit processed 1 datasets\n",
      "++ 3drefit: AFNI version=AFNI_24.2.00 (Jul 15 2024) [64-bit]\n",
      "++ Authored by: RW Cox\n",
      "++ Processing AFNI dataset /media/brain/Spatial/spatialfMRI/fMRI_data/spatialfMRI_nii/sub-01/func/sub-01_task-geo_run-13_echo-2_part-phase_bold.nii.gz\n",
      " + setting slice time offsets\n",
      " + loading and re-writing dataset /media/brain/Spatial/spatialfMRI/fMRI_data/spatialfMRI_nii/sub-01/func/sub-01_task-geo_run-13_echo-2_part-phase_bold.nii.gz (/media/brain/Spatial/spatialfMRI/fMRI_data/spatialfMRI_nii/sub-01/func/sub-01_task-geo_run-13_echo-2_part-phase_bold.nii.gz in NIFTI storage)\n"
     ]
    },
    {
     "name": "stdout",
     "output_type": "stream",
     "text": [
      "0 0.8225 0.165 0.985 0.3275 1.15 0.4925 1.315 0.6575 0 0.8225 0.165 0.985 0.3275 1.15 0.4925 1.315 0.6575 0 0.8225 0.165 0.985 0.3275 1.15 0.4925 1.315 0.6575 0 0.8225 0.165 0.985 0.3275 1.15 0.4925 1.315 0.6575 0 0.8225 0.165 0.985 0.3275 1.15 0.4925 1.315 0.6575\n"
     ]
    },
    {
     "name": "stderr",
     "output_type": "stream",
     "text": [
      "++ 3drefit processed 1 datasets\n",
      "++ 3drefit: AFNI version=AFNI_24.2.00 (Jul 15 2024) [64-bit]\n",
      "++ Authored by: RW Cox\n",
      "++ Processing AFNI dataset /media/brain/Spatial/spatialfMRI/fMRI_data/spatialfMRI_nii/sub-01/func/sub-01_task-geo_run-13_echo-3_part-phase_bold.nii.gz\n",
      " + setting slice time offsets\n",
      " + loading and re-writing dataset /media/brain/Spatial/spatialfMRI/fMRI_data/spatialfMRI_nii/sub-01/func/sub-01_task-geo_run-13_echo-3_part-phase_bold.nii.gz (/media/brain/Spatial/spatialfMRI/fMRI_data/spatialfMRI_nii/sub-01/func/sub-01_task-geo_run-13_echo-3_part-phase_bold.nii.gz in NIFTI storage)\n"
     ]
    },
    {
     "name": "stdout",
     "output_type": "stream",
     "text": [
      "0 0.8225 0.165 0.985 0.3275 1.15 0.4925 1.315 0.6575 0 0.8225 0.165 0.985 0.3275 1.15 0.4925 1.315 0.6575 0 0.8225 0.165 0.985 0.3275 1.15 0.4925 1.315 0.6575 0 0.8225 0.165 0.985 0.3275 1.15 0.4925 1.315 0.6575 0 0.8225 0.165 0.985 0.3275 1.15 0.4925 1.315 0.6575\n"
     ]
    },
    {
     "name": "stderr",
     "output_type": "stream",
     "text": [
      "++ 3drefit processed 1 datasets\n",
      "++ 3drefit: AFNI version=AFNI_24.2.00 (Jul 15 2024) [64-bit]\n",
      "++ Authored by: RW Cox\n",
      "++ Processing AFNI dataset /media/brain/Spatial/spatialfMRI/fMRI_data/spatialfMRI_nii/sub-01/func/sub-01_task-geo_run-13_echo-4_part-phase_bold.nii.gz\n",
      " + setting slice time offsets\n",
      " + loading and re-writing dataset /media/brain/Spatial/spatialfMRI/fMRI_data/spatialfMRI_nii/sub-01/func/sub-01_task-geo_run-13_echo-4_part-phase_bold.nii.gz (/media/brain/Spatial/spatialfMRI/fMRI_data/spatialfMRI_nii/sub-01/func/sub-01_task-geo_run-13_echo-4_part-phase_bold.nii.gz in NIFTI storage)\n"
     ]
    },
    {
     "name": "stdout",
     "output_type": "stream",
     "text": [
      "0 0.8225 0.165 0.985 0.3275 1.15 0.4925 1.315 0.6575 0 0.8225 0.165 0.985 0.3275 1.15 0.4925 1.315 0.6575 0 0.8225 0.165 0.985 0.3275 1.15 0.4925 1.315 0.6575 0 0.8225 0.165 0.985 0.3275 1.15 0.4925 1.315 0.6575 0 0.8225 0.165 0.985 0.3275 1.15 0.4925 1.315 0.6575\n"
     ]
    },
    {
     "name": "stderr",
     "output_type": "stream",
     "text": [
      "++ 3drefit processed 1 datasets\n",
      "++ 3drefit: AFNI version=AFNI_24.2.00 (Jul 15 2024) [64-bit]\n",
      "++ Authored by: RW Cox\n",
      "++ Processing AFNI dataset /media/brain/Spatial/spatialfMRI/fMRI_data/spatialfMRI_nii/sub-01/func/sub-01_task-geo_run-13_echo-5_part-phase_bold.nii.gz\n",
      " + setting slice time offsets\n",
      " + loading and re-writing dataset /media/brain/Spatial/spatialfMRI/fMRI_data/spatialfMRI_nii/sub-01/func/sub-01_task-geo_run-13_echo-5_part-phase_bold.nii.gz (/media/brain/Spatial/spatialfMRI/fMRI_data/spatialfMRI_nii/sub-01/func/sub-01_task-geo_run-13_echo-5_part-phase_bold.nii.gz in NIFTI storage)\n"
     ]
    },
    {
     "name": "stdout",
     "output_type": "stream",
     "text": [
      "0 0.8225 0.165 0.985 0.3275 1.15 0.4925 1.315 0.6575 0 0.8225 0.165 0.985 0.3275 1.15 0.4925 1.315 0.6575 0 0.8225 0.165 0.985 0.3275 1.15 0.4925 1.315 0.6575 0 0.8225 0.165 0.985 0.3275 1.15 0.4925 1.315 0.6575 0 0.8225 0.165 0.985 0.3275 1.15 0.4925 1.315 0.6575\n"
     ]
    },
    {
     "name": "stderr",
     "output_type": "stream",
     "text": [
      "++ 3drefit processed 1 datasets\n"
     ]
    }
   ],
   "source": [
    "n_echo = 5\n",
    "\n",
    "os.environ['AFNI_NIFTI_TYPE_WARN']='NO'\n",
    "for sub in sub_range:\n",
    "    for acq in ['ME5']:\n",
    "        sub_id = 'sub-{:02d}'.format(sub)\n",
    "        for run in range(0, 14):\n",
    "            run_id = 'run-{:02d}'.format(run)\n",
    "            for modality in ['part-mag_sbref', 'part-phase_sbref', 'part-mag_bold', 'part-phase_bold']:\n",
    "                n_volume = []\n",
    "                for echo in range(1, n_echo + 1):\n",
    "                    file_dir = fMRI_data_dir+'spatialfMRI_nii/{sub_id}/func/'.format(sub_id=sub_id)\n",
    "                    json_filename = fMRI_data_dir+'spatialfMRI_nii/{sub_id}/func/{sub_id}_task-{task}_{run_id}_echo-{echo}_{modality}.json'.format(\n",
    "                        sub_id=sub_id, task=task, run_id=run_id, echo=echo, modality=modality)\n",
    "                    nii_filename = fMRI_data_dir+'spatialfMRI_nii/{sub_id}/func/{sub_id}_task-{task}_{run_id}_echo-{echo}_{modality}.nii.gz'.format(\n",
    "                        sub_id=sub_id, task=task, run_id=run_id, echo=echo, modality=modality)\n",
    "                    if osp.isfile(json_filename):\n",
    "                        with open(json_filename) as jsonFile:\n",
    "                            data = json.load(jsonFile)\n",
    "                            slice_times = data[\"SliceTiming\"]\n",
    "                        slice_times = ' '.join(str(e) for e in slice_times)\n",
    "                        print(slice_times)\n",
    "                        command=\"3drefit -Tslices \"+slice_times+\" \"+nii_filename\n",
    "                        # print(command)\n",
    "                        os.system(command)"
   ]
  },
  {
   "attachments": {},
   "cell_type": "markdown",
   "metadata": {},
   "source": [
    "### Check the slice timing results"
   ]
  },
  {
   "cell_type": "code",
   "execution_count": 1,
   "metadata": {},
   "outputs": [
    {
     "name": "stdout",
     "output_type": "stream",
     "text": [
      "0.000000|0.822500|0.165000|0.985000|0.327500|1.150000|0.492500|1.315000|0.657500|0.000000|0.822500|0.165000|0.985000|0.327500|1.150000|0.492500|1.315000|0.657500|0.000000|0.822500|0.165000|0.985000|0.327500|1.150000|0.492500|1.315000|0.657500|0.000000|0.822500|0.165000|0.985000|0.327500|1.150000|0.492500|1.315000|0.657500|0.000000|0.822500|0.165000|0.985000|0.327500|1.150000|0.492500|1.315000|0.657500\n"
     ]
    }
   ],
   "source": [
    "%%bash\n",
    "\n",
    "subject=\"sub-01\"\n",
    "\n",
    "fMRI_data_dir=\"/media/brain/Spatial/spatialfMRI/fMRI_data/spatialfMRI_nii\"\n",
    "\n",
    "3dinfo -slice_timing ${fMRI_data_dir}/${subject}/func/${subject}_task-geo_run-00_echo-1_part-mag_bold.nii.gz"
   ]
  },
  {
   "cell_type": "code",
   "execution_count": null,
   "metadata": {},
   "outputs": [],
   "source": []
  }
 ],
 "metadata": {
  "kernelspec": {
   "display_name": "Python 3",
   "language": "python",
   "name": "python3"
  },
  "language_info": {
   "codemirror_mode": {
    "name": "ipython",
    "version": 3
   },
   "file_extension": ".py",
   "mimetype": "text/x-python",
   "name": "python",
   "nbconvert_exporter": "python",
   "pygments_lexer": "ipython3",
   "version": "3.10.14"
  }
 },
 "nbformat": 4,
 "nbformat_minor": 2
}
